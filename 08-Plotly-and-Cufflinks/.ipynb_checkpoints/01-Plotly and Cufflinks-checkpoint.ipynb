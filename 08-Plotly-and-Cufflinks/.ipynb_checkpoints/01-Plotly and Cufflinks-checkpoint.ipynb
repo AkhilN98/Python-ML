{
 "cells": [
  {
   "cell_type": "markdown",
   "metadata": {},
   "source": [
    "___\n",
    "\n",
    "<a href='http://www.pieriandata.com'> <img src='../Pierian_Data_Logo.png' /></a>\n",
    "___\n",
    "# Plotly and Cufflinks"
   ]
  },
  {
   "cell_type": "markdown",
   "metadata": {},
   "source": [
    "Plotly is a library that allows you to create interactive plots that you can use in dashboards or websites (you can save them as html files or static images).\n",
    "\n",
    "## Installation\n",
    "\n",
    "In order for this all to work, you'll need to install plotly and cufflinks to call plots directly off of a pandas dataframe. These libraries are not currently available through **conda** but are available through **pip**. Install the libraries at your command line/terminal using:\n",
    "\n",
    "    pip install plotly\n",
    "    pip install cufflinks\n",
    "\n",
    "** NOTE: Make sure you only have one installation of Python on your computer when you do this, otherwise the installation may not work. **\n",
    "\n",
    "## Imports and Set-up"
   ]
  },
  {
   "cell_type": "code",
   "execution_count": 1,
   "metadata": {},
   "outputs": [],
   "source": [
    "import pandas as pd\n",
    "import numpy as np\n",
    "%matplotlib inline"
   ]
  },
  {
   "cell_type": "code",
   "execution_count": 2,
   "metadata": {},
   "outputs": [
    {
     "name": "stdout",
     "output_type": "stream",
     "text": [
      "4.8.1\n"
     ]
    }
   ],
   "source": [
    "from plotly import __version__\n",
    "from plotly.offline import download_plotlyjs, init_notebook_mode, plot, iplot\n",
    "\n",
    "print(__version__) # requires version >= 1.9.0"
   ]
  },
  {
   "cell_type": "code",
   "execution_count": 3,
   "metadata": {},
   "outputs": [],
   "source": [
    "import cufflinks as cf"
   ]
  },
  {
   "cell_type": "code",
   "execution_count": 4,
   "metadata": {},
   "outputs": [
    {
     "data": {
      "text/html": [
       "        <script type=\"text/javascript\">\n",
       "        window.PlotlyConfig = {MathJaxConfig: 'local'};\n",
       "        if (window.MathJax) {MathJax.Hub.Config({SVG: {font: \"STIX-Web\"}});}\n",
       "        if (typeof require !== 'undefined') {\n",
       "        require.undef(\"plotly\");\n",
       "        requirejs.config({\n",
       "            paths: {\n",
       "                'plotly': ['https://cdn.plot.ly/plotly-latest.min']\n",
       "            }\n",
       "        });\n",
       "        require(['plotly'], function(Plotly) {\n",
       "            window._Plotly = Plotly;\n",
       "        });\n",
       "        }\n",
       "        </script>\n",
       "        "
      ]
     },
     "metadata": {},
     "output_type": "display_data"
    }
   ],
   "source": [
    "# For Notebooks\n",
    "init_notebook_mode(connected=True)"
   ]
  },
  {
   "cell_type": "code",
   "execution_count": 5,
   "metadata": {},
   "outputs": [
    {
     "data": {
      "text/html": [
       "        <script type=\"text/javascript\">\n",
       "        window.PlotlyConfig = {MathJaxConfig: 'local'};\n",
       "        if (window.MathJax) {MathJax.Hub.Config({SVG: {font: \"STIX-Web\"}});}\n",
       "        if (typeof require !== 'undefined') {\n",
       "        require.undef(\"plotly\");\n",
       "        requirejs.config({\n",
       "            paths: {\n",
       "                'plotly': ['https://cdn.plot.ly/plotly-latest.min']\n",
       "            }\n",
       "        });\n",
       "        require(['plotly'], function(Plotly) {\n",
       "            window._Plotly = Plotly;\n",
       "        });\n",
       "        }\n",
       "        </script>\n",
       "        "
      ]
     },
     "metadata": {},
     "output_type": "display_data"
    }
   ],
   "source": [
    "# For offline use\n",
    "cf.go_offline()"
   ]
  },
  {
   "cell_type": "markdown",
   "metadata": {},
   "source": [
    "### Fake Data"
   ]
  },
  {
   "cell_type": "code",
   "execution_count": 6,
   "metadata": {},
   "outputs": [],
   "source": [
    "df = pd.DataFrame(np.random.randn(100,4),columns='A B C D'.split())"
   ]
  },
  {
   "cell_type": "code",
   "execution_count": 7,
   "metadata": {},
   "outputs": [
    {
     "data": {
      "text/html": [
       "<div>\n",
       "<style scoped>\n",
       "    .dataframe tbody tr th:only-of-type {\n",
       "        vertical-align: middle;\n",
       "    }\n",
       "\n",
       "    .dataframe tbody tr th {\n",
       "        vertical-align: top;\n",
       "    }\n",
       "\n",
       "    .dataframe thead th {\n",
       "        text-align: right;\n",
       "    }\n",
       "</style>\n",
       "<table border=\"1\" class=\"dataframe\">\n",
       "  <thead>\n",
       "    <tr style=\"text-align: right;\">\n",
       "      <th></th>\n",
       "      <th>A</th>\n",
       "      <th>B</th>\n",
       "      <th>C</th>\n",
       "      <th>D</th>\n",
       "    </tr>\n",
       "  </thead>\n",
       "  <tbody>\n",
       "    <tr>\n",
       "      <th>0</th>\n",
       "      <td>0.645163</td>\n",
       "      <td>0.534969</td>\n",
       "      <td>-2.459756</td>\n",
       "      <td>1.451596</td>\n",
       "    </tr>\n",
       "    <tr>\n",
       "      <th>1</th>\n",
       "      <td>-0.646913</td>\n",
       "      <td>-1.014329</td>\n",
       "      <td>-0.256128</td>\n",
       "      <td>-1.099653</td>\n",
       "    </tr>\n",
       "    <tr>\n",
       "      <th>2</th>\n",
       "      <td>0.072828</td>\n",
       "      <td>0.222906</td>\n",
       "      <td>-0.555643</td>\n",
       "      <td>-0.055195</td>\n",
       "    </tr>\n",
       "    <tr>\n",
       "      <th>3</th>\n",
       "      <td>-0.399967</td>\n",
       "      <td>-1.758177</td>\n",
       "      <td>1.571913</td>\n",
       "      <td>-0.300067</td>\n",
       "    </tr>\n",
       "    <tr>\n",
       "      <th>4</th>\n",
       "      <td>1.278886</td>\n",
       "      <td>0.372311</td>\n",
       "      <td>0.175635</td>\n",
       "      <td>-1.635594</td>\n",
       "    </tr>\n",
       "  </tbody>\n",
       "</table>\n",
       "</div>"
      ],
      "text/plain": [
       "          A         B         C         D\n",
       "0  0.645163  0.534969 -2.459756  1.451596\n",
       "1 -0.646913 -1.014329 -0.256128 -1.099653\n",
       "2  0.072828  0.222906 -0.555643 -0.055195\n",
       "3 -0.399967 -1.758177  1.571913 -0.300067\n",
       "4  1.278886  0.372311  0.175635 -1.635594"
      ]
     },
     "execution_count": 7,
     "metadata": {},
     "output_type": "execute_result"
    }
   ],
   "source": [
    "df.head()"
   ]
  },
  {
   "cell_type": "code",
   "execution_count": 8,
   "metadata": {},
   "outputs": [],
   "source": [
    "df2 = pd.DataFrame({'Category':['A','B','C'],'Values':[32,43,50]})"
   ]
  },
  {
   "cell_type": "code",
   "execution_count": 9,
   "metadata": {},
   "outputs": [
    {
     "data": {
      "text/html": [
       "<div>\n",
       "<style scoped>\n",
       "    .dataframe tbody tr th:only-of-type {\n",
       "        vertical-align: middle;\n",
       "    }\n",
       "\n",
       "    .dataframe tbody tr th {\n",
       "        vertical-align: top;\n",
       "    }\n",
       "\n",
       "    .dataframe thead th {\n",
       "        text-align: right;\n",
       "    }\n",
       "</style>\n",
       "<table border=\"1\" class=\"dataframe\">\n",
       "  <thead>\n",
       "    <tr style=\"text-align: right;\">\n",
       "      <th></th>\n",
       "      <th>Category</th>\n",
       "      <th>Values</th>\n",
       "    </tr>\n",
       "  </thead>\n",
       "  <tbody>\n",
       "    <tr>\n",
       "      <th>0</th>\n",
       "      <td>A</td>\n",
       "      <td>32</td>\n",
       "    </tr>\n",
       "    <tr>\n",
       "      <th>1</th>\n",
       "      <td>B</td>\n",
       "      <td>43</td>\n",
       "    </tr>\n",
       "    <tr>\n",
       "      <th>2</th>\n",
       "      <td>C</td>\n",
       "      <td>50</td>\n",
       "    </tr>\n",
       "  </tbody>\n",
       "</table>\n",
       "</div>"
      ],
      "text/plain": [
       "  Category  Values\n",
       "0        A      32\n",
       "1        B      43\n",
       "2        C      50"
      ]
     },
     "execution_count": 9,
     "metadata": {},
     "output_type": "execute_result"
    }
   ],
   "source": [
    "df2.head()"
   ]
  },
  {
   "cell_type": "markdown",
   "metadata": {},
   "source": [
    "## Using Cufflinks and iplot()\n",
    "\n",
    "* scatter\n",
    "* bar\n",
    "* box\n",
    "* spread\n",
    "* ratio\n",
    "* heatmap\n",
    "* surface\n",
    "* histogram\n",
    "* bubble"
   ]
  },
  {
   "cell_type": "markdown",
   "metadata": {},
   "source": [
    "## Scatter"
   ]
  },
  {
   "cell_type": "code",
   "execution_count": 10,
   "metadata": {},
   "outputs": [
    {
     "data": {
      "application/vnd.plotly.v1+json": {
       "config": {
        "linkText": "Export to plot.ly",
        "plotlyServerURL": "https://plot.ly",
        "showLink": true
       },
       "data": [
        {
         "line": {
          "color": "rgba(255, 153, 51, 1.0)",
          "dash": "solid",
          "shape": "linear",
          "width": 1.3
         },
         "marker": {
          "size": 10,
          "symbol": "circle"
         },
         "mode": "markers",
         "name": "B",
         "text": "",
         "type": "scatter",
         "x": [
          0.6451627172498443,
          -0.6469131036903166,
          0.07282760997978965,
          -0.39996672688275203,
          1.27888605560903,
          0.176984719501775,
          -0.3478450711317554,
          1.1669800856100079,
          -1.1509471161286047,
          -0.4042239505584384,
          2.647907647993073,
          0.36715327003169484,
          0.8432767828805269,
          -0.03464740419409103,
          1.076977486712486,
          0.8436970449566027,
          -0.7334470538578574,
          -1.2853302266665863,
          1.5173632050074661,
          0.54034616538293,
          -0.12868533708843397,
          -0.2645198777318922,
          -1.2398657992294475,
          -0.18530651824974842,
          1.5742851271891127,
          0.7450361771271075,
          -1.4086085803396364,
          0.14499502944366194,
          7.98357974058988e-05,
          0.2015099522526723,
          0.5197852516643461,
          0.8137691135724868,
          -0.7898519062290008,
          -0.2350610039304626,
          -0.47805951650580386,
          0.7420069762630155,
          -0.884344286449463,
          0.4881141842478061,
          0.2539682741135712,
          -0.2415755237551213,
          0.19379602987412708,
          -0.46794198489183425,
          -0.05582823809394771,
          -0.1722137535156207,
          0.8219202690922193,
          -2.960368117506735,
          -0.5735579419165826,
          0.23185189552088065,
          -1.5476457212277288,
          -0.7318010309338864,
          0.4276163168061164,
          0.7076939313668328,
          0.9103248805933472,
          -0.6350650519263663,
          -0.7846590711619182,
          0.5066197590616859,
          0.9475847712991983,
          1.4855797887769817,
          -0.5176716456152829,
          -1.9365130236965,
          -2.2657350481435565,
          1.740096036056405,
          1.8796902458539129,
          -0.6503568376832136,
          -1.1063832718418674,
          0.5540253031028719,
          -0.2255018506179424,
          -0.22246662275393148,
          0.3796040910645512,
          0.641004515444166,
          -1.5257174213827545,
          0.5582632071338453,
          0.7434395855922672,
          -0.6429138846665017,
          -1.1470053481199076,
          -0.058408415132721984,
          -0.087271021946233,
          -0.11490851526832321,
          0.09478161319117837,
          -0.06806715841681621,
          -0.9642493190741217,
          -0.008786798402462295,
          0.6396834488805198,
          -0.3259564250417379,
          0.5002594604189721,
          1.6301959446629615,
          0.4764493472735545,
          -0.5917483321647256,
          1.3687335513621266,
          1.427544217794121,
          -0.6919940853120521,
          -2.0309623995200567,
          -0.8535043207183718,
          -0.7453142827178897,
          1.4886049411007722,
          1.376550678415612,
          0.4662319719767733,
          1.0996702131134612,
          -0.4293423418754007,
          -0.15580447473223744
         ],
         "y": [
          0.5349692410513225,
          -1.014328904542226,
          0.2229060005876184,
          -1.7581772675544798,
          0.37231115079283594,
          0.579264731188161,
          0.5718854242262145,
          -0.700421563136451,
          -0.6925810383508683,
          0.4790117557619783,
          0.24442530830143844,
          0.764748398677337,
          1.754347313478873,
          -0.40762244722224095,
          0.6650490169408635,
          -2.3902605775371946,
          0.7147583929606929,
          0.11896721666819543,
          -0.8028148154089121,
          1.6952701768643617,
          -2.7763997397425295,
          -0.01340515185356433,
          1.7784608524477292,
          -0.2885044914699736,
          1.0466215220208286,
          -0.9043684133288886,
          -0.6042356903023718,
          -1.6847822028654627,
          1.5297218731150697,
          1.3415136153615916,
          -0.37716657605716297,
          -1.0494981799232466,
          -0.500402274016725,
          -1.2181761971009173,
          -1.776210252204733,
          -0.3968897194559243,
          -0.322374690719606,
          -0.4012294945234382,
          2.035203464686686,
          1.1016567270559787,
          -0.14018196572980843,
          1.467813159453069,
          1.3809154248444366,
          -0.08205647775417348,
          -0.36341565920138735,
          0.07233594739972496,
          -1.0583568734506534,
          0.5560235499153585,
          2.176848979597883,
          0.9596586425683493,
          -0.3407743636640172,
          -1.7348677657723248,
          1.3577160606563694,
          0.05361173356677967,
          -1.3718095272286817,
          0.871112952667962,
          1.885708131400474,
          0.2170343177318166,
          -0.46920835974248226,
          1.3866627336967794,
          -0.6302221497234748,
          0.5301234274057091,
          -1.0564523821783804,
          -0.276707432201371,
          0.15170855981121262,
          0.43436907082471166,
          0.4744302146164032,
          -0.405764320028978,
          1.0481786716642518,
          0.11106210546013959,
          -1.5355277427466816,
          -0.045065170946819125,
          1.1894829955165938,
          -0.6775899242032235,
          0.5791523631524266,
          0.9636909001251861,
          0.3592607945727012,
          1.0994552085095473,
          0.8899020832464846,
          0.6136225224274325,
          0.6338374255363178,
          0.0729077581586196,
          -0.8213726655976707,
          0.06228745285536487,
          0.5290657124345663,
          0.13750720436213548,
          -1.2011407826241554,
          -0.21817446269581114,
          0.47476188782199336,
          0.3260651872156575,
          -0.36511298792012614,
          -0.6194016745901185,
          0.49622265016446104,
          -1.4253888279048446,
          0.6925910212982547,
          -1.1932783398603268,
          -0.3783372011436178,
          0.39282058649038537,
          0.006989733582659156,
          0.2866238712221347
         ]
        }
       ],
       "layout": {
        "legend": {
         "bgcolor": "#F5F6F9",
         "font": {
          "color": "#4D5663"
         }
        },
        "paper_bgcolor": "#F5F6F9",
        "plot_bgcolor": "#F5F6F9",
        "template": {
         "data": {
          "bar": [
           {
            "error_x": {
             "color": "#2a3f5f"
            },
            "error_y": {
             "color": "#2a3f5f"
            },
            "marker": {
             "line": {
              "color": "#E5ECF6",
              "width": 0.5
             }
            },
            "type": "bar"
           }
          ],
          "barpolar": [
           {
            "marker": {
             "line": {
              "color": "#E5ECF6",
              "width": 0.5
             }
            },
            "type": "barpolar"
           }
          ],
          "carpet": [
           {
            "aaxis": {
             "endlinecolor": "#2a3f5f",
             "gridcolor": "white",
             "linecolor": "white",
             "minorgridcolor": "white",
             "startlinecolor": "#2a3f5f"
            },
            "baxis": {
             "endlinecolor": "#2a3f5f",
             "gridcolor": "white",
             "linecolor": "white",
             "minorgridcolor": "white",
             "startlinecolor": "#2a3f5f"
            },
            "type": "carpet"
           }
          ],
          "choropleth": [
           {
            "colorbar": {
             "outlinewidth": 0,
             "ticks": ""
            },
            "type": "choropleth"
           }
          ],
          "contour": [
           {
            "colorbar": {
             "outlinewidth": 0,
             "ticks": ""
            },
            "colorscale": [
             [
              0,
              "#0d0887"
             ],
             [
              0.1111111111111111,
              "#46039f"
             ],
             [
              0.2222222222222222,
              "#7201a8"
             ],
             [
              0.3333333333333333,
              "#9c179e"
             ],
             [
              0.4444444444444444,
              "#bd3786"
             ],
             [
              0.5555555555555556,
              "#d8576b"
             ],
             [
              0.6666666666666666,
              "#ed7953"
             ],
             [
              0.7777777777777778,
              "#fb9f3a"
             ],
             [
              0.8888888888888888,
              "#fdca26"
             ],
             [
              1,
              "#f0f921"
             ]
            ],
            "type": "contour"
           }
          ],
          "contourcarpet": [
           {
            "colorbar": {
             "outlinewidth": 0,
             "ticks": ""
            },
            "type": "contourcarpet"
           }
          ],
          "heatmap": [
           {
            "colorbar": {
             "outlinewidth": 0,
             "ticks": ""
            },
            "colorscale": [
             [
              0,
              "#0d0887"
             ],
             [
              0.1111111111111111,
              "#46039f"
             ],
             [
              0.2222222222222222,
              "#7201a8"
             ],
             [
              0.3333333333333333,
              "#9c179e"
             ],
             [
              0.4444444444444444,
              "#bd3786"
             ],
             [
              0.5555555555555556,
              "#d8576b"
             ],
             [
              0.6666666666666666,
              "#ed7953"
             ],
             [
              0.7777777777777778,
              "#fb9f3a"
             ],
             [
              0.8888888888888888,
              "#fdca26"
             ],
             [
              1,
              "#f0f921"
             ]
            ],
            "type": "heatmap"
           }
          ],
          "heatmapgl": [
           {
            "colorbar": {
             "outlinewidth": 0,
             "ticks": ""
            },
            "colorscale": [
             [
              0,
              "#0d0887"
             ],
             [
              0.1111111111111111,
              "#46039f"
             ],
             [
              0.2222222222222222,
              "#7201a8"
             ],
             [
              0.3333333333333333,
              "#9c179e"
             ],
             [
              0.4444444444444444,
              "#bd3786"
             ],
             [
              0.5555555555555556,
              "#d8576b"
             ],
             [
              0.6666666666666666,
              "#ed7953"
             ],
             [
              0.7777777777777778,
              "#fb9f3a"
             ],
             [
              0.8888888888888888,
              "#fdca26"
             ],
             [
              1,
              "#f0f921"
             ]
            ],
            "type": "heatmapgl"
           }
          ],
          "histogram": [
           {
            "marker": {
             "colorbar": {
              "outlinewidth": 0,
              "ticks": ""
             }
            },
            "type": "histogram"
           }
          ],
          "histogram2d": [
           {
            "colorbar": {
             "outlinewidth": 0,
             "ticks": ""
            },
            "colorscale": [
             [
              0,
              "#0d0887"
             ],
             [
              0.1111111111111111,
              "#46039f"
             ],
             [
              0.2222222222222222,
              "#7201a8"
             ],
             [
              0.3333333333333333,
              "#9c179e"
             ],
             [
              0.4444444444444444,
              "#bd3786"
             ],
             [
              0.5555555555555556,
              "#d8576b"
             ],
             [
              0.6666666666666666,
              "#ed7953"
             ],
             [
              0.7777777777777778,
              "#fb9f3a"
             ],
             [
              0.8888888888888888,
              "#fdca26"
             ],
             [
              1,
              "#f0f921"
             ]
            ],
            "type": "histogram2d"
           }
          ],
          "histogram2dcontour": [
           {
            "colorbar": {
             "outlinewidth": 0,
             "ticks": ""
            },
            "colorscale": [
             [
              0,
              "#0d0887"
             ],
             [
              0.1111111111111111,
              "#46039f"
             ],
             [
              0.2222222222222222,
              "#7201a8"
             ],
             [
              0.3333333333333333,
              "#9c179e"
             ],
             [
              0.4444444444444444,
              "#bd3786"
             ],
             [
              0.5555555555555556,
              "#d8576b"
             ],
             [
              0.6666666666666666,
              "#ed7953"
             ],
             [
              0.7777777777777778,
              "#fb9f3a"
             ],
             [
              0.8888888888888888,
              "#fdca26"
             ],
             [
              1,
              "#f0f921"
             ]
            ],
            "type": "histogram2dcontour"
           }
          ],
          "mesh3d": [
           {
            "colorbar": {
             "outlinewidth": 0,
             "ticks": ""
            },
            "type": "mesh3d"
           }
          ],
          "parcoords": [
           {
            "line": {
             "colorbar": {
              "outlinewidth": 0,
              "ticks": ""
             }
            },
            "type": "parcoords"
           }
          ],
          "pie": [
           {
            "automargin": true,
            "type": "pie"
           }
          ],
          "scatter": [
           {
            "marker": {
             "colorbar": {
              "outlinewidth": 0,
              "ticks": ""
             }
            },
            "type": "scatter"
           }
          ],
          "scatter3d": [
           {
            "line": {
             "colorbar": {
              "outlinewidth": 0,
              "ticks": ""
             }
            },
            "marker": {
             "colorbar": {
              "outlinewidth": 0,
              "ticks": ""
             }
            },
            "type": "scatter3d"
           }
          ],
          "scattercarpet": [
           {
            "marker": {
             "colorbar": {
              "outlinewidth": 0,
              "ticks": ""
             }
            },
            "type": "scattercarpet"
           }
          ],
          "scattergeo": [
           {
            "marker": {
             "colorbar": {
              "outlinewidth": 0,
              "ticks": ""
             }
            },
            "type": "scattergeo"
           }
          ],
          "scattergl": [
           {
            "marker": {
             "colorbar": {
              "outlinewidth": 0,
              "ticks": ""
             }
            },
            "type": "scattergl"
           }
          ],
          "scattermapbox": [
           {
            "marker": {
             "colorbar": {
              "outlinewidth": 0,
              "ticks": ""
             }
            },
            "type": "scattermapbox"
           }
          ],
          "scatterpolar": [
           {
            "marker": {
             "colorbar": {
              "outlinewidth": 0,
              "ticks": ""
             }
            },
            "type": "scatterpolar"
           }
          ],
          "scatterpolargl": [
           {
            "marker": {
             "colorbar": {
              "outlinewidth": 0,
              "ticks": ""
             }
            },
            "type": "scatterpolargl"
           }
          ],
          "scatterternary": [
           {
            "marker": {
             "colorbar": {
              "outlinewidth": 0,
              "ticks": ""
             }
            },
            "type": "scatterternary"
           }
          ],
          "surface": [
           {
            "colorbar": {
             "outlinewidth": 0,
             "ticks": ""
            },
            "colorscale": [
             [
              0,
              "#0d0887"
             ],
             [
              0.1111111111111111,
              "#46039f"
             ],
             [
              0.2222222222222222,
              "#7201a8"
             ],
             [
              0.3333333333333333,
              "#9c179e"
             ],
             [
              0.4444444444444444,
              "#bd3786"
             ],
             [
              0.5555555555555556,
              "#d8576b"
             ],
             [
              0.6666666666666666,
              "#ed7953"
             ],
             [
              0.7777777777777778,
              "#fb9f3a"
             ],
             [
              0.8888888888888888,
              "#fdca26"
             ],
             [
              1,
              "#f0f921"
             ]
            ],
            "type": "surface"
           }
          ],
          "table": [
           {
            "cells": {
             "fill": {
              "color": "#EBF0F8"
             },
             "line": {
              "color": "white"
             }
            },
            "header": {
             "fill": {
              "color": "#C8D4E3"
             },
             "line": {
              "color": "white"
             }
            },
            "type": "table"
           }
          ]
         },
         "layout": {
          "annotationdefaults": {
           "arrowcolor": "#2a3f5f",
           "arrowhead": 0,
           "arrowwidth": 1
          },
          "coloraxis": {
           "colorbar": {
            "outlinewidth": 0,
            "ticks": ""
           }
          },
          "colorscale": {
           "diverging": [
            [
             0,
             "#8e0152"
            ],
            [
             0.1,
             "#c51b7d"
            ],
            [
             0.2,
             "#de77ae"
            ],
            [
             0.3,
             "#f1b6da"
            ],
            [
             0.4,
             "#fde0ef"
            ],
            [
             0.5,
             "#f7f7f7"
            ],
            [
             0.6,
             "#e6f5d0"
            ],
            [
             0.7,
             "#b8e186"
            ],
            [
             0.8,
             "#7fbc41"
            ],
            [
             0.9,
             "#4d9221"
            ],
            [
             1,
             "#276419"
            ]
           ],
           "sequential": [
            [
             0,
             "#0d0887"
            ],
            [
             0.1111111111111111,
             "#46039f"
            ],
            [
             0.2222222222222222,
             "#7201a8"
            ],
            [
             0.3333333333333333,
             "#9c179e"
            ],
            [
             0.4444444444444444,
             "#bd3786"
            ],
            [
             0.5555555555555556,
             "#d8576b"
            ],
            [
             0.6666666666666666,
             "#ed7953"
            ],
            [
             0.7777777777777778,
             "#fb9f3a"
            ],
            [
             0.8888888888888888,
             "#fdca26"
            ],
            [
             1,
             "#f0f921"
            ]
           ],
           "sequentialminus": [
            [
             0,
             "#0d0887"
            ],
            [
             0.1111111111111111,
             "#46039f"
            ],
            [
             0.2222222222222222,
             "#7201a8"
            ],
            [
             0.3333333333333333,
             "#9c179e"
            ],
            [
             0.4444444444444444,
             "#bd3786"
            ],
            [
             0.5555555555555556,
             "#d8576b"
            ],
            [
             0.6666666666666666,
             "#ed7953"
            ],
            [
             0.7777777777777778,
             "#fb9f3a"
            ],
            [
             0.8888888888888888,
             "#fdca26"
            ],
            [
             1,
             "#f0f921"
            ]
           ]
          },
          "colorway": [
           "#636efa",
           "#EF553B",
           "#00cc96",
           "#ab63fa",
           "#FFA15A",
           "#19d3f3",
           "#FF6692",
           "#B6E880",
           "#FF97FF",
           "#FECB52"
          ],
          "font": {
           "color": "#2a3f5f"
          },
          "geo": {
           "bgcolor": "white",
           "lakecolor": "white",
           "landcolor": "#E5ECF6",
           "showlakes": true,
           "showland": true,
           "subunitcolor": "white"
          },
          "hoverlabel": {
           "align": "left"
          },
          "hovermode": "closest",
          "mapbox": {
           "style": "light"
          },
          "paper_bgcolor": "white",
          "plot_bgcolor": "#E5ECF6",
          "polar": {
           "angularaxis": {
            "gridcolor": "white",
            "linecolor": "white",
            "ticks": ""
           },
           "bgcolor": "#E5ECF6",
           "radialaxis": {
            "gridcolor": "white",
            "linecolor": "white",
            "ticks": ""
           }
          },
          "scene": {
           "xaxis": {
            "backgroundcolor": "#E5ECF6",
            "gridcolor": "white",
            "gridwidth": 2,
            "linecolor": "white",
            "showbackground": true,
            "ticks": "",
            "zerolinecolor": "white"
           },
           "yaxis": {
            "backgroundcolor": "#E5ECF6",
            "gridcolor": "white",
            "gridwidth": 2,
            "linecolor": "white",
            "showbackground": true,
            "ticks": "",
            "zerolinecolor": "white"
           },
           "zaxis": {
            "backgroundcolor": "#E5ECF6",
            "gridcolor": "white",
            "gridwidth": 2,
            "linecolor": "white",
            "showbackground": true,
            "ticks": "",
            "zerolinecolor": "white"
           }
          },
          "shapedefaults": {
           "line": {
            "color": "#2a3f5f"
           }
          },
          "ternary": {
           "aaxis": {
            "gridcolor": "white",
            "linecolor": "white",
            "ticks": ""
           },
           "baxis": {
            "gridcolor": "white",
            "linecolor": "white",
            "ticks": ""
           },
           "bgcolor": "#E5ECF6",
           "caxis": {
            "gridcolor": "white",
            "linecolor": "white",
            "ticks": ""
           }
          },
          "title": {
           "x": 0.05
          },
          "xaxis": {
           "automargin": true,
           "gridcolor": "white",
           "linecolor": "white",
           "ticks": "",
           "title": {
            "standoff": 15
           },
           "zerolinecolor": "white",
           "zerolinewidth": 2
          },
          "yaxis": {
           "automargin": true,
           "gridcolor": "white",
           "linecolor": "white",
           "ticks": "",
           "title": {
            "standoff": 15
           },
           "zerolinecolor": "white",
           "zerolinewidth": 2
          }
         }
        },
        "title": {
         "font": {
          "color": "#4D5663"
         }
        },
        "xaxis": {
         "gridcolor": "#E1E5ED",
         "showgrid": true,
         "tickfont": {
          "color": "#4D5663"
         },
         "title": {
          "font": {
           "color": "#4D5663"
          },
          "text": ""
         },
         "zerolinecolor": "#E1E5ED"
        },
        "yaxis": {
         "gridcolor": "#E1E5ED",
         "showgrid": true,
         "tickfont": {
          "color": "#4D5663"
         },
         "title": {
          "font": {
           "color": "#4D5663"
          },
          "text": ""
         },
         "zerolinecolor": "#E1E5ED"
        }
       }
      },
      "text/html": [
       "<div>\n",
       "        \n",
       "        \n",
       "            <div id=\"1ca0bac2-1103-4731-8157-5c6cb99dcabf\" class=\"plotly-graph-div\" style=\"height:525px; width:100%;\"></div>\n",
       "            <script type=\"text/javascript\">\n",
       "                require([\"plotly\"], function(Plotly) {\n",
       "                    window.PLOTLYENV=window.PLOTLYENV || {};\n",
       "                    window.PLOTLYENV.BASE_URL='https://plot.ly';\n",
       "                    \n",
       "                if (document.getElementById(\"1ca0bac2-1103-4731-8157-5c6cb99dcabf\")) {\n",
       "                    Plotly.newPlot(\n",
       "                        '1ca0bac2-1103-4731-8157-5c6cb99dcabf',\n",
       "                        [{\"line\": {\"color\": \"rgba(255, 153, 51, 1.0)\", \"dash\": \"solid\", \"shape\": \"linear\", \"width\": 1.3}, \"marker\": {\"size\": 10, \"symbol\": \"circle\"}, \"mode\": \"markers\", \"name\": \"B\", \"text\": \"\", \"type\": \"scatter\", \"x\": [0.6451627172498443, -0.6469131036903166, 0.07282760997978965, -0.39996672688275203, 1.27888605560903, 0.176984719501775, -0.3478450711317554, 1.1669800856100079, -1.1509471161286047, -0.4042239505584384, 2.647907647993073, 0.36715327003169484, 0.8432767828805269, -0.03464740419409103, 1.076977486712486, 0.8436970449566027, -0.7334470538578574, -1.2853302266665863, 1.5173632050074661, 0.54034616538293, -0.12868533708843397, -0.2645198777318922, -1.2398657992294475, -0.18530651824974842, 1.5742851271891127, 0.7450361771271075, -1.4086085803396364, 0.14499502944366194, 7.98357974058988e-05, 0.2015099522526723, 0.5197852516643461, 0.8137691135724868, -0.7898519062290008, -0.2350610039304626, -0.47805951650580386, 0.7420069762630155, -0.884344286449463, 0.4881141842478061, 0.2539682741135712, -0.2415755237551213, 0.19379602987412708, -0.46794198489183425, -0.05582823809394771, -0.1722137535156207, 0.8219202690922193, -2.960368117506735, -0.5735579419165826, 0.23185189552088065, -1.5476457212277288, -0.7318010309338864, 0.4276163168061164, 0.7076939313668328, 0.9103248805933472, -0.6350650519263663, -0.7846590711619182, 0.5066197590616859, 0.9475847712991983, 1.4855797887769817, -0.5176716456152829, -1.9365130236965, -2.2657350481435565, 1.740096036056405, 1.8796902458539129, -0.6503568376832136, -1.1063832718418674, 0.5540253031028719, -0.2255018506179424, -0.22246662275393148, 0.3796040910645512, 0.641004515444166, -1.5257174213827545, 0.5582632071338453, 0.7434395855922672, -0.6429138846665017, -1.1470053481199076, -0.058408415132721984, -0.087271021946233, -0.11490851526832321, 0.09478161319117837, -0.06806715841681621, -0.9642493190741217, -0.008786798402462295, 0.6396834488805198, -0.3259564250417379, 0.5002594604189721, 1.6301959446629615, 0.4764493472735545, -0.5917483321647256, 1.3687335513621266, 1.427544217794121, -0.6919940853120521, -2.0309623995200567, -0.8535043207183718, -0.7453142827178897, 1.4886049411007722, 1.376550678415612, 0.4662319719767733, 1.0996702131134612, -0.4293423418754007, -0.15580447473223744], \"y\": [0.5349692410513225, -1.014328904542226, 0.2229060005876184, -1.7581772675544798, 0.37231115079283594, 0.579264731188161, 0.5718854242262145, -0.700421563136451, -0.6925810383508683, 0.4790117557619783, 0.24442530830143844, 0.764748398677337, 1.754347313478873, -0.40762244722224095, 0.6650490169408635, -2.3902605775371946, 0.7147583929606929, 0.11896721666819543, -0.8028148154089121, 1.6952701768643617, -2.7763997397425295, -0.01340515185356433, 1.7784608524477292, -0.2885044914699736, 1.0466215220208286, -0.9043684133288886, -0.6042356903023718, -1.6847822028654627, 1.5297218731150697, 1.3415136153615916, -0.37716657605716297, -1.0494981799232466, -0.500402274016725, -1.2181761971009173, -1.776210252204733, -0.3968897194559243, -0.322374690719606, -0.4012294945234382, 2.035203464686686, 1.1016567270559787, -0.14018196572980843, 1.467813159453069, 1.3809154248444366, -0.08205647775417348, -0.36341565920138735, 0.07233594739972496, -1.0583568734506534, 0.5560235499153585, 2.176848979597883, 0.9596586425683493, -0.3407743636640172, -1.7348677657723248, 1.3577160606563694, 0.05361173356677967, -1.3718095272286817, 0.871112952667962, 1.885708131400474, 0.2170343177318166, -0.46920835974248226, 1.3866627336967794, -0.6302221497234748, 0.5301234274057091, -1.0564523821783804, -0.276707432201371, 0.15170855981121262, 0.43436907082471166, 0.4744302146164032, -0.405764320028978, 1.0481786716642518, 0.11106210546013959, -1.5355277427466816, -0.045065170946819125, 1.1894829955165938, -0.6775899242032235, 0.5791523631524266, 0.9636909001251861, 0.3592607945727012, 1.0994552085095473, 0.8899020832464846, 0.6136225224274325, 0.6338374255363178, 0.0729077581586196, -0.8213726655976707, 0.06228745285536487, 0.5290657124345663, 0.13750720436213548, -1.2011407826241554, -0.21817446269581114, 0.47476188782199336, 0.3260651872156575, -0.36511298792012614, -0.6194016745901185, 0.49622265016446104, -1.4253888279048446, 0.6925910212982547, -1.1932783398603268, -0.3783372011436178, 0.39282058649038537, 0.006989733582659156, 0.2866238712221347]}],\n",
       "                        {\"legend\": {\"bgcolor\": \"#F5F6F9\", \"font\": {\"color\": \"#4D5663\"}}, \"paper_bgcolor\": \"#F5F6F9\", \"plot_bgcolor\": \"#F5F6F9\", \"template\": {\"data\": {\"bar\": [{\"error_x\": {\"color\": \"#2a3f5f\"}, \"error_y\": {\"color\": \"#2a3f5f\"}, \"marker\": {\"line\": {\"color\": \"#E5ECF6\", \"width\": 0.5}}, \"type\": \"bar\"}], \"barpolar\": [{\"marker\": {\"line\": {\"color\": \"#E5ECF6\", \"width\": 0.5}}, \"type\": \"barpolar\"}], \"carpet\": [{\"aaxis\": {\"endlinecolor\": \"#2a3f5f\", \"gridcolor\": \"white\", \"linecolor\": \"white\", \"minorgridcolor\": \"white\", \"startlinecolor\": \"#2a3f5f\"}, \"baxis\": {\"endlinecolor\": \"#2a3f5f\", \"gridcolor\": \"white\", \"linecolor\": \"white\", \"minorgridcolor\": \"white\", \"startlinecolor\": \"#2a3f5f\"}, \"type\": \"carpet\"}], \"choropleth\": [{\"colorbar\": {\"outlinewidth\": 0, \"ticks\": \"\"}, \"type\": \"choropleth\"}], \"contour\": [{\"colorbar\": {\"outlinewidth\": 0, \"ticks\": \"\"}, \"colorscale\": [[0.0, \"#0d0887\"], [0.1111111111111111, \"#46039f\"], [0.2222222222222222, \"#7201a8\"], [0.3333333333333333, \"#9c179e\"], [0.4444444444444444, \"#bd3786\"], [0.5555555555555556, \"#d8576b\"], [0.6666666666666666, \"#ed7953\"], [0.7777777777777778, \"#fb9f3a\"], [0.8888888888888888, \"#fdca26\"], [1.0, \"#f0f921\"]], \"type\": \"contour\"}], \"contourcarpet\": [{\"colorbar\": {\"outlinewidth\": 0, \"ticks\": \"\"}, \"type\": \"contourcarpet\"}], \"heatmap\": [{\"colorbar\": {\"outlinewidth\": 0, \"ticks\": \"\"}, \"colorscale\": [[0.0, \"#0d0887\"], [0.1111111111111111, \"#46039f\"], [0.2222222222222222, \"#7201a8\"], [0.3333333333333333, \"#9c179e\"], [0.4444444444444444, \"#bd3786\"], [0.5555555555555556, \"#d8576b\"], [0.6666666666666666, \"#ed7953\"], [0.7777777777777778, \"#fb9f3a\"], [0.8888888888888888, \"#fdca26\"], [1.0, \"#f0f921\"]], \"type\": \"heatmap\"}], \"heatmapgl\": [{\"colorbar\": {\"outlinewidth\": 0, \"ticks\": \"\"}, \"colorscale\": [[0.0, \"#0d0887\"], [0.1111111111111111, \"#46039f\"], [0.2222222222222222, \"#7201a8\"], [0.3333333333333333, \"#9c179e\"], [0.4444444444444444, \"#bd3786\"], [0.5555555555555556, \"#d8576b\"], [0.6666666666666666, \"#ed7953\"], [0.7777777777777778, \"#fb9f3a\"], [0.8888888888888888, \"#fdca26\"], [1.0, \"#f0f921\"]], \"type\": \"heatmapgl\"}], \"histogram\": [{\"marker\": {\"colorbar\": {\"outlinewidth\": 0, \"ticks\": \"\"}}, \"type\": \"histogram\"}], \"histogram2d\": [{\"colorbar\": {\"outlinewidth\": 0, \"ticks\": \"\"}, \"colorscale\": [[0.0, \"#0d0887\"], [0.1111111111111111, \"#46039f\"], [0.2222222222222222, \"#7201a8\"], [0.3333333333333333, \"#9c179e\"], [0.4444444444444444, \"#bd3786\"], [0.5555555555555556, \"#d8576b\"], [0.6666666666666666, \"#ed7953\"], [0.7777777777777778, \"#fb9f3a\"], [0.8888888888888888, \"#fdca26\"], [1.0, \"#f0f921\"]], \"type\": \"histogram2d\"}], \"histogram2dcontour\": [{\"colorbar\": {\"outlinewidth\": 0, \"ticks\": \"\"}, \"colorscale\": [[0.0, \"#0d0887\"], [0.1111111111111111, \"#46039f\"], [0.2222222222222222, \"#7201a8\"], [0.3333333333333333, \"#9c179e\"], [0.4444444444444444, \"#bd3786\"], [0.5555555555555556, \"#d8576b\"], [0.6666666666666666, \"#ed7953\"], [0.7777777777777778, \"#fb9f3a\"], [0.8888888888888888, \"#fdca26\"], [1.0, \"#f0f921\"]], \"type\": \"histogram2dcontour\"}], \"mesh3d\": [{\"colorbar\": {\"outlinewidth\": 0, \"ticks\": \"\"}, \"type\": \"mesh3d\"}], \"parcoords\": [{\"line\": {\"colorbar\": {\"outlinewidth\": 0, \"ticks\": \"\"}}, \"type\": \"parcoords\"}], \"pie\": [{\"automargin\": true, \"type\": \"pie\"}], \"scatter\": [{\"marker\": {\"colorbar\": {\"outlinewidth\": 0, \"ticks\": \"\"}}, \"type\": \"scatter\"}], \"scatter3d\": [{\"line\": {\"colorbar\": {\"outlinewidth\": 0, \"ticks\": \"\"}}, \"marker\": {\"colorbar\": {\"outlinewidth\": 0, \"ticks\": \"\"}}, \"type\": \"scatter3d\"}], \"scattercarpet\": [{\"marker\": {\"colorbar\": {\"outlinewidth\": 0, \"ticks\": \"\"}}, \"type\": \"scattercarpet\"}], \"scattergeo\": [{\"marker\": {\"colorbar\": {\"outlinewidth\": 0, \"ticks\": \"\"}}, \"type\": \"scattergeo\"}], \"scattergl\": [{\"marker\": {\"colorbar\": {\"outlinewidth\": 0, \"ticks\": \"\"}}, \"type\": \"scattergl\"}], \"scattermapbox\": [{\"marker\": {\"colorbar\": {\"outlinewidth\": 0, \"ticks\": \"\"}}, \"type\": \"scattermapbox\"}], \"scatterpolar\": [{\"marker\": {\"colorbar\": {\"outlinewidth\": 0, \"ticks\": \"\"}}, \"type\": \"scatterpolar\"}], \"scatterpolargl\": [{\"marker\": {\"colorbar\": {\"outlinewidth\": 0, \"ticks\": \"\"}}, \"type\": \"scatterpolargl\"}], \"scatterternary\": [{\"marker\": {\"colorbar\": {\"outlinewidth\": 0, \"ticks\": \"\"}}, \"type\": \"scatterternary\"}], \"surface\": [{\"colorbar\": {\"outlinewidth\": 0, \"ticks\": \"\"}, \"colorscale\": [[0.0, \"#0d0887\"], [0.1111111111111111, \"#46039f\"], [0.2222222222222222, \"#7201a8\"], [0.3333333333333333, \"#9c179e\"], [0.4444444444444444, \"#bd3786\"], [0.5555555555555556, \"#d8576b\"], [0.6666666666666666, \"#ed7953\"], [0.7777777777777778, \"#fb9f3a\"], [0.8888888888888888, \"#fdca26\"], [1.0, \"#f0f921\"]], \"type\": \"surface\"}], \"table\": [{\"cells\": {\"fill\": {\"color\": \"#EBF0F8\"}, \"line\": {\"color\": \"white\"}}, \"header\": {\"fill\": {\"color\": \"#C8D4E3\"}, \"line\": {\"color\": \"white\"}}, \"type\": \"table\"}]}, \"layout\": {\"annotationdefaults\": {\"arrowcolor\": \"#2a3f5f\", \"arrowhead\": 0, \"arrowwidth\": 1}, \"coloraxis\": {\"colorbar\": {\"outlinewidth\": 0, \"ticks\": \"\"}}, \"colorscale\": {\"diverging\": [[0, \"#8e0152\"], [0.1, \"#c51b7d\"], [0.2, \"#de77ae\"], [0.3, \"#f1b6da\"], [0.4, \"#fde0ef\"], [0.5, \"#f7f7f7\"], [0.6, \"#e6f5d0\"], [0.7, \"#b8e186\"], [0.8, \"#7fbc41\"], [0.9, \"#4d9221\"], [1, \"#276419\"]], \"sequential\": [[0.0, \"#0d0887\"], [0.1111111111111111, \"#46039f\"], [0.2222222222222222, \"#7201a8\"], [0.3333333333333333, \"#9c179e\"], [0.4444444444444444, \"#bd3786\"], [0.5555555555555556, \"#d8576b\"], [0.6666666666666666, \"#ed7953\"], [0.7777777777777778, \"#fb9f3a\"], [0.8888888888888888, \"#fdca26\"], [1.0, \"#f0f921\"]], \"sequentialminus\": [[0.0, \"#0d0887\"], [0.1111111111111111, \"#46039f\"], [0.2222222222222222, \"#7201a8\"], [0.3333333333333333, \"#9c179e\"], [0.4444444444444444, \"#bd3786\"], [0.5555555555555556, \"#d8576b\"], [0.6666666666666666, \"#ed7953\"], [0.7777777777777778, \"#fb9f3a\"], [0.8888888888888888, \"#fdca26\"], [1.0, \"#f0f921\"]]}, \"colorway\": [\"#636efa\", \"#EF553B\", \"#00cc96\", \"#ab63fa\", \"#FFA15A\", \"#19d3f3\", \"#FF6692\", \"#B6E880\", \"#FF97FF\", \"#FECB52\"], \"font\": {\"color\": \"#2a3f5f\"}, \"geo\": {\"bgcolor\": \"white\", \"lakecolor\": \"white\", \"landcolor\": \"#E5ECF6\", \"showlakes\": true, \"showland\": true, \"subunitcolor\": \"white\"}, \"hoverlabel\": {\"align\": \"left\"}, \"hovermode\": \"closest\", \"mapbox\": {\"style\": \"light\"}, \"paper_bgcolor\": \"white\", \"plot_bgcolor\": \"#E5ECF6\", \"polar\": {\"angularaxis\": {\"gridcolor\": \"white\", \"linecolor\": \"white\", \"ticks\": \"\"}, \"bgcolor\": \"#E5ECF6\", \"radialaxis\": {\"gridcolor\": \"white\", \"linecolor\": \"white\", \"ticks\": \"\"}}, \"scene\": {\"xaxis\": {\"backgroundcolor\": \"#E5ECF6\", \"gridcolor\": \"white\", \"gridwidth\": 2, \"linecolor\": \"white\", \"showbackground\": true, \"ticks\": \"\", \"zerolinecolor\": \"white\"}, \"yaxis\": {\"backgroundcolor\": \"#E5ECF6\", \"gridcolor\": \"white\", \"gridwidth\": 2, \"linecolor\": \"white\", \"showbackground\": true, \"ticks\": \"\", \"zerolinecolor\": \"white\"}, \"zaxis\": {\"backgroundcolor\": \"#E5ECF6\", \"gridcolor\": \"white\", \"gridwidth\": 2, \"linecolor\": \"white\", \"showbackground\": true, \"ticks\": \"\", \"zerolinecolor\": \"white\"}}, \"shapedefaults\": {\"line\": {\"color\": \"#2a3f5f\"}}, \"ternary\": {\"aaxis\": {\"gridcolor\": \"white\", \"linecolor\": \"white\", \"ticks\": \"\"}, \"baxis\": {\"gridcolor\": \"white\", \"linecolor\": \"white\", \"ticks\": \"\"}, \"bgcolor\": \"#E5ECF6\", \"caxis\": {\"gridcolor\": \"white\", \"linecolor\": \"white\", \"ticks\": \"\"}}, \"title\": {\"x\": 0.05}, \"xaxis\": {\"automargin\": true, \"gridcolor\": \"white\", \"linecolor\": \"white\", \"ticks\": \"\", \"title\": {\"standoff\": 15}, \"zerolinecolor\": \"white\", \"zerolinewidth\": 2}, \"yaxis\": {\"automargin\": true, \"gridcolor\": \"white\", \"linecolor\": \"white\", \"ticks\": \"\", \"title\": {\"standoff\": 15}, \"zerolinecolor\": \"white\", \"zerolinewidth\": 2}}}, \"title\": {\"font\": {\"color\": \"#4D5663\"}}, \"xaxis\": {\"gridcolor\": \"#E1E5ED\", \"showgrid\": true, \"tickfont\": {\"color\": \"#4D5663\"}, \"title\": {\"font\": {\"color\": \"#4D5663\"}, \"text\": \"\"}, \"zerolinecolor\": \"#E1E5ED\"}, \"yaxis\": {\"gridcolor\": \"#E1E5ED\", \"showgrid\": true, \"tickfont\": {\"color\": \"#4D5663\"}, \"title\": {\"font\": {\"color\": \"#4D5663\"}, \"text\": \"\"}, \"zerolinecolor\": \"#E1E5ED\"}},\n",
       "                        {\"showLink\": true, \"linkText\": \"Export to plot.ly\", \"plotlyServerURL\": \"https://plot.ly\", \"responsive\": true}\n",
       "                    ).then(function(){\n",
       "                            \n",
       "var gd = document.getElementById('1ca0bac2-1103-4731-8157-5c6cb99dcabf');\n",
       "var x = new MutationObserver(function (mutations, observer) {{\n",
       "        var display = window.getComputedStyle(gd).display;\n",
       "        if (!display || display === 'none') {{\n",
       "            console.log([gd, 'removed!']);\n",
       "            Plotly.purge(gd);\n",
       "            observer.disconnect();\n",
       "        }}\n",
       "}});\n",
       "\n",
       "// Listen for the removal of the full notebook cells\n",
       "var notebookContainer = gd.closest('#notebook-container');\n",
       "if (notebookContainer) {{\n",
       "    x.observe(notebookContainer, {childList: true});\n",
       "}}\n",
       "\n",
       "// Listen for the clearing of the current output cell\n",
       "var outputEl = gd.closest('.output');\n",
       "if (outputEl) {{\n",
       "    x.observe(outputEl, {childList: true});\n",
       "}}\n",
       "\n",
       "                        })\n",
       "                };\n",
       "                });\n",
       "            </script>\n",
       "        </div>"
      ]
     },
     "metadata": {},
     "output_type": "display_data"
    }
   ],
   "source": [
    "df.iplot(kind='scatter',x='A',y='B',mode='markers',size=10)"
   ]
  },
  {
   "cell_type": "markdown",
   "metadata": {},
   "source": [
    "## Bar Plots"
   ]
  },
  {
   "cell_type": "code",
   "execution_count": 12,
   "metadata": {},
   "outputs": [
    {
     "data": {
      "application/vnd.plotly.v1+json": {
       "config": {
        "linkText": "Export to plot.ly",
        "plotlyServerURL": "https://plot.ly",
        "showLink": true
       },
       "data": [
        {
         "marker": {
          "color": "rgba(255, 153, 51, 0.6)",
          "line": {
           "color": "rgba(255, 153, 51, 1.0)",
           "width": 1
          }
         },
         "name": "Values",
         "orientation": "v",
         "text": "",
         "type": "bar",
         "x": [
          "A",
          "B",
          "C"
         ],
         "y": [
          32,
          43,
          50
         ]
        }
       ],
       "layout": {
        "legend": {
         "bgcolor": "#F5F6F9",
         "font": {
          "color": "#4D5663"
         }
        },
        "paper_bgcolor": "#F5F6F9",
        "plot_bgcolor": "#F5F6F9",
        "template": {
         "data": {
          "bar": [
           {
            "error_x": {
             "color": "#2a3f5f"
            },
            "error_y": {
             "color": "#2a3f5f"
            },
            "marker": {
             "line": {
              "color": "#E5ECF6",
              "width": 0.5
             }
            },
            "type": "bar"
           }
          ],
          "barpolar": [
           {
            "marker": {
             "line": {
              "color": "#E5ECF6",
              "width": 0.5
             }
            },
            "type": "barpolar"
           }
          ],
          "carpet": [
           {
            "aaxis": {
             "endlinecolor": "#2a3f5f",
             "gridcolor": "white",
             "linecolor": "white",
             "minorgridcolor": "white",
             "startlinecolor": "#2a3f5f"
            },
            "baxis": {
             "endlinecolor": "#2a3f5f",
             "gridcolor": "white",
             "linecolor": "white",
             "minorgridcolor": "white",
             "startlinecolor": "#2a3f5f"
            },
            "type": "carpet"
           }
          ],
          "choropleth": [
           {
            "colorbar": {
             "outlinewidth": 0,
             "ticks": ""
            },
            "type": "choropleth"
           }
          ],
          "contour": [
           {
            "colorbar": {
             "outlinewidth": 0,
             "ticks": ""
            },
            "colorscale": [
             [
              0,
              "#0d0887"
             ],
             [
              0.1111111111111111,
              "#46039f"
             ],
             [
              0.2222222222222222,
              "#7201a8"
             ],
             [
              0.3333333333333333,
              "#9c179e"
             ],
             [
              0.4444444444444444,
              "#bd3786"
             ],
             [
              0.5555555555555556,
              "#d8576b"
             ],
             [
              0.6666666666666666,
              "#ed7953"
             ],
             [
              0.7777777777777778,
              "#fb9f3a"
             ],
             [
              0.8888888888888888,
              "#fdca26"
             ],
             [
              1,
              "#f0f921"
             ]
            ],
            "type": "contour"
           }
          ],
          "contourcarpet": [
           {
            "colorbar": {
             "outlinewidth": 0,
             "ticks": ""
            },
            "type": "contourcarpet"
           }
          ],
          "heatmap": [
           {
            "colorbar": {
             "outlinewidth": 0,
             "ticks": ""
            },
            "colorscale": [
             [
              0,
              "#0d0887"
             ],
             [
              0.1111111111111111,
              "#46039f"
             ],
             [
              0.2222222222222222,
              "#7201a8"
             ],
             [
              0.3333333333333333,
              "#9c179e"
             ],
             [
              0.4444444444444444,
              "#bd3786"
             ],
             [
              0.5555555555555556,
              "#d8576b"
             ],
             [
              0.6666666666666666,
              "#ed7953"
             ],
             [
              0.7777777777777778,
              "#fb9f3a"
             ],
             [
              0.8888888888888888,
              "#fdca26"
             ],
             [
              1,
              "#f0f921"
             ]
            ],
            "type": "heatmap"
           }
          ],
          "heatmapgl": [
           {
            "colorbar": {
             "outlinewidth": 0,
             "ticks": ""
            },
            "colorscale": [
             [
              0,
              "#0d0887"
             ],
             [
              0.1111111111111111,
              "#46039f"
             ],
             [
              0.2222222222222222,
              "#7201a8"
             ],
             [
              0.3333333333333333,
              "#9c179e"
             ],
             [
              0.4444444444444444,
              "#bd3786"
             ],
             [
              0.5555555555555556,
              "#d8576b"
             ],
             [
              0.6666666666666666,
              "#ed7953"
             ],
             [
              0.7777777777777778,
              "#fb9f3a"
             ],
             [
              0.8888888888888888,
              "#fdca26"
             ],
             [
              1,
              "#f0f921"
             ]
            ],
            "type": "heatmapgl"
           }
          ],
          "histogram": [
           {
            "marker": {
             "colorbar": {
              "outlinewidth": 0,
              "ticks": ""
             }
            },
            "type": "histogram"
           }
          ],
          "histogram2d": [
           {
            "colorbar": {
             "outlinewidth": 0,
             "ticks": ""
            },
            "colorscale": [
             [
              0,
              "#0d0887"
             ],
             [
              0.1111111111111111,
              "#46039f"
             ],
             [
              0.2222222222222222,
              "#7201a8"
             ],
             [
              0.3333333333333333,
              "#9c179e"
             ],
             [
              0.4444444444444444,
              "#bd3786"
             ],
             [
              0.5555555555555556,
              "#d8576b"
             ],
             [
              0.6666666666666666,
              "#ed7953"
             ],
             [
              0.7777777777777778,
              "#fb9f3a"
             ],
             [
              0.8888888888888888,
              "#fdca26"
             ],
             [
              1,
              "#f0f921"
             ]
            ],
            "type": "histogram2d"
           }
          ],
          "histogram2dcontour": [
           {
            "colorbar": {
             "outlinewidth": 0,
             "ticks": ""
            },
            "colorscale": [
             [
              0,
              "#0d0887"
             ],
             [
              0.1111111111111111,
              "#46039f"
             ],
             [
              0.2222222222222222,
              "#7201a8"
             ],
             [
              0.3333333333333333,
              "#9c179e"
             ],
             [
              0.4444444444444444,
              "#bd3786"
             ],
             [
              0.5555555555555556,
              "#d8576b"
             ],
             [
              0.6666666666666666,
              "#ed7953"
             ],
             [
              0.7777777777777778,
              "#fb9f3a"
             ],
             [
              0.8888888888888888,
              "#fdca26"
             ],
             [
              1,
              "#f0f921"
             ]
            ],
            "type": "histogram2dcontour"
           }
          ],
          "mesh3d": [
           {
            "colorbar": {
             "outlinewidth": 0,
             "ticks": ""
            },
            "type": "mesh3d"
           }
          ],
          "parcoords": [
           {
            "line": {
             "colorbar": {
              "outlinewidth": 0,
              "ticks": ""
             }
            },
            "type": "parcoords"
           }
          ],
          "pie": [
           {
            "automargin": true,
            "type": "pie"
           }
          ],
          "scatter": [
           {
            "marker": {
             "colorbar": {
              "outlinewidth": 0,
              "ticks": ""
             }
            },
            "type": "scatter"
           }
          ],
          "scatter3d": [
           {
            "line": {
             "colorbar": {
              "outlinewidth": 0,
              "ticks": ""
             }
            },
            "marker": {
             "colorbar": {
              "outlinewidth": 0,
              "ticks": ""
             }
            },
            "type": "scatter3d"
           }
          ],
          "scattercarpet": [
           {
            "marker": {
             "colorbar": {
              "outlinewidth": 0,
              "ticks": ""
             }
            },
            "type": "scattercarpet"
           }
          ],
          "scattergeo": [
           {
            "marker": {
             "colorbar": {
              "outlinewidth": 0,
              "ticks": ""
             }
            },
            "type": "scattergeo"
           }
          ],
          "scattergl": [
           {
            "marker": {
             "colorbar": {
              "outlinewidth": 0,
              "ticks": ""
             }
            },
            "type": "scattergl"
           }
          ],
          "scattermapbox": [
           {
            "marker": {
             "colorbar": {
              "outlinewidth": 0,
              "ticks": ""
             }
            },
            "type": "scattermapbox"
           }
          ],
          "scatterpolar": [
           {
            "marker": {
             "colorbar": {
              "outlinewidth": 0,
              "ticks": ""
             }
            },
            "type": "scatterpolar"
           }
          ],
          "scatterpolargl": [
           {
            "marker": {
             "colorbar": {
              "outlinewidth": 0,
              "ticks": ""
             }
            },
            "type": "scatterpolargl"
           }
          ],
          "scatterternary": [
           {
            "marker": {
             "colorbar": {
              "outlinewidth": 0,
              "ticks": ""
             }
            },
            "type": "scatterternary"
           }
          ],
          "surface": [
           {
            "colorbar": {
             "outlinewidth": 0,
             "ticks": ""
            },
            "colorscale": [
             [
              0,
              "#0d0887"
             ],
             [
              0.1111111111111111,
              "#46039f"
             ],
             [
              0.2222222222222222,
              "#7201a8"
             ],
             [
              0.3333333333333333,
              "#9c179e"
             ],
             [
              0.4444444444444444,
              "#bd3786"
             ],
             [
              0.5555555555555556,
              "#d8576b"
             ],
             [
              0.6666666666666666,
              "#ed7953"
             ],
             [
              0.7777777777777778,
              "#fb9f3a"
             ],
             [
              0.8888888888888888,
              "#fdca26"
             ],
             [
              1,
              "#f0f921"
             ]
            ],
            "type": "surface"
           }
          ],
          "table": [
           {
            "cells": {
             "fill": {
              "color": "#EBF0F8"
             },
             "line": {
              "color": "white"
             }
            },
            "header": {
             "fill": {
              "color": "#C8D4E3"
             },
             "line": {
              "color": "white"
             }
            },
            "type": "table"
           }
          ]
         },
         "layout": {
          "annotationdefaults": {
           "arrowcolor": "#2a3f5f",
           "arrowhead": 0,
           "arrowwidth": 1
          },
          "coloraxis": {
           "colorbar": {
            "outlinewidth": 0,
            "ticks": ""
           }
          },
          "colorscale": {
           "diverging": [
            [
             0,
             "#8e0152"
            ],
            [
             0.1,
             "#c51b7d"
            ],
            [
             0.2,
             "#de77ae"
            ],
            [
             0.3,
             "#f1b6da"
            ],
            [
             0.4,
             "#fde0ef"
            ],
            [
             0.5,
             "#f7f7f7"
            ],
            [
             0.6,
             "#e6f5d0"
            ],
            [
             0.7,
             "#b8e186"
            ],
            [
             0.8,
             "#7fbc41"
            ],
            [
             0.9,
             "#4d9221"
            ],
            [
             1,
             "#276419"
            ]
           ],
           "sequential": [
            [
             0,
             "#0d0887"
            ],
            [
             0.1111111111111111,
             "#46039f"
            ],
            [
             0.2222222222222222,
             "#7201a8"
            ],
            [
             0.3333333333333333,
             "#9c179e"
            ],
            [
             0.4444444444444444,
             "#bd3786"
            ],
            [
             0.5555555555555556,
             "#d8576b"
            ],
            [
             0.6666666666666666,
             "#ed7953"
            ],
            [
             0.7777777777777778,
             "#fb9f3a"
            ],
            [
             0.8888888888888888,
             "#fdca26"
            ],
            [
             1,
             "#f0f921"
            ]
           ],
           "sequentialminus": [
            [
             0,
             "#0d0887"
            ],
            [
             0.1111111111111111,
             "#46039f"
            ],
            [
             0.2222222222222222,
             "#7201a8"
            ],
            [
             0.3333333333333333,
             "#9c179e"
            ],
            [
             0.4444444444444444,
             "#bd3786"
            ],
            [
             0.5555555555555556,
             "#d8576b"
            ],
            [
             0.6666666666666666,
             "#ed7953"
            ],
            [
             0.7777777777777778,
             "#fb9f3a"
            ],
            [
             0.8888888888888888,
             "#fdca26"
            ],
            [
             1,
             "#f0f921"
            ]
           ]
          },
          "colorway": [
           "#636efa",
           "#EF553B",
           "#00cc96",
           "#ab63fa",
           "#FFA15A",
           "#19d3f3",
           "#FF6692",
           "#B6E880",
           "#FF97FF",
           "#FECB52"
          ],
          "font": {
           "color": "#2a3f5f"
          },
          "geo": {
           "bgcolor": "white",
           "lakecolor": "white",
           "landcolor": "#E5ECF6",
           "showlakes": true,
           "showland": true,
           "subunitcolor": "white"
          },
          "hoverlabel": {
           "align": "left"
          },
          "hovermode": "closest",
          "mapbox": {
           "style": "light"
          },
          "paper_bgcolor": "white",
          "plot_bgcolor": "#E5ECF6",
          "polar": {
           "angularaxis": {
            "gridcolor": "white",
            "linecolor": "white",
            "ticks": ""
           },
           "bgcolor": "#E5ECF6",
           "radialaxis": {
            "gridcolor": "white",
            "linecolor": "white",
            "ticks": ""
           }
          },
          "scene": {
           "xaxis": {
            "backgroundcolor": "#E5ECF6",
            "gridcolor": "white",
            "gridwidth": 2,
            "linecolor": "white",
            "showbackground": true,
            "ticks": "",
            "zerolinecolor": "white"
           },
           "yaxis": {
            "backgroundcolor": "#E5ECF6",
            "gridcolor": "white",
            "gridwidth": 2,
            "linecolor": "white",
            "showbackground": true,
            "ticks": "",
            "zerolinecolor": "white"
           },
           "zaxis": {
            "backgroundcolor": "#E5ECF6",
            "gridcolor": "white",
            "gridwidth": 2,
            "linecolor": "white",
            "showbackground": true,
            "ticks": "",
            "zerolinecolor": "white"
           }
          },
          "shapedefaults": {
           "line": {
            "color": "#2a3f5f"
           }
          },
          "ternary": {
           "aaxis": {
            "gridcolor": "white",
            "linecolor": "white",
            "ticks": ""
           },
           "baxis": {
            "gridcolor": "white",
            "linecolor": "white",
            "ticks": ""
           },
           "bgcolor": "#E5ECF6",
           "caxis": {
            "gridcolor": "white",
            "linecolor": "white",
            "ticks": ""
           }
          },
          "title": {
           "x": 0.05
          },
          "xaxis": {
           "automargin": true,
           "gridcolor": "white",
           "linecolor": "white",
           "ticks": "",
           "title": {
            "standoff": 15
           },
           "zerolinecolor": "white",
           "zerolinewidth": 2
          },
          "yaxis": {
           "automargin": true,
           "gridcolor": "white",
           "linecolor": "white",
           "ticks": "",
           "title": {
            "standoff": 15
           },
           "zerolinecolor": "white",
           "zerolinewidth": 2
          }
         }
        },
        "title": {
         "font": {
          "color": "#4D5663"
         }
        },
        "xaxis": {
         "gridcolor": "#E1E5ED",
         "showgrid": true,
         "tickfont": {
          "color": "#4D5663"
         },
         "title": {
          "font": {
           "color": "#4D5663"
          },
          "text": ""
         },
         "zerolinecolor": "#E1E5ED"
        },
        "yaxis": {
         "gridcolor": "#E1E5ED",
         "showgrid": true,
         "tickfont": {
          "color": "#4D5663"
         },
         "title": {
          "font": {
           "color": "#4D5663"
          },
          "text": ""
         },
         "zerolinecolor": "#E1E5ED"
        }
       }
      },
      "text/html": [
       "<div>\n",
       "        \n",
       "        \n",
       "            <div id=\"9ad78150-9270-46e9-ac5e-6a6f18e8b272\" class=\"plotly-graph-div\" style=\"height:525px; width:100%;\"></div>\n",
       "            <script type=\"text/javascript\">\n",
       "                require([\"plotly\"], function(Plotly) {\n",
       "                    window.PLOTLYENV=window.PLOTLYENV || {};\n",
       "                    window.PLOTLYENV.BASE_URL='https://plot.ly';\n",
       "                    \n",
       "                if (document.getElementById(\"9ad78150-9270-46e9-ac5e-6a6f18e8b272\")) {\n",
       "                    Plotly.newPlot(\n",
       "                        '9ad78150-9270-46e9-ac5e-6a6f18e8b272',\n",
       "                        [{\"marker\": {\"color\": \"rgba(255, 153, 51, 0.6)\", \"line\": {\"color\": \"rgba(255, 153, 51, 1.0)\", \"width\": 1}}, \"name\": \"Values\", \"orientation\": \"v\", \"text\": \"\", \"type\": \"bar\", \"x\": [\"A\", \"B\", \"C\"], \"y\": [32, 43, 50]}],\n",
       "                        {\"legend\": {\"bgcolor\": \"#F5F6F9\", \"font\": {\"color\": \"#4D5663\"}}, \"paper_bgcolor\": \"#F5F6F9\", \"plot_bgcolor\": \"#F5F6F9\", \"template\": {\"data\": {\"bar\": [{\"error_x\": {\"color\": \"#2a3f5f\"}, \"error_y\": {\"color\": \"#2a3f5f\"}, \"marker\": {\"line\": {\"color\": \"#E5ECF6\", \"width\": 0.5}}, \"type\": \"bar\"}], \"barpolar\": [{\"marker\": {\"line\": {\"color\": \"#E5ECF6\", \"width\": 0.5}}, \"type\": \"barpolar\"}], \"carpet\": [{\"aaxis\": {\"endlinecolor\": \"#2a3f5f\", \"gridcolor\": \"white\", \"linecolor\": \"white\", \"minorgridcolor\": \"white\", \"startlinecolor\": \"#2a3f5f\"}, \"baxis\": {\"endlinecolor\": \"#2a3f5f\", \"gridcolor\": \"white\", \"linecolor\": \"white\", \"minorgridcolor\": \"white\", \"startlinecolor\": \"#2a3f5f\"}, \"type\": \"carpet\"}], \"choropleth\": [{\"colorbar\": {\"outlinewidth\": 0, \"ticks\": \"\"}, \"type\": \"choropleth\"}], \"contour\": [{\"colorbar\": {\"outlinewidth\": 0, \"ticks\": \"\"}, \"colorscale\": [[0.0, \"#0d0887\"], [0.1111111111111111, \"#46039f\"], [0.2222222222222222, \"#7201a8\"], [0.3333333333333333, \"#9c179e\"], [0.4444444444444444, \"#bd3786\"], [0.5555555555555556, \"#d8576b\"], [0.6666666666666666, \"#ed7953\"], [0.7777777777777778, \"#fb9f3a\"], [0.8888888888888888, \"#fdca26\"], [1.0, \"#f0f921\"]], \"type\": \"contour\"}], \"contourcarpet\": [{\"colorbar\": {\"outlinewidth\": 0, \"ticks\": \"\"}, \"type\": \"contourcarpet\"}], \"heatmap\": [{\"colorbar\": {\"outlinewidth\": 0, \"ticks\": \"\"}, \"colorscale\": [[0.0, \"#0d0887\"], [0.1111111111111111, \"#46039f\"], [0.2222222222222222, \"#7201a8\"], [0.3333333333333333, \"#9c179e\"], [0.4444444444444444, \"#bd3786\"], [0.5555555555555556, \"#d8576b\"], [0.6666666666666666, \"#ed7953\"], [0.7777777777777778, \"#fb9f3a\"], [0.8888888888888888, \"#fdca26\"], [1.0, \"#f0f921\"]], \"type\": \"heatmap\"}], \"heatmapgl\": [{\"colorbar\": {\"outlinewidth\": 0, \"ticks\": \"\"}, \"colorscale\": [[0.0, \"#0d0887\"], [0.1111111111111111, \"#46039f\"], [0.2222222222222222, \"#7201a8\"], [0.3333333333333333, \"#9c179e\"], [0.4444444444444444, \"#bd3786\"], [0.5555555555555556, \"#d8576b\"], [0.6666666666666666, \"#ed7953\"], [0.7777777777777778, \"#fb9f3a\"], [0.8888888888888888, \"#fdca26\"], [1.0, \"#f0f921\"]], \"type\": \"heatmapgl\"}], \"histogram\": [{\"marker\": {\"colorbar\": {\"outlinewidth\": 0, \"ticks\": \"\"}}, \"type\": \"histogram\"}], \"histogram2d\": [{\"colorbar\": {\"outlinewidth\": 0, \"ticks\": \"\"}, \"colorscale\": [[0.0, \"#0d0887\"], [0.1111111111111111, \"#46039f\"], [0.2222222222222222, \"#7201a8\"], [0.3333333333333333, \"#9c179e\"], [0.4444444444444444, \"#bd3786\"], [0.5555555555555556, \"#d8576b\"], [0.6666666666666666, \"#ed7953\"], [0.7777777777777778, \"#fb9f3a\"], [0.8888888888888888, \"#fdca26\"], [1.0, \"#f0f921\"]], \"type\": \"histogram2d\"}], \"histogram2dcontour\": [{\"colorbar\": {\"outlinewidth\": 0, \"ticks\": \"\"}, \"colorscale\": [[0.0, \"#0d0887\"], [0.1111111111111111, \"#46039f\"], [0.2222222222222222, \"#7201a8\"], [0.3333333333333333, \"#9c179e\"], [0.4444444444444444, \"#bd3786\"], [0.5555555555555556, \"#d8576b\"], [0.6666666666666666, \"#ed7953\"], [0.7777777777777778, \"#fb9f3a\"], [0.8888888888888888, \"#fdca26\"], [1.0, \"#f0f921\"]], \"type\": \"histogram2dcontour\"}], \"mesh3d\": [{\"colorbar\": {\"outlinewidth\": 0, \"ticks\": \"\"}, \"type\": \"mesh3d\"}], \"parcoords\": [{\"line\": {\"colorbar\": {\"outlinewidth\": 0, \"ticks\": \"\"}}, \"type\": \"parcoords\"}], \"pie\": [{\"automargin\": true, \"type\": \"pie\"}], \"scatter\": [{\"marker\": {\"colorbar\": {\"outlinewidth\": 0, \"ticks\": \"\"}}, \"type\": \"scatter\"}], \"scatter3d\": [{\"line\": {\"colorbar\": {\"outlinewidth\": 0, \"ticks\": \"\"}}, \"marker\": {\"colorbar\": {\"outlinewidth\": 0, \"ticks\": \"\"}}, \"type\": \"scatter3d\"}], \"scattercarpet\": [{\"marker\": {\"colorbar\": {\"outlinewidth\": 0, \"ticks\": \"\"}}, \"type\": \"scattercarpet\"}], \"scattergeo\": [{\"marker\": {\"colorbar\": {\"outlinewidth\": 0, \"ticks\": \"\"}}, \"type\": \"scattergeo\"}], \"scattergl\": [{\"marker\": {\"colorbar\": {\"outlinewidth\": 0, \"ticks\": \"\"}}, \"type\": \"scattergl\"}], \"scattermapbox\": [{\"marker\": {\"colorbar\": {\"outlinewidth\": 0, \"ticks\": \"\"}}, \"type\": \"scattermapbox\"}], \"scatterpolar\": [{\"marker\": {\"colorbar\": {\"outlinewidth\": 0, \"ticks\": \"\"}}, \"type\": \"scatterpolar\"}], \"scatterpolargl\": [{\"marker\": {\"colorbar\": {\"outlinewidth\": 0, \"ticks\": \"\"}}, \"type\": \"scatterpolargl\"}], \"scatterternary\": [{\"marker\": {\"colorbar\": {\"outlinewidth\": 0, \"ticks\": \"\"}}, \"type\": \"scatterternary\"}], \"surface\": [{\"colorbar\": {\"outlinewidth\": 0, \"ticks\": \"\"}, \"colorscale\": [[0.0, \"#0d0887\"], [0.1111111111111111, \"#46039f\"], [0.2222222222222222, \"#7201a8\"], [0.3333333333333333, \"#9c179e\"], [0.4444444444444444, \"#bd3786\"], [0.5555555555555556, \"#d8576b\"], [0.6666666666666666, \"#ed7953\"], [0.7777777777777778, \"#fb9f3a\"], [0.8888888888888888, \"#fdca26\"], [1.0, \"#f0f921\"]], \"type\": \"surface\"}], \"table\": [{\"cells\": {\"fill\": {\"color\": \"#EBF0F8\"}, \"line\": {\"color\": \"white\"}}, \"header\": {\"fill\": {\"color\": \"#C8D4E3\"}, \"line\": {\"color\": \"white\"}}, \"type\": \"table\"}]}, \"layout\": {\"annotationdefaults\": {\"arrowcolor\": \"#2a3f5f\", \"arrowhead\": 0, \"arrowwidth\": 1}, \"coloraxis\": {\"colorbar\": {\"outlinewidth\": 0, \"ticks\": \"\"}}, \"colorscale\": {\"diverging\": [[0, \"#8e0152\"], [0.1, \"#c51b7d\"], [0.2, \"#de77ae\"], [0.3, \"#f1b6da\"], [0.4, \"#fde0ef\"], [0.5, \"#f7f7f7\"], [0.6, \"#e6f5d0\"], [0.7, \"#b8e186\"], [0.8, \"#7fbc41\"], [0.9, \"#4d9221\"], [1, \"#276419\"]], \"sequential\": [[0.0, \"#0d0887\"], [0.1111111111111111, \"#46039f\"], [0.2222222222222222, \"#7201a8\"], [0.3333333333333333, \"#9c179e\"], [0.4444444444444444, \"#bd3786\"], [0.5555555555555556, \"#d8576b\"], [0.6666666666666666, \"#ed7953\"], [0.7777777777777778, \"#fb9f3a\"], [0.8888888888888888, \"#fdca26\"], [1.0, \"#f0f921\"]], \"sequentialminus\": [[0.0, \"#0d0887\"], [0.1111111111111111, \"#46039f\"], [0.2222222222222222, \"#7201a8\"], [0.3333333333333333, \"#9c179e\"], [0.4444444444444444, \"#bd3786\"], [0.5555555555555556, \"#d8576b\"], [0.6666666666666666, \"#ed7953\"], [0.7777777777777778, \"#fb9f3a\"], [0.8888888888888888, \"#fdca26\"], [1.0, \"#f0f921\"]]}, \"colorway\": [\"#636efa\", \"#EF553B\", \"#00cc96\", \"#ab63fa\", \"#FFA15A\", \"#19d3f3\", \"#FF6692\", \"#B6E880\", \"#FF97FF\", \"#FECB52\"], \"font\": {\"color\": \"#2a3f5f\"}, \"geo\": {\"bgcolor\": \"white\", \"lakecolor\": \"white\", \"landcolor\": \"#E5ECF6\", \"showlakes\": true, \"showland\": true, \"subunitcolor\": \"white\"}, \"hoverlabel\": {\"align\": \"left\"}, \"hovermode\": \"closest\", \"mapbox\": {\"style\": \"light\"}, \"paper_bgcolor\": \"white\", \"plot_bgcolor\": \"#E5ECF6\", \"polar\": {\"angularaxis\": {\"gridcolor\": \"white\", \"linecolor\": \"white\", \"ticks\": \"\"}, \"bgcolor\": \"#E5ECF6\", \"radialaxis\": {\"gridcolor\": \"white\", \"linecolor\": \"white\", \"ticks\": \"\"}}, \"scene\": {\"xaxis\": {\"backgroundcolor\": \"#E5ECF6\", \"gridcolor\": \"white\", \"gridwidth\": 2, \"linecolor\": \"white\", \"showbackground\": true, \"ticks\": \"\", \"zerolinecolor\": \"white\"}, \"yaxis\": {\"backgroundcolor\": \"#E5ECF6\", \"gridcolor\": \"white\", \"gridwidth\": 2, \"linecolor\": \"white\", \"showbackground\": true, \"ticks\": \"\", \"zerolinecolor\": \"white\"}, \"zaxis\": {\"backgroundcolor\": \"#E5ECF6\", \"gridcolor\": \"white\", \"gridwidth\": 2, \"linecolor\": \"white\", \"showbackground\": true, \"ticks\": \"\", \"zerolinecolor\": \"white\"}}, \"shapedefaults\": {\"line\": {\"color\": \"#2a3f5f\"}}, \"ternary\": {\"aaxis\": {\"gridcolor\": \"white\", \"linecolor\": \"white\", \"ticks\": \"\"}, \"baxis\": {\"gridcolor\": \"white\", \"linecolor\": \"white\", \"ticks\": \"\"}, \"bgcolor\": \"#E5ECF6\", \"caxis\": {\"gridcolor\": \"white\", \"linecolor\": \"white\", \"ticks\": \"\"}}, \"title\": {\"x\": 0.05}, \"xaxis\": {\"automargin\": true, \"gridcolor\": \"white\", \"linecolor\": \"white\", \"ticks\": \"\", \"title\": {\"standoff\": 15}, \"zerolinecolor\": \"white\", \"zerolinewidth\": 2}, \"yaxis\": {\"automargin\": true, \"gridcolor\": \"white\", \"linecolor\": \"white\", \"ticks\": \"\", \"title\": {\"standoff\": 15}, \"zerolinecolor\": \"white\", \"zerolinewidth\": 2}}}, \"title\": {\"font\": {\"color\": \"#4D5663\"}}, \"xaxis\": {\"gridcolor\": \"#E1E5ED\", \"showgrid\": true, \"tickfont\": {\"color\": \"#4D5663\"}, \"title\": {\"font\": {\"color\": \"#4D5663\"}, \"text\": \"\"}, \"zerolinecolor\": \"#E1E5ED\"}, \"yaxis\": {\"gridcolor\": \"#E1E5ED\", \"showgrid\": true, \"tickfont\": {\"color\": \"#4D5663\"}, \"title\": {\"font\": {\"color\": \"#4D5663\"}, \"text\": \"\"}, \"zerolinecolor\": \"#E1E5ED\"}},\n",
       "                        {\"showLink\": true, \"linkText\": \"Export to plot.ly\", \"plotlyServerURL\": \"https://plot.ly\", \"responsive\": true}\n",
       "                    ).then(function(){\n",
       "                            \n",
       "var gd = document.getElementById('9ad78150-9270-46e9-ac5e-6a6f18e8b272');\n",
       "var x = new MutationObserver(function (mutations, observer) {{\n",
       "        var display = window.getComputedStyle(gd).display;\n",
       "        if (!display || display === 'none') {{\n",
       "            console.log([gd, 'removed!']);\n",
       "            Plotly.purge(gd);\n",
       "            observer.disconnect();\n",
       "        }}\n",
       "}});\n",
       "\n",
       "// Listen for the removal of the full notebook cells\n",
       "var notebookContainer = gd.closest('#notebook-container');\n",
       "if (notebookContainer) {{\n",
       "    x.observe(notebookContainer, {childList: true});\n",
       "}}\n",
       "\n",
       "// Listen for the clearing of the current output cell\n",
       "var outputEl = gd.closest('.output');\n",
       "if (outputEl) {{\n",
       "    x.observe(outputEl, {childList: true});\n",
       "}}\n",
       "\n",
       "                        })\n",
       "                };\n",
       "                });\n",
       "            </script>\n",
       "        </div>"
      ]
     },
     "metadata": {},
     "output_type": "display_data"
    }
   ],
   "source": [
    "df2.iplot(kind='bar',x='Category',y='Values')"
   ]
  },
  {
   "cell_type": "code",
   "execution_count": 13,
   "metadata": {},
   "outputs": [
    {
     "data": {
      "application/vnd.plotly.v1+json": {
       "config": {
        "linkText": "Export to plot.ly",
        "plotlyServerURL": "https://plot.ly",
        "showLink": true
       },
       "data": [
        {
         "marker": {
          "color": "rgba(255, 153, 51, 0.6)",
          "line": {
           "color": "rgba(255, 153, 51, 1.0)",
           "width": 1
          }
         },
         "name": "None",
         "orientation": "v",
         "text": "",
         "type": "bar",
         "x": [
          "A",
          "B",
          "C",
          "D"
         ],
         "y": [
          100,
          100,
          100,
          100
         ]
        }
       ],
       "layout": {
        "legend": {
         "bgcolor": "#F5F6F9",
         "font": {
          "color": "#4D5663"
         }
        },
        "paper_bgcolor": "#F5F6F9",
        "plot_bgcolor": "#F5F6F9",
        "template": {
         "data": {
          "bar": [
           {
            "error_x": {
             "color": "#2a3f5f"
            },
            "error_y": {
             "color": "#2a3f5f"
            },
            "marker": {
             "line": {
              "color": "#E5ECF6",
              "width": 0.5
             }
            },
            "type": "bar"
           }
          ],
          "barpolar": [
           {
            "marker": {
             "line": {
              "color": "#E5ECF6",
              "width": 0.5
             }
            },
            "type": "barpolar"
           }
          ],
          "carpet": [
           {
            "aaxis": {
             "endlinecolor": "#2a3f5f",
             "gridcolor": "white",
             "linecolor": "white",
             "minorgridcolor": "white",
             "startlinecolor": "#2a3f5f"
            },
            "baxis": {
             "endlinecolor": "#2a3f5f",
             "gridcolor": "white",
             "linecolor": "white",
             "minorgridcolor": "white",
             "startlinecolor": "#2a3f5f"
            },
            "type": "carpet"
           }
          ],
          "choropleth": [
           {
            "colorbar": {
             "outlinewidth": 0,
             "ticks": ""
            },
            "type": "choropleth"
           }
          ],
          "contour": [
           {
            "colorbar": {
             "outlinewidth": 0,
             "ticks": ""
            },
            "colorscale": [
             [
              0,
              "#0d0887"
             ],
             [
              0.1111111111111111,
              "#46039f"
             ],
             [
              0.2222222222222222,
              "#7201a8"
             ],
             [
              0.3333333333333333,
              "#9c179e"
             ],
             [
              0.4444444444444444,
              "#bd3786"
             ],
             [
              0.5555555555555556,
              "#d8576b"
             ],
             [
              0.6666666666666666,
              "#ed7953"
             ],
             [
              0.7777777777777778,
              "#fb9f3a"
             ],
             [
              0.8888888888888888,
              "#fdca26"
             ],
             [
              1,
              "#f0f921"
             ]
            ],
            "type": "contour"
           }
          ],
          "contourcarpet": [
           {
            "colorbar": {
             "outlinewidth": 0,
             "ticks": ""
            },
            "type": "contourcarpet"
           }
          ],
          "heatmap": [
           {
            "colorbar": {
             "outlinewidth": 0,
             "ticks": ""
            },
            "colorscale": [
             [
              0,
              "#0d0887"
             ],
             [
              0.1111111111111111,
              "#46039f"
             ],
             [
              0.2222222222222222,
              "#7201a8"
             ],
             [
              0.3333333333333333,
              "#9c179e"
             ],
             [
              0.4444444444444444,
              "#bd3786"
             ],
             [
              0.5555555555555556,
              "#d8576b"
             ],
             [
              0.6666666666666666,
              "#ed7953"
             ],
             [
              0.7777777777777778,
              "#fb9f3a"
             ],
             [
              0.8888888888888888,
              "#fdca26"
             ],
             [
              1,
              "#f0f921"
             ]
            ],
            "type": "heatmap"
           }
          ],
          "heatmapgl": [
           {
            "colorbar": {
             "outlinewidth": 0,
             "ticks": ""
            },
            "colorscale": [
             [
              0,
              "#0d0887"
             ],
             [
              0.1111111111111111,
              "#46039f"
             ],
             [
              0.2222222222222222,
              "#7201a8"
             ],
             [
              0.3333333333333333,
              "#9c179e"
             ],
             [
              0.4444444444444444,
              "#bd3786"
             ],
             [
              0.5555555555555556,
              "#d8576b"
             ],
             [
              0.6666666666666666,
              "#ed7953"
             ],
             [
              0.7777777777777778,
              "#fb9f3a"
             ],
             [
              0.8888888888888888,
              "#fdca26"
             ],
             [
              1,
              "#f0f921"
             ]
            ],
            "type": "heatmapgl"
           }
          ],
          "histogram": [
           {
            "marker": {
             "colorbar": {
              "outlinewidth": 0,
              "ticks": ""
             }
            },
            "type": "histogram"
           }
          ],
          "histogram2d": [
           {
            "colorbar": {
             "outlinewidth": 0,
             "ticks": ""
            },
            "colorscale": [
             [
              0,
              "#0d0887"
             ],
             [
              0.1111111111111111,
              "#46039f"
             ],
             [
              0.2222222222222222,
              "#7201a8"
             ],
             [
              0.3333333333333333,
              "#9c179e"
             ],
             [
              0.4444444444444444,
              "#bd3786"
             ],
             [
              0.5555555555555556,
              "#d8576b"
             ],
             [
              0.6666666666666666,
              "#ed7953"
             ],
             [
              0.7777777777777778,
              "#fb9f3a"
             ],
             [
              0.8888888888888888,
              "#fdca26"
             ],
             [
              1,
              "#f0f921"
             ]
            ],
            "type": "histogram2d"
           }
          ],
          "histogram2dcontour": [
           {
            "colorbar": {
             "outlinewidth": 0,
             "ticks": ""
            },
            "colorscale": [
             [
              0,
              "#0d0887"
             ],
             [
              0.1111111111111111,
              "#46039f"
             ],
             [
              0.2222222222222222,
              "#7201a8"
             ],
             [
              0.3333333333333333,
              "#9c179e"
             ],
             [
              0.4444444444444444,
              "#bd3786"
             ],
             [
              0.5555555555555556,
              "#d8576b"
             ],
             [
              0.6666666666666666,
              "#ed7953"
             ],
             [
              0.7777777777777778,
              "#fb9f3a"
             ],
             [
              0.8888888888888888,
              "#fdca26"
             ],
             [
              1,
              "#f0f921"
             ]
            ],
            "type": "histogram2dcontour"
           }
          ],
          "mesh3d": [
           {
            "colorbar": {
             "outlinewidth": 0,
             "ticks": ""
            },
            "type": "mesh3d"
           }
          ],
          "parcoords": [
           {
            "line": {
             "colorbar": {
              "outlinewidth": 0,
              "ticks": ""
             }
            },
            "type": "parcoords"
           }
          ],
          "pie": [
           {
            "automargin": true,
            "type": "pie"
           }
          ],
          "scatter": [
           {
            "marker": {
             "colorbar": {
              "outlinewidth": 0,
              "ticks": ""
             }
            },
            "type": "scatter"
           }
          ],
          "scatter3d": [
           {
            "line": {
             "colorbar": {
              "outlinewidth": 0,
              "ticks": ""
             }
            },
            "marker": {
             "colorbar": {
              "outlinewidth": 0,
              "ticks": ""
             }
            },
            "type": "scatter3d"
           }
          ],
          "scattercarpet": [
           {
            "marker": {
             "colorbar": {
              "outlinewidth": 0,
              "ticks": ""
             }
            },
            "type": "scattercarpet"
           }
          ],
          "scattergeo": [
           {
            "marker": {
             "colorbar": {
              "outlinewidth": 0,
              "ticks": ""
             }
            },
            "type": "scattergeo"
           }
          ],
          "scattergl": [
           {
            "marker": {
             "colorbar": {
              "outlinewidth": 0,
              "ticks": ""
             }
            },
            "type": "scattergl"
           }
          ],
          "scattermapbox": [
           {
            "marker": {
             "colorbar": {
              "outlinewidth": 0,
              "ticks": ""
             }
            },
            "type": "scattermapbox"
           }
          ],
          "scatterpolar": [
           {
            "marker": {
             "colorbar": {
              "outlinewidth": 0,
              "ticks": ""
             }
            },
            "type": "scatterpolar"
           }
          ],
          "scatterpolargl": [
           {
            "marker": {
             "colorbar": {
              "outlinewidth": 0,
              "ticks": ""
             }
            },
            "type": "scatterpolargl"
           }
          ],
          "scatterternary": [
           {
            "marker": {
             "colorbar": {
              "outlinewidth": 0,
              "ticks": ""
             }
            },
            "type": "scatterternary"
           }
          ],
          "surface": [
           {
            "colorbar": {
             "outlinewidth": 0,
             "ticks": ""
            },
            "colorscale": [
             [
              0,
              "#0d0887"
             ],
             [
              0.1111111111111111,
              "#46039f"
             ],
             [
              0.2222222222222222,
              "#7201a8"
             ],
             [
              0.3333333333333333,
              "#9c179e"
             ],
             [
              0.4444444444444444,
              "#bd3786"
             ],
             [
              0.5555555555555556,
              "#d8576b"
             ],
             [
              0.6666666666666666,
              "#ed7953"
             ],
             [
              0.7777777777777778,
              "#fb9f3a"
             ],
             [
              0.8888888888888888,
              "#fdca26"
             ],
             [
              1,
              "#f0f921"
             ]
            ],
            "type": "surface"
           }
          ],
          "table": [
           {
            "cells": {
             "fill": {
              "color": "#EBF0F8"
             },
             "line": {
              "color": "white"
             }
            },
            "header": {
             "fill": {
              "color": "#C8D4E3"
             },
             "line": {
              "color": "white"
             }
            },
            "type": "table"
           }
          ]
         },
         "layout": {
          "annotationdefaults": {
           "arrowcolor": "#2a3f5f",
           "arrowhead": 0,
           "arrowwidth": 1
          },
          "coloraxis": {
           "colorbar": {
            "outlinewidth": 0,
            "ticks": ""
           }
          },
          "colorscale": {
           "diverging": [
            [
             0,
             "#8e0152"
            ],
            [
             0.1,
             "#c51b7d"
            ],
            [
             0.2,
             "#de77ae"
            ],
            [
             0.3,
             "#f1b6da"
            ],
            [
             0.4,
             "#fde0ef"
            ],
            [
             0.5,
             "#f7f7f7"
            ],
            [
             0.6,
             "#e6f5d0"
            ],
            [
             0.7,
             "#b8e186"
            ],
            [
             0.8,
             "#7fbc41"
            ],
            [
             0.9,
             "#4d9221"
            ],
            [
             1,
             "#276419"
            ]
           ],
           "sequential": [
            [
             0,
             "#0d0887"
            ],
            [
             0.1111111111111111,
             "#46039f"
            ],
            [
             0.2222222222222222,
             "#7201a8"
            ],
            [
             0.3333333333333333,
             "#9c179e"
            ],
            [
             0.4444444444444444,
             "#bd3786"
            ],
            [
             0.5555555555555556,
             "#d8576b"
            ],
            [
             0.6666666666666666,
             "#ed7953"
            ],
            [
             0.7777777777777778,
             "#fb9f3a"
            ],
            [
             0.8888888888888888,
             "#fdca26"
            ],
            [
             1,
             "#f0f921"
            ]
           ],
           "sequentialminus": [
            [
             0,
             "#0d0887"
            ],
            [
             0.1111111111111111,
             "#46039f"
            ],
            [
             0.2222222222222222,
             "#7201a8"
            ],
            [
             0.3333333333333333,
             "#9c179e"
            ],
            [
             0.4444444444444444,
             "#bd3786"
            ],
            [
             0.5555555555555556,
             "#d8576b"
            ],
            [
             0.6666666666666666,
             "#ed7953"
            ],
            [
             0.7777777777777778,
             "#fb9f3a"
            ],
            [
             0.8888888888888888,
             "#fdca26"
            ],
            [
             1,
             "#f0f921"
            ]
           ]
          },
          "colorway": [
           "#636efa",
           "#EF553B",
           "#00cc96",
           "#ab63fa",
           "#FFA15A",
           "#19d3f3",
           "#FF6692",
           "#B6E880",
           "#FF97FF",
           "#FECB52"
          ],
          "font": {
           "color": "#2a3f5f"
          },
          "geo": {
           "bgcolor": "white",
           "lakecolor": "white",
           "landcolor": "#E5ECF6",
           "showlakes": true,
           "showland": true,
           "subunitcolor": "white"
          },
          "hoverlabel": {
           "align": "left"
          },
          "hovermode": "closest",
          "mapbox": {
           "style": "light"
          },
          "paper_bgcolor": "white",
          "plot_bgcolor": "#E5ECF6",
          "polar": {
           "angularaxis": {
            "gridcolor": "white",
            "linecolor": "white",
            "ticks": ""
           },
           "bgcolor": "#E5ECF6",
           "radialaxis": {
            "gridcolor": "white",
            "linecolor": "white",
            "ticks": ""
           }
          },
          "scene": {
           "xaxis": {
            "backgroundcolor": "#E5ECF6",
            "gridcolor": "white",
            "gridwidth": 2,
            "linecolor": "white",
            "showbackground": true,
            "ticks": "",
            "zerolinecolor": "white"
           },
           "yaxis": {
            "backgroundcolor": "#E5ECF6",
            "gridcolor": "white",
            "gridwidth": 2,
            "linecolor": "white",
            "showbackground": true,
            "ticks": "",
            "zerolinecolor": "white"
           },
           "zaxis": {
            "backgroundcolor": "#E5ECF6",
            "gridcolor": "white",
            "gridwidth": 2,
            "linecolor": "white",
            "showbackground": true,
            "ticks": "",
            "zerolinecolor": "white"
           }
          },
          "shapedefaults": {
           "line": {
            "color": "#2a3f5f"
           }
          },
          "ternary": {
           "aaxis": {
            "gridcolor": "white",
            "linecolor": "white",
            "ticks": ""
           },
           "baxis": {
            "gridcolor": "white",
            "linecolor": "white",
            "ticks": ""
           },
           "bgcolor": "#E5ECF6",
           "caxis": {
            "gridcolor": "white",
            "linecolor": "white",
            "ticks": ""
           }
          },
          "title": {
           "x": 0.05
          },
          "xaxis": {
           "automargin": true,
           "gridcolor": "white",
           "linecolor": "white",
           "ticks": "",
           "title": {
            "standoff": 15
           },
           "zerolinecolor": "white",
           "zerolinewidth": 2
          },
          "yaxis": {
           "automargin": true,
           "gridcolor": "white",
           "linecolor": "white",
           "ticks": "",
           "title": {
            "standoff": 15
           },
           "zerolinecolor": "white",
           "zerolinewidth": 2
          }
         }
        },
        "title": {
         "font": {
          "color": "#4D5663"
         }
        },
        "xaxis": {
         "gridcolor": "#E1E5ED",
         "showgrid": true,
         "tickfont": {
          "color": "#4D5663"
         },
         "title": {
          "font": {
           "color": "#4D5663"
          },
          "text": ""
         },
         "zerolinecolor": "#E1E5ED"
        },
        "yaxis": {
         "gridcolor": "#E1E5ED",
         "showgrid": true,
         "tickfont": {
          "color": "#4D5663"
         },
         "title": {
          "font": {
           "color": "#4D5663"
          },
          "text": ""
         },
         "zerolinecolor": "#E1E5ED"
        }
       }
      },
      "text/html": [
       "<div>\n",
       "        \n",
       "        \n",
       "            <div id=\"2bba8d0c-4244-4de6-a031-588025b7b76e\" class=\"plotly-graph-div\" style=\"height:525px; width:100%;\"></div>\n",
       "            <script type=\"text/javascript\">\n",
       "                require([\"plotly\"], function(Plotly) {\n",
       "                    window.PLOTLYENV=window.PLOTLYENV || {};\n",
       "                    window.PLOTLYENV.BASE_URL='https://plot.ly';\n",
       "                    \n",
       "                if (document.getElementById(\"2bba8d0c-4244-4de6-a031-588025b7b76e\")) {\n",
       "                    Plotly.newPlot(\n",
       "                        '2bba8d0c-4244-4de6-a031-588025b7b76e',\n",
       "                        [{\"marker\": {\"color\": \"rgba(255, 153, 51, 0.6)\", \"line\": {\"color\": \"rgba(255, 153, 51, 1.0)\", \"width\": 1}}, \"name\": \"None\", \"orientation\": \"v\", \"text\": \"\", \"type\": \"bar\", \"x\": [\"A\", \"B\", \"C\", \"D\"], \"y\": [100, 100, 100, 100]}],\n",
       "                        {\"legend\": {\"bgcolor\": \"#F5F6F9\", \"font\": {\"color\": \"#4D5663\"}}, \"paper_bgcolor\": \"#F5F6F9\", \"plot_bgcolor\": \"#F5F6F9\", \"template\": {\"data\": {\"bar\": [{\"error_x\": {\"color\": \"#2a3f5f\"}, \"error_y\": {\"color\": \"#2a3f5f\"}, \"marker\": {\"line\": {\"color\": \"#E5ECF6\", \"width\": 0.5}}, \"type\": \"bar\"}], \"barpolar\": [{\"marker\": {\"line\": {\"color\": \"#E5ECF6\", \"width\": 0.5}}, \"type\": \"barpolar\"}], \"carpet\": [{\"aaxis\": {\"endlinecolor\": \"#2a3f5f\", \"gridcolor\": \"white\", \"linecolor\": \"white\", \"minorgridcolor\": \"white\", \"startlinecolor\": \"#2a3f5f\"}, \"baxis\": {\"endlinecolor\": \"#2a3f5f\", \"gridcolor\": \"white\", \"linecolor\": \"white\", \"minorgridcolor\": \"white\", \"startlinecolor\": \"#2a3f5f\"}, \"type\": \"carpet\"}], \"choropleth\": [{\"colorbar\": {\"outlinewidth\": 0, \"ticks\": \"\"}, \"type\": \"choropleth\"}], \"contour\": [{\"colorbar\": {\"outlinewidth\": 0, \"ticks\": \"\"}, \"colorscale\": [[0.0, \"#0d0887\"], [0.1111111111111111, \"#46039f\"], [0.2222222222222222, \"#7201a8\"], [0.3333333333333333, \"#9c179e\"], [0.4444444444444444, \"#bd3786\"], [0.5555555555555556, \"#d8576b\"], [0.6666666666666666, \"#ed7953\"], [0.7777777777777778, \"#fb9f3a\"], [0.8888888888888888, \"#fdca26\"], [1.0, \"#f0f921\"]], \"type\": \"contour\"}], \"contourcarpet\": [{\"colorbar\": {\"outlinewidth\": 0, \"ticks\": \"\"}, \"type\": \"contourcarpet\"}], \"heatmap\": [{\"colorbar\": {\"outlinewidth\": 0, \"ticks\": \"\"}, \"colorscale\": [[0.0, \"#0d0887\"], [0.1111111111111111, \"#46039f\"], [0.2222222222222222, \"#7201a8\"], [0.3333333333333333, \"#9c179e\"], [0.4444444444444444, \"#bd3786\"], [0.5555555555555556, \"#d8576b\"], [0.6666666666666666, \"#ed7953\"], [0.7777777777777778, \"#fb9f3a\"], [0.8888888888888888, \"#fdca26\"], [1.0, \"#f0f921\"]], \"type\": \"heatmap\"}], \"heatmapgl\": [{\"colorbar\": {\"outlinewidth\": 0, \"ticks\": \"\"}, \"colorscale\": [[0.0, \"#0d0887\"], [0.1111111111111111, \"#46039f\"], [0.2222222222222222, \"#7201a8\"], [0.3333333333333333, \"#9c179e\"], [0.4444444444444444, \"#bd3786\"], [0.5555555555555556, \"#d8576b\"], [0.6666666666666666, \"#ed7953\"], [0.7777777777777778, \"#fb9f3a\"], [0.8888888888888888, \"#fdca26\"], [1.0, \"#f0f921\"]], \"type\": \"heatmapgl\"}], \"histogram\": [{\"marker\": {\"colorbar\": {\"outlinewidth\": 0, \"ticks\": \"\"}}, \"type\": \"histogram\"}], \"histogram2d\": [{\"colorbar\": {\"outlinewidth\": 0, \"ticks\": \"\"}, \"colorscale\": [[0.0, \"#0d0887\"], [0.1111111111111111, \"#46039f\"], [0.2222222222222222, \"#7201a8\"], [0.3333333333333333, \"#9c179e\"], [0.4444444444444444, \"#bd3786\"], [0.5555555555555556, \"#d8576b\"], [0.6666666666666666, \"#ed7953\"], [0.7777777777777778, \"#fb9f3a\"], [0.8888888888888888, \"#fdca26\"], [1.0, \"#f0f921\"]], \"type\": \"histogram2d\"}], \"histogram2dcontour\": [{\"colorbar\": {\"outlinewidth\": 0, \"ticks\": \"\"}, \"colorscale\": [[0.0, \"#0d0887\"], [0.1111111111111111, \"#46039f\"], [0.2222222222222222, \"#7201a8\"], [0.3333333333333333, \"#9c179e\"], [0.4444444444444444, \"#bd3786\"], [0.5555555555555556, \"#d8576b\"], [0.6666666666666666, \"#ed7953\"], [0.7777777777777778, \"#fb9f3a\"], [0.8888888888888888, \"#fdca26\"], [1.0, \"#f0f921\"]], \"type\": \"histogram2dcontour\"}], \"mesh3d\": [{\"colorbar\": {\"outlinewidth\": 0, \"ticks\": \"\"}, \"type\": \"mesh3d\"}], \"parcoords\": [{\"line\": {\"colorbar\": {\"outlinewidth\": 0, \"ticks\": \"\"}}, \"type\": \"parcoords\"}], \"pie\": [{\"automargin\": true, \"type\": \"pie\"}], \"scatter\": [{\"marker\": {\"colorbar\": {\"outlinewidth\": 0, \"ticks\": \"\"}}, \"type\": \"scatter\"}], \"scatter3d\": [{\"line\": {\"colorbar\": {\"outlinewidth\": 0, \"ticks\": \"\"}}, \"marker\": {\"colorbar\": {\"outlinewidth\": 0, \"ticks\": \"\"}}, \"type\": \"scatter3d\"}], \"scattercarpet\": [{\"marker\": {\"colorbar\": {\"outlinewidth\": 0, \"ticks\": \"\"}}, \"type\": \"scattercarpet\"}], \"scattergeo\": [{\"marker\": {\"colorbar\": {\"outlinewidth\": 0, \"ticks\": \"\"}}, \"type\": \"scattergeo\"}], \"scattergl\": [{\"marker\": {\"colorbar\": {\"outlinewidth\": 0, \"ticks\": \"\"}}, \"type\": \"scattergl\"}], \"scattermapbox\": [{\"marker\": {\"colorbar\": {\"outlinewidth\": 0, \"ticks\": \"\"}}, \"type\": \"scattermapbox\"}], \"scatterpolar\": [{\"marker\": {\"colorbar\": {\"outlinewidth\": 0, \"ticks\": \"\"}}, \"type\": \"scatterpolar\"}], \"scatterpolargl\": [{\"marker\": {\"colorbar\": {\"outlinewidth\": 0, \"ticks\": \"\"}}, \"type\": \"scatterpolargl\"}], \"scatterternary\": [{\"marker\": {\"colorbar\": {\"outlinewidth\": 0, \"ticks\": \"\"}}, \"type\": \"scatterternary\"}], \"surface\": [{\"colorbar\": {\"outlinewidth\": 0, \"ticks\": \"\"}, \"colorscale\": [[0.0, \"#0d0887\"], [0.1111111111111111, \"#46039f\"], [0.2222222222222222, \"#7201a8\"], [0.3333333333333333, \"#9c179e\"], [0.4444444444444444, \"#bd3786\"], [0.5555555555555556, \"#d8576b\"], [0.6666666666666666, \"#ed7953\"], [0.7777777777777778, \"#fb9f3a\"], [0.8888888888888888, \"#fdca26\"], [1.0, \"#f0f921\"]], \"type\": \"surface\"}], \"table\": [{\"cells\": {\"fill\": {\"color\": \"#EBF0F8\"}, \"line\": {\"color\": \"white\"}}, \"header\": {\"fill\": {\"color\": \"#C8D4E3\"}, \"line\": {\"color\": \"white\"}}, \"type\": \"table\"}]}, \"layout\": {\"annotationdefaults\": {\"arrowcolor\": \"#2a3f5f\", \"arrowhead\": 0, \"arrowwidth\": 1}, \"coloraxis\": {\"colorbar\": {\"outlinewidth\": 0, \"ticks\": \"\"}}, \"colorscale\": {\"diverging\": [[0, \"#8e0152\"], [0.1, \"#c51b7d\"], [0.2, \"#de77ae\"], [0.3, \"#f1b6da\"], [0.4, \"#fde0ef\"], [0.5, \"#f7f7f7\"], [0.6, \"#e6f5d0\"], [0.7, \"#b8e186\"], [0.8, \"#7fbc41\"], [0.9, \"#4d9221\"], [1, \"#276419\"]], \"sequential\": [[0.0, \"#0d0887\"], [0.1111111111111111, \"#46039f\"], [0.2222222222222222, \"#7201a8\"], [0.3333333333333333, \"#9c179e\"], [0.4444444444444444, \"#bd3786\"], [0.5555555555555556, \"#d8576b\"], [0.6666666666666666, \"#ed7953\"], [0.7777777777777778, \"#fb9f3a\"], [0.8888888888888888, \"#fdca26\"], [1.0, \"#f0f921\"]], \"sequentialminus\": [[0.0, \"#0d0887\"], [0.1111111111111111, \"#46039f\"], [0.2222222222222222, \"#7201a8\"], [0.3333333333333333, \"#9c179e\"], [0.4444444444444444, \"#bd3786\"], [0.5555555555555556, \"#d8576b\"], [0.6666666666666666, \"#ed7953\"], [0.7777777777777778, \"#fb9f3a\"], [0.8888888888888888, \"#fdca26\"], [1.0, \"#f0f921\"]]}, \"colorway\": [\"#636efa\", \"#EF553B\", \"#00cc96\", \"#ab63fa\", \"#FFA15A\", \"#19d3f3\", \"#FF6692\", \"#B6E880\", \"#FF97FF\", \"#FECB52\"], \"font\": {\"color\": \"#2a3f5f\"}, \"geo\": {\"bgcolor\": \"white\", \"lakecolor\": \"white\", \"landcolor\": \"#E5ECF6\", \"showlakes\": true, \"showland\": true, \"subunitcolor\": \"white\"}, \"hoverlabel\": {\"align\": \"left\"}, \"hovermode\": \"closest\", \"mapbox\": {\"style\": \"light\"}, \"paper_bgcolor\": \"white\", \"plot_bgcolor\": \"#E5ECF6\", \"polar\": {\"angularaxis\": {\"gridcolor\": \"white\", \"linecolor\": \"white\", \"ticks\": \"\"}, \"bgcolor\": \"#E5ECF6\", \"radialaxis\": {\"gridcolor\": \"white\", \"linecolor\": \"white\", \"ticks\": \"\"}}, \"scene\": {\"xaxis\": {\"backgroundcolor\": \"#E5ECF6\", \"gridcolor\": \"white\", \"gridwidth\": 2, \"linecolor\": \"white\", \"showbackground\": true, \"ticks\": \"\", \"zerolinecolor\": \"white\"}, \"yaxis\": {\"backgroundcolor\": \"#E5ECF6\", \"gridcolor\": \"white\", \"gridwidth\": 2, \"linecolor\": \"white\", \"showbackground\": true, \"ticks\": \"\", \"zerolinecolor\": \"white\"}, \"zaxis\": {\"backgroundcolor\": \"#E5ECF6\", \"gridcolor\": \"white\", \"gridwidth\": 2, \"linecolor\": \"white\", \"showbackground\": true, \"ticks\": \"\", \"zerolinecolor\": \"white\"}}, \"shapedefaults\": {\"line\": {\"color\": \"#2a3f5f\"}}, \"ternary\": {\"aaxis\": {\"gridcolor\": \"white\", \"linecolor\": \"white\", \"ticks\": \"\"}, \"baxis\": {\"gridcolor\": \"white\", \"linecolor\": \"white\", \"ticks\": \"\"}, \"bgcolor\": \"#E5ECF6\", \"caxis\": {\"gridcolor\": \"white\", \"linecolor\": \"white\", \"ticks\": \"\"}}, \"title\": {\"x\": 0.05}, \"xaxis\": {\"automargin\": true, \"gridcolor\": \"white\", \"linecolor\": \"white\", \"ticks\": \"\", \"title\": {\"standoff\": 15}, \"zerolinecolor\": \"white\", \"zerolinewidth\": 2}, \"yaxis\": {\"automargin\": true, \"gridcolor\": \"white\", \"linecolor\": \"white\", \"ticks\": \"\", \"title\": {\"standoff\": 15}, \"zerolinecolor\": \"white\", \"zerolinewidth\": 2}}}, \"title\": {\"font\": {\"color\": \"#4D5663\"}}, \"xaxis\": {\"gridcolor\": \"#E1E5ED\", \"showgrid\": true, \"tickfont\": {\"color\": \"#4D5663\"}, \"title\": {\"font\": {\"color\": \"#4D5663\"}, \"text\": \"\"}, \"zerolinecolor\": \"#E1E5ED\"}, \"yaxis\": {\"gridcolor\": \"#E1E5ED\", \"showgrid\": true, \"tickfont\": {\"color\": \"#4D5663\"}, \"title\": {\"font\": {\"color\": \"#4D5663\"}, \"text\": \"\"}, \"zerolinecolor\": \"#E1E5ED\"}},\n",
       "                        {\"showLink\": true, \"linkText\": \"Export to plot.ly\", \"plotlyServerURL\": \"https://plot.ly\", \"responsive\": true}\n",
       "                    ).then(function(){\n",
       "                            \n",
       "var gd = document.getElementById('2bba8d0c-4244-4de6-a031-588025b7b76e');\n",
       "var x = new MutationObserver(function (mutations, observer) {{\n",
       "        var display = window.getComputedStyle(gd).display;\n",
       "        if (!display || display === 'none') {{\n",
       "            console.log([gd, 'removed!']);\n",
       "            Plotly.purge(gd);\n",
       "            observer.disconnect();\n",
       "        }}\n",
       "}});\n",
       "\n",
       "// Listen for the removal of the full notebook cells\n",
       "var notebookContainer = gd.closest('#notebook-container');\n",
       "if (notebookContainer) {{\n",
       "    x.observe(notebookContainer, {childList: true});\n",
       "}}\n",
       "\n",
       "// Listen for the clearing of the current output cell\n",
       "var outputEl = gd.closest('.output');\n",
       "if (outputEl) {{\n",
       "    x.observe(outputEl, {childList: true});\n",
       "}}\n",
       "\n",
       "                        })\n",
       "                };\n",
       "                });\n",
       "            </script>\n",
       "        </div>"
      ]
     },
     "metadata": {},
     "output_type": "display_data"
    }
   ],
   "source": [
    "df.count().iplot(kind='bar')"
   ]
  },
  {
   "cell_type": "markdown",
   "metadata": {},
   "source": [
    "## Boxplots"
   ]
  },
  {
   "cell_type": "code",
   "execution_count": 14,
   "metadata": {},
   "outputs": [
    {
     "data": {
      "application/vnd.plotly.v1+json": {
       "config": {
        "linkText": "Export to plot.ly",
        "plotlyServerURL": "https://plot.ly",
        "showLink": true
       },
       "data": [
        {
         "boxpoints": false,
         "line": {
          "width": 1.3
         },
         "marker": {
          "color": "rgba(255, 153, 51, 1.0)"
         },
         "name": "A",
         "orientation": "v",
         "type": "box",
         "y": [
          0.6451627172498443,
          -0.6469131036903166,
          0.07282760997978965,
          -0.39996672688275203,
          1.27888605560903,
          0.176984719501775,
          -0.3478450711317554,
          1.1669800856100079,
          -1.1509471161286047,
          -0.4042239505584384,
          2.647907647993073,
          0.36715327003169484,
          0.8432767828805269,
          -0.03464740419409103,
          1.076977486712486,
          0.8436970449566027,
          -0.7334470538578574,
          -1.2853302266665863,
          1.5173632050074661,
          0.54034616538293,
          -0.12868533708843397,
          -0.2645198777318922,
          -1.2398657992294475,
          -0.18530651824974842,
          1.5742851271891127,
          0.7450361771271075,
          -1.4086085803396364,
          0.14499502944366194,
          7.98357974058988e-05,
          0.2015099522526723,
          0.5197852516643461,
          0.8137691135724868,
          -0.7898519062290008,
          -0.2350610039304626,
          -0.47805951650580386,
          0.7420069762630155,
          -0.884344286449463,
          0.4881141842478061,
          0.2539682741135712,
          -0.2415755237551213,
          0.19379602987412708,
          -0.46794198489183425,
          -0.05582823809394771,
          -0.1722137535156207,
          0.8219202690922193,
          -2.960368117506735,
          -0.5735579419165826,
          0.23185189552088065,
          -1.5476457212277288,
          -0.7318010309338864,
          0.4276163168061164,
          0.7076939313668328,
          0.9103248805933472,
          -0.6350650519263663,
          -0.7846590711619182,
          0.5066197590616859,
          0.9475847712991983,
          1.4855797887769817,
          -0.5176716456152829,
          -1.9365130236965,
          -2.2657350481435565,
          1.740096036056405,
          1.8796902458539129,
          -0.6503568376832136,
          -1.1063832718418674,
          0.5540253031028719,
          -0.2255018506179424,
          -0.22246662275393148,
          0.3796040910645512,
          0.641004515444166,
          -1.5257174213827545,
          0.5582632071338453,
          0.7434395855922672,
          -0.6429138846665017,
          -1.1470053481199076,
          -0.058408415132721984,
          -0.087271021946233,
          -0.11490851526832321,
          0.09478161319117837,
          -0.06806715841681621,
          -0.9642493190741217,
          -0.008786798402462295,
          0.6396834488805198,
          -0.3259564250417379,
          0.5002594604189721,
          1.6301959446629615,
          0.4764493472735545,
          -0.5917483321647256,
          1.3687335513621266,
          1.427544217794121,
          -0.6919940853120521,
          -2.0309623995200567,
          -0.8535043207183718,
          -0.7453142827178897,
          1.4886049411007722,
          1.376550678415612,
          0.4662319719767733,
          1.0996702131134612,
          -0.4293423418754007,
          -0.15580447473223744
         ]
        },
        {
         "boxpoints": false,
         "line": {
          "width": 1.3
         },
         "marker": {
          "color": "rgba(55, 128, 191, 1.0)"
         },
         "name": "B",
         "orientation": "v",
         "type": "box",
         "y": [
          0.5349692410513225,
          -1.014328904542226,
          0.2229060005876184,
          -1.7581772675544798,
          0.37231115079283594,
          0.579264731188161,
          0.5718854242262145,
          -0.700421563136451,
          -0.6925810383508683,
          0.4790117557619783,
          0.24442530830143844,
          0.764748398677337,
          1.754347313478873,
          -0.40762244722224095,
          0.6650490169408635,
          -2.3902605775371946,
          0.7147583929606929,
          0.11896721666819543,
          -0.8028148154089121,
          1.6952701768643617,
          -2.7763997397425295,
          -0.01340515185356433,
          1.7784608524477292,
          -0.2885044914699736,
          1.0466215220208286,
          -0.9043684133288886,
          -0.6042356903023718,
          -1.6847822028654627,
          1.5297218731150697,
          1.3415136153615916,
          -0.37716657605716297,
          -1.0494981799232466,
          -0.500402274016725,
          -1.2181761971009173,
          -1.776210252204733,
          -0.3968897194559243,
          -0.322374690719606,
          -0.4012294945234382,
          2.035203464686686,
          1.1016567270559787,
          -0.14018196572980843,
          1.467813159453069,
          1.3809154248444366,
          -0.08205647775417348,
          -0.36341565920138735,
          0.07233594739972496,
          -1.0583568734506534,
          0.5560235499153585,
          2.176848979597883,
          0.9596586425683493,
          -0.3407743636640172,
          -1.7348677657723248,
          1.3577160606563694,
          0.05361173356677967,
          -1.3718095272286817,
          0.871112952667962,
          1.885708131400474,
          0.2170343177318166,
          -0.46920835974248226,
          1.3866627336967794,
          -0.6302221497234748,
          0.5301234274057091,
          -1.0564523821783804,
          -0.276707432201371,
          0.15170855981121262,
          0.43436907082471166,
          0.4744302146164032,
          -0.405764320028978,
          1.0481786716642518,
          0.11106210546013959,
          -1.5355277427466816,
          -0.045065170946819125,
          1.1894829955165938,
          -0.6775899242032235,
          0.5791523631524266,
          0.9636909001251861,
          0.3592607945727012,
          1.0994552085095473,
          0.8899020832464846,
          0.6136225224274325,
          0.6338374255363178,
          0.0729077581586196,
          -0.8213726655976707,
          0.06228745285536487,
          0.5290657124345663,
          0.13750720436213548,
          -1.2011407826241554,
          -0.21817446269581114,
          0.47476188782199336,
          0.3260651872156575,
          -0.36511298792012614,
          -0.6194016745901185,
          0.49622265016446104,
          -1.4253888279048446,
          0.6925910212982547,
          -1.1932783398603268,
          -0.3783372011436178,
          0.39282058649038537,
          0.006989733582659156,
          0.2866238712221347
         ]
        },
        {
         "boxpoints": false,
         "line": {
          "width": 1.3
         },
         "marker": {
          "color": "rgba(50, 171, 96, 1.0)"
         },
         "name": "C",
         "orientation": "v",
         "type": "box",
         "y": [
          -2.4597558841561376,
          -0.25612831918329276,
          -0.5556432423505464,
          1.5719125420582611,
          0.1756348227647707,
          -0.20787974004490684,
          -1.1804410764024933,
          -0.5312868779711168,
          -0.4078866997463861,
          0.5860159964895477,
          0.7408819326226342,
          -1.5516353400899212,
          0.011753611907605288,
          1.7414493383095122,
          0.27815259710444423,
          2.474951334950332,
          -0.48024684290733194,
          -1.750297459656668,
          1.5853048172825461,
          1.200970645338648,
          -0.3031780648207232,
          0.31559444796827735,
          -2.233051626084782,
          -0.9001191305430065,
          0.04739045649222937,
          -0.039857486014513506,
          -0.05910207017522971,
          0.5102530415641159,
          1.537633352540184,
          0.46177696274320845,
          -0.41264891452785424,
          1.1277702825198632,
          0.5027387688027031,
          0.7104346189535233,
          1.033512117826647,
          0.3294975408608201,
          -0.6917907375784007,
          -1.0169067378253223,
          -0.4403938055829562,
          -1.3805933393318,
          0.16799807359569888,
          -1.900371237857673,
          -0.1871993261633628,
          0.9827692273544065,
          -0.08963517578573571,
          -1.2929055196516321,
          -0.6071633146853714,
          0.28237343538191645,
          0.1583314717928452,
          -0.7032927397033915,
          2.555347992000724,
          -1.6880150569030183,
          -0.2785725493876687,
          -1.1013739311690487,
          0.6623226771439492,
          -0.8205693085309352,
          -0.588354638051842,
          1.5927283688153226,
          -0.5831702498657858,
          -0.22790498925726102,
          1.2599065714631927,
          -1.7761842943004362,
          0.545034971916597,
          0.36090131043614854,
          -0.5076939808290266,
          -0.3243923890316534,
          -1.3297812002745961,
          2.311702506355346,
          1.2193360682370216,
          0.6828425791494181,
          -0.1906076376927126,
          -0.8681128655794245,
          0.7448988430340105,
          -0.6579236709764863,
          -1.7924837112374212,
          0.47018766510455845,
          -1.6197259000015807,
          -1.7073382433242896,
          -0.724504306345858,
          0.6419768151484063,
          -0.21995670775715367,
          -0.2590131479030925,
          1.6576200602225355,
          -0.48852628900249734,
          1.42675925338554,
          -0.7175671934746836,
          -0.2530830755523376,
          2.0781104443498597,
          -0.7445834237026752,
          0.13877003785691952,
          0.6234391485758937,
          -1.607446405057749,
          1.1537435684456776,
          0.8966133236908,
          -0.7973870470526314,
          -0.14892621345235224,
          -2.1311067070678793,
          0.920268296472396,
          0.08382527444972127,
          -1.5030515755624567
         ]
        },
        {
         "boxpoints": false,
         "line": {
          "width": 1.3
         },
         "marker": {
          "color": "rgba(128, 0, 128, 1.0)"
         },
         "name": "D",
         "orientation": "v",
         "type": "box",
         "y": [
          1.4515960062429498,
          -1.0996528790784628,
          -0.05519451058969665,
          -0.3000666884057858,
          -1.635594250299254,
          0.9982665169431799,
          0.21669622164774988,
          2.237760157267246,
          1.0098663134461239,
          1.7569360213364698,
          2.3529734403731917,
          -0.9365340328132902,
          1.1788816781069953,
          1.2030173909786013,
          0.6661075539763056,
          0.7462598875174838,
          -0.52082363346683,
          0.6157897978691311,
          1.5762511555992542,
          -1.6719576659354898,
          2.1176129255658114,
          0.27777187813053644,
          -0.7530439340806951,
          0.38988479802782083,
          0.06490886018385818,
          1.311286137550827,
          0.9025532954653424,
          -0.5080688835319959,
          -1.266335149314364,
          -0.8015890647652826,
          -1.4565069801134716,
          1.707845390557557,
          -0.7927321911983622,
          1.0964781966777206,
          -0.4155883056013634,
          1.877111636012416,
          -0.6945690896898014,
          1.1237086768801954,
          0.1588095359434408,
          1.5428863006874953,
          -0.07488743440760345,
          0.15002666714724433,
          -1.703532195864785,
          1.148596451623574,
          -0.30382215853343697,
          1.104000089625292,
          0.7414487599495074,
          -0.9352259331213219,
          -0.3240797451387703,
          -0.11929806940820019,
          -0.749245085936551,
          0.565105182595519,
          -1.0111454802077893,
          0.004913849078758671,
          0.6813892603051228,
          -1.926232058690583,
          1.2108628717733905,
          0.3914145008197205,
          -0.7475250801084509,
          -0.8408524564227896,
          0.6443245958756524,
          1.1264075424692905,
          1.3152124543122368,
          0.247101977437702,
          -1.4386087318897485,
          1.217173129212074,
          -1.709094707471033,
          -0.8862845178952976,
          0.24102935927643757,
          1.1458962315296832,
          1.579335842163161,
          0.5157906540202216,
          -0.822026027651455,
          -0.33304414799336535,
          0.37430038152038647,
          0.24706102143560815,
          -1.9281092160486888,
          0.4942174706641176,
          0.05028874125161767,
          -1.0014471675925771,
          -0.15485789472414488,
          -2.081297400501267,
          1.92036252683853,
          0.8138242459817406,
          0.7703236784058662,
          0.10770445167170967,
          -0.3920501835452438,
          0.7398598503797754,
          -0.5732150838919354,
          1.1854545937174683,
          1.3774998138914087,
          0.1414661391052091,
          -0.18149088788586246,
          0.7112909521534992,
          -0.1105666314184864,
          1.0265009751410454,
          2.1765293909434904,
          0.44033766067018654,
          -0.0449197507202439,
          0.6374567733719833
         ]
        }
       ],
       "layout": {
        "legend": {
         "bgcolor": "#F5F6F9",
         "font": {
          "color": "#4D5663"
         }
        },
        "paper_bgcolor": "#F5F6F9",
        "plot_bgcolor": "#F5F6F9",
        "template": {
         "data": {
          "bar": [
           {
            "error_x": {
             "color": "#2a3f5f"
            },
            "error_y": {
             "color": "#2a3f5f"
            },
            "marker": {
             "line": {
              "color": "#E5ECF6",
              "width": 0.5
             }
            },
            "type": "bar"
           }
          ],
          "barpolar": [
           {
            "marker": {
             "line": {
              "color": "#E5ECF6",
              "width": 0.5
             }
            },
            "type": "barpolar"
           }
          ],
          "carpet": [
           {
            "aaxis": {
             "endlinecolor": "#2a3f5f",
             "gridcolor": "white",
             "linecolor": "white",
             "minorgridcolor": "white",
             "startlinecolor": "#2a3f5f"
            },
            "baxis": {
             "endlinecolor": "#2a3f5f",
             "gridcolor": "white",
             "linecolor": "white",
             "minorgridcolor": "white",
             "startlinecolor": "#2a3f5f"
            },
            "type": "carpet"
           }
          ],
          "choropleth": [
           {
            "colorbar": {
             "outlinewidth": 0,
             "ticks": ""
            },
            "type": "choropleth"
           }
          ],
          "contour": [
           {
            "colorbar": {
             "outlinewidth": 0,
             "ticks": ""
            },
            "colorscale": [
             [
              0,
              "#0d0887"
             ],
             [
              0.1111111111111111,
              "#46039f"
             ],
             [
              0.2222222222222222,
              "#7201a8"
             ],
             [
              0.3333333333333333,
              "#9c179e"
             ],
             [
              0.4444444444444444,
              "#bd3786"
             ],
             [
              0.5555555555555556,
              "#d8576b"
             ],
             [
              0.6666666666666666,
              "#ed7953"
             ],
             [
              0.7777777777777778,
              "#fb9f3a"
             ],
             [
              0.8888888888888888,
              "#fdca26"
             ],
             [
              1,
              "#f0f921"
             ]
            ],
            "type": "contour"
           }
          ],
          "contourcarpet": [
           {
            "colorbar": {
             "outlinewidth": 0,
             "ticks": ""
            },
            "type": "contourcarpet"
           }
          ],
          "heatmap": [
           {
            "colorbar": {
             "outlinewidth": 0,
             "ticks": ""
            },
            "colorscale": [
             [
              0,
              "#0d0887"
             ],
             [
              0.1111111111111111,
              "#46039f"
             ],
             [
              0.2222222222222222,
              "#7201a8"
             ],
             [
              0.3333333333333333,
              "#9c179e"
             ],
             [
              0.4444444444444444,
              "#bd3786"
             ],
             [
              0.5555555555555556,
              "#d8576b"
             ],
             [
              0.6666666666666666,
              "#ed7953"
             ],
             [
              0.7777777777777778,
              "#fb9f3a"
             ],
             [
              0.8888888888888888,
              "#fdca26"
             ],
             [
              1,
              "#f0f921"
             ]
            ],
            "type": "heatmap"
           }
          ],
          "heatmapgl": [
           {
            "colorbar": {
             "outlinewidth": 0,
             "ticks": ""
            },
            "colorscale": [
             [
              0,
              "#0d0887"
             ],
             [
              0.1111111111111111,
              "#46039f"
             ],
             [
              0.2222222222222222,
              "#7201a8"
             ],
             [
              0.3333333333333333,
              "#9c179e"
             ],
             [
              0.4444444444444444,
              "#bd3786"
             ],
             [
              0.5555555555555556,
              "#d8576b"
             ],
             [
              0.6666666666666666,
              "#ed7953"
             ],
             [
              0.7777777777777778,
              "#fb9f3a"
             ],
             [
              0.8888888888888888,
              "#fdca26"
             ],
             [
              1,
              "#f0f921"
             ]
            ],
            "type": "heatmapgl"
           }
          ],
          "histogram": [
           {
            "marker": {
             "colorbar": {
              "outlinewidth": 0,
              "ticks": ""
             }
            },
            "type": "histogram"
           }
          ],
          "histogram2d": [
           {
            "colorbar": {
             "outlinewidth": 0,
             "ticks": ""
            },
            "colorscale": [
             [
              0,
              "#0d0887"
             ],
             [
              0.1111111111111111,
              "#46039f"
             ],
             [
              0.2222222222222222,
              "#7201a8"
             ],
             [
              0.3333333333333333,
              "#9c179e"
             ],
             [
              0.4444444444444444,
              "#bd3786"
             ],
             [
              0.5555555555555556,
              "#d8576b"
             ],
             [
              0.6666666666666666,
              "#ed7953"
             ],
             [
              0.7777777777777778,
              "#fb9f3a"
             ],
             [
              0.8888888888888888,
              "#fdca26"
             ],
             [
              1,
              "#f0f921"
             ]
            ],
            "type": "histogram2d"
           }
          ],
          "histogram2dcontour": [
           {
            "colorbar": {
             "outlinewidth": 0,
             "ticks": ""
            },
            "colorscale": [
             [
              0,
              "#0d0887"
             ],
             [
              0.1111111111111111,
              "#46039f"
             ],
             [
              0.2222222222222222,
              "#7201a8"
             ],
             [
              0.3333333333333333,
              "#9c179e"
             ],
             [
              0.4444444444444444,
              "#bd3786"
             ],
             [
              0.5555555555555556,
              "#d8576b"
             ],
             [
              0.6666666666666666,
              "#ed7953"
             ],
             [
              0.7777777777777778,
              "#fb9f3a"
             ],
             [
              0.8888888888888888,
              "#fdca26"
             ],
             [
              1,
              "#f0f921"
             ]
            ],
            "type": "histogram2dcontour"
           }
          ],
          "mesh3d": [
           {
            "colorbar": {
             "outlinewidth": 0,
             "ticks": ""
            },
            "type": "mesh3d"
           }
          ],
          "parcoords": [
           {
            "line": {
             "colorbar": {
              "outlinewidth": 0,
              "ticks": ""
             }
            },
            "type": "parcoords"
           }
          ],
          "pie": [
           {
            "automargin": true,
            "type": "pie"
           }
          ],
          "scatter": [
           {
            "marker": {
             "colorbar": {
              "outlinewidth": 0,
              "ticks": ""
             }
            },
            "type": "scatter"
           }
          ],
          "scatter3d": [
           {
            "line": {
             "colorbar": {
              "outlinewidth": 0,
              "ticks": ""
             }
            },
            "marker": {
             "colorbar": {
              "outlinewidth": 0,
              "ticks": ""
             }
            },
            "type": "scatter3d"
           }
          ],
          "scattercarpet": [
           {
            "marker": {
             "colorbar": {
              "outlinewidth": 0,
              "ticks": ""
             }
            },
            "type": "scattercarpet"
           }
          ],
          "scattergeo": [
           {
            "marker": {
             "colorbar": {
              "outlinewidth": 0,
              "ticks": ""
             }
            },
            "type": "scattergeo"
           }
          ],
          "scattergl": [
           {
            "marker": {
             "colorbar": {
              "outlinewidth": 0,
              "ticks": ""
             }
            },
            "type": "scattergl"
           }
          ],
          "scattermapbox": [
           {
            "marker": {
             "colorbar": {
              "outlinewidth": 0,
              "ticks": ""
             }
            },
            "type": "scattermapbox"
           }
          ],
          "scatterpolar": [
           {
            "marker": {
             "colorbar": {
              "outlinewidth": 0,
              "ticks": ""
             }
            },
            "type": "scatterpolar"
           }
          ],
          "scatterpolargl": [
           {
            "marker": {
             "colorbar": {
              "outlinewidth": 0,
              "ticks": ""
             }
            },
            "type": "scatterpolargl"
           }
          ],
          "scatterternary": [
           {
            "marker": {
             "colorbar": {
              "outlinewidth": 0,
              "ticks": ""
             }
            },
            "type": "scatterternary"
           }
          ],
          "surface": [
           {
            "colorbar": {
             "outlinewidth": 0,
             "ticks": ""
            },
            "colorscale": [
             [
              0,
              "#0d0887"
             ],
             [
              0.1111111111111111,
              "#46039f"
             ],
             [
              0.2222222222222222,
              "#7201a8"
             ],
             [
              0.3333333333333333,
              "#9c179e"
             ],
             [
              0.4444444444444444,
              "#bd3786"
             ],
             [
              0.5555555555555556,
              "#d8576b"
             ],
             [
              0.6666666666666666,
              "#ed7953"
             ],
             [
              0.7777777777777778,
              "#fb9f3a"
             ],
             [
              0.8888888888888888,
              "#fdca26"
             ],
             [
              1,
              "#f0f921"
             ]
            ],
            "type": "surface"
           }
          ],
          "table": [
           {
            "cells": {
             "fill": {
              "color": "#EBF0F8"
             },
             "line": {
              "color": "white"
             }
            },
            "header": {
             "fill": {
              "color": "#C8D4E3"
             },
             "line": {
              "color": "white"
             }
            },
            "type": "table"
           }
          ]
         },
         "layout": {
          "annotationdefaults": {
           "arrowcolor": "#2a3f5f",
           "arrowhead": 0,
           "arrowwidth": 1
          },
          "coloraxis": {
           "colorbar": {
            "outlinewidth": 0,
            "ticks": ""
           }
          },
          "colorscale": {
           "diverging": [
            [
             0,
             "#8e0152"
            ],
            [
             0.1,
             "#c51b7d"
            ],
            [
             0.2,
             "#de77ae"
            ],
            [
             0.3,
             "#f1b6da"
            ],
            [
             0.4,
             "#fde0ef"
            ],
            [
             0.5,
             "#f7f7f7"
            ],
            [
             0.6,
             "#e6f5d0"
            ],
            [
             0.7,
             "#b8e186"
            ],
            [
             0.8,
             "#7fbc41"
            ],
            [
             0.9,
             "#4d9221"
            ],
            [
             1,
             "#276419"
            ]
           ],
           "sequential": [
            [
             0,
             "#0d0887"
            ],
            [
             0.1111111111111111,
             "#46039f"
            ],
            [
             0.2222222222222222,
             "#7201a8"
            ],
            [
             0.3333333333333333,
             "#9c179e"
            ],
            [
             0.4444444444444444,
             "#bd3786"
            ],
            [
             0.5555555555555556,
             "#d8576b"
            ],
            [
             0.6666666666666666,
             "#ed7953"
            ],
            [
             0.7777777777777778,
             "#fb9f3a"
            ],
            [
             0.8888888888888888,
             "#fdca26"
            ],
            [
             1,
             "#f0f921"
            ]
           ],
           "sequentialminus": [
            [
             0,
             "#0d0887"
            ],
            [
             0.1111111111111111,
             "#46039f"
            ],
            [
             0.2222222222222222,
             "#7201a8"
            ],
            [
             0.3333333333333333,
             "#9c179e"
            ],
            [
             0.4444444444444444,
             "#bd3786"
            ],
            [
             0.5555555555555556,
             "#d8576b"
            ],
            [
             0.6666666666666666,
             "#ed7953"
            ],
            [
             0.7777777777777778,
             "#fb9f3a"
            ],
            [
             0.8888888888888888,
             "#fdca26"
            ],
            [
             1,
             "#f0f921"
            ]
           ]
          },
          "colorway": [
           "#636efa",
           "#EF553B",
           "#00cc96",
           "#ab63fa",
           "#FFA15A",
           "#19d3f3",
           "#FF6692",
           "#B6E880",
           "#FF97FF",
           "#FECB52"
          ],
          "font": {
           "color": "#2a3f5f"
          },
          "geo": {
           "bgcolor": "white",
           "lakecolor": "white",
           "landcolor": "#E5ECF6",
           "showlakes": true,
           "showland": true,
           "subunitcolor": "white"
          },
          "hoverlabel": {
           "align": "left"
          },
          "hovermode": "closest",
          "mapbox": {
           "style": "light"
          },
          "paper_bgcolor": "white",
          "plot_bgcolor": "#E5ECF6",
          "polar": {
           "angularaxis": {
            "gridcolor": "white",
            "linecolor": "white",
            "ticks": ""
           },
           "bgcolor": "#E5ECF6",
           "radialaxis": {
            "gridcolor": "white",
            "linecolor": "white",
            "ticks": ""
           }
          },
          "scene": {
           "xaxis": {
            "backgroundcolor": "#E5ECF6",
            "gridcolor": "white",
            "gridwidth": 2,
            "linecolor": "white",
            "showbackground": true,
            "ticks": "",
            "zerolinecolor": "white"
           },
           "yaxis": {
            "backgroundcolor": "#E5ECF6",
            "gridcolor": "white",
            "gridwidth": 2,
            "linecolor": "white",
            "showbackground": true,
            "ticks": "",
            "zerolinecolor": "white"
           },
           "zaxis": {
            "backgroundcolor": "#E5ECF6",
            "gridcolor": "white",
            "gridwidth": 2,
            "linecolor": "white",
            "showbackground": true,
            "ticks": "",
            "zerolinecolor": "white"
           }
          },
          "shapedefaults": {
           "line": {
            "color": "#2a3f5f"
           }
          },
          "ternary": {
           "aaxis": {
            "gridcolor": "white",
            "linecolor": "white",
            "ticks": ""
           },
           "baxis": {
            "gridcolor": "white",
            "linecolor": "white",
            "ticks": ""
           },
           "bgcolor": "#E5ECF6",
           "caxis": {
            "gridcolor": "white",
            "linecolor": "white",
            "ticks": ""
           }
          },
          "title": {
           "x": 0.05
          },
          "xaxis": {
           "automargin": true,
           "gridcolor": "white",
           "linecolor": "white",
           "ticks": "",
           "title": {
            "standoff": 15
           },
           "zerolinecolor": "white",
           "zerolinewidth": 2
          },
          "yaxis": {
           "automargin": true,
           "gridcolor": "white",
           "linecolor": "white",
           "ticks": "",
           "title": {
            "standoff": 15
           },
           "zerolinecolor": "white",
           "zerolinewidth": 2
          }
         }
        },
        "title": {
         "font": {
          "color": "#4D5663"
         }
        },
        "xaxis": {
         "gridcolor": "#E1E5ED",
         "showgrid": true,
         "tickfont": {
          "color": "#4D5663"
         },
         "title": {
          "font": {
           "color": "#4D5663"
          },
          "text": ""
         },
         "zerolinecolor": "#E1E5ED"
        },
        "yaxis": {
         "gridcolor": "#E1E5ED",
         "showgrid": true,
         "tickfont": {
          "color": "#4D5663"
         },
         "title": {
          "font": {
           "color": "#4D5663"
          },
          "text": ""
         },
         "zerolinecolor": "#E1E5ED"
        }
       }
      },
      "text/html": [
       "<div>\n",
       "        \n",
       "        \n",
       "            <div id=\"c66cd2b5-fdac-4832-bf79-c47a808728e6\" class=\"plotly-graph-div\" style=\"height:525px; width:100%;\"></div>\n",
       "            <script type=\"text/javascript\">\n",
       "                require([\"plotly\"], function(Plotly) {\n",
       "                    window.PLOTLYENV=window.PLOTLYENV || {};\n",
       "                    window.PLOTLYENV.BASE_URL='https://plot.ly';\n",
       "                    \n",
       "                if (document.getElementById(\"c66cd2b5-fdac-4832-bf79-c47a808728e6\")) {\n",
       "                    Plotly.newPlot(\n",
       "                        'c66cd2b5-fdac-4832-bf79-c47a808728e6',\n",
       "                        [{\"boxpoints\": false, \"line\": {\"width\": 1.3}, \"marker\": {\"color\": \"rgba(255, 153, 51, 1.0)\"}, \"name\": \"A\", \"orientation\": \"v\", \"type\": \"box\", \"y\": [0.6451627172498443, -0.6469131036903166, 0.07282760997978965, -0.39996672688275203, 1.27888605560903, 0.176984719501775, -0.3478450711317554, 1.1669800856100079, -1.1509471161286047, -0.4042239505584384, 2.647907647993073, 0.36715327003169484, 0.8432767828805269, -0.03464740419409103, 1.076977486712486, 0.8436970449566027, -0.7334470538578574, -1.2853302266665863, 1.5173632050074661, 0.54034616538293, -0.12868533708843397, -0.2645198777318922, -1.2398657992294475, -0.18530651824974842, 1.5742851271891127, 0.7450361771271075, -1.4086085803396364, 0.14499502944366194, 7.98357974058988e-05, 0.2015099522526723, 0.5197852516643461, 0.8137691135724868, -0.7898519062290008, -0.2350610039304626, -0.47805951650580386, 0.7420069762630155, -0.884344286449463, 0.4881141842478061, 0.2539682741135712, -0.2415755237551213, 0.19379602987412708, -0.46794198489183425, -0.05582823809394771, -0.1722137535156207, 0.8219202690922193, -2.960368117506735, -0.5735579419165826, 0.23185189552088065, -1.5476457212277288, -0.7318010309338864, 0.4276163168061164, 0.7076939313668328, 0.9103248805933472, -0.6350650519263663, -0.7846590711619182, 0.5066197590616859, 0.9475847712991983, 1.4855797887769817, -0.5176716456152829, -1.9365130236965, -2.2657350481435565, 1.740096036056405, 1.8796902458539129, -0.6503568376832136, -1.1063832718418674, 0.5540253031028719, -0.2255018506179424, -0.22246662275393148, 0.3796040910645512, 0.641004515444166, -1.5257174213827545, 0.5582632071338453, 0.7434395855922672, -0.6429138846665017, -1.1470053481199076, -0.058408415132721984, -0.087271021946233, -0.11490851526832321, 0.09478161319117837, -0.06806715841681621, -0.9642493190741217, -0.008786798402462295, 0.6396834488805198, -0.3259564250417379, 0.5002594604189721, 1.6301959446629615, 0.4764493472735545, -0.5917483321647256, 1.3687335513621266, 1.427544217794121, -0.6919940853120521, -2.0309623995200567, -0.8535043207183718, -0.7453142827178897, 1.4886049411007722, 1.376550678415612, 0.4662319719767733, 1.0996702131134612, -0.4293423418754007, -0.15580447473223744]}, {\"boxpoints\": false, \"line\": {\"width\": 1.3}, \"marker\": {\"color\": \"rgba(55, 128, 191, 1.0)\"}, \"name\": \"B\", \"orientation\": \"v\", \"type\": \"box\", \"y\": [0.5349692410513225, -1.014328904542226, 0.2229060005876184, -1.7581772675544798, 0.37231115079283594, 0.579264731188161, 0.5718854242262145, -0.700421563136451, -0.6925810383508683, 0.4790117557619783, 0.24442530830143844, 0.764748398677337, 1.754347313478873, -0.40762244722224095, 0.6650490169408635, -2.3902605775371946, 0.7147583929606929, 0.11896721666819543, -0.8028148154089121, 1.6952701768643617, -2.7763997397425295, -0.01340515185356433, 1.7784608524477292, -0.2885044914699736, 1.0466215220208286, -0.9043684133288886, -0.6042356903023718, -1.6847822028654627, 1.5297218731150697, 1.3415136153615916, -0.37716657605716297, -1.0494981799232466, -0.500402274016725, -1.2181761971009173, -1.776210252204733, -0.3968897194559243, -0.322374690719606, -0.4012294945234382, 2.035203464686686, 1.1016567270559787, -0.14018196572980843, 1.467813159453069, 1.3809154248444366, -0.08205647775417348, -0.36341565920138735, 0.07233594739972496, -1.0583568734506534, 0.5560235499153585, 2.176848979597883, 0.9596586425683493, -0.3407743636640172, -1.7348677657723248, 1.3577160606563694, 0.05361173356677967, -1.3718095272286817, 0.871112952667962, 1.885708131400474, 0.2170343177318166, -0.46920835974248226, 1.3866627336967794, -0.6302221497234748, 0.5301234274057091, -1.0564523821783804, -0.276707432201371, 0.15170855981121262, 0.43436907082471166, 0.4744302146164032, -0.405764320028978, 1.0481786716642518, 0.11106210546013959, -1.5355277427466816, -0.045065170946819125, 1.1894829955165938, -0.6775899242032235, 0.5791523631524266, 0.9636909001251861, 0.3592607945727012, 1.0994552085095473, 0.8899020832464846, 0.6136225224274325, 0.6338374255363178, 0.0729077581586196, -0.8213726655976707, 0.06228745285536487, 0.5290657124345663, 0.13750720436213548, -1.2011407826241554, -0.21817446269581114, 0.47476188782199336, 0.3260651872156575, -0.36511298792012614, -0.6194016745901185, 0.49622265016446104, -1.4253888279048446, 0.6925910212982547, -1.1932783398603268, -0.3783372011436178, 0.39282058649038537, 0.006989733582659156, 0.2866238712221347]}, {\"boxpoints\": false, \"line\": {\"width\": 1.3}, \"marker\": {\"color\": \"rgba(50, 171, 96, 1.0)\"}, \"name\": \"C\", \"orientation\": \"v\", \"type\": \"box\", \"y\": [-2.4597558841561376, -0.25612831918329276, -0.5556432423505464, 1.5719125420582611, 0.1756348227647707, -0.20787974004490684, -1.1804410764024933, -0.5312868779711168, -0.4078866997463861, 0.5860159964895477, 0.7408819326226342, -1.5516353400899212, 0.011753611907605288, 1.7414493383095122, 0.27815259710444423, 2.474951334950332, -0.48024684290733194, -1.750297459656668, 1.5853048172825461, 1.200970645338648, -0.3031780648207232, 0.31559444796827735, -2.233051626084782, -0.9001191305430065, 0.04739045649222937, -0.039857486014513506, -0.05910207017522971, 0.5102530415641159, 1.537633352540184, 0.46177696274320845, -0.41264891452785424, 1.1277702825198632, 0.5027387688027031, 0.7104346189535233, 1.033512117826647, 0.3294975408608201, -0.6917907375784007, -1.0169067378253223, -0.4403938055829562, -1.3805933393318, 0.16799807359569888, -1.900371237857673, -0.1871993261633628, 0.9827692273544065, -0.08963517578573571, -1.2929055196516321, -0.6071633146853714, 0.28237343538191645, 0.1583314717928452, -0.7032927397033915, 2.555347992000724, -1.6880150569030183, -0.2785725493876687, -1.1013739311690487, 0.6623226771439492, -0.8205693085309352, -0.588354638051842, 1.5927283688153226, -0.5831702498657858, -0.22790498925726102, 1.2599065714631927, -1.7761842943004362, 0.545034971916597, 0.36090131043614854, -0.5076939808290266, -0.3243923890316534, -1.3297812002745961, 2.311702506355346, 1.2193360682370216, 0.6828425791494181, -0.1906076376927126, -0.8681128655794245, 0.7448988430340105, -0.6579236709764863, -1.7924837112374212, 0.47018766510455845, -1.6197259000015807, -1.7073382433242896, -0.724504306345858, 0.6419768151484063, -0.21995670775715367, -0.2590131479030925, 1.6576200602225355, -0.48852628900249734, 1.42675925338554, -0.7175671934746836, -0.2530830755523376, 2.0781104443498597, -0.7445834237026752, 0.13877003785691952, 0.6234391485758937, -1.607446405057749, 1.1537435684456776, 0.8966133236908, -0.7973870470526314, -0.14892621345235224, -2.1311067070678793, 0.920268296472396, 0.08382527444972127, -1.5030515755624567]}, {\"boxpoints\": false, \"line\": {\"width\": 1.3}, \"marker\": {\"color\": \"rgba(128, 0, 128, 1.0)\"}, \"name\": \"D\", \"orientation\": \"v\", \"type\": \"box\", \"y\": [1.4515960062429498, -1.0996528790784628, -0.05519451058969665, -0.3000666884057858, -1.635594250299254, 0.9982665169431799, 0.21669622164774988, 2.237760157267246, 1.0098663134461239, 1.7569360213364698, 2.3529734403731917, -0.9365340328132902, 1.1788816781069953, 1.2030173909786013, 0.6661075539763056, 0.7462598875174838, -0.52082363346683, 0.6157897978691311, 1.5762511555992542, -1.6719576659354898, 2.1176129255658114, 0.27777187813053644, -0.7530439340806951, 0.38988479802782083, 0.06490886018385818, 1.311286137550827, 0.9025532954653424, -0.5080688835319959, -1.266335149314364, -0.8015890647652826, -1.4565069801134716, 1.707845390557557, -0.7927321911983622, 1.0964781966777206, -0.4155883056013634, 1.877111636012416, -0.6945690896898014, 1.1237086768801954, 0.1588095359434408, 1.5428863006874953, -0.07488743440760345, 0.15002666714724433, -1.703532195864785, 1.148596451623574, -0.30382215853343697, 1.104000089625292, 0.7414487599495074, -0.9352259331213219, -0.3240797451387703, -0.11929806940820019, -0.749245085936551, 0.565105182595519, -1.0111454802077893, 0.004913849078758671, 0.6813892603051228, -1.926232058690583, 1.2108628717733905, 0.3914145008197205, -0.7475250801084509, -0.8408524564227896, 0.6443245958756524, 1.1264075424692905, 1.3152124543122368, 0.247101977437702, -1.4386087318897485, 1.217173129212074, -1.709094707471033, -0.8862845178952976, 0.24102935927643757, 1.1458962315296832, 1.579335842163161, 0.5157906540202216, -0.822026027651455, -0.33304414799336535, 0.37430038152038647, 0.24706102143560815, -1.9281092160486888, 0.4942174706641176, 0.05028874125161767, -1.0014471675925771, -0.15485789472414488, -2.081297400501267, 1.92036252683853, 0.8138242459817406, 0.7703236784058662, 0.10770445167170967, -0.3920501835452438, 0.7398598503797754, -0.5732150838919354, 1.1854545937174683, 1.3774998138914087, 0.1414661391052091, -0.18149088788586246, 0.7112909521534992, -0.1105666314184864, 1.0265009751410454, 2.1765293909434904, 0.44033766067018654, -0.0449197507202439, 0.6374567733719833]}],\n",
       "                        {\"legend\": {\"bgcolor\": \"#F5F6F9\", \"font\": {\"color\": \"#4D5663\"}}, \"paper_bgcolor\": \"#F5F6F9\", \"plot_bgcolor\": \"#F5F6F9\", \"template\": {\"data\": {\"bar\": [{\"error_x\": {\"color\": \"#2a3f5f\"}, \"error_y\": {\"color\": \"#2a3f5f\"}, \"marker\": {\"line\": {\"color\": \"#E5ECF6\", \"width\": 0.5}}, \"type\": \"bar\"}], \"barpolar\": [{\"marker\": {\"line\": {\"color\": \"#E5ECF6\", \"width\": 0.5}}, \"type\": \"barpolar\"}], \"carpet\": [{\"aaxis\": {\"endlinecolor\": \"#2a3f5f\", \"gridcolor\": \"white\", \"linecolor\": \"white\", \"minorgridcolor\": \"white\", \"startlinecolor\": \"#2a3f5f\"}, \"baxis\": {\"endlinecolor\": \"#2a3f5f\", \"gridcolor\": \"white\", \"linecolor\": \"white\", \"minorgridcolor\": \"white\", \"startlinecolor\": \"#2a3f5f\"}, \"type\": \"carpet\"}], \"choropleth\": [{\"colorbar\": {\"outlinewidth\": 0, \"ticks\": \"\"}, \"type\": \"choropleth\"}], \"contour\": [{\"colorbar\": {\"outlinewidth\": 0, \"ticks\": \"\"}, \"colorscale\": [[0.0, \"#0d0887\"], [0.1111111111111111, \"#46039f\"], [0.2222222222222222, \"#7201a8\"], [0.3333333333333333, \"#9c179e\"], [0.4444444444444444, \"#bd3786\"], [0.5555555555555556, \"#d8576b\"], [0.6666666666666666, \"#ed7953\"], [0.7777777777777778, \"#fb9f3a\"], [0.8888888888888888, \"#fdca26\"], [1.0, \"#f0f921\"]], \"type\": \"contour\"}], \"contourcarpet\": [{\"colorbar\": {\"outlinewidth\": 0, \"ticks\": \"\"}, \"type\": \"contourcarpet\"}], \"heatmap\": [{\"colorbar\": {\"outlinewidth\": 0, \"ticks\": \"\"}, \"colorscale\": [[0.0, \"#0d0887\"], [0.1111111111111111, \"#46039f\"], [0.2222222222222222, \"#7201a8\"], [0.3333333333333333, \"#9c179e\"], [0.4444444444444444, \"#bd3786\"], [0.5555555555555556, \"#d8576b\"], [0.6666666666666666, \"#ed7953\"], [0.7777777777777778, \"#fb9f3a\"], [0.8888888888888888, \"#fdca26\"], [1.0, \"#f0f921\"]], \"type\": \"heatmap\"}], \"heatmapgl\": [{\"colorbar\": {\"outlinewidth\": 0, \"ticks\": \"\"}, \"colorscale\": [[0.0, \"#0d0887\"], [0.1111111111111111, \"#46039f\"], [0.2222222222222222, \"#7201a8\"], [0.3333333333333333, \"#9c179e\"], [0.4444444444444444, \"#bd3786\"], [0.5555555555555556, \"#d8576b\"], [0.6666666666666666, \"#ed7953\"], [0.7777777777777778, \"#fb9f3a\"], [0.8888888888888888, \"#fdca26\"], [1.0, \"#f0f921\"]], \"type\": \"heatmapgl\"}], \"histogram\": [{\"marker\": {\"colorbar\": {\"outlinewidth\": 0, \"ticks\": \"\"}}, \"type\": \"histogram\"}], \"histogram2d\": [{\"colorbar\": {\"outlinewidth\": 0, \"ticks\": \"\"}, \"colorscale\": [[0.0, \"#0d0887\"], [0.1111111111111111, \"#46039f\"], [0.2222222222222222, \"#7201a8\"], [0.3333333333333333, \"#9c179e\"], [0.4444444444444444, \"#bd3786\"], [0.5555555555555556, \"#d8576b\"], [0.6666666666666666, \"#ed7953\"], [0.7777777777777778, \"#fb9f3a\"], [0.8888888888888888, \"#fdca26\"], [1.0, \"#f0f921\"]], \"type\": \"histogram2d\"}], \"histogram2dcontour\": [{\"colorbar\": {\"outlinewidth\": 0, \"ticks\": \"\"}, \"colorscale\": [[0.0, \"#0d0887\"], [0.1111111111111111, \"#46039f\"], [0.2222222222222222, \"#7201a8\"], [0.3333333333333333, \"#9c179e\"], [0.4444444444444444, \"#bd3786\"], [0.5555555555555556, \"#d8576b\"], [0.6666666666666666, \"#ed7953\"], [0.7777777777777778, \"#fb9f3a\"], [0.8888888888888888, \"#fdca26\"], [1.0, \"#f0f921\"]], \"type\": \"histogram2dcontour\"}], \"mesh3d\": [{\"colorbar\": {\"outlinewidth\": 0, \"ticks\": \"\"}, \"type\": \"mesh3d\"}], \"parcoords\": [{\"line\": {\"colorbar\": {\"outlinewidth\": 0, \"ticks\": \"\"}}, \"type\": \"parcoords\"}], \"pie\": [{\"automargin\": true, \"type\": \"pie\"}], \"scatter\": [{\"marker\": {\"colorbar\": {\"outlinewidth\": 0, \"ticks\": \"\"}}, \"type\": \"scatter\"}], \"scatter3d\": [{\"line\": {\"colorbar\": {\"outlinewidth\": 0, \"ticks\": \"\"}}, \"marker\": {\"colorbar\": {\"outlinewidth\": 0, \"ticks\": \"\"}}, \"type\": \"scatter3d\"}], \"scattercarpet\": [{\"marker\": {\"colorbar\": {\"outlinewidth\": 0, \"ticks\": \"\"}}, \"type\": \"scattercarpet\"}], \"scattergeo\": [{\"marker\": {\"colorbar\": {\"outlinewidth\": 0, \"ticks\": \"\"}}, \"type\": \"scattergeo\"}], \"scattergl\": [{\"marker\": {\"colorbar\": {\"outlinewidth\": 0, \"ticks\": \"\"}}, \"type\": \"scattergl\"}], \"scattermapbox\": [{\"marker\": {\"colorbar\": {\"outlinewidth\": 0, \"ticks\": \"\"}}, \"type\": \"scattermapbox\"}], \"scatterpolar\": [{\"marker\": {\"colorbar\": {\"outlinewidth\": 0, \"ticks\": \"\"}}, \"type\": \"scatterpolar\"}], \"scatterpolargl\": [{\"marker\": {\"colorbar\": {\"outlinewidth\": 0, \"ticks\": \"\"}}, \"type\": \"scatterpolargl\"}], \"scatterternary\": [{\"marker\": {\"colorbar\": {\"outlinewidth\": 0, \"ticks\": \"\"}}, \"type\": \"scatterternary\"}], \"surface\": [{\"colorbar\": {\"outlinewidth\": 0, \"ticks\": \"\"}, \"colorscale\": [[0.0, \"#0d0887\"], [0.1111111111111111, \"#46039f\"], [0.2222222222222222, \"#7201a8\"], [0.3333333333333333, \"#9c179e\"], [0.4444444444444444, \"#bd3786\"], [0.5555555555555556, \"#d8576b\"], [0.6666666666666666, \"#ed7953\"], [0.7777777777777778, \"#fb9f3a\"], [0.8888888888888888, \"#fdca26\"], [1.0, \"#f0f921\"]], \"type\": \"surface\"}], \"table\": [{\"cells\": {\"fill\": {\"color\": \"#EBF0F8\"}, \"line\": {\"color\": \"white\"}}, \"header\": {\"fill\": {\"color\": \"#C8D4E3\"}, \"line\": {\"color\": \"white\"}}, \"type\": \"table\"}]}, \"layout\": {\"annotationdefaults\": {\"arrowcolor\": \"#2a3f5f\", \"arrowhead\": 0, \"arrowwidth\": 1}, \"coloraxis\": {\"colorbar\": {\"outlinewidth\": 0, \"ticks\": \"\"}}, \"colorscale\": {\"diverging\": [[0, \"#8e0152\"], [0.1, \"#c51b7d\"], [0.2, \"#de77ae\"], [0.3, \"#f1b6da\"], [0.4, \"#fde0ef\"], [0.5, \"#f7f7f7\"], [0.6, \"#e6f5d0\"], [0.7, \"#b8e186\"], [0.8, \"#7fbc41\"], [0.9, \"#4d9221\"], [1, \"#276419\"]], \"sequential\": [[0.0, \"#0d0887\"], [0.1111111111111111, \"#46039f\"], [0.2222222222222222, \"#7201a8\"], [0.3333333333333333, \"#9c179e\"], [0.4444444444444444, \"#bd3786\"], [0.5555555555555556, \"#d8576b\"], [0.6666666666666666, \"#ed7953\"], [0.7777777777777778, \"#fb9f3a\"], [0.8888888888888888, \"#fdca26\"], [1.0, \"#f0f921\"]], \"sequentialminus\": [[0.0, \"#0d0887\"], [0.1111111111111111, \"#46039f\"], [0.2222222222222222, \"#7201a8\"], [0.3333333333333333, \"#9c179e\"], [0.4444444444444444, \"#bd3786\"], [0.5555555555555556, \"#d8576b\"], [0.6666666666666666, \"#ed7953\"], [0.7777777777777778, \"#fb9f3a\"], [0.8888888888888888, \"#fdca26\"], [1.0, \"#f0f921\"]]}, \"colorway\": [\"#636efa\", \"#EF553B\", \"#00cc96\", \"#ab63fa\", \"#FFA15A\", \"#19d3f3\", \"#FF6692\", \"#B6E880\", \"#FF97FF\", \"#FECB52\"], \"font\": {\"color\": \"#2a3f5f\"}, \"geo\": {\"bgcolor\": \"white\", \"lakecolor\": \"white\", \"landcolor\": \"#E5ECF6\", \"showlakes\": true, \"showland\": true, \"subunitcolor\": \"white\"}, \"hoverlabel\": {\"align\": \"left\"}, \"hovermode\": \"closest\", \"mapbox\": {\"style\": \"light\"}, \"paper_bgcolor\": \"white\", \"plot_bgcolor\": \"#E5ECF6\", \"polar\": {\"angularaxis\": {\"gridcolor\": \"white\", \"linecolor\": \"white\", \"ticks\": \"\"}, \"bgcolor\": \"#E5ECF6\", \"radialaxis\": {\"gridcolor\": \"white\", \"linecolor\": \"white\", \"ticks\": \"\"}}, \"scene\": {\"xaxis\": {\"backgroundcolor\": \"#E5ECF6\", \"gridcolor\": \"white\", \"gridwidth\": 2, \"linecolor\": \"white\", \"showbackground\": true, \"ticks\": \"\", \"zerolinecolor\": \"white\"}, \"yaxis\": {\"backgroundcolor\": \"#E5ECF6\", \"gridcolor\": \"white\", \"gridwidth\": 2, \"linecolor\": \"white\", \"showbackground\": true, \"ticks\": \"\", \"zerolinecolor\": \"white\"}, \"zaxis\": {\"backgroundcolor\": \"#E5ECF6\", \"gridcolor\": \"white\", \"gridwidth\": 2, \"linecolor\": \"white\", \"showbackground\": true, \"ticks\": \"\", \"zerolinecolor\": \"white\"}}, \"shapedefaults\": {\"line\": {\"color\": \"#2a3f5f\"}}, \"ternary\": {\"aaxis\": {\"gridcolor\": \"white\", \"linecolor\": \"white\", \"ticks\": \"\"}, \"baxis\": {\"gridcolor\": \"white\", \"linecolor\": \"white\", \"ticks\": \"\"}, \"bgcolor\": \"#E5ECF6\", \"caxis\": {\"gridcolor\": \"white\", \"linecolor\": \"white\", \"ticks\": \"\"}}, \"title\": {\"x\": 0.05}, \"xaxis\": {\"automargin\": true, \"gridcolor\": \"white\", \"linecolor\": \"white\", \"ticks\": \"\", \"title\": {\"standoff\": 15}, \"zerolinecolor\": \"white\", \"zerolinewidth\": 2}, \"yaxis\": {\"automargin\": true, \"gridcolor\": \"white\", \"linecolor\": \"white\", \"ticks\": \"\", \"title\": {\"standoff\": 15}, \"zerolinecolor\": \"white\", \"zerolinewidth\": 2}}}, \"title\": {\"font\": {\"color\": \"#4D5663\"}}, \"xaxis\": {\"gridcolor\": \"#E1E5ED\", \"showgrid\": true, \"tickfont\": {\"color\": \"#4D5663\"}, \"title\": {\"font\": {\"color\": \"#4D5663\"}, \"text\": \"\"}, \"zerolinecolor\": \"#E1E5ED\"}, \"yaxis\": {\"gridcolor\": \"#E1E5ED\", \"showgrid\": true, \"tickfont\": {\"color\": \"#4D5663\"}, \"title\": {\"font\": {\"color\": \"#4D5663\"}, \"text\": \"\"}, \"zerolinecolor\": \"#E1E5ED\"}},\n",
       "                        {\"showLink\": true, \"linkText\": \"Export to plot.ly\", \"plotlyServerURL\": \"https://plot.ly\", \"responsive\": true}\n",
       "                    ).then(function(){\n",
       "                            \n",
       "var gd = document.getElementById('c66cd2b5-fdac-4832-bf79-c47a808728e6');\n",
       "var x = new MutationObserver(function (mutations, observer) {{\n",
       "        var display = window.getComputedStyle(gd).display;\n",
       "        if (!display || display === 'none') {{\n",
       "            console.log([gd, 'removed!']);\n",
       "            Plotly.purge(gd);\n",
       "            observer.disconnect();\n",
       "        }}\n",
       "}});\n",
       "\n",
       "// Listen for the removal of the full notebook cells\n",
       "var notebookContainer = gd.closest('#notebook-container');\n",
       "if (notebookContainer) {{\n",
       "    x.observe(notebookContainer, {childList: true});\n",
       "}}\n",
       "\n",
       "// Listen for the clearing of the current output cell\n",
       "var outputEl = gd.closest('.output');\n",
       "if (outputEl) {{\n",
       "    x.observe(outputEl, {childList: true});\n",
       "}}\n",
       "\n",
       "                        })\n",
       "                };\n",
       "                });\n",
       "            </script>\n",
       "        </div>"
      ]
     },
     "metadata": {},
     "output_type": "display_data"
    }
   ],
   "source": [
    "df.iplot(kind='box')"
   ]
  },
  {
   "cell_type": "markdown",
   "metadata": {},
   "source": [
    "## 3d Surface"
   ]
  },
  {
   "cell_type": "code",
   "execution_count": 15,
   "metadata": {},
   "outputs": [
    {
     "data": {
      "application/vnd.plotly.v1+json": {
       "config": {
        "linkText": "Export to plot.ly",
        "plotlyServerURL": "https://plot.ly",
        "showLink": true
       },
       "data": [
        {
         "colorscale": [
          [
           0,
           "rgb(165,0,38)"
          ],
          [
           0.1,
           "rgb(215,48,39)"
          ],
          [
           0.2,
           "rgb(244,109,67)"
          ],
          [
           0.3,
           "rgb(253,174,97)"
          ],
          [
           0.4,
           "rgb(254,224,144)"
          ],
          [
           0.5,
           "rgb(255,255,191)"
          ],
          [
           0.6,
           "rgb(224,243,248)"
          ],
          [
           0.7,
           "rgb(171,217,233)"
          ],
          [
           0.8,
           "rgb(116,173,209)"
          ],
          [
           0.9,
           "rgb(69,117,180)"
          ],
          [
           1,
           "rgb(49,54,149)"
          ]
         ],
         "type": "surface",
         "x": [
          0,
          1,
          2,
          3,
          4
         ],
         "y": [
          "x",
          "y",
          "z"
         ],
         "z": [
          [
           1,
           2,
           3,
           4,
           5
          ],
          [
           10,
           20,
           30,
           20,
           10
          ],
          [
           5,
           4,
           3,
           2,
           1
          ]
         ]
        }
       ],
       "layout": {
        "legend": {
         "bgcolor": "#F5F6F9",
         "font": {
          "color": "#4D5663"
         }
        },
        "paper_bgcolor": "#F5F6F9",
        "plot_bgcolor": "#F5F6F9",
        "template": {
         "data": {
          "bar": [
           {
            "error_x": {
             "color": "#2a3f5f"
            },
            "error_y": {
             "color": "#2a3f5f"
            },
            "marker": {
             "line": {
              "color": "#E5ECF6",
              "width": 0.5
             }
            },
            "type": "bar"
           }
          ],
          "barpolar": [
           {
            "marker": {
             "line": {
              "color": "#E5ECF6",
              "width": 0.5
             }
            },
            "type": "barpolar"
           }
          ],
          "carpet": [
           {
            "aaxis": {
             "endlinecolor": "#2a3f5f",
             "gridcolor": "white",
             "linecolor": "white",
             "minorgridcolor": "white",
             "startlinecolor": "#2a3f5f"
            },
            "baxis": {
             "endlinecolor": "#2a3f5f",
             "gridcolor": "white",
             "linecolor": "white",
             "minorgridcolor": "white",
             "startlinecolor": "#2a3f5f"
            },
            "type": "carpet"
           }
          ],
          "choropleth": [
           {
            "colorbar": {
             "outlinewidth": 0,
             "ticks": ""
            },
            "type": "choropleth"
           }
          ],
          "contour": [
           {
            "colorbar": {
             "outlinewidth": 0,
             "ticks": ""
            },
            "colorscale": [
             [
              0,
              "#0d0887"
             ],
             [
              0.1111111111111111,
              "#46039f"
             ],
             [
              0.2222222222222222,
              "#7201a8"
             ],
             [
              0.3333333333333333,
              "#9c179e"
             ],
             [
              0.4444444444444444,
              "#bd3786"
             ],
             [
              0.5555555555555556,
              "#d8576b"
             ],
             [
              0.6666666666666666,
              "#ed7953"
             ],
             [
              0.7777777777777778,
              "#fb9f3a"
             ],
             [
              0.8888888888888888,
              "#fdca26"
             ],
             [
              1,
              "#f0f921"
             ]
            ],
            "type": "contour"
           }
          ],
          "contourcarpet": [
           {
            "colorbar": {
             "outlinewidth": 0,
             "ticks": ""
            },
            "type": "contourcarpet"
           }
          ],
          "heatmap": [
           {
            "colorbar": {
             "outlinewidth": 0,
             "ticks": ""
            },
            "colorscale": [
             [
              0,
              "#0d0887"
             ],
             [
              0.1111111111111111,
              "#46039f"
             ],
             [
              0.2222222222222222,
              "#7201a8"
             ],
             [
              0.3333333333333333,
              "#9c179e"
             ],
             [
              0.4444444444444444,
              "#bd3786"
             ],
             [
              0.5555555555555556,
              "#d8576b"
             ],
             [
              0.6666666666666666,
              "#ed7953"
             ],
             [
              0.7777777777777778,
              "#fb9f3a"
             ],
             [
              0.8888888888888888,
              "#fdca26"
             ],
             [
              1,
              "#f0f921"
             ]
            ],
            "type": "heatmap"
           }
          ],
          "heatmapgl": [
           {
            "colorbar": {
             "outlinewidth": 0,
             "ticks": ""
            },
            "colorscale": [
             [
              0,
              "#0d0887"
             ],
             [
              0.1111111111111111,
              "#46039f"
             ],
             [
              0.2222222222222222,
              "#7201a8"
             ],
             [
              0.3333333333333333,
              "#9c179e"
             ],
             [
              0.4444444444444444,
              "#bd3786"
             ],
             [
              0.5555555555555556,
              "#d8576b"
             ],
             [
              0.6666666666666666,
              "#ed7953"
             ],
             [
              0.7777777777777778,
              "#fb9f3a"
             ],
             [
              0.8888888888888888,
              "#fdca26"
             ],
             [
              1,
              "#f0f921"
             ]
            ],
            "type": "heatmapgl"
           }
          ],
          "histogram": [
           {
            "marker": {
             "colorbar": {
              "outlinewidth": 0,
              "ticks": ""
             }
            },
            "type": "histogram"
           }
          ],
          "histogram2d": [
           {
            "colorbar": {
             "outlinewidth": 0,
             "ticks": ""
            },
            "colorscale": [
             [
              0,
              "#0d0887"
             ],
             [
              0.1111111111111111,
              "#46039f"
             ],
             [
              0.2222222222222222,
              "#7201a8"
             ],
             [
              0.3333333333333333,
              "#9c179e"
             ],
             [
              0.4444444444444444,
              "#bd3786"
             ],
             [
              0.5555555555555556,
              "#d8576b"
             ],
             [
              0.6666666666666666,
              "#ed7953"
             ],
             [
              0.7777777777777778,
              "#fb9f3a"
             ],
             [
              0.8888888888888888,
              "#fdca26"
             ],
             [
              1,
              "#f0f921"
             ]
            ],
            "type": "histogram2d"
           }
          ],
          "histogram2dcontour": [
           {
            "colorbar": {
             "outlinewidth": 0,
             "ticks": ""
            },
            "colorscale": [
             [
              0,
              "#0d0887"
             ],
             [
              0.1111111111111111,
              "#46039f"
             ],
             [
              0.2222222222222222,
              "#7201a8"
             ],
             [
              0.3333333333333333,
              "#9c179e"
             ],
             [
              0.4444444444444444,
              "#bd3786"
             ],
             [
              0.5555555555555556,
              "#d8576b"
             ],
             [
              0.6666666666666666,
              "#ed7953"
             ],
             [
              0.7777777777777778,
              "#fb9f3a"
             ],
             [
              0.8888888888888888,
              "#fdca26"
             ],
             [
              1,
              "#f0f921"
             ]
            ],
            "type": "histogram2dcontour"
           }
          ],
          "mesh3d": [
           {
            "colorbar": {
             "outlinewidth": 0,
             "ticks": ""
            },
            "type": "mesh3d"
           }
          ],
          "parcoords": [
           {
            "line": {
             "colorbar": {
              "outlinewidth": 0,
              "ticks": ""
             }
            },
            "type": "parcoords"
           }
          ],
          "pie": [
           {
            "automargin": true,
            "type": "pie"
           }
          ],
          "scatter": [
           {
            "marker": {
             "colorbar": {
              "outlinewidth": 0,
              "ticks": ""
             }
            },
            "type": "scatter"
           }
          ],
          "scatter3d": [
           {
            "line": {
             "colorbar": {
              "outlinewidth": 0,
              "ticks": ""
             }
            },
            "marker": {
             "colorbar": {
              "outlinewidth": 0,
              "ticks": ""
             }
            },
            "type": "scatter3d"
           }
          ],
          "scattercarpet": [
           {
            "marker": {
             "colorbar": {
              "outlinewidth": 0,
              "ticks": ""
             }
            },
            "type": "scattercarpet"
           }
          ],
          "scattergeo": [
           {
            "marker": {
             "colorbar": {
              "outlinewidth": 0,
              "ticks": ""
             }
            },
            "type": "scattergeo"
           }
          ],
          "scattergl": [
           {
            "marker": {
             "colorbar": {
              "outlinewidth": 0,
              "ticks": ""
             }
            },
            "type": "scattergl"
           }
          ],
          "scattermapbox": [
           {
            "marker": {
             "colorbar": {
              "outlinewidth": 0,
              "ticks": ""
             }
            },
            "type": "scattermapbox"
           }
          ],
          "scatterpolar": [
           {
            "marker": {
             "colorbar": {
              "outlinewidth": 0,
              "ticks": ""
             }
            },
            "type": "scatterpolar"
           }
          ],
          "scatterpolargl": [
           {
            "marker": {
             "colorbar": {
              "outlinewidth": 0,
              "ticks": ""
             }
            },
            "type": "scatterpolargl"
           }
          ],
          "scatterternary": [
           {
            "marker": {
             "colorbar": {
              "outlinewidth": 0,
              "ticks": ""
             }
            },
            "type": "scatterternary"
           }
          ],
          "surface": [
           {
            "colorbar": {
             "outlinewidth": 0,
             "ticks": ""
            },
            "colorscale": [
             [
              0,
              "#0d0887"
             ],
             [
              0.1111111111111111,
              "#46039f"
             ],
             [
              0.2222222222222222,
              "#7201a8"
             ],
             [
              0.3333333333333333,
              "#9c179e"
             ],
             [
              0.4444444444444444,
              "#bd3786"
             ],
             [
              0.5555555555555556,
              "#d8576b"
             ],
             [
              0.6666666666666666,
              "#ed7953"
             ],
             [
              0.7777777777777778,
              "#fb9f3a"
             ],
             [
              0.8888888888888888,
              "#fdca26"
             ],
             [
              1,
              "#f0f921"
             ]
            ],
            "type": "surface"
           }
          ],
          "table": [
           {
            "cells": {
             "fill": {
              "color": "#EBF0F8"
             },
             "line": {
              "color": "white"
             }
            },
            "header": {
             "fill": {
              "color": "#C8D4E3"
             },
             "line": {
              "color": "white"
             }
            },
            "type": "table"
           }
          ]
         },
         "layout": {
          "annotationdefaults": {
           "arrowcolor": "#2a3f5f",
           "arrowhead": 0,
           "arrowwidth": 1
          },
          "coloraxis": {
           "colorbar": {
            "outlinewidth": 0,
            "ticks": ""
           }
          },
          "colorscale": {
           "diverging": [
            [
             0,
             "#8e0152"
            ],
            [
             0.1,
             "#c51b7d"
            ],
            [
             0.2,
             "#de77ae"
            ],
            [
             0.3,
             "#f1b6da"
            ],
            [
             0.4,
             "#fde0ef"
            ],
            [
             0.5,
             "#f7f7f7"
            ],
            [
             0.6,
             "#e6f5d0"
            ],
            [
             0.7,
             "#b8e186"
            ],
            [
             0.8,
             "#7fbc41"
            ],
            [
             0.9,
             "#4d9221"
            ],
            [
             1,
             "#276419"
            ]
           ],
           "sequential": [
            [
             0,
             "#0d0887"
            ],
            [
             0.1111111111111111,
             "#46039f"
            ],
            [
             0.2222222222222222,
             "#7201a8"
            ],
            [
             0.3333333333333333,
             "#9c179e"
            ],
            [
             0.4444444444444444,
             "#bd3786"
            ],
            [
             0.5555555555555556,
             "#d8576b"
            ],
            [
             0.6666666666666666,
             "#ed7953"
            ],
            [
             0.7777777777777778,
             "#fb9f3a"
            ],
            [
             0.8888888888888888,
             "#fdca26"
            ],
            [
             1,
             "#f0f921"
            ]
           ],
           "sequentialminus": [
            [
             0,
             "#0d0887"
            ],
            [
             0.1111111111111111,
             "#46039f"
            ],
            [
             0.2222222222222222,
             "#7201a8"
            ],
            [
             0.3333333333333333,
             "#9c179e"
            ],
            [
             0.4444444444444444,
             "#bd3786"
            ],
            [
             0.5555555555555556,
             "#d8576b"
            ],
            [
             0.6666666666666666,
             "#ed7953"
            ],
            [
             0.7777777777777778,
             "#fb9f3a"
            ],
            [
             0.8888888888888888,
             "#fdca26"
            ],
            [
             1,
             "#f0f921"
            ]
           ]
          },
          "colorway": [
           "#636efa",
           "#EF553B",
           "#00cc96",
           "#ab63fa",
           "#FFA15A",
           "#19d3f3",
           "#FF6692",
           "#B6E880",
           "#FF97FF",
           "#FECB52"
          ],
          "font": {
           "color": "#2a3f5f"
          },
          "geo": {
           "bgcolor": "white",
           "lakecolor": "white",
           "landcolor": "#E5ECF6",
           "showlakes": true,
           "showland": true,
           "subunitcolor": "white"
          },
          "hoverlabel": {
           "align": "left"
          },
          "hovermode": "closest",
          "mapbox": {
           "style": "light"
          },
          "paper_bgcolor": "white",
          "plot_bgcolor": "#E5ECF6",
          "polar": {
           "angularaxis": {
            "gridcolor": "white",
            "linecolor": "white",
            "ticks": ""
           },
           "bgcolor": "#E5ECF6",
           "radialaxis": {
            "gridcolor": "white",
            "linecolor": "white",
            "ticks": ""
           }
          },
          "scene": {
           "xaxis": {
            "backgroundcolor": "#E5ECF6",
            "gridcolor": "white",
            "gridwidth": 2,
            "linecolor": "white",
            "showbackground": true,
            "ticks": "",
            "zerolinecolor": "white"
           },
           "yaxis": {
            "backgroundcolor": "#E5ECF6",
            "gridcolor": "white",
            "gridwidth": 2,
            "linecolor": "white",
            "showbackground": true,
            "ticks": "",
            "zerolinecolor": "white"
           },
           "zaxis": {
            "backgroundcolor": "#E5ECF6",
            "gridcolor": "white",
            "gridwidth": 2,
            "linecolor": "white",
            "showbackground": true,
            "ticks": "",
            "zerolinecolor": "white"
           }
          },
          "shapedefaults": {
           "line": {
            "color": "#2a3f5f"
           }
          },
          "ternary": {
           "aaxis": {
            "gridcolor": "white",
            "linecolor": "white",
            "ticks": ""
           },
           "baxis": {
            "gridcolor": "white",
            "linecolor": "white",
            "ticks": ""
           },
           "bgcolor": "#E5ECF6",
           "caxis": {
            "gridcolor": "white",
            "linecolor": "white",
            "ticks": ""
           }
          },
          "title": {
           "x": 0.05
          },
          "xaxis": {
           "automargin": true,
           "gridcolor": "white",
           "linecolor": "white",
           "ticks": "",
           "title": {
            "standoff": 15
           },
           "zerolinecolor": "white",
           "zerolinewidth": 2
          },
          "yaxis": {
           "automargin": true,
           "gridcolor": "white",
           "linecolor": "white",
           "ticks": "",
           "title": {
            "standoff": 15
           },
           "zerolinecolor": "white",
           "zerolinewidth": 2
          }
         }
        },
        "title": {
         "font": {
          "color": "#4D5663"
         }
        },
        "xaxis": {
         "gridcolor": "#E1E5ED",
         "showgrid": true,
         "tickfont": {
          "color": "#4D5663"
         },
         "title": {
          "font": {
           "color": "#4D5663"
          },
          "text": ""
         },
         "zerolinecolor": "#E1E5ED"
        },
        "yaxis": {
         "gridcolor": "#E1E5ED",
         "showgrid": true,
         "tickfont": {
          "color": "#4D5663"
         },
         "title": {
          "font": {
           "color": "#4D5663"
          },
          "text": ""
         },
         "zerolinecolor": "#E1E5ED"
        }
       }
      },
      "text/html": [
       "<div>\n",
       "        \n",
       "        \n",
       "            <div id=\"6a3b18f6-4888-410e-90b0-648406d6bdbd\" class=\"plotly-graph-div\" style=\"height:525px; width:100%;\"></div>\n",
       "            <script type=\"text/javascript\">\n",
       "                require([\"plotly\"], function(Plotly) {\n",
       "                    window.PLOTLYENV=window.PLOTLYENV || {};\n",
       "                    window.PLOTLYENV.BASE_URL='https://plot.ly';\n",
       "                    \n",
       "                if (document.getElementById(\"6a3b18f6-4888-410e-90b0-648406d6bdbd\")) {\n",
       "                    Plotly.newPlot(\n",
       "                        '6a3b18f6-4888-410e-90b0-648406d6bdbd',\n",
       "                        [{\"colorscale\": [[0.0, \"rgb(165,0,38)\"], [0.1, \"rgb(215,48,39)\"], [0.2, \"rgb(244,109,67)\"], [0.3, \"rgb(253,174,97)\"], [0.4, \"rgb(254,224,144)\"], [0.5, \"rgb(255,255,191)\"], [0.6, \"rgb(224,243,248)\"], [0.7, \"rgb(171,217,233)\"], [0.8, \"rgb(116,173,209)\"], [0.9, \"rgb(69,117,180)\"], [1.0, \"rgb(49,54,149)\"]], \"type\": \"surface\", \"x\": [0, 1, 2, 3, 4], \"y\": [\"x\", \"y\", \"z\"], \"z\": [[1, 2, 3, 4, 5], [10, 20, 30, 20, 10], [5, 4, 3, 2, 1]]}],\n",
       "                        {\"legend\": {\"bgcolor\": \"#F5F6F9\", \"font\": {\"color\": \"#4D5663\"}}, \"paper_bgcolor\": \"#F5F6F9\", \"plot_bgcolor\": \"#F5F6F9\", \"template\": {\"data\": {\"bar\": [{\"error_x\": {\"color\": \"#2a3f5f\"}, \"error_y\": {\"color\": \"#2a3f5f\"}, \"marker\": {\"line\": {\"color\": \"#E5ECF6\", \"width\": 0.5}}, \"type\": \"bar\"}], \"barpolar\": [{\"marker\": {\"line\": {\"color\": \"#E5ECF6\", \"width\": 0.5}}, \"type\": \"barpolar\"}], \"carpet\": [{\"aaxis\": {\"endlinecolor\": \"#2a3f5f\", \"gridcolor\": \"white\", \"linecolor\": \"white\", \"minorgridcolor\": \"white\", \"startlinecolor\": \"#2a3f5f\"}, \"baxis\": {\"endlinecolor\": \"#2a3f5f\", \"gridcolor\": \"white\", \"linecolor\": \"white\", \"minorgridcolor\": \"white\", \"startlinecolor\": \"#2a3f5f\"}, \"type\": \"carpet\"}], \"choropleth\": [{\"colorbar\": {\"outlinewidth\": 0, \"ticks\": \"\"}, \"type\": \"choropleth\"}], \"contour\": [{\"colorbar\": {\"outlinewidth\": 0, \"ticks\": \"\"}, \"colorscale\": [[0.0, \"#0d0887\"], [0.1111111111111111, \"#46039f\"], [0.2222222222222222, \"#7201a8\"], [0.3333333333333333, \"#9c179e\"], [0.4444444444444444, \"#bd3786\"], [0.5555555555555556, \"#d8576b\"], [0.6666666666666666, \"#ed7953\"], [0.7777777777777778, \"#fb9f3a\"], [0.8888888888888888, \"#fdca26\"], [1.0, \"#f0f921\"]], \"type\": \"contour\"}], \"contourcarpet\": [{\"colorbar\": {\"outlinewidth\": 0, \"ticks\": \"\"}, \"type\": \"contourcarpet\"}], \"heatmap\": [{\"colorbar\": {\"outlinewidth\": 0, \"ticks\": \"\"}, \"colorscale\": [[0.0, \"#0d0887\"], [0.1111111111111111, \"#46039f\"], [0.2222222222222222, \"#7201a8\"], [0.3333333333333333, \"#9c179e\"], [0.4444444444444444, \"#bd3786\"], [0.5555555555555556, \"#d8576b\"], [0.6666666666666666, \"#ed7953\"], [0.7777777777777778, \"#fb9f3a\"], [0.8888888888888888, \"#fdca26\"], [1.0, \"#f0f921\"]], \"type\": \"heatmap\"}], \"heatmapgl\": [{\"colorbar\": {\"outlinewidth\": 0, \"ticks\": \"\"}, \"colorscale\": [[0.0, \"#0d0887\"], [0.1111111111111111, \"#46039f\"], [0.2222222222222222, \"#7201a8\"], [0.3333333333333333, \"#9c179e\"], [0.4444444444444444, \"#bd3786\"], [0.5555555555555556, \"#d8576b\"], [0.6666666666666666, \"#ed7953\"], [0.7777777777777778, \"#fb9f3a\"], [0.8888888888888888, \"#fdca26\"], [1.0, \"#f0f921\"]], \"type\": \"heatmapgl\"}], \"histogram\": [{\"marker\": {\"colorbar\": {\"outlinewidth\": 0, \"ticks\": \"\"}}, \"type\": \"histogram\"}], \"histogram2d\": [{\"colorbar\": {\"outlinewidth\": 0, \"ticks\": \"\"}, \"colorscale\": [[0.0, \"#0d0887\"], [0.1111111111111111, \"#46039f\"], [0.2222222222222222, \"#7201a8\"], [0.3333333333333333, \"#9c179e\"], [0.4444444444444444, \"#bd3786\"], [0.5555555555555556, \"#d8576b\"], [0.6666666666666666, \"#ed7953\"], [0.7777777777777778, \"#fb9f3a\"], [0.8888888888888888, \"#fdca26\"], [1.0, \"#f0f921\"]], \"type\": \"histogram2d\"}], \"histogram2dcontour\": [{\"colorbar\": {\"outlinewidth\": 0, \"ticks\": \"\"}, \"colorscale\": [[0.0, \"#0d0887\"], [0.1111111111111111, \"#46039f\"], [0.2222222222222222, \"#7201a8\"], [0.3333333333333333, \"#9c179e\"], [0.4444444444444444, \"#bd3786\"], [0.5555555555555556, \"#d8576b\"], [0.6666666666666666, \"#ed7953\"], [0.7777777777777778, \"#fb9f3a\"], [0.8888888888888888, \"#fdca26\"], [1.0, \"#f0f921\"]], \"type\": \"histogram2dcontour\"}], \"mesh3d\": [{\"colorbar\": {\"outlinewidth\": 0, \"ticks\": \"\"}, \"type\": \"mesh3d\"}], \"parcoords\": [{\"line\": {\"colorbar\": {\"outlinewidth\": 0, \"ticks\": \"\"}}, \"type\": \"parcoords\"}], \"pie\": [{\"automargin\": true, \"type\": \"pie\"}], \"scatter\": [{\"marker\": {\"colorbar\": {\"outlinewidth\": 0, \"ticks\": \"\"}}, \"type\": \"scatter\"}], \"scatter3d\": [{\"line\": {\"colorbar\": {\"outlinewidth\": 0, \"ticks\": \"\"}}, \"marker\": {\"colorbar\": {\"outlinewidth\": 0, \"ticks\": \"\"}}, \"type\": \"scatter3d\"}], \"scattercarpet\": [{\"marker\": {\"colorbar\": {\"outlinewidth\": 0, \"ticks\": \"\"}}, \"type\": \"scattercarpet\"}], \"scattergeo\": [{\"marker\": {\"colorbar\": {\"outlinewidth\": 0, \"ticks\": \"\"}}, \"type\": \"scattergeo\"}], \"scattergl\": [{\"marker\": {\"colorbar\": {\"outlinewidth\": 0, \"ticks\": \"\"}}, \"type\": \"scattergl\"}], \"scattermapbox\": [{\"marker\": {\"colorbar\": {\"outlinewidth\": 0, \"ticks\": \"\"}}, \"type\": \"scattermapbox\"}], \"scatterpolar\": [{\"marker\": {\"colorbar\": {\"outlinewidth\": 0, \"ticks\": \"\"}}, \"type\": \"scatterpolar\"}], \"scatterpolargl\": [{\"marker\": {\"colorbar\": {\"outlinewidth\": 0, \"ticks\": \"\"}}, \"type\": \"scatterpolargl\"}], \"scatterternary\": [{\"marker\": {\"colorbar\": {\"outlinewidth\": 0, \"ticks\": \"\"}}, \"type\": \"scatterternary\"}], \"surface\": [{\"colorbar\": {\"outlinewidth\": 0, \"ticks\": \"\"}, \"colorscale\": [[0.0, \"#0d0887\"], [0.1111111111111111, \"#46039f\"], [0.2222222222222222, \"#7201a8\"], [0.3333333333333333, \"#9c179e\"], [0.4444444444444444, \"#bd3786\"], [0.5555555555555556, \"#d8576b\"], [0.6666666666666666, \"#ed7953\"], [0.7777777777777778, \"#fb9f3a\"], [0.8888888888888888, \"#fdca26\"], [1.0, \"#f0f921\"]], \"type\": \"surface\"}], \"table\": [{\"cells\": {\"fill\": {\"color\": \"#EBF0F8\"}, \"line\": {\"color\": \"white\"}}, \"header\": {\"fill\": {\"color\": \"#C8D4E3\"}, \"line\": {\"color\": \"white\"}}, \"type\": \"table\"}]}, \"layout\": {\"annotationdefaults\": {\"arrowcolor\": \"#2a3f5f\", \"arrowhead\": 0, \"arrowwidth\": 1}, \"coloraxis\": {\"colorbar\": {\"outlinewidth\": 0, \"ticks\": \"\"}}, \"colorscale\": {\"diverging\": [[0, \"#8e0152\"], [0.1, \"#c51b7d\"], [0.2, \"#de77ae\"], [0.3, \"#f1b6da\"], [0.4, \"#fde0ef\"], [0.5, \"#f7f7f7\"], [0.6, \"#e6f5d0\"], [0.7, \"#b8e186\"], [0.8, \"#7fbc41\"], [0.9, \"#4d9221\"], [1, \"#276419\"]], \"sequential\": [[0.0, \"#0d0887\"], [0.1111111111111111, \"#46039f\"], [0.2222222222222222, \"#7201a8\"], [0.3333333333333333, \"#9c179e\"], [0.4444444444444444, \"#bd3786\"], [0.5555555555555556, \"#d8576b\"], [0.6666666666666666, \"#ed7953\"], [0.7777777777777778, \"#fb9f3a\"], [0.8888888888888888, \"#fdca26\"], [1.0, \"#f0f921\"]], \"sequentialminus\": [[0.0, \"#0d0887\"], [0.1111111111111111, \"#46039f\"], [0.2222222222222222, \"#7201a8\"], [0.3333333333333333, \"#9c179e\"], [0.4444444444444444, \"#bd3786\"], [0.5555555555555556, \"#d8576b\"], [0.6666666666666666, \"#ed7953\"], [0.7777777777777778, \"#fb9f3a\"], [0.8888888888888888, \"#fdca26\"], [1.0, \"#f0f921\"]]}, \"colorway\": [\"#636efa\", \"#EF553B\", \"#00cc96\", \"#ab63fa\", \"#FFA15A\", \"#19d3f3\", \"#FF6692\", \"#B6E880\", \"#FF97FF\", \"#FECB52\"], \"font\": {\"color\": \"#2a3f5f\"}, \"geo\": {\"bgcolor\": \"white\", \"lakecolor\": \"white\", \"landcolor\": \"#E5ECF6\", \"showlakes\": true, \"showland\": true, \"subunitcolor\": \"white\"}, \"hoverlabel\": {\"align\": \"left\"}, \"hovermode\": \"closest\", \"mapbox\": {\"style\": \"light\"}, \"paper_bgcolor\": \"white\", \"plot_bgcolor\": \"#E5ECF6\", \"polar\": {\"angularaxis\": {\"gridcolor\": \"white\", \"linecolor\": \"white\", \"ticks\": \"\"}, \"bgcolor\": \"#E5ECF6\", \"radialaxis\": {\"gridcolor\": \"white\", \"linecolor\": \"white\", \"ticks\": \"\"}}, \"scene\": {\"xaxis\": {\"backgroundcolor\": \"#E5ECF6\", \"gridcolor\": \"white\", \"gridwidth\": 2, \"linecolor\": \"white\", \"showbackground\": true, \"ticks\": \"\", \"zerolinecolor\": \"white\"}, \"yaxis\": {\"backgroundcolor\": \"#E5ECF6\", \"gridcolor\": \"white\", \"gridwidth\": 2, \"linecolor\": \"white\", \"showbackground\": true, \"ticks\": \"\", \"zerolinecolor\": \"white\"}, \"zaxis\": {\"backgroundcolor\": \"#E5ECF6\", \"gridcolor\": \"white\", \"gridwidth\": 2, \"linecolor\": \"white\", \"showbackground\": true, \"ticks\": \"\", \"zerolinecolor\": \"white\"}}, \"shapedefaults\": {\"line\": {\"color\": \"#2a3f5f\"}}, \"ternary\": {\"aaxis\": {\"gridcolor\": \"white\", \"linecolor\": \"white\", \"ticks\": \"\"}, \"baxis\": {\"gridcolor\": \"white\", \"linecolor\": \"white\", \"ticks\": \"\"}, \"bgcolor\": \"#E5ECF6\", \"caxis\": {\"gridcolor\": \"white\", \"linecolor\": \"white\", \"ticks\": \"\"}}, \"title\": {\"x\": 0.05}, \"xaxis\": {\"automargin\": true, \"gridcolor\": \"white\", \"linecolor\": \"white\", \"ticks\": \"\", \"title\": {\"standoff\": 15}, \"zerolinecolor\": \"white\", \"zerolinewidth\": 2}, \"yaxis\": {\"automargin\": true, \"gridcolor\": \"white\", \"linecolor\": \"white\", \"ticks\": \"\", \"title\": {\"standoff\": 15}, \"zerolinecolor\": \"white\", \"zerolinewidth\": 2}}}, \"title\": {\"font\": {\"color\": \"#4D5663\"}}, \"xaxis\": {\"gridcolor\": \"#E1E5ED\", \"showgrid\": true, \"tickfont\": {\"color\": \"#4D5663\"}, \"title\": {\"font\": {\"color\": \"#4D5663\"}, \"text\": \"\"}, \"zerolinecolor\": \"#E1E5ED\"}, \"yaxis\": {\"gridcolor\": \"#E1E5ED\", \"showgrid\": true, \"tickfont\": {\"color\": \"#4D5663\"}, \"title\": {\"font\": {\"color\": \"#4D5663\"}, \"text\": \"\"}, \"zerolinecolor\": \"#E1E5ED\"}},\n",
       "                        {\"showLink\": true, \"linkText\": \"Export to plot.ly\", \"plotlyServerURL\": \"https://plot.ly\", \"responsive\": true}\n",
       "                    ).then(function(){\n",
       "                            \n",
       "var gd = document.getElementById('6a3b18f6-4888-410e-90b0-648406d6bdbd');\n",
       "var x = new MutationObserver(function (mutations, observer) {{\n",
       "        var display = window.getComputedStyle(gd).display;\n",
       "        if (!display || display === 'none') {{\n",
       "            console.log([gd, 'removed!']);\n",
       "            Plotly.purge(gd);\n",
       "            observer.disconnect();\n",
       "        }}\n",
       "}});\n",
       "\n",
       "// Listen for the removal of the full notebook cells\n",
       "var notebookContainer = gd.closest('#notebook-container');\n",
       "if (notebookContainer) {{\n",
       "    x.observe(notebookContainer, {childList: true});\n",
       "}}\n",
       "\n",
       "// Listen for the clearing of the current output cell\n",
       "var outputEl = gd.closest('.output');\n",
       "if (outputEl) {{\n",
       "    x.observe(outputEl, {childList: true});\n",
       "}}\n",
       "\n",
       "                        })\n",
       "                };\n",
       "                });\n",
       "            </script>\n",
       "        </div>"
      ]
     },
     "metadata": {},
     "output_type": "display_data"
    }
   ],
   "source": [
    "df3 = pd.DataFrame({'x':[1,2,3,4,5],'y':[10,20,30,20,10],'z':[5,4,3,2,1]})\n",
    "df3.iplot(kind='surface',colorscale='rdylbu')"
   ]
  },
  {
   "cell_type": "markdown",
   "metadata": {},
   "source": [
    "## Spread"
   ]
  },
  {
   "cell_type": "code",
   "execution_count": 16,
   "metadata": {},
   "outputs": [
    {
     "name": "stderr",
     "output_type": "stream",
     "text": [
      "D:\\akhil\\Anaconda3\\lib\\site-packages\\cufflinks\\plotlytools.py:849: FutureWarning:\n",
      "\n",
      "The pandas.np module is deprecated and will be removed from pandas in a future version. Import numpy directly instead\n",
      "\n",
      "D:\\akhil\\Anaconda3\\lib\\site-packages\\cufflinks\\plotlytools.py:850: FutureWarning:\n",
      "\n",
      "The pandas.np module is deprecated and will be removed from pandas in a future version. Import numpy directly instead\n",
      "\n"
     ]
    },
    {
     "data": {
      "application/vnd.plotly.v1+json": {
       "config": {
        "linkText": "Export to plot.ly",
        "plotlyServerURL": "https://plot.ly",
        "showLink": true
       },
       "data": [
        {
         "line": {
          "color": "rgba(255, 153, 51, 1.0)",
          "dash": "solid",
          "shape": "linear",
          "width": 1.3
         },
         "mode": "lines",
         "name": "A",
         "text": "",
         "type": "scatter",
         "x": [
          0,
          1,
          2,
          3,
          4,
          5,
          6,
          7,
          8,
          9,
          10,
          11,
          12,
          13,
          14,
          15,
          16,
          17,
          18,
          19,
          20,
          21,
          22,
          23,
          24,
          25,
          26,
          27,
          28,
          29,
          30,
          31,
          32,
          33,
          34,
          35,
          36,
          37,
          38,
          39,
          40,
          41,
          42,
          43,
          44,
          45,
          46,
          47,
          48,
          49,
          50,
          51,
          52,
          53,
          54,
          55,
          56,
          57,
          58,
          59,
          60,
          61,
          62,
          63,
          64,
          65,
          66,
          67,
          68,
          69,
          70,
          71,
          72,
          73,
          74,
          75,
          76,
          77,
          78,
          79,
          80,
          81,
          82,
          83,
          84,
          85,
          86,
          87,
          88,
          89,
          90,
          91,
          92,
          93,
          94,
          95,
          96,
          97,
          98,
          99
         ],
         "y": [
          0.6451627172498443,
          -0.6469131036903166,
          0.07282760997978965,
          -0.39996672688275203,
          1.27888605560903,
          0.176984719501775,
          -0.3478450711317554,
          1.1669800856100079,
          -1.1509471161286047,
          -0.4042239505584384,
          2.647907647993073,
          0.36715327003169484,
          0.8432767828805269,
          -0.03464740419409103,
          1.076977486712486,
          0.8436970449566027,
          -0.7334470538578574,
          -1.2853302266665863,
          1.5173632050074661,
          0.54034616538293,
          -0.12868533708843397,
          -0.2645198777318922,
          -1.2398657992294475,
          -0.18530651824974842,
          1.5742851271891127,
          0.7450361771271075,
          -1.4086085803396364,
          0.14499502944366194,
          7.98357974058988e-05,
          0.2015099522526723,
          0.5197852516643461,
          0.8137691135724868,
          -0.7898519062290008,
          -0.2350610039304626,
          -0.47805951650580386,
          0.7420069762630155,
          -0.884344286449463,
          0.4881141842478061,
          0.2539682741135712,
          -0.2415755237551213,
          0.19379602987412708,
          -0.46794198489183425,
          -0.05582823809394771,
          -0.1722137535156207,
          0.8219202690922193,
          -2.960368117506735,
          -0.5735579419165826,
          0.23185189552088065,
          -1.5476457212277288,
          -0.7318010309338864,
          0.4276163168061164,
          0.7076939313668328,
          0.9103248805933472,
          -0.6350650519263663,
          -0.7846590711619182,
          0.5066197590616859,
          0.9475847712991983,
          1.4855797887769817,
          -0.5176716456152829,
          -1.9365130236965,
          -2.2657350481435565,
          1.740096036056405,
          1.8796902458539129,
          -0.6503568376832136,
          -1.1063832718418674,
          0.5540253031028719,
          -0.2255018506179424,
          -0.22246662275393148,
          0.3796040910645512,
          0.641004515444166,
          -1.5257174213827545,
          0.5582632071338453,
          0.7434395855922672,
          -0.6429138846665017,
          -1.1470053481199076,
          -0.058408415132721984,
          -0.087271021946233,
          -0.11490851526832321,
          0.09478161319117837,
          -0.06806715841681621,
          -0.9642493190741217,
          -0.008786798402462295,
          0.6396834488805198,
          -0.3259564250417379,
          0.5002594604189721,
          1.6301959446629615,
          0.4764493472735545,
          -0.5917483321647256,
          1.3687335513621266,
          1.427544217794121,
          -0.6919940853120521,
          -2.0309623995200567,
          -0.8535043207183718,
          -0.7453142827178897,
          1.4886049411007722,
          1.376550678415612,
          0.4662319719767733,
          1.0996702131134612,
          -0.4293423418754007,
          -0.15580447473223744
         ]
        },
        {
         "line": {
          "color": "rgba(55, 128, 191, 1.0)",
          "dash": "solid",
          "shape": "linear",
          "width": 1.3
         },
         "mode": "lines",
         "name": "B",
         "text": "",
         "type": "scatter",
         "x": [
          0,
          1,
          2,
          3,
          4,
          5,
          6,
          7,
          8,
          9,
          10,
          11,
          12,
          13,
          14,
          15,
          16,
          17,
          18,
          19,
          20,
          21,
          22,
          23,
          24,
          25,
          26,
          27,
          28,
          29,
          30,
          31,
          32,
          33,
          34,
          35,
          36,
          37,
          38,
          39,
          40,
          41,
          42,
          43,
          44,
          45,
          46,
          47,
          48,
          49,
          50,
          51,
          52,
          53,
          54,
          55,
          56,
          57,
          58,
          59,
          60,
          61,
          62,
          63,
          64,
          65,
          66,
          67,
          68,
          69,
          70,
          71,
          72,
          73,
          74,
          75,
          76,
          77,
          78,
          79,
          80,
          81,
          82,
          83,
          84,
          85,
          86,
          87,
          88,
          89,
          90,
          91,
          92,
          93,
          94,
          95,
          96,
          97,
          98,
          99
         ],
         "y": [
          0.5349692410513225,
          -1.014328904542226,
          0.2229060005876184,
          -1.7581772675544798,
          0.37231115079283594,
          0.579264731188161,
          0.5718854242262145,
          -0.700421563136451,
          -0.6925810383508683,
          0.4790117557619783,
          0.24442530830143844,
          0.764748398677337,
          1.754347313478873,
          -0.40762244722224095,
          0.6650490169408635,
          -2.3902605775371946,
          0.7147583929606929,
          0.11896721666819543,
          -0.8028148154089121,
          1.6952701768643617,
          -2.7763997397425295,
          -0.01340515185356433,
          1.7784608524477292,
          -0.2885044914699736,
          1.0466215220208286,
          -0.9043684133288886,
          -0.6042356903023718,
          -1.6847822028654627,
          1.5297218731150697,
          1.3415136153615916,
          -0.37716657605716297,
          -1.0494981799232466,
          -0.500402274016725,
          -1.2181761971009173,
          -1.776210252204733,
          -0.3968897194559243,
          -0.322374690719606,
          -0.4012294945234382,
          2.035203464686686,
          1.1016567270559787,
          -0.14018196572980843,
          1.467813159453069,
          1.3809154248444366,
          -0.08205647775417348,
          -0.36341565920138735,
          0.07233594739972496,
          -1.0583568734506534,
          0.5560235499153585,
          2.176848979597883,
          0.9596586425683493,
          -0.3407743636640172,
          -1.7348677657723248,
          1.3577160606563694,
          0.05361173356677967,
          -1.3718095272286817,
          0.871112952667962,
          1.885708131400474,
          0.2170343177318166,
          -0.46920835974248226,
          1.3866627336967794,
          -0.6302221497234748,
          0.5301234274057091,
          -1.0564523821783804,
          -0.276707432201371,
          0.15170855981121262,
          0.43436907082471166,
          0.4744302146164032,
          -0.405764320028978,
          1.0481786716642518,
          0.11106210546013959,
          -1.5355277427466816,
          -0.045065170946819125,
          1.1894829955165938,
          -0.6775899242032235,
          0.5791523631524266,
          0.9636909001251861,
          0.3592607945727012,
          1.0994552085095473,
          0.8899020832464846,
          0.6136225224274325,
          0.6338374255363178,
          0.0729077581586196,
          -0.8213726655976707,
          0.06228745285536487,
          0.5290657124345663,
          0.13750720436213548,
          -1.2011407826241554,
          -0.21817446269581114,
          0.47476188782199336,
          0.3260651872156575,
          -0.36511298792012614,
          -0.6194016745901185,
          0.49622265016446104,
          -1.4253888279048446,
          0.6925910212982547,
          -1.1932783398603268,
          -0.3783372011436178,
          0.39282058649038537,
          0.006989733582659156,
          0.2866238712221347
         ]
        },
        {
         "connectgaps": false,
         "fill": "tozeroy",
         "line": {
          "color": "green",
          "dash": "solid",
          "shape": "linear",
          "width": 0.5
         },
         "mode": "lines",
         "name": "Spread",
         "showlegend": false,
         "type": "scatter",
         "x": [
          0,
          1,
          2,
          3,
          4,
          5,
          6,
          7,
          8,
          9,
          10,
          11,
          12,
          13,
          14,
          15,
          16,
          17,
          18,
          19,
          20,
          21,
          22,
          23,
          24,
          25,
          26,
          27,
          28,
          29,
          30,
          31,
          32,
          33,
          34,
          35,
          36,
          37,
          38,
          39,
          40,
          41,
          42,
          43,
          44,
          45,
          46,
          47,
          48,
          49,
          50,
          51,
          52,
          53,
          54,
          55,
          56,
          57,
          58,
          59,
          60,
          61,
          62,
          63,
          64,
          65,
          66,
          67,
          68,
          69,
          70,
          71,
          72,
          73,
          74,
          75,
          76,
          77,
          78,
          79,
          80,
          81,
          82,
          83,
          84,
          85,
          86,
          87,
          88,
          89,
          90,
          91,
          92,
          93,
          94,
          95,
          96,
          97,
          98,
          99
         ],
         "xaxis": "x2",
         "y": [
          0.11019347619852182,
          0.3674158008519093,
          "",
          1.3582105406717278,
          0.9065749048161941,
          "",
          "",
          1.8674016487464589,
          "",
          "",
          2.4034823396916347,
          "",
          "",
          0.37297504302814993,
          0.41192846977162245,
          3.233957622493797,
          "",
          "",
          2.320178020416378,
          "",
          2.6477144026540955,
          "",
          "",
          0.10319797322022517,
          0.5276636051682841,
          1.6494045904559962,
          "",
          1.8297772323091246,
          "",
          "",
          0.896951827721509,
          1.8632672934957335,
          "",
          0.9831151931704547,
          1.298150735698929,
          1.1388966957189397,
          "",
          0.8893436787712443,
          "",
          "",
          0.3339779956039355,
          "",
          "",
          "",
          1.1853359282936067,
          "",
          0.48479893153407083,
          "",
          "",
          "",
          0.7683906804701336,
          2.4425616971391575,
          "",
          "",
          0.5871504560667634,
          "",
          "",
          1.2685454710451651,
          "",
          "",
          "",
          1.2099726086506961,
          2.936142628032293,
          "",
          "",
          0.11965623227816025,
          "",
          0.18329769727504652,
          "",
          0.5299424099840264,
          0.009810321363927121,
          0.6033283780806644,
          "",
          0.034676039536721825,
          "",
          "",
          "",
          "",
          "",
          "",
          "",
          "",
          1.4610561144781906,
          "",
          "",
          1.492688740300826,
          1.6775901298977098,
          "",
          0.8939716635401332,
          1.1014790305784636,
          "",
          "",
          "",
          0.6800745451869549,
          0.7960139198025176,
          2.569829018275939,
          0.844569173120391,
          0.7068496266230759,
          "",
          ""
         ],
         "yaxis": "y2"
        },
        {
         "connectgaps": false,
         "fill": "tozeroy",
         "line": {
          "color": "red",
          "dash": "solid",
          "shape": "linear",
          "width": 0.5
         },
         "mode": "lines",
         "name": "Spread",
         "showlegend": false,
         "type": "scatter",
         "x": [
          0,
          1,
          2,
          3,
          4,
          5,
          6,
          7,
          8,
          9,
          10,
          11,
          12,
          13,
          14,
          15,
          16,
          17,
          18,
          19,
          20,
          21,
          22,
          23,
          24,
          25,
          26,
          27,
          28,
          29,
          30,
          31,
          32,
          33,
          34,
          35,
          36,
          37,
          38,
          39,
          40,
          41,
          42,
          43,
          44,
          45,
          46,
          47,
          48,
          49,
          50,
          51,
          52,
          53,
          54,
          55,
          56,
          57,
          58,
          59,
          60,
          61,
          62,
          63,
          64,
          65,
          66,
          67,
          68,
          69,
          70,
          71,
          72,
          73,
          74,
          75,
          76,
          77,
          78,
          79,
          80,
          81,
          82,
          83,
          84,
          85,
          86,
          87,
          88,
          89,
          90,
          91,
          92,
          93,
          94,
          95,
          96,
          97,
          98,
          99
         ],
         "xaxis": "x2",
         "y": [
          "",
          "",
          -0.15007839060782874,
          "",
          "",
          -0.40228001168638605,
          -0.9197304953579699,
          "",
          -0.4583660777777364,
          -0.8832357063204167,
          "",
          -0.39759512864564217,
          -0.9110705305983461,
          "",
          "",
          "",
          -1.4482054468185503,
          -1.4042974433347817,
          "",
          -1.1549240114814316,
          "",
          -0.25111472587832784,
          -3.0183266516771767,
          "",
          "",
          "",
          -0.8043728900372646,
          "",
          -1.5296420373176638,
          -1.1400036631089194,
          "",
          "",
          -0.2894496322122758,
          "",
          "",
          "",
          -0.5619695957298569,
          "",
          -1.781235190573115,
          -1.3432322508111,
          "",
          -1.9357551443449033,
          -1.4367436629383843,
          -0.09015727576144723,
          "",
          -3.03270406490646,
          "",
          -0.32417165439447787,
          -3.7244947008256117,
          -1.6914596735022358,
          "",
          "",
          -0.44739118006302225,
          -0.6886767854931459,
          "",
          -0.3644931936062761,
          -0.9381233601012757,
          "",
          -0.04846328587280063,
          -3.3231757573932796,
          -1.6355128984200817,
          "",
          "",
          -0.3736494054818426,
          -1.25809183165308,
          "",
          -0.6999320652343456,
          "",
          -0.6685745805997007,
          "",
          "",
          "",
          -0.44604340992432656,
          "",
          -1.726157711272334,
          -1.022099315257908,
          -0.4465318165189342,
          -1.2143637237778704,
          -0.7951204700553062,
          -0.6816896808442487,
          -1.5980867446104394,
          -0.0816945565610819,
          "",
          -0.38824387789710274,
          -0.02880625201559428,
          "",
          "",
          -0.3735738694689144,
          "",
          "",
          -0.32688109739192595,
          -1.4115607249299382,
          -1.3497269708828328,
          "",
          "",
          "",
          "",
          "",
          -0.43633207545805985,
          -0.4424283459543721
         ],
         "yaxis": "y2"
        }
       ],
       "layout": {
        "hovermode": "x",
        "legend": {
         "bgcolor": "#F5F6F9",
         "font": {
          "color": "#4D5663"
         }
        },
        "paper_bgcolor": "#F5F6F9",
        "plot_bgcolor": "#F5F6F9",
        "template": {
         "data": {
          "bar": [
           {
            "error_x": {
             "color": "#2a3f5f"
            },
            "error_y": {
             "color": "#2a3f5f"
            },
            "marker": {
             "line": {
              "color": "#E5ECF6",
              "width": 0.5
             }
            },
            "type": "bar"
           }
          ],
          "barpolar": [
           {
            "marker": {
             "line": {
              "color": "#E5ECF6",
              "width": 0.5
             }
            },
            "type": "barpolar"
           }
          ],
          "carpet": [
           {
            "aaxis": {
             "endlinecolor": "#2a3f5f",
             "gridcolor": "white",
             "linecolor": "white",
             "minorgridcolor": "white",
             "startlinecolor": "#2a3f5f"
            },
            "baxis": {
             "endlinecolor": "#2a3f5f",
             "gridcolor": "white",
             "linecolor": "white",
             "minorgridcolor": "white",
             "startlinecolor": "#2a3f5f"
            },
            "type": "carpet"
           }
          ],
          "choropleth": [
           {
            "colorbar": {
             "outlinewidth": 0,
             "ticks": ""
            },
            "type": "choropleth"
           }
          ],
          "contour": [
           {
            "colorbar": {
             "outlinewidth": 0,
             "ticks": ""
            },
            "colorscale": [
             [
              0,
              "#0d0887"
             ],
             [
              0.1111111111111111,
              "#46039f"
             ],
             [
              0.2222222222222222,
              "#7201a8"
             ],
             [
              0.3333333333333333,
              "#9c179e"
             ],
             [
              0.4444444444444444,
              "#bd3786"
             ],
             [
              0.5555555555555556,
              "#d8576b"
             ],
             [
              0.6666666666666666,
              "#ed7953"
             ],
             [
              0.7777777777777778,
              "#fb9f3a"
             ],
             [
              0.8888888888888888,
              "#fdca26"
             ],
             [
              1,
              "#f0f921"
             ]
            ],
            "type": "contour"
           }
          ],
          "contourcarpet": [
           {
            "colorbar": {
             "outlinewidth": 0,
             "ticks": ""
            },
            "type": "contourcarpet"
           }
          ],
          "heatmap": [
           {
            "colorbar": {
             "outlinewidth": 0,
             "ticks": ""
            },
            "colorscale": [
             [
              0,
              "#0d0887"
             ],
             [
              0.1111111111111111,
              "#46039f"
             ],
             [
              0.2222222222222222,
              "#7201a8"
             ],
             [
              0.3333333333333333,
              "#9c179e"
             ],
             [
              0.4444444444444444,
              "#bd3786"
             ],
             [
              0.5555555555555556,
              "#d8576b"
             ],
             [
              0.6666666666666666,
              "#ed7953"
             ],
             [
              0.7777777777777778,
              "#fb9f3a"
             ],
             [
              0.8888888888888888,
              "#fdca26"
             ],
             [
              1,
              "#f0f921"
             ]
            ],
            "type": "heatmap"
           }
          ],
          "heatmapgl": [
           {
            "colorbar": {
             "outlinewidth": 0,
             "ticks": ""
            },
            "colorscale": [
             [
              0,
              "#0d0887"
             ],
             [
              0.1111111111111111,
              "#46039f"
             ],
             [
              0.2222222222222222,
              "#7201a8"
             ],
             [
              0.3333333333333333,
              "#9c179e"
             ],
             [
              0.4444444444444444,
              "#bd3786"
             ],
             [
              0.5555555555555556,
              "#d8576b"
             ],
             [
              0.6666666666666666,
              "#ed7953"
             ],
             [
              0.7777777777777778,
              "#fb9f3a"
             ],
             [
              0.8888888888888888,
              "#fdca26"
             ],
             [
              1,
              "#f0f921"
             ]
            ],
            "type": "heatmapgl"
           }
          ],
          "histogram": [
           {
            "marker": {
             "colorbar": {
              "outlinewidth": 0,
              "ticks": ""
             }
            },
            "type": "histogram"
           }
          ],
          "histogram2d": [
           {
            "colorbar": {
             "outlinewidth": 0,
             "ticks": ""
            },
            "colorscale": [
             [
              0,
              "#0d0887"
             ],
             [
              0.1111111111111111,
              "#46039f"
             ],
             [
              0.2222222222222222,
              "#7201a8"
             ],
             [
              0.3333333333333333,
              "#9c179e"
             ],
             [
              0.4444444444444444,
              "#bd3786"
             ],
             [
              0.5555555555555556,
              "#d8576b"
             ],
             [
              0.6666666666666666,
              "#ed7953"
             ],
             [
              0.7777777777777778,
              "#fb9f3a"
             ],
             [
              0.8888888888888888,
              "#fdca26"
             ],
             [
              1,
              "#f0f921"
             ]
            ],
            "type": "histogram2d"
           }
          ],
          "histogram2dcontour": [
           {
            "colorbar": {
             "outlinewidth": 0,
             "ticks": ""
            },
            "colorscale": [
             [
              0,
              "#0d0887"
             ],
             [
              0.1111111111111111,
              "#46039f"
             ],
             [
              0.2222222222222222,
              "#7201a8"
             ],
             [
              0.3333333333333333,
              "#9c179e"
             ],
             [
              0.4444444444444444,
              "#bd3786"
             ],
             [
              0.5555555555555556,
              "#d8576b"
             ],
             [
              0.6666666666666666,
              "#ed7953"
             ],
             [
              0.7777777777777778,
              "#fb9f3a"
             ],
             [
              0.8888888888888888,
              "#fdca26"
             ],
             [
              1,
              "#f0f921"
             ]
            ],
            "type": "histogram2dcontour"
           }
          ],
          "mesh3d": [
           {
            "colorbar": {
             "outlinewidth": 0,
             "ticks": ""
            },
            "type": "mesh3d"
           }
          ],
          "parcoords": [
           {
            "line": {
             "colorbar": {
              "outlinewidth": 0,
              "ticks": ""
             }
            },
            "type": "parcoords"
           }
          ],
          "pie": [
           {
            "automargin": true,
            "type": "pie"
           }
          ],
          "scatter": [
           {
            "marker": {
             "colorbar": {
              "outlinewidth": 0,
              "ticks": ""
             }
            },
            "type": "scatter"
           }
          ],
          "scatter3d": [
           {
            "line": {
             "colorbar": {
              "outlinewidth": 0,
              "ticks": ""
             }
            },
            "marker": {
             "colorbar": {
              "outlinewidth": 0,
              "ticks": ""
             }
            },
            "type": "scatter3d"
           }
          ],
          "scattercarpet": [
           {
            "marker": {
             "colorbar": {
              "outlinewidth": 0,
              "ticks": ""
             }
            },
            "type": "scattercarpet"
           }
          ],
          "scattergeo": [
           {
            "marker": {
             "colorbar": {
              "outlinewidth": 0,
              "ticks": ""
             }
            },
            "type": "scattergeo"
           }
          ],
          "scattergl": [
           {
            "marker": {
             "colorbar": {
              "outlinewidth": 0,
              "ticks": ""
             }
            },
            "type": "scattergl"
           }
          ],
          "scattermapbox": [
           {
            "marker": {
             "colorbar": {
              "outlinewidth": 0,
              "ticks": ""
             }
            },
            "type": "scattermapbox"
           }
          ],
          "scatterpolar": [
           {
            "marker": {
             "colorbar": {
              "outlinewidth": 0,
              "ticks": ""
             }
            },
            "type": "scatterpolar"
           }
          ],
          "scatterpolargl": [
           {
            "marker": {
             "colorbar": {
              "outlinewidth": 0,
              "ticks": ""
             }
            },
            "type": "scatterpolargl"
           }
          ],
          "scatterternary": [
           {
            "marker": {
             "colorbar": {
              "outlinewidth": 0,
              "ticks": ""
             }
            },
            "type": "scatterternary"
           }
          ],
          "surface": [
           {
            "colorbar": {
             "outlinewidth": 0,
             "ticks": ""
            },
            "colorscale": [
             [
              0,
              "#0d0887"
             ],
             [
              0.1111111111111111,
              "#46039f"
             ],
             [
              0.2222222222222222,
              "#7201a8"
             ],
             [
              0.3333333333333333,
              "#9c179e"
             ],
             [
              0.4444444444444444,
              "#bd3786"
             ],
             [
              0.5555555555555556,
              "#d8576b"
             ],
             [
              0.6666666666666666,
              "#ed7953"
             ],
             [
              0.7777777777777778,
              "#fb9f3a"
             ],
             [
              0.8888888888888888,
              "#fdca26"
             ],
             [
              1,
              "#f0f921"
             ]
            ],
            "type": "surface"
           }
          ],
          "table": [
           {
            "cells": {
             "fill": {
              "color": "#EBF0F8"
             },
             "line": {
              "color": "white"
             }
            },
            "header": {
             "fill": {
              "color": "#C8D4E3"
             },
             "line": {
              "color": "white"
             }
            },
            "type": "table"
           }
          ]
         },
         "layout": {
          "annotationdefaults": {
           "arrowcolor": "#2a3f5f",
           "arrowhead": 0,
           "arrowwidth": 1
          },
          "coloraxis": {
           "colorbar": {
            "outlinewidth": 0,
            "ticks": ""
           }
          },
          "colorscale": {
           "diverging": [
            [
             0,
             "#8e0152"
            ],
            [
             0.1,
             "#c51b7d"
            ],
            [
             0.2,
             "#de77ae"
            ],
            [
             0.3,
             "#f1b6da"
            ],
            [
             0.4,
             "#fde0ef"
            ],
            [
             0.5,
             "#f7f7f7"
            ],
            [
             0.6,
             "#e6f5d0"
            ],
            [
             0.7,
             "#b8e186"
            ],
            [
             0.8,
             "#7fbc41"
            ],
            [
             0.9,
             "#4d9221"
            ],
            [
             1,
             "#276419"
            ]
           ],
           "sequential": [
            [
             0,
             "#0d0887"
            ],
            [
             0.1111111111111111,
             "#46039f"
            ],
            [
             0.2222222222222222,
             "#7201a8"
            ],
            [
             0.3333333333333333,
             "#9c179e"
            ],
            [
             0.4444444444444444,
             "#bd3786"
            ],
            [
             0.5555555555555556,
             "#d8576b"
            ],
            [
             0.6666666666666666,
             "#ed7953"
            ],
            [
             0.7777777777777778,
             "#fb9f3a"
            ],
            [
             0.8888888888888888,
             "#fdca26"
            ],
            [
             1,
             "#f0f921"
            ]
           ],
           "sequentialminus": [
            [
             0,
             "#0d0887"
            ],
            [
             0.1111111111111111,
             "#46039f"
            ],
            [
             0.2222222222222222,
             "#7201a8"
            ],
            [
             0.3333333333333333,
             "#9c179e"
            ],
            [
             0.4444444444444444,
             "#bd3786"
            ],
            [
             0.5555555555555556,
             "#d8576b"
            ],
            [
             0.6666666666666666,
             "#ed7953"
            ],
            [
             0.7777777777777778,
             "#fb9f3a"
            ],
            [
             0.8888888888888888,
             "#fdca26"
            ],
            [
             1,
             "#f0f921"
            ]
           ]
          },
          "colorway": [
           "#636efa",
           "#EF553B",
           "#00cc96",
           "#ab63fa",
           "#FFA15A",
           "#19d3f3",
           "#FF6692",
           "#B6E880",
           "#FF97FF",
           "#FECB52"
          ],
          "font": {
           "color": "#2a3f5f"
          },
          "geo": {
           "bgcolor": "white",
           "lakecolor": "white",
           "landcolor": "#E5ECF6",
           "showlakes": true,
           "showland": true,
           "subunitcolor": "white"
          },
          "hoverlabel": {
           "align": "left"
          },
          "hovermode": "closest",
          "mapbox": {
           "style": "light"
          },
          "paper_bgcolor": "white",
          "plot_bgcolor": "#E5ECF6",
          "polar": {
           "angularaxis": {
            "gridcolor": "white",
            "linecolor": "white",
            "ticks": ""
           },
           "bgcolor": "#E5ECF6",
           "radialaxis": {
            "gridcolor": "white",
            "linecolor": "white",
            "ticks": ""
           }
          },
          "scene": {
           "xaxis": {
            "backgroundcolor": "#E5ECF6",
            "gridcolor": "white",
            "gridwidth": 2,
            "linecolor": "white",
            "showbackground": true,
            "ticks": "",
            "zerolinecolor": "white"
           },
           "yaxis": {
            "backgroundcolor": "#E5ECF6",
            "gridcolor": "white",
            "gridwidth": 2,
            "linecolor": "white",
            "showbackground": true,
            "ticks": "",
            "zerolinecolor": "white"
           },
           "zaxis": {
            "backgroundcolor": "#E5ECF6",
            "gridcolor": "white",
            "gridwidth": 2,
            "linecolor": "white",
            "showbackground": true,
            "ticks": "",
            "zerolinecolor": "white"
           }
          },
          "shapedefaults": {
           "line": {
            "color": "#2a3f5f"
           }
          },
          "ternary": {
           "aaxis": {
            "gridcolor": "white",
            "linecolor": "white",
            "ticks": ""
           },
           "baxis": {
            "gridcolor": "white",
            "linecolor": "white",
            "ticks": ""
           },
           "bgcolor": "#E5ECF6",
           "caxis": {
            "gridcolor": "white",
            "linecolor": "white",
            "ticks": ""
           }
          },
          "title": {
           "x": 0.05
          },
          "xaxis": {
           "automargin": true,
           "gridcolor": "white",
           "linecolor": "white",
           "ticks": "",
           "title": {
            "standoff": 15
           },
           "zerolinecolor": "white",
           "zerolinewidth": 2
          },
          "yaxis": {
           "automargin": true,
           "gridcolor": "white",
           "linecolor": "white",
           "ticks": "",
           "title": {
            "standoff": 15
           },
           "zerolinecolor": "white",
           "zerolinewidth": 2
          }
         }
        },
        "title": {
         "font": {
          "color": "#4D5663"
         }
        },
        "xaxis": {
         "gridcolor": "#E1E5ED",
         "showgrid": true,
         "tickfont": {
          "color": "#4D5663"
         },
         "title": {
          "font": {
           "color": "#4D5663"
          },
          "text": ""
         },
         "zerolinecolor": "#E1E5ED"
        },
        "xaxis2": {
         "anchor": "y2",
         "gridcolor": "#E1E5ED",
         "showgrid": true,
         "showticklabels": false,
         "tickfont": {
          "color": "#4D5663"
         },
         "title": {
          "font": {
           "color": "#4D5663"
          },
          "text": ""
         },
         "zerolinecolor": "#E1E5ED"
        },
        "yaxis": {
         "domain": [
          0.3,
          1
         ],
         "gridcolor": "#E1E5ED",
         "showgrid": true,
         "tickfont": {
          "color": "#4D5663"
         },
         "title": {
          "font": {
           "color": "#4D5663"
          },
          "text": ""
         },
         "zerolinecolor": "#E1E5ED"
        },
        "yaxis2": {
         "domain": [
          0,
          0.25
         ],
         "gridcolor": "#E1E5ED",
         "showgrid": true,
         "tickfont": {
          "color": "#4D5663"
         },
         "title": {
          "font": {
           "color": "#4D5663"
          },
          "text": "Spread"
         },
         "zerolinecolor": "#E1E5ED"
        }
       }
      },
      "text/html": [
       "<div>\n",
       "        \n",
       "        \n",
       "            <div id=\"dcfc3960-e1c5-4156-8671-d29e7f216dfd\" class=\"plotly-graph-div\" style=\"height:525px; width:100%;\"></div>\n",
       "            <script type=\"text/javascript\">\n",
       "                require([\"plotly\"], function(Plotly) {\n",
       "                    window.PLOTLYENV=window.PLOTLYENV || {};\n",
       "                    window.PLOTLYENV.BASE_URL='https://plot.ly';\n",
       "                    \n",
       "                if (document.getElementById(\"dcfc3960-e1c5-4156-8671-d29e7f216dfd\")) {\n",
       "                    Plotly.newPlot(\n",
       "                        'dcfc3960-e1c5-4156-8671-d29e7f216dfd',\n",
       "                        [{\"line\": {\"color\": \"rgba(255, 153, 51, 1.0)\", \"dash\": \"solid\", \"shape\": \"linear\", \"width\": 1.3}, \"mode\": \"lines\", \"name\": \"A\", \"text\": \"\", \"type\": \"scatter\", \"x\": [0, 1, 2, 3, 4, 5, 6, 7, 8, 9, 10, 11, 12, 13, 14, 15, 16, 17, 18, 19, 20, 21, 22, 23, 24, 25, 26, 27, 28, 29, 30, 31, 32, 33, 34, 35, 36, 37, 38, 39, 40, 41, 42, 43, 44, 45, 46, 47, 48, 49, 50, 51, 52, 53, 54, 55, 56, 57, 58, 59, 60, 61, 62, 63, 64, 65, 66, 67, 68, 69, 70, 71, 72, 73, 74, 75, 76, 77, 78, 79, 80, 81, 82, 83, 84, 85, 86, 87, 88, 89, 90, 91, 92, 93, 94, 95, 96, 97, 98, 99], \"y\": [0.6451627172498443, -0.6469131036903166, 0.07282760997978965, -0.39996672688275203, 1.27888605560903, 0.176984719501775, -0.3478450711317554, 1.1669800856100079, -1.1509471161286047, -0.4042239505584384, 2.647907647993073, 0.36715327003169484, 0.8432767828805269, -0.03464740419409103, 1.076977486712486, 0.8436970449566027, -0.7334470538578574, -1.2853302266665863, 1.5173632050074661, 0.54034616538293, -0.12868533708843397, -0.2645198777318922, -1.2398657992294475, -0.18530651824974842, 1.5742851271891127, 0.7450361771271075, -1.4086085803396364, 0.14499502944366194, 7.98357974058988e-05, 0.2015099522526723, 0.5197852516643461, 0.8137691135724868, -0.7898519062290008, -0.2350610039304626, -0.47805951650580386, 0.7420069762630155, -0.884344286449463, 0.4881141842478061, 0.2539682741135712, -0.2415755237551213, 0.19379602987412708, -0.46794198489183425, -0.05582823809394771, -0.1722137535156207, 0.8219202690922193, -2.960368117506735, -0.5735579419165826, 0.23185189552088065, -1.5476457212277288, -0.7318010309338864, 0.4276163168061164, 0.7076939313668328, 0.9103248805933472, -0.6350650519263663, -0.7846590711619182, 0.5066197590616859, 0.9475847712991983, 1.4855797887769817, -0.5176716456152829, -1.9365130236965, -2.2657350481435565, 1.740096036056405, 1.8796902458539129, -0.6503568376832136, -1.1063832718418674, 0.5540253031028719, -0.2255018506179424, -0.22246662275393148, 0.3796040910645512, 0.641004515444166, -1.5257174213827545, 0.5582632071338453, 0.7434395855922672, -0.6429138846665017, -1.1470053481199076, -0.058408415132721984, -0.087271021946233, -0.11490851526832321, 0.09478161319117837, -0.06806715841681621, -0.9642493190741217, -0.008786798402462295, 0.6396834488805198, -0.3259564250417379, 0.5002594604189721, 1.6301959446629615, 0.4764493472735545, -0.5917483321647256, 1.3687335513621266, 1.427544217794121, -0.6919940853120521, -2.0309623995200567, -0.8535043207183718, -0.7453142827178897, 1.4886049411007722, 1.376550678415612, 0.4662319719767733, 1.0996702131134612, -0.4293423418754007, -0.15580447473223744]}, {\"line\": {\"color\": \"rgba(55, 128, 191, 1.0)\", \"dash\": \"solid\", \"shape\": \"linear\", \"width\": 1.3}, \"mode\": \"lines\", \"name\": \"B\", \"text\": \"\", \"type\": \"scatter\", \"x\": [0, 1, 2, 3, 4, 5, 6, 7, 8, 9, 10, 11, 12, 13, 14, 15, 16, 17, 18, 19, 20, 21, 22, 23, 24, 25, 26, 27, 28, 29, 30, 31, 32, 33, 34, 35, 36, 37, 38, 39, 40, 41, 42, 43, 44, 45, 46, 47, 48, 49, 50, 51, 52, 53, 54, 55, 56, 57, 58, 59, 60, 61, 62, 63, 64, 65, 66, 67, 68, 69, 70, 71, 72, 73, 74, 75, 76, 77, 78, 79, 80, 81, 82, 83, 84, 85, 86, 87, 88, 89, 90, 91, 92, 93, 94, 95, 96, 97, 98, 99], \"y\": [0.5349692410513225, -1.014328904542226, 0.2229060005876184, -1.7581772675544798, 0.37231115079283594, 0.579264731188161, 0.5718854242262145, -0.700421563136451, -0.6925810383508683, 0.4790117557619783, 0.24442530830143844, 0.764748398677337, 1.754347313478873, -0.40762244722224095, 0.6650490169408635, -2.3902605775371946, 0.7147583929606929, 0.11896721666819543, -0.8028148154089121, 1.6952701768643617, -2.7763997397425295, -0.01340515185356433, 1.7784608524477292, -0.2885044914699736, 1.0466215220208286, -0.9043684133288886, -0.6042356903023718, -1.6847822028654627, 1.5297218731150697, 1.3415136153615916, -0.37716657605716297, -1.0494981799232466, -0.500402274016725, -1.2181761971009173, -1.776210252204733, -0.3968897194559243, -0.322374690719606, -0.4012294945234382, 2.035203464686686, 1.1016567270559787, -0.14018196572980843, 1.467813159453069, 1.3809154248444366, -0.08205647775417348, -0.36341565920138735, 0.07233594739972496, -1.0583568734506534, 0.5560235499153585, 2.176848979597883, 0.9596586425683493, -0.3407743636640172, -1.7348677657723248, 1.3577160606563694, 0.05361173356677967, -1.3718095272286817, 0.871112952667962, 1.885708131400474, 0.2170343177318166, -0.46920835974248226, 1.3866627336967794, -0.6302221497234748, 0.5301234274057091, -1.0564523821783804, -0.276707432201371, 0.15170855981121262, 0.43436907082471166, 0.4744302146164032, -0.405764320028978, 1.0481786716642518, 0.11106210546013959, -1.5355277427466816, -0.045065170946819125, 1.1894829955165938, -0.6775899242032235, 0.5791523631524266, 0.9636909001251861, 0.3592607945727012, 1.0994552085095473, 0.8899020832464846, 0.6136225224274325, 0.6338374255363178, 0.0729077581586196, -0.8213726655976707, 0.06228745285536487, 0.5290657124345663, 0.13750720436213548, -1.2011407826241554, -0.21817446269581114, 0.47476188782199336, 0.3260651872156575, -0.36511298792012614, -0.6194016745901185, 0.49622265016446104, -1.4253888279048446, 0.6925910212982547, -1.1932783398603268, -0.3783372011436178, 0.39282058649038537, 0.006989733582659156, 0.2866238712221347]}, {\"connectgaps\": false, \"fill\": \"tozeroy\", \"line\": {\"color\": \"green\", \"dash\": \"solid\", \"shape\": \"linear\", \"width\": 0.5}, \"mode\": \"lines\", \"name\": \"Spread\", \"showlegend\": false, \"type\": \"scatter\", \"x\": [0, 1, 2, 3, 4, 5, 6, 7, 8, 9, 10, 11, 12, 13, 14, 15, 16, 17, 18, 19, 20, 21, 22, 23, 24, 25, 26, 27, 28, 29, 30, 31, 32, 33, 34, 35, 36, 37, 38, 39, 40, 41, 42, 43, 44, 45, 46, 47, 48, 49, 50, 51, 52, 53, 54, 55, 56, 57, 58, 59, 60, 61, 62, 63, 64, 65, 66, 67, 68, 69, 70, 71, 72, 73, 74, 75, 76, 77, 78, 79, 80, 81, 82, 83, 84, 85, 86, 87, 88, 89, 90, 91, 92, 93, 94, 95, 96, 97, 98, 99], \"xaxis\": \"x2\", \"y\": [0.11019347619852182, 0.3674158008519093, \"\", 1.3582105406717278, 0.9065749048161941, \"\", \"\", 1.8674016487464589, \"\", \"\", 2.4034823396916347, \"\", \"\", 0.37297504302814993, 0.41192846977162245, 3.233957622493797, \"\", \"\", 2.320178020416378, \"\", 2.6477144026540955, \"\", \"\", 0.10319797322022517, 0.5276636051682841, 1.6494045904559962, \"\", 1.8297772323091246, \"\", \"\", 0.896951827721509, 1.8632672934957335, \"\", 0.9831151931704547, 1.298150735698929, 1.1388966957189397, \"\", 0.8893436787712443, \"\", \"\", 0.3339779956039355, \"\", \"\", \"\", 1.1853359282936067, \"\", 0.48479893153407083, \"\", \"\", \"\", 0.7683906804701336, 2.4425616971391575, \"\", \"\", 0.5871504560667634, \"\", \"\", 1.2685454710451651, \"\", \"\", \"\", 1.2099726086506961, 2.936142628032293, \"\", \"\", 0.11965623227816025, \"\", 0.18329769727504652, \"\", 0.5299424099840264, 0.009810321363927121, 0.6033283780806644, \"\", 0.034676039536721825, \"\", \"\", \"\", \"\", \"\", \"\", \"\", \"\", 1.4610561144781906, \"\", \"\", 1.492688740300826, 1.6775901298977098, \"\", 0.8939716635401332, 1.1014790305784636, \"\", \"\", \"\", 0.6800745451869549, 0.7960139198025176, 2.569829018275939, 0.844569173120391, 0.7068496266230759, \"\", \"\"], \"yaxis\": \"y2\"}, {\"connectgaps\": false, \"fill\": \"tozeroy\", \"line\": {\"color\": \"red\", \"dash\": \"solid\", \"shape\": \"linear\", \"width\": 0.5}, \"mode\": \"lines\", \"name\": \"Spread\", \"showlegend\": false, \"type\": \"scatter\", \"x\": [0, 1, 2, 3, 4, 5, 6, 7, 8, 9, 10, 11, 12, 13, 14, 15, 16, 17, 18, 19, 20, 21, 22, 23, 24, 25, 26, 27, 28, 29, 30, 31, 32, 33, 34, 35, 36, 37, 38, 39, 40, 41, 42, 43, 44, 45, 46, 47, 48, 49, 50, 51, 52, 53, 54, 55, 56, 57, 58, 59, 60, 61, 62, 63, 64, 65, 66, 67, 68, 69, 70, 71, 72, 73, 74, 75, 76, 77, 78, 79, 80, 81, 82, 83, 84, 85, 86, 87, 88, 89, 90, 91, 92, 93, 94, 95, 96, 97, 98, 99], \"xaxis\": \"x2\", \"y\": [\"\", \"\", -0.15007839060782874, \"\", \"\", -0.40228001168638605, -0.9197304953579699, \"\", -0.4583660777777364, -0.8832357063204167, \"\", -0.39759512864564217, -0.9110705305983461, \"\", \"\", \"\", -1.4482054468185503, -1.4042974433347817, \"\", -1.1549240114814316, \"\", -0.25111472587832784, -3.0183266516771767, \"\", \"\", \"\", -0.8043728900372646, \"\", -1.5296420373176638, -1.1400036631089194, \"\", \"\", -0.2894496322122758, \"\", \"\", \"\", -0.5619695957298569, \"\", -1.781235190573115, -1.3432322508111, \"\", -1.9357551443449033, -1.4367436629383843, -0.09015727576144723, \"\", -3.03270406490646, \"\", -0.32417165439447787, -3.7244947008256117, -1.6914596735022358, \"\", \"\", -0.44739118006302225, -0.6886767854931459, \"\", -0.3644931936062761, -0.9381233601012757, \"\", -0.04846328587280063, -3.3231757573932796, -1.6355128984200817, \"\", \"\", -0.3736494054818426, -1.25809183165308, \"\", -0.6999320652343456, \"\", -0.6685745805997007, \"\", \"\", \"\", -0.44604340992432656, \"\", -1.726157711272334, -1.022099315257908, -0.4465318165189342, -1.2143637237778704, -0.7951204700553062, -0.6816896808442487, -1.5980867446104394, -0.0816945565610819, \"\", -0.38824387789710274, -0.02880625201559428, \"\", \"\", -0.3735738694689144, \"\", \"\", -0.32688109739192595, -1.4115607249299382, -1.3497269708828328, \"\", \"\", \"\", \"\", \"\", -0.43633207545805985, -0.4424283459543721], \"yaxis\": \"y2\"}],\n",
       "                        {\"hovermode\": \"x\", \"legend\": {\"bgcolor\": \"#F5F6F9\", \"font\": {\"color\": \"#4D5663\"}}, \"paper_bgcolor\": \"#F5F6F9\", \"plot_bgcolor\": \"#F5F6F9\", \"template\": {\"data\": {\"bar\": [{\"error_x\": {\"color\": \"#2a3f5f\"}, \"error_y\": {\"color\": \"#2a3f5f\"}, \"marker\": {\"line\": {\"color\": \"#E5ECF6\", \"width\": 0.5}}, \"type\": \"bar\"}], \"barpolar\": [{\"marker\": {\"line\": {\"color\": \"#E5ECF6\", \"width\": 0.5}}, \"type\": \"barpolar\"}], \"carpet\": [{\"aaxis\": {\"endlinecolor\": \"#2a3f5f\", \"gridcolor\": \"white\", \"linecolor\": \"white\", \"minorgridcolor\": \"white\", \"startlinecolor\": \"#2a3f5f\"}, \"baxis\": {\"endlinecolor\": \"#2a3f5f\", \"gridcolor\": \"white\", \"linecolor\": \"white\", \"minorgridcolor\": \"white\", \"startlinecolor\": \"#2a3f5f\"}, \"type\": \"carpet\"}], \"choropleth\": [{\"colorbar\": {\"outlinewidth\": 0, \"ticks\": \"\"}, \"type\": \"choropleth\"}], \"contour\": [{\"colorbar\": {\"outlinewidth\": 0, \"ticks\": \"\"}, \"colorscale\": [[0.0, \"#0d0887\"], [0.1111111111111111, \"#46039f\"], [0.2222222222222222, \"#7201a8\"], [0.3333333333333333, \"#9c179e\"], [0.4444444444444444, \"#bd3786\"], [0.5555555555555556, \"#d8576b\"], [0.6666666666666666, \"#ed7953\"], [0.7777777777777778, \"#fb9f3a\"], [0.8888888888888888, \"#fdca26\"], [1.0, \"#f0f921\"]], \"type\": \"contour\"}], \"contourcarpet\": [{\"colorbar\": {\"outlinewidth\": 0, \"ticks\": \"\"}, \"type\": \"contourcarpet\"}], \"heatmap\": [{\"colorbar\": {\"outlinewidth\": 0, \"ticks\": \"\"}, \"colorscale\": [[0.0, \"#0d0887\"], [0.1111111111111111, \"#46039f\"], [0.2222222222222222, \"#7201a8\"], [0.3333333333333333, \"#9c179e\"], [0.4444444444444444, \"#bd3786\"], [0.5555555555555556, \"#d8576b\"], [0.6666666666666666, \"#ed7953\"], [0.7777777777777778, \"#fb9f3a\"], [0.8888888888888888, \"#fdca26\"], [1.0, \"#f0f921\"]], \"type\": \"heatmap\"}], \"heatmapgl\": [{\"colorbar\": {\"outlinewidth\": 0, \"ticks\": \"\"}, \"colorscale\": [[0.0, \"#0d0887\"], [0.1111111111111111, \"#46039f\"], [0.2222222222222222, \"#7201a8\"], [0.3333333333333333, \"#9c179e\"], [0.4444444444444444, \"#bd3786\"], [0.5555555555555556, \"#d8576b\"], [0.6666666666666666, \"#ed7953\"], [0.7777777777777778, \"#fb9f3a\"], [0.8888888888888888, \"#fdca26\"], [1.0, \"#f0f921\"]], \"type\": \"heatmapgl\"}], \"histogram\": [{\"marker\": {\"colorbar\": {\"outlinewidth\": 0, \"ticks\": \"\"}}, \"type\": \"histogram\"}], \"histogram2d\": [{\"colorbar\": {\"outlinewidth\": 0, \"ticks\": \"\"}, \"colorscale\": [[0.0, \"#0d0887\"], [0.1111111111111111, \"#46039f\"], [0.2222222222222222, \"#7201a8\"], [0.3333333333333333, \"#9c179e\"], [0.4444444444444444, \"#bd3786\"], [0.5555555555555556, \"#d8576b\"], [0.6666666666666666, \"#ed7953\"], [0.7777777777777778, \"#fb9f3a\"], [0.8888888888888888, \"#fdca26\"], [1.0, \"#f0f921\"]], \"type\": \"histogram2d\"}], \"histogram2dcontour\": [{\"colorbar\": {\"outlinewidth\": 0, \"ticks\": \"\"}, \"colorscale\": [[0.0, \"#0d0887\"], [0.1111111111111111, \"#46039f\"], [0.2222222222222222, \"#7201a8\"], [0.3333333333333333, \"#9c179e\"], [0.4444444444444444, \"#bd3786\"], [0.5555555555555556, \"#d8576b\"], [0.6666666666666666, \"#ed7953\"], [0.7777777777777778, \"#fb9f3a\"], [0.8888888888888888, \"#fdca26\"], [1.0, \"#f0f921\"]], \"type\": \"histogram2dcontour\"}], \"mesh3d\": [{\"colorbar\": {\"outlinewidth\": 0, \"ticks\": \"\"}, \"type\": \"mesh3d\"}], \"parcoords\": [{\"line\": {\"colorbar\": {\"outlinewidth\": 0, \"ticks\": \"\"}}, \"type\": \"parcoords\"}], \"pie\": [{\"automargin\": true, \"type\": \"pie\"}], \"scatter\": [{\"marker\": {\"colorbar\": {\"outlinewidth\": 0, \"ticks\": \"\"}}, \"type\": \"scatter\"}], \"scatter3d\": [{\"line\": {\"colorbar\": {\"outlinewidth\": 0, \"ticks\": \"\"}}, \"marker\": {\"colorbar\": {\"outlinewidth\": 0, \"ticks\": \"\"}}, \"type\": \"scatter3d\"}], \"scattercarpet\": [{\"marker\": {\"colorbar\": {\"outlinewidth\": 0, \"ticks\": \"\"}}, \"type\": \"scattercarpet\"}], \"scattergeo\": [{\"marker\": {\"colorbar\": {\"outlinewidth\": 0, \"ticks\": \"\"}}, \"type\": \"scattergeo\"}], \"scattergl\": [{\"marker\": {\"colorbar\": {\"outlinewidth\": 0, \"ticks\": \"\"}}, \"type\": \"scattergl\"}], \"scattermapbox\": [{\"marker\": {\"colorbar\": {\"outlinewidth\": 0, \"ticks\": \"\"}}, \"type\": \"scattermapbox\"}], \"scatterpolar\": [{\"marker\": {\"colorbar\": {\"outlinewidth\": 0, \"ticks\": \"\"}}, \"type\": \"scatterpolar\"}], \"scatterpolargl\": [{\"marker\": {\"colorbar\": {\"outlinewidth\": 0, \"ticks\": \"\"}}, \"type\": \"scatterpolargl\"}], \"scatterternary\": [{\"marker\": {\"colorbar\": {\"outlinewidth\": 0, \"ticks\": \"\"}}, \"type\": \"scatterternary\"}], \"surface\": [{\"colorbar\": {\"outlinewidth\": 0, \"ticks\": \"\"}, \"colorscale\": [[0.0, \"#0d0887\"], [0.1111111111111111, \"#46039f\"], [0.2222222222222222, \"#7201a8\"], [0.3333333333333333, \"#9c179e\"], [0.4444444444444444, \"#bd3786\"], [0.5555555555555556, \"#d8576b\"], [0.6666666666666666, \"#ed7953\"], [0.7777777777777778, \"#fb9f3a\"], [0.8888888888888888, \"#fdca26\"], [1.0, \"#f0f921\"]], \"type\": \"surface\"}], \"table\": [{\"cells\": {\"fill\": {\"color\": \"#EBF0F8\"}, \"line\": {\"color\": \"white\"}}, \"header\": {\"fill\": {\"color\": \"#C8D4E3\"}, \"line\": {\"color\": \"white\"}}, \"type\": \"table\"}]}, \"layout\": {\"annotationdefaults\": {\"arrowcolor\": \"#2a3f5f\", \"arrowhead\": 0, \"arrowwidth\": 1}, \"coloraxis\": {\"colorbar\": {\"outlinewidth\": 0, \"ticks\": \"\"}}, \"colorscale\": {\"diverging\": [[0, \"#8e0152\"], [0.1, \"#c51b7d\"], [0.2, \"#de77ae\"], [0.3, \"#f1b6da\"], [0.4, \"#fde0ef\"], [0.5, \"#f7f7f7\"], [0.6, \"#e6f5d0\"], [0.7, \"#b8e186\"], [0.8, \"#7fbc41\"], [0.9, \"#4d9221\"], [1, \"#276419\"]], \"sequential\": [[0.0, \"#0d0887\"], [0.1111111111111111, \"#46039f\"], [0.2222222222222222, \"#7201a8\"], [0.3333333333333333, \"#9c179e\"], [0.4444444444444444, \"#bd3786\"], [0.5555555555555556, \"#d8576b\"], [0.6666666666666666, \"#ed7953\"], [0.7777777777777778, \"#fb9f3a\"], [0.8888888888888888, \"#fdca26\"], [1.0, \"#f0f921\"]], \"sequentialminus\": [[0.0, \"#0d0887\"], [0.1111111111111111, \"#46039f\"], [0.2222222222222222, \"#7201a8\"], [0.3333333333333333, \"#9c179e\"], [0.4444444444444444, \"#bd3786\"], [0.5555555555555556, \"#d8576b\"], [0.6666666666666666, \"#ed7953\"], [0.7777777777777778, \"#fb9f3a\"], [0.8888888888888888, \"#fdca26\"], [1.0, \"#f0f921\"]]}, \"colorway\": [\"#636efa\", \"#EF553B\", \"#00cc96\", \"#ab63fa\", \"#FFA15A\", \"#19d3f3\", \"#FF6692\", \"#B6E880\", \"#FF97FF\", \"#FECB52\"], \"font\": {\"color\": \"#2a3f5f\"}, \"geo\": {\"bgcolor\": \"white\", \"lakecolor\": \"white\", \"landcolor\": \"#E5ECF6\", \"showlakes\": true, \"showland\": true, \"subunitcolor\": \"white\"}, \"hoverlabel\": {\"align\": \"left\"}, \"hovermode\": \"closest\", \"mapbox\": {\"style\": \"light\"}, \"paper_bgcolor\": \"white\", \"plot_bgcolor\": \"#E5ECF6\", \"polar\": {\"angularaxis\": {\"gridcolor\": \"white\", \"linecolor\": \"white\", \"ticks\": \"\"}, \"bgcolor\": \"#E5ECF6\", \"radialaxis\": {\"gridcolor\": \"white\", \"linecolor\": \"white\", \"ticks\": \"\"}}, \"scene\": {\"xaxis\": {\"backgroundcolor\": \"#E5ECF6\", \"gridcolor\": \"white\", \"gridwidth\": 2, \"linecolor\": \"white\", \"showbackground\": true, \"ticks\": \"\", \"zerolinecolor\": \"white\"}, \"yaxis\": {\"backgroundcolor\": \"#E5ECF6\", \"gridcolor\": \"white\", \"gridwidth\": 2, \"linecolor\": \"white\", \"showbackground\": true, \"ticks\": \"\", \"zerolinecolor\": \"white\"}, \"zaxis\": {\"backgroundcolor\": \"#E5ECF6\", \"gridcolor\": \"white\", \"gridwidth\": 2, \"linecolor\": \"white\", \"showbackground\": true, \"ticks\": \"\", \"zerolinecolor\": \"white\"}}, \"shapedefaults\": {\"line\": {\"color\": \"#2a3f5f\"}}, \"ternary\": {\"aaxis\": {\"gridcolor\": \"white\", \"linecolor\": \"white\", \"ticks\": \"\"}, \"baxis\": {\"gridcolor\": \"white\", \"linecolor\": \"white\", \"ticks\": \"\"}, \"bgcolor\": \"#E5ECF6\", \"caxis\": {\"gridcolor\": \"white\", \"linecolor\": \"white\", \"ticks\": \"\"}}, \"title\": {\"x\": 0.05}, \"xaxis\": {\"automargin\": true, \"gridcolor\": \"white\", \"linecolor\": \"white\", \"ticks\": \"\", \"title\": {\"standoff\": 15}, \"zerolinecolor\": \"white\", \"zerolinewidth\": 2}, \"yaxis\": {\"automargin\": true, \"gridcolor\": \"white\", \"linecolor\": \"white\", \"ticks\": \"\", \"title\": {\"standoff\": 15}, \"zerolinecolor\": \"white\", \"zerolinewidth\": 2}}}, \"title\": {\"font\": {\"color\": \"#4D5663\"}}, \"xaxis\": {\"gridcolor\": \"#E1E5ED\", \"showgrid\": true, \"tickfont\": {\"color\": \"#4D5663\"}, \"title\": {\"font\": {\"color\": \"#4D5663\"}, \"text\": \"\"}, \"zerolinecolor\": \"#E1E5ED\"}, \"xaxis2\": {\"anchor\": \"y2\", \"gridcolor\": \"#E1E5ED\", \"showgrid\": true, \"showticklabels\": false, \"tickfont\": {\"color\": \"#4D5663\"}, \"title\": {\"font\": {\"color\": \"#4D5663\"}, \"text\": \"\"}, \"zerolinecolor\": \"#E1E5ED\"}, \"yaxis\": {\"domain\": [0.3, 1], \"gridcolor\": \"#E1E5ED\", \"showgrid\": true, \"tickfont\": {\"color\": \"#4D5663\"}, \"title\": {\"font\": {\"color\": \"#4D5663\"}, \"text\": \"\"}, \"zerolinecolor\": \"#E1E5ED\"}, \"yaxis2\": {\"domain\": [0, 0.25], \"gridcolor\": \"#E1E5ED\", \"showgrid\": true, \"tickfont\": {\"color\": \"#4D5663\"}, \"title\": {\"font\": {\"color\": \"#4D5663\"}, \"text\": \"Spread\"}, \"zerolinecolor\": \"#E1E5ED\"}},\n",
       "                        {\"showLink\": true, \"linkText\": \"Export to plot.ly\", \"plotlyServerURL\": \"https://plot.ly\", \"responsive\": true}\n",
       "                    ).then(function(){\n",
       "                            \n",
       "var gd = document.getElementById('dcfc3960-e1c5-4156-8671-d29e7f216dfd');\n",
       "var x = new MutationObserver(function (mutations, observer) {{\n",
       "        var display = window.getComputedStyle(gd).display;\n",
       "        if (!display || display === 'none') {{\n",
       "            console.log([gd, 'removed!']);\n",
       "            Plotly.purge(gd);\n",
       "            observer.disconnect();\n",
       "        }}\n",
       "}});\n",
       "\n",
       "// Listen for the removal of the full notebook cells\n",
       "var notebookContainer = gd.closest('#notebook-container');\n",
       "if (notebookContainer) {{\n",
       "    x.observe(notebookContainer, {childList: true});\n",
       "}}\n",
       "\n",
       "// Listen for the clearing of the current output cell\n",
       "var outputEl = gd.closest('.output');\n",
       "if (outputEl) {{\n",
       "    x.observe(outputEl, {childList: true});\n",
       "}}\n",
       "\n",
       "                        })\n",
       "                };\n",
       "                });\n",
       "            </script>\n",
       "        </div>"
      ]
     },
     "metadata": {},
     "output_type": "display_data"
    }
   ],
   "source": [
    "df[['A','B']].iplot(kind='spread')"
   ]
  },
  {
   "cell_type": "markdown",
   "metadata": {},
   "source": [
    "## histogram"
   ]
  },
  {
   "cell_type": "code",
   "execution_count": 17,
   "metadata": {},
   "outputs": [
    {
     "data": {
      "application/vnd.plotly.v1+json": {
       "config": {
        "linkText": "Export to plot.ly",
        "plotlyServerURL": "https://plot.ly",
        "showLink": true
       },
       "data": [
        {
         "histfunc": "count",
         "histnorm": "",
         "marker": {
          "color": "rgba(255, 153, 51, 1.0)",
          "line": {
           "color": "#4D5663",
           "width": 1.3
          }
         },
         "name": "A",
         "nbinsx": 25,
         "opacity": 0.8,
         "orientation": "v",
         "type": "histogram",
         "x": [
          0.6451627172498443,
          -0.6469131036903166,
          0.07282760997978965,
          -0.39996672688275203,
          1.27888605560903,
          0.176984719501775,
          -0.3478450711317554,
          1.1669800856100079,
          -1.1509471161286047,
          -0.4042239505584384,
          2.647907647993073,
          0.36715327003169484,
          0.8432767828805269,
          -0.03464740419409103,
          1.076977486712486,
          0.8436970449566027,
          -0.7334470538578574,
          -1.2853302266665863,
          1.5173632050074661,
          0.54034616538293,
          -0.12868533708843397,
          -0.2645198777318922,
          -1.2398657992294475,
          -0.18530651824974842,
          1.5742851271891127,
          0.7450361771271075,
          -1.4086085803396364,
          0.14499502944366194,
          7.98357974058988e-05,
          0.2015099522526723,
          0.5197852516643461,
          0.8137691135724868,
          -0.7898519062290008,
          -0.2350610039304626,
          -0.47805951650580386,
          0.7420069762630155,
          -0.884344286449463,
          0.4881141842478061,
          0.2539682741135712,
          -0.2415755237551213,
          0.19379602987412708,
          -0.46794198489183425,
          -0.05582823809394771,
          -0.1722137535156207,
          0.8219202690922193,
          -2.960368117506735,
          -0.5735579419165826,
          0.23185189552088065,
          -1.5476457212277288,
          -0.7318010309338864,
          0.4276163168061164,
          0.7076939313668328,
          0.9103248805933472,
          -0.6350650519263663,
          -0.7846590711619182,
          0.5066197590616859,
          0.9475847712991983,
          1.4855797887769817,
          -0.5176716456152829,
          -1.9365130236965,
          -2.2657350481435565,
          1.740096036056405,
          1.8796902458539129,
          -0.6503568376832136,
          -1.1063832718418674,
          0.5540253031028719,
          -0.2255018506179424,
          -0.22246662275393148,
          0.3796040910645512,
          0.641004515444166,
          -1.5257174213827545,
          0.5582632071338453,
          0.7434395855922672,
          -0.6429138846665017,
          -1.1470053481199076,
          -0.058408415132721984,
          -0.087271021946233,
          -0.11490851526832321,
          0.09478161319117837,
          -0.06806715841681621,
          -0.9642493190741217,
          -0.008786798402462295,
          0.6396834488805198,
          -0.3259564250417379,
          0.5002594604189721,
          1.6301959446629615,
          0.4764493472735545,
          -0.5917483321647256,
          1.3687335513621266,
          1.427544217794121,
          -0.6919940853120521,
          -2.0309623995200567,
          -0.8535043207183718,
          -0.7453142827178897,
          1.4886049411007722,
          1.376550678415612,
          0.4662319719767733,
          1.0996702131134612,
          -0.4293423418754007,
          -0.15580447473223744
         ]
        }
       ],
       "layout": {
        "barmode": "overlay",
        "legend": {
         "bgcolor": "#F5F6F9",
         "font": {
          "color": "#4D5663"
         }
        },
        "paper_bgcolor": "#F5F6F9",
        "plot_bgcolor": "#F5F6F9",
        "template": {
         "data": {
          "bar": [
           {
            "error_x": {
             "color": "#2a3f5f"
            },
            "error_y": {
             "color": "#2a3f5f"
            },
            "marker": {
             "line": {
              "color": "#E5ECF6",
              "width": 0.5
             }
            },
            "type": "bar"
           }
          ],
          "barpolar": [
           {
            "marker": {
             "line": {
              "color": "#E5ECF6",
              "width": 0.5
             }
            },
            "type": "barpolar"
           }
          ],
          "carpet": [
           {
            "aaxis": {
             "endlinecolor": "#2a3f5f",
             "gridcolor": "white",
             "linecolor": "white",
             "minorgridcolor": "white",
             "startlinecolor": "#2a3f5f"
            },
            "baxis": {
             "endlinecolor": "#2a3f5f",
             "gridcolor": "white",
             "linecolor": "white",
             "minorgridcolor": "white",
             "startlinecolor": "#2a3f5f"
            },
            "type": "carpet"
           }
          ],
          "choropleth": [
           {
            "colorbar": {
             "outlinewidth": 0,
             "ticks": ""
            },
            "type": "choropleth"
           }
          ],
          "contour": [
           {
            "colorbar": {
             "outlinewidth": 0,
             "ticks": ""
            },
            "colorscale": [
             [
              0,
              "#0d0887"
             ],
             [
              0.1111111111111111,
              "#46039f"
             ],
             [
              0.2222222222222222,
              "#7201a8"
             ],
             [
              0.3333333333333333,
              "#9c179e"
             ],
             [
              0.4444444444444444,
              "#bd3786"
             ],
             [
              0.5555555555555556,
              "#d8576b"
             ],
             [
              0.6666666666666666,
              "#ed7953"
             ],
             [
              0.7777777777777778,
              "#fb9f3a"
             ],
             [
              0.8888888888888888,
              "#fdca26"
             ],
             [
              1,
              "#f0f921"
             ]
            ],
            "type": "contour"
           }
          ],
          "contourcarpet": [
           {
            "colorbar": {
             "outlinewidth": 0,
             "ticks": ""
            },
            "type": "contourcarpet"
           }
          ],
          "heatmap": [
           {
            "colorbar": {
             "outlinewidth": 0,
             "ticks": ""
            },
            "colorscale": [
             [
              0,
              "#0d0887"
             ],
             [
              0.1111111111111111,
              "#46039f"
             ],
             [
              0.2222222222222222,
              "#7201a8"
             ],
             [
              0.3333333333333333,
              "#9c179e"
             ],
             [
              0.4444444444444444,
              "#bd3786"
             ],
             [
              0.5555555555555556,
              "#d8576b"
             ],
             [
              0.6666666666666666,
              "#ed7953"
             ],
             [
              0.7777777777777778,
              "#fb9f3a"
             ],
             [
              0.8888888888888888,
              "#fdca26"
             ],
             [
              1,
              "#f0f921"
             ]
            ],
            "type": "heatmap"
           }
          ],
          "heatmapgl": [
           {
            "colorbar": {
             "outlinewidth": 0,
             "ticks": ""
            },
            "colorscale": [
             [
              0,
              "#0d0887"
             ],
             [
              0.1111111111111111,
              "#46039f"
             ],
             [
              0.2222222222222222,
              "#7201a8"
             ],
             [
              0.3333333333333333,
              "#9c179e"
             ],
             [
              0.4444444444444444,
              "#bd3786"
             ],
             [
              0.5555555555555556,
              "#d8576b"
             ],
             [
              0.6666666666666666,
              "#ed7953"
             ],
             [
              0.7777777777777778,
              "#fb9f3a"
             ],
             [
              0.8888888888888888,
              "#fdca26"
             ],
             [
              1,
              "#f0f921"
             ]
            ],
            "type": "heatmapgl"
           }
          ],
          "histogram": [
           {
            "marker": {
             "colorbar": {
              "outlinewidth": 0,
              "ticks": ""
             }
            },
            "type": "histogram"
           }
          ],
          "histogram2d": [
           {
            "colorbar": {
             "outlinewidth": 0,
             "ticks": ""
            },
            "colorscale": [
             [
              0,
              "#0d0887"
             ],
             [
              0.1111111111111111,
              "#46039f"
             ],
             [
              0.2222222222222222,
              "#7201a8"
             ],
             [
              0.3333333333333333,
              "#9c179e"
             ],
             [
              0.4444444444444444,
              "#bd3786"
             ],
             [
              0.5555555555555556,
              "#d8576b"
             ],
             [
              0.6666666666666666,
              "#ed7953"
             ],
             [
              0.7777777777777778,
              "#fb9f3a"
             ],
             [
              0.8888888888888888,
              "#fdca26"
             ],
             [
              1,
              "#f0f921"
             ]
            ],
            "type": "histogram2d"
           }
          ],
          "histogram2dcontour": [
           {
            "colorbar": {
             "outlinewidth": 0,
             "ticks": ""
            },
            "colorscale": [
             [
              0,
              "#0d0887"
             ],
             [
              0.1111111111111111,
              "#46039f"
             ],
             [
              0.2222222222222222,
              "#7201a8"
             ],
             [
              0.3333333333333333,
              "#9c179e"
             ],
             [
              0.4444444444444444,
              "#bd3786"
             ],
             [
              0.5555555555555556,
              "#d8576b"
             ],
             [
              0.6666666666666666,
              "#ed7953"
             ],
             [
              0.7777777777777778,
              "#fb9f3a"
             ],
             [
              0.8888888888888888,
              "#fdca26"
             ],
             [
              1,
              "#f0f921"
             ]
            ],
            "type": "histogram2dcontour"
           }
          ],
          "mesh3d": [
           {
            "colorbar": {
             "outlinewidth": 0,
             "ticks": ""
            },
            "type": "mesh3d"
           }
          ],
          "parcoords": [
           {
            "line": {
             "colorbar": {
              "outlinewidth": 0,
              "ticks": ""
             }
            },
            "type": "parcoords"
           }
          ],
          "pie": [
           {
            "automargin": true,
            "type": "pie"
           }
          ],
          "scatter": [
           {
            "marker": {
             "colorbar": {
              "outlinewidth": 0,
              "ticks": ""
             }
            },
            "type": "scatter"
           }
          ],
          "scatter3d": [
           {
            "line": {
             "colorbar": {
              "outlinewidth": 0,
              "ticks": ""
             }
            },
            "marker": {
             "colorbar": {
              "outlinewidth": 0,
              "ticks": ""
             }
            },
            "type": "scatter3d"
           }
          ],
          "scattercarpet": [
           {
            "marker": {
             "colorbar": {
              "outlinewidth": 0,
              "ticks": ""
             }
            },
            "type": "scattercarpet"
           }
          ],
          "scattergeo": [
           {
            "marker": {
             "colorbar": {
              "outlinewidth": 0,
              "ticks": ""
             }
            },
            "type": "scattergeo"
           }
          ],
          "scattergl": [
           {
            "marker": {
             "colorbar": {
              "outlinewidth": 0,
              "ticks": ""
             }
            },
            "type": "scattergl"
           }
          ],
          "scattermapbox": [
           {
            "marker": {
             "colorbar": {
              "outlinewidth": 0,
              "ticks": ""
             }
            },
            "type": "scattermapbox"
           }
          ],
          "scatterpolar": [
           {
            "marker": {
             "colorbar": {
              "outlinewidth": 0,
              "ticks": ""
             }
            },
            "type": "scatterpolar"
           }
          ],
          "scatterpolargl": [
           {
            "marker": {
             "colorbar": {
              "outlinewidth": 0,
              "ticks": ""
             }
            },
            "type": "scatterpolargl"
           }
          ],
          "scatterternary": [
           {
            "marker": {
             "colorbar": {
              "outlinewidth": 0,
              "ticks": ""
             }
            },
            "type": "scatterternary"
           }
          ],
          "surface": [
           {
            "colorbar": {
             "outlinewidth": 0,
             "ticks": ""
            },
            "colorscale": [
             [
              0,
              "#0d0887"
             ],
             [
              0.1111111111111111,
              "#46039f"
             ],
             [
              0.2222222222222222,
              "#7201a8"
             ],
             [
              0.3333333333333333,
              "#9c179e"
             ],
             [
              0.4444444444444444,
              "#bd3786"
             ],
             [
              0.5555555555555556,
              "#d8576b"
             ],
             [
              0.6666666666666666,
              "#ed7953"
             ],
             [
              0.7777777777777778,
              "#fb9f3a"
             ],
             [
              0.8888888888888888,
              "#fdca26"
             ],
             [
              1,
              "#f0f921"
             ]
            ],
            "type": "surface"
           }
          ],
          "table": [
           {
            "cells": {
             "fill": {
              "color": "#EBF0F8"
             },
             "line": {
              "color": "white"
             }
            },
            "header": {
             "fill": {
              "color": "#C8D4E3"
             },
             "line": {
              "color": "white"
             }
            },
            "type": "table"
           }
          ]
         },
         "layout": {
          "annotationdefaults": {
           "arrowcolor": "#2a3f5f",
           "arrowhead": 0,
           "arrowwidth": 1
          },
          "coloraxis": {
           "colorbar": {
            "outlinewidth": 0,
            "ticks": ""
           }
          },
          "colorscale": {
           "diverging": [
            [
             0,
             "#8e0152"
            ],
            [
             0.1,
             "#c51b7d"
            ],
            [
             0.2,
             "#de77ae"
            ],
            [
             0.3,
             "#f1b6da"
            ],
            [
             0.4,
             "#fde0ef"
            ],
            [
             0.5,
             "#f7f7f7"
            ],
            [
             0.6,
             "#e6f5d0"
            ],
            [
             0.7,
             "#b8e186"
            ],
            [
             0.8,
             "#7fbc41"
            ],
            [
             0.9,
             "#4d9221"
            ],
            [
             1,
             "#276419"
            ]
           ],
           "sequential": [
            [
             0,
             "#0d0887"
            ],
            [
             0.1111111111111111,
             "#46039f"
            ],
            [
             0.2222222222222222,
             "#7201a8"
            ],
            [
             0.3333333333333333,
             "#9c179e"
            ],
            [
             0.4444444444444444,
             "#bd3786"
            ],
            [
             0.5555555555555556,
             "#d8576b"
            ],
            [
             0.6666666666666666,
             "#ed7953"
            ],
            [
             0.7777777777777778,
             "#fb9f3a"
            ],
            [
             0.8888888888888888,
             "#fdca26"
            ],
            [
             1,
             "#f0f921"
            ]
           ],
           "sequentialminus": [
            [
             0,
             "#0d0887"
            ],
            [
             0.1111111111111111,
             "#46039f"
            ],
            [
             0.2222222222222222,
             "#7201a8"
            ],
            [
             0.3333333333333333,
             "#9c179e"
            ],
            [
             0.4444444444444444,
             "#bd3786"
            ],
            [
             0.5555555555555556,
             "#d8576b"
            ],
            [
             0.6666666666666666,
             "#ed7953"
            ],
            [
             0.7777777777777778,
             "#fb9f3a"
            ],
            [
             0.8888888888888888,
             "#fdca26"
            ],
            [
             1,
             "#f0f921"
            ]
           ]
          },
          "colorway": [
           "#636efa",
           "#EF553B",
           "#00cc96",
           "#ab63fa",
           "#FFA15A",
           "#19d3f3",
           "#FF6692",
           "#B6E880",
           "#FF97FF",
           "#FECB52"
          ],
          "font": {
           "color": "#2a3f5f"
          },
          "geo": {
           "bgcolor": "white",
           "lakecolor": "white",
           "landcolor": "#E5ECF6",
           "showlakes": true,
           "showland": true,
           "subunitcolor": "white"
          },
          "hoverlabel": {
           "align": "left"
          },
          "hovermode": "closest",
          "mapbox": {
           "style": "light"
          },
          "paper_bgcolor": "white",
          "plot_bgcolor": "#E5ECF6",
          "polar": {
           "angularaxis": {
            "gridcolor": "white",
            "linecolor": "white",
            "ticks": ""
           },
           "bgcolor": "#E5ECF6",
           "radialaxis": {
            "gridcolor": "white",
            "linecolor": "white",
            "ticks": ""
           }
          },
          "scene": {
           "xaxis": {
            "backgroundcolor": "#E5ECF6",
            "gridcolor": "white",
            "gridwidth": 2,
            "linecolor": "white",
            "showbackground": true,
            "ticks": "",
            "zerolinecolor": "white"
           },
           "yaxis": {
            "backgroundcolor": "#E5ECF6",
            "gridcolor": "white",
            "gridwidth": 2,
            "linecolor": "white",
            "showbackground": true,
            "ticks": "",
            "zerolinecolor": "white"
           },
           "zaxis": {
            "backgroundcolor": "#E5ECF6",
            "gridcolor": "white",
            "gridwidth": 2,
            "linecolor": "white",
            "showbackground": true,
            "ticks": "",
            "zerolinecolor": "white"
           }
          },
          "shapedefaults": {
           "line": {
            "color": "#2a3f5f"
           }
          },
          "ternary": {
           "aaxis": {
            "gridcolor": "white",
            "linecolor": "white",
            "ticks": ""
           },
           "baxis": {
            "gridcolor": "white",
            "linecolor": "white",
            "ticks": ""
           },
           "bgcolor": "#E5ECF6",
           "caxis": {
            "gridcolor": "white",
            "linecolor": "white",
            "ticks": ""
           }
          },
          "title": {
           "x": 0.05
          },
          "xaxis": {
           "automargin": true,
           "gridcolor": "white",
           "linecolor": "white",
           "ticks": "",
           "title": {
            "standoff": 15
           },
           "zerolinecolor": "white",
           "zerolinewidth": 2
          },
          "yaxis": {
           "automargin": true,
           "gridcolor": "white",
           "linecolor": "white",
           "ticks": "",
           "title": {
            "standoff": 15
           },
           "zerolinecolor": "white",
           "zerolinewidth": 2
          }
         }
        },
        "title": {
         "font": {
          "color": "#4D5663"
         }
        },
        "xaxis": {
         "gridcolor": "#E1E5ED",
         "showgrid": true,
         "tickfont": {
          "color": "#4D5663"
         },
         "title": {
          "font": {
           "color": "#4D5663"
          },
          "text": ""
         },
         "zerolinecolor": "#E1E5ED"
        },
        "yaxis": {
         "gridcolor": "#E1E5ED",
         "showgrid": true,
         "tickfont": {
          "color": "#4D5663"
         },
         "title": {
          "font": {
           "color": "#4D5663"
          },
          "text": ""
         },
         "zerolinecolor": "#E1E5ED"
        }
       }
      },
      "text/html": [
       "<div>\n",
       "        \n",
       "        \n",
       "            <div id=\"b9659547-bb03-45f8-beff-f9881259fa58\" class=\"plotly-graph-div\" style=\"height:525px; width:100%;\"></div>\n",
       "            <script type=\"text/javascript\">\n",
       "                require([\"plotly\"], function(Plotly) {\n",
       "                    window.PLOTLYENV=window.PLOTLYENV || {};\n",
       "                    window.PLOTLYENV.BASE_URL='https://plot.ly';\n",
       "                    \n",
       "                if (document.getElementById(\"b9659547-bb03-45f8-beff-f9881259fa58\")) {\n",
       "                    Plotly.newPlot(\n",
       "                        'b9659547-bb03-45f8-beff-f9881259fa58',\n",
       "                        [{\"histfunc\": \"count\", \"histnorm\": \"\", \"marker\": {\"color\": \"rgba(255, 153, 51, 1.0)\", \"line\": {\"color\": \"#4D5663\", \"width\": 1.3}}, \"name\": \"A\", \"nbinsx\": 25, \"opacity\": 0.8, \"orientation\": \"v\", \"type\": \"histogram\", \"x\": [0.6451627172498443, -0.6469131036903166, 0.07282760997978965, -0.39996672688275203, 1.27888605560903, 0.176984719501775, -0.3478450711317554, 1.1669800856100079, -1.1509471161286047, -0.4042239505584384, 2.647907647993073, 0.36715327003169484, 0.8432767828805269, -0.03464740419409103, 1.076977486712486, 0.8436970449566027, -0.7334470538578574, -1.2853302266665863, 1.5173632050074661, 0.54034616538293, -0.12868533708843397, -0.2645198777318922, -1.2398657992294475, -0.18530651824974842, 1.5742851271891127, 0.7450361771271075, -1.4086085803396364, 0.14499502944366194, 7.98357974058988e-05, 0.2015099522526723, 0.5197852516643461, 0.8137691135724868, -0.7898519062290008, -0.2350610039304626, -0.47805951650580386, 0.7420069762630155, -0.884344286449463, 0.4881141842478061, 0.2539682741135712, -0.2415755237551213, 0.19379602987412708, -0.46794198489183425, -0.05582823809394771, -0.1722137535156207, 0.8219202690922193, -2.960368117506735, -0.5735579419165826, 0.23185189552088065, -1.5476457212277288, -0.7318010309338864, 0.4276163168061164, 0.7076939313668328, 0.9103248805933472, -0.6350650519263663, -0.7846590711619182, 0.5066197590616859, 0.9475847712991983, 1.4855797887769817, -0.5176716456152829, -1.9365130236965, -2.2657350481435565, 1.740096036056405, 1.8796902458539129, -0.6503568376832136, -1.1063832718418674, 0.5540253031028719, -0.2255018506179424, -0.22246662275393148, 0.3796040910645512, 0.641004515444166, -1.5257174213827545, 0.5582632071338453, 0.7434395855922672, -0.6429138846665017, -1.1470053481199076, -0.058408415132721984, -0.087271021946233, -0.11490851526832321, 0.09478161319117837, -0.06806715841681621, -0.9642493190741217, -0.008786798402462295, 0.6396834488805198, -0.3259564250417379, 0.5002594604189721, 1.6301959446629615, 0.4764493472735545, -0.5917483321647256, 1.3687335513621266, 1.427544217794121, -0.6919940853120521, -2.0309623995200567, -0.8535043207183718, -0.7453142827178897, 1.4886049411007722, 1.376550678415612, 0.4662319719767733, 1.0996702131134612, -0.4293423418754007, -0.15580447473223744]}],\n",
       "                        {\"barmode\": \"overlay\", \"legend\": {\"bgcolor\": \"#F5F6F9\", \"font\": {\"color\": \"#4D5663\"}}, \"paper_bgcolor\": \"#F5F6F9\", \"plot_bgcolor\": \"#F5F6F9\", \"template\": {\"data\": {\"bar\": [{\"error_x\": {\"color\": \"#2a3f5f\"}, \"error_y\": {\"color\": \"#2a3f5f\"}, \"marker\": {\"line\": {\"color\": \"#E5ECF6\", \"width\": 0.5}}, \"type\": \"bar\"}], \"barpolar\": [{\"marker\": {\"line\": {\"color\": \"#E5ECF6\", \"width\": 0.5}}, \"type\": \"barpolar\"}], \"carpet\": [{\"aaxis\": {\"endlinecolor\": \"#2a3f5f\", \"gridcolor\": \"white\", \"linecolor\": \"white\", \"minorgridcolor\": \"white\", \"startlinecolor\": \"#2a3f5f\"}, \"baxis\": {\"endlinecolor\": \"#2a3f5f\", \"gridcolor\": \"white\", \"linecolor\": \"white\", \"minorgridcolor\": \"white\", \"startlinecolor\": \"#2a3f5f\"}, \"type\": \"carpet\"}], \"choropleth\": [{\"colorbar\": {\"outlinewidth\": 0, \"ticks\": \"\"}, \"type\": \"choropleth\"}], \"contour\": [{\"colorbar\": {\"outlinewidth\": 0, \"ticks\": \"\"}, \"colorscale\": [[0.0, \"#0d0887\"], [0.1111111111111111, \"#46039f\"], [0.2222222222222222, \"#7201a8\"], [0.3333333333333333, \"#9c179e\"], [0.4444444444444444, \"#bd3786\"], [0.5555555555555556, \"#d8576b\"], [0.6666666666666666, \"#ed7953\"], [0.7777777777777778, \"#fb9f3a\"], [0.8888888888888888, \"#fdca26\"], [1.0, \"#f0f921\"]], \"type\": \"contour\"}], \"contourcarpet\": [{\"colorbar\": {\"outlinewidth\": 0, \"ticks\": \"\"}, \"type\": \"contourcarpet\"}], \"heatmap\": [{\"colorbar\": {\"outlinewidth\": 0, \"ticks\": \"\"}, \"colorscale\": [[0.0, \"#0d0887\"], [0.1111111111111111, \"#46039f\"], [0.2222222222222222, \"#7201a8\"], [0.3333333333333333, \"#9c179e\"], [0.4444444444444444, \"#bd3786\"], [0.5555555555555556, \"#d8576b\"], [0.6666666666666666, \"#ed7953\"], [0.7777777777777778, \"#fb9f3a\"], [0.8888888888888888, \"#fdca26\"], [1.0, \"#f0f921\"]], \"type\": \"heatmap\"}], \"heatmapgl\": [{\"colorbar\": {\"outlinewidth\": 0, \"ticks\": \"\"}, \"colorscale\": [[0.0, \"#0d0887\"], [0.1111111111111111, \"#46039f\"], [0.2222222222222222, \"#7201a8\"], [0.3333333333333333, \"#9c179e\"], [0.4444444444444444, \"#bd3786\"], [0.5555555555555556, \"#d8576b\"], [0.6666666666666666, \"#ed7953\"], [0.7777777777777778, \"#fb9f3a\"], [0.8888888888888888, \"#fdca26\"], [1.0, \"#f0f921\"]], \"type\": \"heatmapgl\"}], \"histogram\": [{\"marker\": {\"colorbar\": {\"outlinewidth\": 0, \"ticks\": \"\"}}, \"type\": \"histogram\"}], \"histogram2d\": [{\"colorbar\": {\"outlinewidth\": 0, \"ticks\": \"\"}, \"colorscale\": [[0.0, \"#0d0887\"], [0.1111111111111111, \"#46039f\"], [0.2222222222222222, \"#7201a8\"], [0.3333333333333333, \"#9c179e\"], [0.4444444444444444, \"#bd3786\"], [0.5555555555555556, \"#d8576b\"], [0.6666666666666666, \"#ed7953\"], [0.7777777777777778, \"#fb9f3a\"], [0.8888888888888888, \"#fdca26\"], [1.0, \"#f0f921\"]], \"type\": \"histogram2d\"}], \"histogram2dcontour\": [{\"colorbar\": {\"outlinewidth\": 0, \"ticks\": \"\"}, \"colorscale\": [[0.0, \"#0d0887\"], [0.1111111111111111, \"#46039f\"], [0.2222222222222222, \"#7201a8\"], [0.3333333333333333, \"#9c179e\"], [0.4444444444444444, \"#bd3786\"], [0.5555555555555556, \"#d8576b\"], [0.6666666666666666, \"#ed7953\"], [0.7777777777777778, \"#fb9f3a\"], [0.8888888888888888, \"#fdca26\"], [1.0, \"#f0f921\"]], \"type\": \"histogram2dcontour\"}], \"mesh3d\": [{\"colorbar\": {\"outlinewidth\": 0, \"ticks\": \"\"}, \"type\": \"mesh3d\"}], \"parcoords\": [{\"line\": {\"colorbar\": {\"outlinewidth\": 0, \"ticks\": \"\"}}, \"type\": \"parcoords\"}], \"pie\": [{\"automargin\": true, \"type\": \"pie\"}], \"scatter\": [{\"marker\": {\"colorbar\": {\"outlinewidth\": 0, \"ticks\": \"\"}}, \"type\": \"scatter\"}], \"scatter3d\": [{\"line\": {\"colorbar\": {\"outlinewidth\": 0, \"ticks\": \"\"}}, \"marker\": {\"colorbar\": {\"outlinewidth\": 0, \"ticks\": \"\"}}, \"type\": \"scatter3d\"}], \"scattercarpet\": [{\"marker\": {\"colorbar\": {\"outlinewidth\": 0, \"ticks\": \"\"}}, \"type\": \"scattercarpet\"}], \"scattergeo\": [{\"marker\": {\"colorbar\": {\"outlinewidth\": 0, \"ticks\": \"\"}}, \"type\": \"scattergeo\"}], \"scattergl\": [{\"marker\": {\"colorbar\": {\"outlinewidth\": 0, \"ticks\": \"\"}}, \"type\": \"scattergl\"}], \"scattermapbox\": [{\"marker\": {\"colorbar\": {\"outlinewidth\": 0, \"ticks\": \"\"}}, \"type\": \"scattermapbox\"}], \"scatterpolar\": [{\"marker\": {\"colorbar\": {\"outlinewidth\": 0, \"ticks\": \"\"}}, \"type\": \"scatterpolar\"}], \"scatterpolargl\": [{\"marker\": {\"colorbar\": {\"outlinewidth\": 0, \"ticks\": \"\"}}, \"type\": \"scatterpolargl\"}], \"scatterternary\": [{\"marker\": {\"colorbar\": {\"outlinewidth\": 0, \"ticks\": \"\"}}, \"type\": \"scatterternary\"}], \"surface\": [{\"colorbar\": {\"outlinewidth\": 0, \"ticks\": \"\"}, \"colorscale\": [[0.0, \"#0d0887\"], [0.1111111111111111, \"#46039f\"], [0.2222222222222222, \"#7201a8\"], [0.3333333333333333, \"#9c179e\"], [0.4444444444444444, \"#bd3786\"], [0.5555555555555556, \"#d8576b\"], [0.6666666666666666, \"#ed7953\"], [0.7777777777777778, \"#fb9f3a\"], [0.8888888888888888, \"#fdca26\"], [1.0, \"#f0f921\"]], \"type\": \"surface\"}], \"table\": [{\"cells\": {\"fill\": {\"color\": \"#EBF0F8\"}, \"line\": {\"color\": \"white\"}}, \"header\": {\"fill\": {\"color\": \"#C8D4E3\"}, \"line\": {\"color\": \"white\"}}, \"type\": \"table\"}]}, \"layout\": {\"annotationdefaults\": {\"arrowcolor\": \"#2a3f5f\", \"arrowhead\": 0, \"arrowwidth\": 1}, \"coloraxis\": {\"colorbar\": {\"outlinewidth\": 0, \"ticks\": \"\"}}, \"colorscale\": {\"diverging\": [[0, \"#8e0152\"], [0.1, \"#c51b7d\"], [0.2, \"#de77ae\"], [0.3, \"#f1b6da\"], [0.4, \"#fde0ef\"], [0.5, \"#f7f7f7\"], [0.6, \"#e6f5d0\"], [0.7, \"#b8e186\"], [0.8, \"#7fbc41\"], [0.9, \"#4d9221\"], [1, \"#276419\"]], \"sequential\": [[0.0, \"#0d0887\"], [0.1111111111111111, \"#46039f\"], [0.2222222222222222, \"#7201a8\"], [0.3333333333333333, \"#9c179e\"], [0.4444444444444444, \"#bd3786\"], [0.5555555555555556, \"#d8576b\"], [0.6666666666666666, \"#ed7953\"], [0.7777777777777778, \"#fb9f3a\"], [0.8888888888888888, \"#fdca26\"], [1.0, \"#f0f921\"]], \"sequentialminus\": [[0.0, \"#0d0887\"], [0.1111111111111111, \"#46039f\"], [0.2222222222222222, \"#7201a8\"], [0.3333333333333333, \"#9c179e\"], [0.4444444444444444, \"#bd3786\"], [0.5555555555555556, \"#d8576b\"], [0.6666666666666666, \"#ed7953\"], [0.7777777777777778, \"#fb9f3a\"], [0.8888888888888888, \"#fdca26\"], [1.0, \"#f0f921\"]]}, \"colorway\": [\"#636efa\", \"#EF553B\", \"#00cc96\", \"#ab63fa\", \"#FFA15A\", \"#19d3f3\", \"#FF6692\", \"#B6E880\", \"#FF97FF\", \"#FECB52\"], \"font\": {\"color\": \"#2a3f5f\"}, \"geo\": {\"bgcolor\": \"white\", \"lakecolor\": \"white\", \"landcolor\": \"#E5ECF6\", \"showlakes\": true, \"showland\": true, \"subunitcolor\": \"white\"}, \"hoverlabel\": {\"align\": \"left\"}, \"hovermode\": \"closest\", \"mapbox\": {\"style\": \"light\"}, \"paper_bgcolor\": \"white\", \"plot_bgcolor\": \"#E5ECF6\", \"polar\": {\"angularaxis\": {\"gridcolor\": \"white\", \"linecolor\": \"white\", \"ticks\": \"\"}, \"bgcolor\": \"#E5ECF6\", \"radialaxis\": {\"gridcolor\": \"white\", \"linecolor\": \"white\", \"ticks\": \"\"}}, \"scene\": {\"xaxis\": {\"backgroundcolor\": \"#E5ECF6\", \"gridcolor\": \"white\", \"gridwidth\": 2, \"linecolor\": \"white\", \"showbackground\": true, \"ticks\": \"\", \"zerolinecolor\": \"white\"}, \"yaxis\": {\"backgroundcolor\": \"#E5ECF6\", \"gridcolor\": \"white\", \"gridwidth\": 2, \"linecolor\": \"white\", \"showbackground\": true, \"ticks\": \"\", \"zerolinecolor\": \"white\"}, \"zaxis\": {\"backgroundcolor\": \"#E5ECF6\", \"gridcolor\": \"white\", \"gridwidth\": 2, \"linecolor\": \"white\", \"showbackground\": true, \"ticks\": \"\", \"zerolinecolor\": \"white\"}}, \"shapedefaults\": {\"line\": {\"color\": \"#2a3f5f\"}}, \"ternary\": {\"aaxis\": {\"gridcolor\": \"white\", \"linecolor\": \"white\", \"ticks\": \"\"}, \"baxis\": {\"gridcolor\": \"white\", \"linecolor\": \"white\", \"ticks\": \"\"}, \"bgcolor\": \"#E5ECF6\", \"caxis\": {\"gridcolor\": \"white\", \"linecolor\": \"white\", \"ticks\": \"\"}}, \"title\": {\"x\": 0.05}, \"xaxis\": {\"automargin\": true, \"gridcolor\": \"white\", \"linecolor\": \"white\", \"ticks\": \"\", \"title\": {\"standoff\": 15}, \"zerolinecolor\": \"white\", \"zerolinewidth\": 2}, \"yaxis\": {\"automargin\": true, \"gridcolor\": \"white\", \"linecolor\": \"white\", \"ticks\": \"\", \"title\": {\"standoff\": 15}, \"zerolinecolor\": \"white\", \"zerolinewidth\": 2}}}, \"title\": {\"font\": {\"color\": \"#4D5663\"}}, \"xaxis\": {\"gridcolor\": \"#E1E5ED\", \"showgrid\": true, \"tickfont\": {\"color\": \"#4D5663\"}, \"title\": {\"font\": {\"color\": \"#4D5663\"}, \"text\": \"\"}, \"zerolinecolor\": \"#E1E5ED\"}, \"yaxis\": {\"gridcolor\": \"#E1E5ED\", \"showgrid\": true, \"tickfont\": {\"color\": \"#4D5663\"}, \"title\": {\"font\": {\"color\": \"#4D5663\"}, \"text\": \"\"}, \"zerolinecolor\": \"#E1E5ED\"}},\n",
       "                        {\"showLink\": true, \"linkText\": \"Export to plot.ly\", \"plotlyServerURL\": \"https://plot.ly\", \"responsive\": true}\n",
       "                    ).then(function(){\n",
       "                            \n",
       "var gd = document.getElementById('b9659547-bb03-45f8-beff-f9881259fa58');\n",
       "var x = new MutationObserver(function (mutations, observer) {{\n",
       "        var display = window.getComputedStyle(gd).display;\n",
       "        if (!display || display === 'none') {{\n",
       "            console.log([gd, 'removed!']);\n",
       "            Plotly.purge(gd);\n",
       "            observer.disconnect();\n",
       "        }}\n",
       "}});\n",
       "\n",
       "// Listen for the removal of the full notebook cells\n",
       "var notebookContainer = gd.closest('#notebook-container');\n",
       "if (notebookContainer) {{\n",
       "    x.observe(notebookContainer, {childList: true});\n",
       "}}\n",
       "\n",
       "// Listen for the clearing of the current output cell\n",
       "var outputEl = gd.closest('.output');\n",
       "if (outputEl) {{\n",
       "    x.observe(outputEl, {childList: true});\n",
       "}}\n",
       "\n",
       "                        })\n",
       "                };\n",
       "                });\n",
       "            </script>\n",
       "        </div>"
      ]
     },
     "metadata": {},
     "output_type": "display_data"
    }
   ],
   "source": [
    "df['A'].iplot(kind='hist',bins=25)"
   ]
  },
  {
   "cell_type": "code",
   "execution_count": 20,
   "metadata": {},
   "outputs": [
    {
     "data": {
      "application/vnd.plotly.v1+json": {
       "config": {
        "linkText": "Export to plot.ly",
        "plotlyServerURL": "https://plot.ly",
        "showLink": true
       },
       "data": [
        {
         "marker": {
          "color": [
           "rgb(255, 153, 51)",
           "rgb(55, 128, 191)",
           "rgb(50, 171, 96)",
           "rgb(128, 0, 128)",
           "rgb(219, 64, 82)",
           "rgb(0, 128, 128)",
           "rgb(255, 255, 51)",
           "rgb(128, 128, 0)",
           "rgb(251, 128, 114)",
           "rgb(128, 177, 211)"
          ],
          "line": {
           "width": 1.3
          },
          "size": [
           12,
           55,
           49,
           92,
           64,
           56,
           37,
           50,
           52,
           72,
           75,
           30,
           61,
           95,
           66,
           110,
           51,
           26,
           92,
           84,
           55,
           67,
           16,
           43,
           61,
           60,
           59,
           71,
           91,
           70,
           52,
           83,
           71,
           75,
           81,
           67,
           47,
           40,
           52,
           33,
           64,
           23,
           57,
           80,
           59,
           35,
           48,
           66,
           64,
           47,
           112,
           27,
           55,
           39,
           74,
           44,
           49,
           92,
           49,
           56,
           86,
           25,
           71,
           68,
           50,
           54,
           34,
           107,
           85,
           74,
           57,
           43,
           75,
           47,
           25,
           70,
           28,
           27,
           46,
           73,
           56,
           55,
           94,
           51,
           89,
           46,
           56,
           102,
           46,
           63,
           73,
           28,
           84,
           78,
           45,
           58,
           18,
           79,
           62,
           31
          ],
          "symbol": "circle"
         },
         "mode": "markers",
         "text": "",
         "type": "scatter",
         "x": [
          0.6451627172498443,
          -0.6469131036903166,
          0.07282760997978965,
          -0.39996672688275203,
          1.27888605560903,
          0.176984719501775,
          -0.3478450711317554,
          1.1669800856100079,
          -1.1509471161286047,
          -0.4042239505584384,
          2.647907647993073,
          0.36715327003169484,
          0.8432767828805269,
          -0.03464740419409103,
          1.076977486712486,
          0.8436970449566027,
          -0.7334470538578574,
          -1.2853302266665863,
          1.5173632050074661,
          0.54034616538293,
          -0.12868533708843397,
          -0.2645198777318922,
          -1.2398657992294475,
          -0.18530651824974842,
          1.5742851271891127,
          0.7450361771271075,
          -1.4086085803396364,
          0.14499502944366194,
          7.98357974058988e-05,
          0.2015099522526723,
          0.5197852516643461,
          0.8137691135724868,
          -0.7898519062290008,
          -0.2350610039304626,
          -0.47805951650580386,
          0.7420069762630155,
          -0.884344286449463,
          0.4881141842478061,
          0.2539682741135712,
          -0.2415755237551213,
          0.19379602987412708,
          -0.46794198489183425,
          -0.05582823809394771,
          -0.1722137535156207,
          0.8219202690922193,
          -2.960368117506735,
          -0.5735579419165826,
          0.23185189552088065,
          -1.5476457212277288,
          -0.7318010309338864,
          0.4276163168061164,
          0.7076939313668328,
          0.9103248805933472,
          -0.6350650519263663,
          -0.7846590711619182,
          0.5066197590616859,
          0.9475847712991983,
          1.4855797887769817,
          -0.5176716456152829,
          -1.9365130236965,
          -2.2657350481435565,
          1.740096036056405,
          1.8796902458539129,
          -0.6503568376832136,
          -1.1063832718418674,
          0.5540253031028719,
          -0.2255018506179424,
          -0.22246662275393148,
          0.3796040910645512,
          0.641004515444166,
          -1.5257174213827545,
          0.5582632071338453,
          0.7434395855922672,
          -0.6429138846665017,
          -1.1470053481199076,
          -0.058408415132721984,
          -0.087271021946233,
          -0.11490851526832321,
          0.09478161319117837,
          -0.06806715841681621,
          -0.9642493190741217,
          -0.008786798402462295,
          0.6396834488805198,
          -0.3259564250417379,
          0.5002594604189721,
          1.6301959446629615,
          0.4764493472735545,
          -0.5917483321647256,
          1.3687335513621266,
          1.427544217794121,
          -0.6919940853120521,
          -2.0309623995200567,
          -0.8535043207183718,
          -0.7453142827178897,
          1.4886049411007722,
          1.376550678415612,
          0.4662319719767733,
          1.0996702131134612,
          -0.4293423418754007,
          -0.15580447473223744
         ],
         "y": [
          0.5349692410513225,
          -1.014328904542226,
          0.2229060005876184,
          -1.7581772675544798,
          0.37231115079283594,
          0.579264731188161,
          0.5718854242262145,
          -0.700421563136451,
          -0.6925810383508683,
          0.4790117557619783,
          0.24442530830143844,
          0.764748398677337,
          1.754347313478873,
          -0.40762244722224095,
          0.6650490169408635,
          -2.3902605775371946,
          0.7147583929606929,
          0.11896721666819543,
          -0.8028148154089121,
          1.6952701768643617,
          -2.7763997397425295,
          -0.01340515185356433,
          1.7784608524477292,
          -0.2885044914699736,
          1.0466215220208286,
          -0.9043684133288886,
          -0.6042356903023718,
          -1.6847822028654627,
          1.5297218731150697,
          1.3415136153615916,
          -0.37716657605716297,
          -1.0494981799232466,
          -0.500402274016725,
          -1.2181761971009173,
          -1.776210252204733,
          -0.3968897194559243,
          -0.322374690719606,
          -0.4012294945234382,
          2.035203464686686,
          1.1016567270559787,
          -0.14018196572980843,
          1.467813159453069,
          1.3809154248444366,
          -0.08205647775417348,
          -0.36341565920138735,
          0.07233594739972496,
          -1.0583568734506534,
          0.5560235499153585,
          2.176848979597883,
          0.9596586425683493,
          -0.3407743636640172,
          -1.7348677657723248,
          1.3577160606563694,
          0.05361173356677967,
          -1.3718095272286817,
          0.871112952667962,
          1.885708131400474,
          0.2170343177318166,
          -0.46920835974248226,
          1.3866627336967794,
          -0.6302221497234748,
          0.5301234274057091,
          -1.0564523821783804,
          -0.276707432201371,
          0.15170855981121262,
          0.43436907082471166,
          0.4744302146164032,
          -0.405764320028978,
          1.0481786716642518,
          0.11106210546013959,
          -1.5355277427466816,
          -0.045065170946819125,
          1.1894829955165938,
          -0.6775899242032235,
          0.5791523631524266,
          0.9636909001251861,
          0.3592607945727012,
          1.0994552085095473,
          0.8899020832464846,
          0.6136225224274325,
          0.6338374255363178,
          0.0729077581586196,
          -0.8213726655976707,
          0.06228745285536487,
          0.5290657124345663,
          0.13750720436213548,
          -1.2011407826241554,
          -0.21817446269581114,
          0.47476188782199336,
          0.3260651872156575,
          -0.36511298792012614,
          -0.6194016745901185,
          0.49622265016446104,
          -1.4253888279048446,
          0.6925910212982547,
          -1.1932783398603268,
          -0.3783372011436178,
          0.39282058649038537,
          0.006989733582659156,
          0.2866238712221347
         ]
        }
       ],
       "layout": {
        "legend": {
         "bgcolor": "#F5F6F9",
         "font": {
          "color": "#4D5663"
         }
        },
        "paper_bgcolor": "#F5F6F9",
        "plot_bgcolor": "#F5F6F9",
        "template": {
         "data": {
          "bar": [
           {
            "error_x": {
             "color": "#2a3f5f"
            },
            "error_y": {
             "color": "#2a3f5f"
            },
            "marker": {
             "line": {
              "color": "#E5ECF6",
              "width": 0.5
             }
            },
            "type": "bar"
           }
          ],
          "barpolar": [
           {
            "marker": {
             "line": {
              "color": "#E5ECF6",
              "width": 0.5
             }
            },
            "type": "barpolar"
           }
          ],
          "carpet": [
           {
            "aaxis": {
             "endlinecolor": "#2a3f5f",
             "gridcolor": "white",
             "linecolor": "white",
             "minorgridcolor": "white",
             "startlinecolor": "#2a3f5f"
            },
            "baxis": {
             "endlinecolor": "#2a3f5f",
             "gridcolor": "white",
             "linecolor": "white",
             "minorgridcolor": "white",
             "startlinecolor": "#2a3f5f"
            },
            "type": "carpet"
           }
          ],
          "choropleth": [
           {
            "colorbar": {
             "outlinewidth": 0,
             "ticks": ""
            },
            "type": "choropleth"
           }
          ],
          "contour": [
           {
            "colorbar": {
             "outlinewidth": 0,
             "ticks": ""
            },
            "colorscale": [
             [
              0,
              "#0d0887"
             ],
             [
              0.1111111111111111,
              "#46039f"
             ],
             [
              0.2222222222222222,
              "#7201a8"
             ],
             [
              0.3333333333333333,
              "#9c179e"
             ],
             [
              0.4444444444444444,
              "#bd3786"
             ],
             [
              0.5555555555555556,
              "#d8576b"
             ],
             [
              0.6666666666666666,
              "#ed7953"
             ],
             [
              0.7777777777777778,
              "#fb9f3a"
             ],
             [
              0.8888888888888888,
              "#fdca26"
             ],
             [
              1,
              "#f0f921"
             ]
            ],
            "type": "contour"
           }
          ],
          "contourcarpet": [
           {
            "colorbar": {
             "outlinewidth": 0,
             "ticks": ""
            },
            "type": "contourcarpet"
           }
          ],
          "heatmap": [
           {
            "colorbar": {
             "outlinewidth": 0,
             "ticks": ""
            },
            "colorscale": [
             [
              0,
              "#0d0887"
             ],
             [
              0.1111111111111111,
              "#46039f"
             ],
             [
              0.2222222222222222,
              "#7201a8"
             ],
             [
              0.3333333333333333,
              "#9c179e"
             ],
             [
              0.4444444444444444,
              "#bd3786"
             ],
             [
              0.5555555555555556,
              "#d8576b"
             ],
             [
              0.6666666666666666,
              "#ed7953"
             ],
             [
              0.7777777777777778,
              "#fb9f3a"
             ],
             [
              0.8888888888888888,
              "#fdca26"
             ],
             [
              1,
              "#f0f921"
             ]
            ],
            "type": "heatmap"
           }
          ],
          "heatmapgl": [
           {
            "colorbar": {
             "outlinewidth": 0,
             "ticks": ""
            },
            "colorscale": [
             [
              0,
              "#0d0887"
             ],
             [
              0.1111111111111111,
              "#46039f"
             ],
             [
              0.2222222222222222,
              "#7201a8"
             ],
             [
              0.3333333333333333,
              "#9c179e"
             ],
             [
              0.4444444444444444,
              "#bd3786"
             ],
             [
              0.5555555555555556,
              "#d8576b"
             ],
             [
              0.6666666666666666,
              "#ed7953"
             ],
             [
              0.7777777777777778,
              "#fb9f3a"
             ],
             [
              0.8888888888888888,
              "#fdca26"
             ],
             [
              1,
              "#f0f921"
             ]
            ],
            "type": "heatmapgl"
           }
          ],
          "histogram": [
           {
            "marker": {
             "colorbar": {
              "outlinewidth": 0,
              "ticks": ""
             }
            },
            "type": "histogram"
           }
          ],
          "histogram2d": [
           {
            "colorbar": {
             "outlinewidth": 0,
             "ticks": ""
            },
            "colorscale": [
             [
              0,
              "#0d0887"
             ],
             [
              0.1111111111111111,
              "#46039f"
             ],
             [
              0.2222222222222222,
              "#7201a8"
             ],
             [
              0.3333333333333333,
              "#9c179e"
             ],
             [
              0.4444444444444444,
              "#bd3786"
             ],
             [
              0.5555555555555556,
              "#d8576b"
             ],
             [
              0.6666666666666666,
              "#ed7953"
             ],
             [
              0.7777777777777778,
              "#fb9f3a"
             ],
             [
              0.8888888888888888,
              "#fdca26"
             ],
             [
              1,
              "#f0f921"
             ]
            ],
            "type": "histogram2d"
           }
          ],
          "histogram2dcontour": [
           {
            "colorbar": {
             "outlinewidth": 0,
             "ticks": ""
            },
            "colorscale": [
             [
              0,
              "#0d0887"
             ],
             [
              0.1111111111111111,
              "#46039f"
             ],
             [
              0.2222222222222222,
              "#7201a8"
             ],
             [
              0.3333333333333333,
              "#9c179e"
             ],
             [
              0.4444444444444444,
              "#bd3786"
             ],
             [
              0.5555555555555556,
              "#d8576b"
             ],
             [
              0.6666666666666666,
              "#ed7953"
             ],
             [
              0.7777777777777778,
              "#fb9f3a"
             ],
             [
              0.8888888888888888,
              "#fdca26"
             ],
             [
              1,
              "#f0f921"
             ]
            ],
            "type": "histogram2dcontour"
           }
          ],
          "mesh3d": [
           {
            "colorbar": {
             "outlinewidth": 0,
             "ticks": ""
            },
            "type": "mesh3d"
           }
          ],
          "parcoords": [
           {
            "line": {
             "colorbar": {
              "outlinewidth": 0,
              "ticks": ""
             }
            },
            "type": "parcoords"
           }
          ],
          "pie": [
           {
            "automargin": true,
            "type": "pie"
           }
          ],
          "scatter": [
           {
            "marker": {
             "colorbar": {
              "outlinewidth": 0,
              "ticks": ""
             }
            },
            "type": "scatter"
           }
          ],
          "scatter3d": [
           {
            "line": {
             "colorbar": {
              "outlinewidth": 0,
              "ticks": ""
             }
            },
            "marker": {
             "colorbar": {
              "outlinewidth": 0,
              "ticks": ""
             }
            },
            "type": "scatter3d"
           }
          ],
          "scattercarpet": [
           {
            "marker": {
             "colorbar": {
              "outlinewidth": 0,
              "ticks": ""
             }
            },
            "type": "scattercarpet"
           }
          ],
          "scattergeo": [
           {
            "marker": {
             "colorbar": {
              "outlinewidth": 0,
              "ticks": ""
             }
            },
            "type": "scattergeo"
           }
          ],
          "scattergl": [
           {
            "marker": {
             "colorbar": {
              "outlinewidth": 0,
              "ticks": ""
             }
            },
            "type": "scattergl"
           }
          ],
          "scattermapbox": [
           {
            "marker": {
             "colorbar": {
              "outlinewidth": 0,
              "ticks": ""
             }
            },
            "type": "scattermapbox"
           }
          ],
          "scatterpolar": [
           {
            "marker": {
             "colorbar": {
              "outlinewidth": 0,
              "ticks": ""
             }
            },
            "type": "scatterpolar"
           }
          ],
          "scatterpolargl": [
           {
            "marker": {
             "colorbar": {
              "outlinewidth": 0,
              "ticks": ""
             }
            },
            "type": "scatterpolargl"
           }
          ],
          "scatterternary": [
           {
            "marker": {
             "colorbar": {
              "outlinewidth": 0,
              "ticks": ""
             }
            },
            "type": "scatterternary"
           }
          ],
          "surface": [
           {
            "colorbar": {
             "outlinewidth": 0,
             "ticks": ""
            },
            "colorscale": [
             [
              0,
              "#0d0887"
             ],
             [
              0.1111111111111111,
              "#46039f"
             ],
             [
              0.2222222222222222,
              "#7201a8"
             ],
             [
              0.3333333333333333,
              "#9c179e"
             ],
             [
              0.4444444444444444,
              "#bd3786"
             ],
             [
              0.5555555555555556,
              "#d8576b"
             ],
             [
              0.6666666666666666,
              "#ed7953"
             ],
             [
              0.7777777777777778,
              "#fb9f3a"
             ],
             [
              0.8888888888888888,
              "#fdca26"
             ],
             [
              1,
              "#f0f921"
             ]
            ],
            "type": "surface"
           }
          ],
          "table": [
           {
            "cells": {
             "fill": {
              "color": "#EBF0F8"
             },
             "line": {
              "color": "white"
             }
            },
            "header": {
             "fill": {
              "color": "#C8D4E3"
             },
             "line": {
              "color": "white"
             }
            },
            "type": "table"
           }
          ]
         },
         "layout": {
          "annotationdefaults": {
           "arrowcolor": "#2a3f5f",
           "arrowhead": 0,
           "arrowwidth": 1
          },
          "coloraxis": {
           "colorbar": {
            "outlinewidth": 0,
            "ticks": ""
           }
          },
          "colorscale": {
           "diverging": [
            [
             0,
             "#8e0152"
            ],
            [
             0.1,
             "#c51b7d"
            ],
            [
             0.2,
             "#de77ae"
            ],
            [
             0.3,
             "#f1b6da"
            ],
            [
             0.4,
             "#fde0ef"
            ],
            [
             0.5,
             "#f7f7f7"
            ],
            [
             0.6,
             "#e6f5d0"
            ],
            [
             0.7,
             "#b8e186"
            ],
            [
             0.8,
             "#7fbc41"
            ],
            [
             0.9,
             "#4d9221"
            ],
            [
             1,
             "#276419"
            ]
           ],
           "sequential": [
            [
             0,
             "#0d0887"
            ],
            [
             0.1111111111111111,
             "#46039f"
            ],
            [
             0.2222222222222222,
             "#7201a8"
            ],
            [
             0.3333333333333333,
             "#9c179e"
            ],
            [
             0.4444444444444444,
             "#bd3786"
            ],
            [
             0.5555555555555556,
             "#d8576b"
            ],
            [
             0.6666666666666666,
             "#ed7953"
            ],
            [
             0.7777777777777778,
             "#fb9f3a"
            ],
            [
             0.8888888888888888,
             "#fdca26"
            ],
            [
             1,
             "#f0f921"
            ]
           ],
           "sequentialminus": [
            [
             0,
             "#0d0887"
            ],
            [
             0.1111111111111111,
             "#46039f"
            ],
            [
             0.2222222222222222,
             "#7201a8"
            ],
            [
             0.3333333333333333,
             "#9c179e"
            ],
            [
             0.4444444444444444,
             "#bd3786"
            ],
            [
             0.5555555555555556,
             "#d8576b"
            ],
            [
             0.6666666666666666,
             "#ed7953"
            ],
            [
             0.7777777777777778,
             "#fb9f3a"
            ],
            [
             0.8888888888888888,
             "#fdca26"
            ],
            [
             1,
             "#f0f921"
            ]
           ]
          },
          "colorway": [
           "#636efa",
           "#EF553B",
           "#00cc96",
           "#ab63fa",
           "#FFA15A",
           "#19d3f3",
           "#FF6692",
           "#B6E880",
           "#FF97FF",
           "#FECB52"
          ],
          "font": {
           "color": "#2a3f5f"
          },
          "geo": {
           "bgcolor": "white",
           "lakecolor": "white",
           "landcolor": "#E5ECF6",
           "showlakes": true,
           "showland": true,
           "subunitcolor": "white"
          },
          "hoverlabel": {
           "align": "left"
          },
          "hovermode": "closest",
          "mapbox": {
           "style": "light"
          },
          "paper_bgcolor": "white",
          "plot_bgcolor": "#E5ECF6",
          "polar": {
           "angularaxis": {
            "gridcolor": "white",
            "linecolor": "white",
            "ticks": ""
           },
           "bgcolor": "#E5ECF6",
           "radialaxis": {
            "gridcolor": "white",
            "linecolor": "white",
            "ticks": ""
           }
          },
          "scene": {
           "xaxis": {
            "backgroundcolor": "#E5ECF6",
            "gridcolor": "white",
            "gridwidth": 2,
            "linecolor": "white",
            "showbackground": true,
            "ticks": "",
            "zerolinecolor": "white"
           },
           "yaxis": {
            "backgroundcolor": "#E5ECF6",
            "gridcolor": "white",
            "gridwidth": 2,
            "linecolor": "white",
            "showbackground": true,
            "ticks": "",
            "zerolinecolor": "white"
           },
           "zaxis": {
            "backgroundcolor": "#E5ECF6",
            "gridcolor": "white",
            "gridwidth": 2,
            "linecolor": "white",
            "showbackground": true,
            "ticks": "",
            "zerolinecolor": "white"
           }
          },
          "shapedefaults": {
           "line": {
            "color": "#2a3f5f"
           }
          },
          "ternary": {
           "aaxis": {
            "gridcolor": "white",
            "linecolor": "white",
            "ticks": ""
           },
           "baxis": {
            "gridcolor": "white",
            "linecolor": "white",
            "ticks": ""
           },
           "bgcolor": "#E5ECF6",
           "caxis": {
            "gridcolor": "white",
            "linecolor": "white",
            "ticks": ""
           }
          },
          "title": {
           "x": 0.05
          },
          "xaxis": {
           "automargin": true,
           "gridcolor": "white",
           "linecolor": "white",
           "ticks": "",
           "title": {
            "standoff": 15
           },
           "zerolinecolor": "white",
           "zerolinewidth": 2
          },
          "yaxis": {
           "automargin": true,
           "gridcolor": "white",
           "linecolor": "white",
           "ticks": "",
           "title": {
            "standoff": 15
           },
           "zerolinecolor": "white",
           "zerolinewidth": 2
          }
         }
        },
        "title": {
         "font": {
          "color": "#4D5663"
         }
        },
        "xaxis": {
         "gridcolor": "#E1E5ED",
         "showgrid": true,
         "tickfont": {
          "color": "#4D5663"
         },
         "title": {
          "font": {
           "color": "#4D5663"
          },
          "text": ""
         },
         "zerolinecolor": "#E1E5ED"
        },
        "yaxis": {
         "gridcolor": "#E1E5ED",
         "showgrid": true,
         "tickfont": {
          "color": "#4D5663"
         },
         "title": {
          "font": {
           "color": "#4D5663"
          },
          "text": ""
         },
         "zerolinecolor": "#E1E5ED"
        }
       }
      },
      "text/html": [
       "<div>\n",
       "        \n",
       "        \n",
       "            <div id=\"be2042a9-c7d0-4a5a-88b4-1a0a21b41f6f\" class=\"plotly-graph-div\" style=\"height:525px; width:100%;\"></div>\n",
       "            <script type=\"text/javascript\">\n",
       "                require([\"plotly\"], function(Plotly) {\n",
       "                    window.PLOTLYENV=window.PLOTLYENV || {};\n",
       "                    window.PLOTLYENV.BASE_URL='https://plot.ly';\n",
       "                    \n",
       "                if (document.getElementById(\"be2042a9-c7d0-4a5a-88b4-1a0a21b41f6f\")) {\n",
       "                    Plotly.newPlot(\n",
       "                        'be2042a9-c7d0-4a5a-88b4-1a0a21b41f6f',\n",
       "                        [{\"marker\": {\"color\": [\"rgb(255, 153, 51)\", \"rgb(55, 128, 191)\", \"rgb(50, 171, 96)\", \"rgb(128, 0, 128)\", \"rgb(219, 64, 82)\", \"rgb(0, 128, 128)\", \"rgb(255, 255, 51)\", \"rgb(128, 128, 0)\", \"rgb(251, 128, 114)\", \"rgb(128, 177, 211)\"], \"line\": {\"width\": 1.3}, \"size\": [12, 55, 49, 92, 64, 56, 37, 50, 52, 72, 75, 30, 61, 95, 66, 110, 51, 26, 92, 84, 55, 67, 16, 43, 61, 60, 59, 71, 91, 70, 52, 83, 71, 75, 81, 67, 47, 40, 52, 33, 64, 23, 57, 80, 59, 35, 48, 66, 64, 47, 112, 27, 55, 39, 74, 44, 49, 92, 49, 56, 86, 25, 71, 68, 50, 54, 34, 107, 85, 74, 57, 43, 75, 47, 25, 70, 28, 27, 46, 73, 56, 55, 94, 51, 89, 46, 56, 102, 46, 63, 73, 28, 84, 78, 45, 58, 18, 79, 62, 31], \"symbol\": \"circle\"}, \"mode\": \"markers\", \"text\": \"\", \"type\": \"scatter\", \"x\": [0.6451627172498443, -0.6469131036903166, 0.07282760997978965, -0.39996672688275203, 1.27888605560903, 0.176984719501775, -0.3478450711317554, 1.1669800856100079, -1.1509471161286047, -0.4042239505584384, 2.647907647993073, 0.36715327003169484, 0.8432767828805269, -0.03464740419409103, 1.076977486712486, 0.8436970449566027, -0.7334470538578574, -1.2853302266665863, 1.5173632050074661, 0.54034616538293, -0.12868533708843397, -0.2645198777318922, -1.2398657992294475, -0.18530651824974842, 1.5742851271891127, 0.7450361771271075, -1.4086085803396364, 0.14499502944366194, 7.98357974058988e-05, 0.2015099522526723, 0.5197852516643461, 0.8137691135724868, -0.7898519062290008, -0.2350610039304626, -0.47805951650580386, 0.7420069762630155, -0.884344286449463, 0.4881141842478061, 0.2539682741135712, -0.2415755237551213, 0.19379602987412708, -0.46794198489183425, -0.05582823809394771, -0.1722137535156207, 0.8219202690922193, -2.960368117506735, -0.5735579419165826, 0.23185189552088065, -1.5476457212277288, -0.7318010309338864, 0.4276163168061164, 0.7076939313668328, 0.9103248805933472, -0.6350650519263663, -0.7846590711619182, 0.5066197590616859, 0.9475847712991983, 1.4855797887769817, -0.5176716456152829, -1.9365130236965, -2.2657350481435565, 1.740096036056405, 1.8796902458539129, -0.6503568376832136, -1.1063832718418674, 0.5540253031028719, -0.2255018506179424, -0.22246662275393148, 0.3796040910645512, 0.641004515444166, -1.5257174213827545, 0.5582632071338453, 0.7434395855922672, -0.6429138846665017, -1.1470053481199076, -0.058408415132721984, -0.087271021946233, -0.11490851526832321, 0.09478161319117837, -0.06806715841681621, -0.9642493190741217, -0.008786798402462295, 0.6396834488805198, -0.3259564250417379, 0.5002594604189721, 1.6301959446629615, 0.4764493472735545, -0.5917483321647256, 1.3687335513621266, 1.427544217794121, -0.6919940853120521, -2.0309623995200567, -0.8535043207183718, -0.7453142827178897, 1.4886049411007722, 1.376550678415612, 0.4662319719767733, 1.0996702131134612, -0.4293423418754007, -0.15580447473223744], \"y\": [0.5349692410513225, -1.014328904542226, 0.2229060005876184, -1.7581772675544798, 0.37231115079283594, 0.579264731188161, 0.5718854242262145, -0.700421563136451, -0.6925810383508683, 0.4790117557619783, 0.24442530830143844, 0.764748398677337, 1.754347313478873, -0.40762244722224095, 0.6650490169408635, -2.3902605775371946, 0.7147583929606929, 0.11896721666819543, -0.8028148154089121, 1.6952701768643617, -2.7763997397425295, -0.01340515185356433, 1.7784608524477292, -0.2885044914699736, 1.0466215220208286, -0.9043684133288886, -0.6042356903023718, -1.6847822028654627, 1.5297218731150697, 1.3415136153615916, -0.37716657605716297, -1.0494981799232466, -0.500402274016725, -1.2181761971009173, -1.776210252204733, -0.3968897194559243, -0.322374690719606, -0.4012294945234382, 2.035203464686686, 1.1016567270559787, -0.14018196572980843, 1.467813159453069, 1.3809154248444366, -0.08205647775417348, -0.36341565920138735, 0.07233594739972496, -1.0583568734506534, 0.5560235499153585, 2.176848979597883, 0.9596586425683493, -0.3407743636640172, -1.7348677657723248, 1.3577160606563694, 0.05361173356677967, -1.3718095272286817, 0.871112952667962, 1.885708131400474, 0.2170343177318166, -0.46920835974248226, 1.3866627336967794, -0.6302221497234748, 0.5301234274057091, -1.0564523821783804, -0.276707432201371, 0.15170855981121262, 0.43436907082471166, 0.4744302146164032, -0.405764320028978, 1.0481786716642518, 0.11106210546013959, -1.5355277427466816, -0.045065170946819125, 1.1894829955165938, -0.6775899242032235, 0.5791523631524266, 0.9636909001251861, 0.3592607945727012, 1.0994552085095473, 0.8899020832464846, 0.6136225224274325, 0.6338374255363178, 0.0729077581586196, -0.8213726655976707, 0.06228745285536487, 0.5290657124345663, 0.13750720436213548, -1.2011407826241554, -0.21817446269581114, 0.47476188782199336, 0.3260651872156575, -0.36511298792012614, -0.6194016745901185, 0.49622265016446104, -1.4253888279048446, 0.6925910212982547, -1.1932783398603268, -0.3783372011436178, 0.39282058649038537, 0.006989733582659156, 0.2866238712221347]}],\n",
       "                        {\"legend\": {\"bgcolor\": \"#F5F6F9\", \"font\": {\"color\": \"#4D5663\"}}, \"paper_bgcolor\": \"#F5F6F9\", \"plot_bgcolor\": \"#F5F6F9\", \"template\": {\"data\": {\"bar\": [{\"error_x\": {\"color\": \"#2a3f5f\"}, \"error_y\": {\"color\": \"#2a3f5f\"}, \"marker\": {\"line\": {\"color\": \"#E5ECF6\", \"width\": 0.5}}, \"type\": \"bar\"}], \"barpolar\": [{\"marker\": {\"line\": {\"color\": \"#E5ECF6\", \"width\": 0.5}}, \"type\": \"barpolar\"}], \"carpet\": [{\"aaxis\": {\"endlinecolor\": \"#2a3f5f\", \"gridcolor\": \"white\", \"linecolor\": \"white\", \"minorgridcolor\": \"white\", \"startlinecolor\": \"#2a3f5f\"}, \"baxis\": {\"endlinecolor\": \"#2a3f5f\", \"gridcolor\": \"white\", \"linecolor\": \"white\", \"minorgridcolor\": \"white\", \"startlinecolor\": \"#2a3f5f\"}, \"type\": \"carpet\"}], \"choropleth\": [{\"colorbar\": {\"outlinewidth\": 0, \"ticks\": \"\"}, \"type\": \"choropleth\"}], \"contour\": [{\"colorbar\": {\"outlinewidth\": 0, \"ticks\": \"\"}, \"colorscale\": [[0.0, \"#0d0887\"], [0.1111111111111111, \"#46039f\"], [0.2222222222222222, \"#7201a8\"], [0.3333333333333333, \"#9c179e\"], [0.4444444444444444, \"#bd3786\"], [0.5555555555555556, \"#d8576b\"], [0.6666666666666666, \"#ed7953\"], [0.7777777777777778, \"#fb9f3a\"], [0.8888888888888888, \"#fdca26\"], [1.0, \"#f0f921\"]], \"type\": \"contour\"}], \"contourcarpet\": [{\"colorbar\": {\"outlinewidth\": 0, \"ticks\": \"\"}, \"type\": \"contourcarpet\"}], \"heatmap\": [{\"colorbar\": {\"outlinewidth\": 0, \"ticks\": \"\"}, \"colorscale\": [[0.0, \"#0d0887\"], [0.1111111111111111, \"#46039f\"], [0.2222222222222222, \"#7201a8\"], [0.3333333333333333, \"#9c179e\"], [0.4444444444444444, \"#bd3786\"], [0.5555555555555556, \"#d8576b\"], [0.6666666666666666, \"#ed7953\"], [0.7777777777777778, \"#fb9f3a\"], [0.8888888888888888, \"#fdca26\"], [1.0, \"#f0f921\"]], \"type\": \"heatmap\"}], \"heatmapgl\": [{\"colorbar\": {\"outlinewidth\": 0, \"ticks\": \"\"}, \"colorscale\": [[0.0, \"#0d0887\"], [0.1111111111111111, \"#46039f\"], [0.2222222222222222, \"#7201a8\"], [0.3333333333333333, \"#9c179e\"], [0.4444444444444444, \"#bd3786\"], [0.5555555555555556, \"#d8576b\"], [0.6666666666666666, \"#ed7953\"], [0.7777777777777778, \"#fb9f3a\"], [0.8888888888888888, \"#fdca26\"], [1.0, \"#f0f921\"]], \"type\": \"heatmapgl\"}], \"histogram\": [{\"marker\": {\"colorbar\": {\"outlinewidth\": 0, \"ticks\": \"\"}}, \"type\": \"histogram\"}], \"histogram2d\": [{\"colorbar\": {\"outlinewidth\": 0, \"ticks\": \"\"}, \"colorscale\": [[0.0, \"#0d0887\"], [0.1111111111111111, \"#46039f\"], [0.2222222222222222, \"#7201a8\"], [0.3333333333333333, \"#9c179e\"], [0.4444444444444444, \"#bd3786\"], [0.5555555555555556, \"#d8576b\"], [0.6666666666666666, \"#ed7953\"], [0.7777777777777778, \"#fb9f3a\"], [0.8888888888888888, \"#fdca26\"], [1.0, \"#f0f921\"]], \"type\": \"histogram2d\"}], \"histogram2dcontour\": [{\"colorbar\": {\"outlinewidth\": 0, \"ticks\": \"\"}, \"colorscale\": [[0.0, \"#0d0887\"], [0.1111111111111111, \"#46039f\"], [0.2222222222222222, \"#7201a8\"], [0.3333333333333333, \"#9c179e\"], [0.4444444444444444, \"#bd3786\"], [0.5555555555555556, \"#d8576b\"], [0.6666666666666666, \"#ed7953\"], [0.7777777777777778, \"#fb9f3a\"], [0.8888888888888888, \"#fdca26\"], [1.0, \"#f0f921\"]], \"type\": \"histogram2dcontour\"}], \"mesh3d\": [{\"colorbar\": {\"outlinewidth\": 0, \"ticks\": \"\"}, \"type\": \"mesh3d\"}], \"parcoords\": [{\"line\": {\"colorbar\": {\"outlinewidth\": 0, \"ticks\": \"\"}}, \"type\": \"parcoords\"}], \"pie\": [{\"automargin\": true, \"type\": \"pie\"}], \"scatter\": [{\"marker\": {\"colorbar\": {\"outlinewidth\": 0, \"ticks\": \"\"}}, \"type\": \"scatter\"}], \"scatter3d\": [{\"line\": {\"colorbar\": {\"outlinewidth\": 0, \"ticks\": \"\"}}, \"marker\": {\"colorbar\": {\"outlinewidth\": 0, \"ticks\": \"\"}}, \"type\": \"scatter3d\"}], \"scattercarpet\": [{\"marker\": {\"colorbar\": {\"outlinewidth\": 0, \"ticks\": \"\"}}, \"type\": \"scattercarpet\"}], \"scattergeo\": [{\"marker\": {\"colorbar\": {\"outlinewidth\": 0, \"ticks\": \"\"}}, \"type\": \"scattergeo\"}], \"scattergl\": [{\"marker\": {\"colorbar\": {\"outlinewidth\": 0, \"ticks\": \"\"}}, \"type\": \"scattergl\"}], \"scattermapbox\": [{\"marker\": {\"colorbar\": {\"outlinewidth\": 0, \"ticks\": \"\"}}, \"type\": \"scattermapbox\"}], \"scatterpolar\": [{\"marker\": {\"colorbar\": {\"outlinewidth\": 0, \"ticks\": \"\"}}, \"type\": \"scatterpolar\"}], \"scatterpolargl\": [{\"marker\": {\"colorbar\": {\"outlinewidth\": 0, \"ticks\": \"\"}}, \"type\": \"scatterpolargl\"}], \"scatterternary\": [{\"marker\": {\"colorbar\": {\"outlinewidth\": 0, \"ticks\": \"\"}}, \"type\": \"scatterternary\"}], \"surface\": [{\"colorbar\": {\"outlinewidth\": 0, \"ticks\": \"\"}, \"colorscale\": [[0.0, \"#0d0887\"], [0.1111111111111111, \"#46039f\"], [0.2222222222222222, \"#7201a8\"], [0.3333333333333333, \"#9c179e\"], [0.4444444444444444, \"#bd3786\"], [0.5555555555555556, \"#d8576b\"], [0.6666666666666666, \"#ed7953\"], [0.7777777777777778, \"#fb9f3a\"], [0.8888888888888888, \"#fdca26\"], [1.0, \"#f0f921\"]], \"type\": \"surface\"}], \"table\": [{\"cells\": {\"fill\": {\"color\": \"#EBF0F8\"}, \"line\": {\"color\": \"white\"}}, \"header\": {\"fill\": {\"color\": \"#C8D4E3\"}, \"line\": {\"color\": \"white\"}}, \"type\": \"table\"}]}, \"layout\": {\"annotationdefaults\": {\"arrowcolor\": \"#2a3f5f\", \"arrowhead\": 0, \"arrowwidth\": 1}, \"coloraxis\": {\"colorbar\": {\"outlinewidth\": 0, \"ticks\": \"\"}}, \"colorscale\": {\"diverging\": [[0, \"#8e0152\"], [0.1, \"#c51b7d\"], [0.2, \"#de77ae\"], [0.3, \"#f1b6da\"], [0.4, \"#fde0ef\"], [0.5, \"#f7f7f7\"], [0.6, \"#e6f5d0\"], [0.7, \"#b8e186\"], [0.8, \"#7fbc41\"], [0.9, \"#4d9221\"], [1, \"#276419\"]], \"sequential\": [[0.0, \"#0d0887\"], [0.1111111111111111, \"#46039f\"], [0.2222222222222222, \"#7201a8\"], [0.3333333333333333, \"#9c179e\"], [0.4444444444444444, \"#bd3786\"], [0.5555555555555556, \"#d8576b\"], [0.6666666666666666, \"#ed7953\"], [0.7777777777777778, \"#fb9f3a\"], [0.8888888888888888, \"#fdca26\"], [1.0, \"#f0f921\"]], \"sequentialminus\": [[0.0, \"#0d0887\"], [0.1111111111111111, \"#46039f\"], [0.2222222222222222, \"#7201a8\"], [0.3333333333333333, \"#9c179e\"], [0.4444444444444444, \"#bd3786\"], [0.5555555555555556, \"#d8576b\"], [0.6666666666666666, \"#ed7953\"], [0.7777777777777778, \"#fb9f3a\"], [0.8888888888888888, \"#fdca26\"], [1.0, \"#f0f921\"]]}, \"colorway\": [\"#636efa\", \"#EF553B\", \"#00cc96\", \"#ab63fa\", \"#FFA15A\", \"#19d3f3\", \"#FF6692\", \"#B6E880\", \"#FF97FF\", \"#FECB52\"], \"font\": {\"color\": \"#2a3f5f\"}, \"geo\": {\"bgcolor\": \"white\", \"lakecolor\": \"white\", \"landcolor\": \"#E5ECF6\", \"showlakes\": true, \"showland\": true, \"subunitcolor\": \"white\"}, \"hoverlabel\": {\"align\": \"left\"}, \"hovermode\": \"closest\", \"mapbox\": {\"style\": \"light\"}, \"paper_bgcolor\": \"white\", \"plot_bgcolor\": \"#E5ECF6\", \"polar\": {\"angularaxis\": {\"gridcolor\": \"white\", \"linecolor\": \"white\", \"ticks\": \"\"}, \"bgcolor\": \"#E5ECF6\", \"radialaxis\": {\"gridcolor\": \"white\", \"linecolor\": \"white\", \"ticks\": \"\"}}, \"scene\": {\"xaxis\": {\"backgroundcolor\": \"#E5ECF6\", \"gridcolor\": \"white\", \"gridwidth\": 2, \"linecolor\": \"white\", \"showbackground\": true, \"ticks\": \"\", \"zerolinecolor\": \"white\"}, \"yaxis\": {\"backgroundcolor\": \"#E5ECF6\", \"gridcolor\": \"white\", \"gridwidth\": 2, \"linecolor\": \"white\", \"showbackground\": true, \"ticks\": \"\", \"zerolinecolor\": \"white\"}, \"zaxis\": {\"backgroundcolor\": \"#E5ECF6\", \"gridcolor\": \"white\", \"gridwidth\": 2, \"linecolor\": \"white\", \"showbackground\": true, \"ticks\": \"\", \"zerolinecolor\": \"white\"}}, \"shapedefaults\": {\"line\": {\"color\": \"#2a3f5f\"}}, \"ternary\": {\"aaxis\": {\"gridcolor\": \"white\", \"linecolor\": \"white\", \"ticks\": \"\"}, \"baxis\": {\"gridcolor\": \"white\", \"linecolor\": \"white\", \"ticks\": \"\"}, \"bgcolor\": \"#E5ECF6\", \"caxis\": {\"gridcolor\": \"white\", \"linecolor\": \"white\", \"ticks\": \"\"}}, \"title\": {\"x\": 0.05}, \"xaxis\": {\"automargin\": true, \"gridcolor\": \"white\", \"linecolor\": \"white\", \"ticks\": \"\", \"title\": {\"standoff\": 15}, \"zerolinecolor\": \"white\", \"zerolinewidth\": 2}, \"yaxis\": {\"automargin\": true, \"gridcolor\": \"white\", \"linecolor\": \"white\", \"ticks\": \"\", \"title\": {\"standoff\": 15}, \"zerolinecolor\": \"white\", \"zerolinewidth\": 2}}}, \"title\": {\"font\": {\"color\": \"#4D5663\"}}, \"xaxis\": {\"gridcolor\": \"#E1E5ED\", \"showgrid\": true, \"tickfont\": {\"color\": \"#4D5663\"}, \"title\": {\"font\": {\"color\": \"#4D5663\"}, \"text\": \"\"}, \"zerolinecolor\": \"#E1E5ED\"}, \"yaxis\": {\"gridcolor\": \"#E1E5ED\", \"showgrid\": true, \"tickfont\": {\"color\": \"#4D5663\"}, \"title\": {\"font\": {\"color\": \"#4D5663\"}, \"text\": \"\"}, \"zerolinecolor\": \"#E1E5ED\"}},\n",
       "                        {\"showLink\": true, \"linkText\": \"Export to plot.ly\", \"plotlyServerURL\": \"https://plot.ly\", \"responsive\": true}\n",
       "                    ).then(function(){\n",
       "                            \n",
       "var gd = document.getElementById('be2042a9-c7d0-4a5a-88b4-1a0a21b41f6f');\n",
       "var x = new MutationObserver(function (mutations, observer) {{\n",
       "        var display = window.getComputedStyle(gd).display;\n",
       "        if (!display || display === 'none') {{\n",
       "            console.log([gd, 'removed!']);\n",
       "            Plotly.purge(gd);\n",
       "            observer.disconnect();\n",
       "        }}\n",
       "}});\n",
       "\n",
       "// Listen for the removal of the full notebook cells\n",
       "var notebookContainer = gd.closest('#notebook-container');\n",
       "if (notebookContainer) {{\n",
       "    x.observe(notebookContainer, {childList: true});\n",
       "}}\n",
       "\n",
       "// Listen for the clearing of the current output cell\n",
       "var outputEl = gd.closest('.output');\n",
       "if (outputEl) {{\n",
       "    x.observe(outputEl, {childList: true});\n",
       "}}\n",
       "\n",
       "                        })\n",
       "                };\n",
       "                });\n",
       "            </script>\n",
       "        </div>"
      ]
     },
     "metadata": {},
     "output_type": "display_data"
    }
   ],
   "source": [
    "df.iplot(kind='bubble',x='A',y='B',size='C')"
   ]
  },
  {
   "cell_type": "markdown",
   "metadata": {},
   "source": [
    "## scatter_matrix()\n",
    "\n",
    "Similar to sns.pairplot()"
   ]
  },
  {
   "cell_type": "code",
   "execution_count": 21,
   "metadata": {},
   "outputs": [
    {
     "data": {
      "application/vnd.plotly.v1+json": {
       "config": {
        "linkText": "Export to plot.ly",
        "plotlyServerURL": "https://plot.ly",
        "showLink": true
       },
       "data": [
        {
         "histfunc": "count",
         "histnorm": "",
         "marker": {
          "color": "rgba(255, 153, 51, 1.0)",
          "line": {
           "color": "#4D5663",
           "width": 1.3
          }
         },
         "name": "A",
         "nbinsx": 10,
         "opacity": 0.8,
         "orientation": "v",
         "type": "histogram",
         "x": [
          0.6451627172498443,
          -0.6469131036903166,
          0.07282760997978965,
          -0.39996672688275203,
          1.27888605560903,
          0.176984719501775,
          -0.3478450711317554,
          1.1669800856100079,
          -1.1509471161286047,
          -0.4042239505584384,
          2.647907647993073,
          0.36715327003169484,
          0.8432767828805269,
          -0.03464740419409103,
          1.076977486712486,
          0.8436970449566027,
          -0.7334470538578574,
          -1.2853302266665863,
          1.5173632050074661,
          0.54034616538293,
          -0.12868533708843397,
          -0.2645198777318922,
          -1.2398657992294475,
          -0.18530651824974842,
          1.5742851271891127,
          0.7450361771271075,
          -1.4086085803396364,
          0.14499502944366194,
          7.98357974058988e-05,
          0.2015099522526723,
          0.5197852516643461,
          0.8137691135724868,
          -0.7898519062290008,
          -0.2350610039304626,
          -0.47805951650580386,
          0.7420069762630155,
          -0.884344286449463,
          0.4881141842478061,
          0.2539682741135712,
          -0.2415755237551213,
          0.19379602987412708,
          -0.46794198489183425,
          -0.05582823809394771,
          -0.1722137535156207,
          0.8219202690922193,
          -2.960368117506735,
          -0.5735579419165826,
          0.23185189552088065,
          -1.5476457212277288,
          -0.7318010309338864,
          0.4276163168061164,
          0.7076939313668328,
          0.9103248805933472,
          -0.6350650519263663,
          -0.7846590711619182,
          0.5066197590616859,
          0.9475847712991983,
          1.4855797887769817,
          -0.5176716456152829,
          -1.9365130236965,
          -2.2657350481435565,
          1.740096036056405,
          1.8796902458539129,
          -0.6503568376832136,
          -1.1063832718418674,
          0.5540253031028719,
          -0.2255018506179424,
          -0.22246662275393148,
          0.3796040910645512,
          0.641004515444166,
          -1.5257174213827545,
          0.5582632071338453,
          0.7434395855922672,
          -0.6429138846665017,
          -1.1470053481199076,
          -0.058408415132721984,
          -0.087271021946233,
          -0.11490851526832321,
          0.09478161319117837,
          -0.06806715841681621,
          -0.9642493190741217,
          -0.008786798402462295,
          0.6396834488805198,
          -0.3259564250417379,
          0.5002594604189721,
          1.6301959446629615,
          0.4764493472735545,
          -0.5917483321647256,
          1.3687335513621266,
          1.427544217794121,
          -0.6919940853120521,
          -2.0309623995200567,
          -0.8535043207183718,
          -0.7453142827178897,
          1.4886049411007722,
          1.376550678415612,
          0.4662319719767733,
          1.0996702131134612,
          -0.4293423418754007,
          -0.15580447473223744
         ],
         "xaxis": "x",
         "yaxis": "y"
        },
        {
         "line": {
          "color": "rgba(128, 128, 128, 1.0)",
          "dash": "solid",
          "shape": "linear",
          "width": 1.3
         },
         "marker": {
          "size": 2,
          "symbol": "circle"
         },
         "mode": "markers",
         "name": "A",
         "text": "",
         "type": "scatter",
         "x": [
          0.5349692410513225,
          -1.014328904542226,
          0.2229060005876184,
          -1.7581772675544798,
          0.37231115079283594,
          0.579264731188161,
          0.5718854242262145,
          -0.700421563136451,
          -0.6925810383508683,
          0.4790117557619783,
          0.24442530830143844,
          0.764748398677337,
          1.754347313478873,
          -0.40762244722224095,
          0.6650490169408635,
          -2.3902605775371946,
          0.7147583929606929,
          0.11896721666819543,
          -0.8028148154089121,
          1.6952701768643617,
          -2.7763997397425295,
          -0.01340515185356433,
          1.7784608524477292,
          -0.2885044914699736,
          1.0466215220208286,
          -0.9043684133288886,
          -0.6042356903023718,
          -1.6847822028654627,
          1.5297218731150697,
          1.3415136153615916,
          -0.37716657605716297,
          -1.0494981799232466,
          -0.500402274016725,
          -1.2181761971009173,
          -1.776210252204733,
          -0.3968897194559243,
          -0.322374690719606,
          -0.4012294945234382,
          2.035203464686686,
          1.1016567270559787,
          -0.14018196572980843,
          1.467813159453069,
          1.3809154248444366,
          -0.08205647775417348,
          -0.36341565920138735,
          0.07233594739972496,
          -1.0583568734506534,
          0.5560235499153585,
          2.176848979597883,
          0.9596586425683493,
          -0.3407743636640172,
          -1.7348677657723248,
          1.3577160606563694,
          0.05361173356677967,
          -1.3718095272286817,
          0.871112952667962,
          1.885708131400474,
          0.2170343177318166,
          -0.46920835974248226,
          1.3866627336967794,
          -0.6302221497234748,
          0.5301234274057091,
          -1.0564523821783804,
          -0.276707432201371,
          0.15170855981121262,
          0.43436907082471166,
          0.4744302146164032,
          -0.405764320028978,
          1.0481786716642518,
          0.11106210546013959,
          -1.5355277427466816,
          -0.045065170946819125,
          1.1894829955165938,
          -0.6775899242032235,
          0.5791523631524266,
          0.9636909001251861,
          0.3592607945727012,
          1.0994552085095473,
          0.8899020832464846,
          0.6136225224274325,
          0.6338374255363178,
          0.0729077581586196,
          -0.8213726655976707,
          0.06228745285536487,
          0.5290657124345663,
          0.13750720436213548,
          -1.2011407826241554,
          -0.21817446269581114,
          0.47476188782199336,
          0.3260651872156575,
          -0.36511298792012614,
          -0.6194016745901185,
          0.49622265016446104,
          -1.4253888279048446,
          0.6925910212982547,
          -1.1932783398603268,
          -0.3783372011436178,
          0.39282058649038537,
          0.006989733582659156,
          0.2866238712221347
         ],
         "xaxis": "x2",
         "y": [
          0.6451627172498443,
          -0.6469131036903166,
          0.07282760997978965,
          -0.39996672688275203,
          1.27888605560903,
          0.176984719501775,
          -0.3478450711317554,
          1.1669800856100079,
          -1.1509471161286047,
          -0.4042239505584384,
          2.647907647993073,
          0.36715327003169484,
          0.8432767828805269,
          -0.03464740419409103,
          1.076977486712486,
          0.8436970449566027,
          -0.7334470538578574,
          -1.2853302266665863,
          1.5173632050074661,
          0.54034616538293,
          -0.12868533708843397,
          -0.2645198777318922,
          -1.2398657992294475,
          -0.18530651824974842,
          1.5742851271891127,
          0.7450361771271075,
          -1.4086085803396364,
          0.14499502944366194,
          7.98357974058988e-05,
          0.2015099522526723,
          0.5197852516643461,
          0.8137691135724868,
          -0.7898519062290008,
          -0.2350610039304626,
          -0.47805951650580386,
          0.7420069762630155,
          -0.884344286449463,
          0.4881141842478061,
          0.2539682741135712,
          -0.2415755237551213,
          0.19379602987412708,
          -0.46794198489183425,
          -0.05582823809394771,
          -0.1722137535156207,
          0.8219202690922193,
          -2.960368117506735,
          -0.5735579419165826,
          0.23185189552088065,
          -1.5476457212277288,
          -0.7318010309338864,
          0.4276163168061164,
          0.7076939313668328,
          0.9103248805933472,
          -0.6350650519263663,
          -0.7846590711619182,
          0.5066197590616859,
          0.9475847712991983,
          1.4855797887769817,
          -0.5176716456152829,
          -1.9365130236965,
          -2.2657350481435565,
          1.740096036056405,
          1.8796902458539129,
          -0.6503568376832136,
          -1.1063832718418674,
          0.5540253031028719,
          -0.2255018506179424,
          -0.22246662275393148,
          0.3796040910645512,
          0.641004515444166,
          -1.5257174213827545,
          0.5582632071338453,
          0.7434395855922672,
          -0.6429138846665017,
          -1.1470053481199076,
          -0.058408415132721984,
          -0.087271021946233,
          -0.11490851526832321,
          0.09478161319117837,
          -0.06806715841681621,
          -0.9642493190741217,
          -0.008786798402462295,
          0.6396834488805198,
          -0.3259564250417379,
          0.5002594604189721,
          1.6301959446629615,
          0.4764493472735545,
          -0.5917483321647256,
          1.3687335513621266,
          1.427544217794121,
          -0.6919940853120521,
          -2.0309623995200567,
          -0.8535043207183718,
          -0.7453142827178897,
          1.4886049411007722,
          1.376550678415612,
          0.4662319719767733,
          1.0996702131134612,
          -0.4293423418754007,
          -0.15580447473223744
         ],
         "yaxis": "y2"
        },
        {
         "line": {
          "color": "rgba(128, 128, 128, 1.0)",
          "dash": "solid",
          "shape": "linear",
          "width": 1.3
         },
         "marker": {
          "size": 2,
          "symbol": "circle"
         },
         "mode": "markers",
         "name": "A",
         "text": "",
         "type": "scatter",
         "x": [
          -2.4597558841561376,
          -0.25612831918329276,
          -0.5556432423505464,
          1.5719125420582611,
          0.1756348227647707,
          -0.20787974004490684,
          -1.1804410764024933,
          -0.5312868779711168,
          -0.4078866997463861,
          0.5860159964895477,
          0.7408819326226342,
          -1.5516353400899212,
          0.011753611907605288,
          1.7414493383095122,
          0.27815259710444423,
          2.474951334950332,
          -0.48024684290733194,
          -1.750297459656668,
          1.5853048172825461,
          1.200970645338648,
          -0.3031780648207232,
          0.31559444796827735,
          -2.233051626084782,
          -0.9001191305430065,
          0.04739045649222937,
          -0.039857486014513506,
          -0.05910207017522971,
          0.5102530415641159,
          1.537633352540184,
          0.46177696274320845,
          -0.41264891452785424,
          1.1277702825198632,
          0.5027387688027031,
          0.7104346189535233,
          1.033512117826647,
          0.3294975408608201,
          -0.6917907375784007,
          -1.0169067378253223,
          -0.4403938055829562,
          -1.3805933393318,
          0.16799807359569888,
          -1.900371237857673,
          -0.1871993261633628,
          0.9827692273544065,
          -0.08963517578573571,
          -1.2929055196516321,
          -0.6071633146853714,
          0.28237343538191645,
          0.1583314717928452,
          -0.7032927397033915,
          2.555347992000724,
          -1.6880150569030183,
          -0.2785725493876687,
          -1.1013739311690487,
          0.6623226771439492,
          -0.8205693085309352,
          -0.588354638051842,
          1.5927283688153226,
          -0.5831702498657858,
          -0.22790498925726102,
          1.2599065714631927,
          -1.7761842943004362,
          0.545034971916597,
          0.36090131043614854,
          -0.5076939808290266,
          -0.3243923890316534,
          -1.3297812002745961,
          2.311702506355346,
          1.2193360682370216,
          0.6828425791494181,
          -0.1906076376927126,
          -0.8681128655794245,
          0.7448988430340105,
          -0.6579236709764863,
          -1.7924837112374212,
          0.47018766510455845,
          -1.6197259000015807,
          -1.7073382433242896,
          -0.724504306345858,
          0.6419768151484063,
          -0.21995670775715367,
          -0.2590131479030925,
          1.6576200602225355,
          -0.48852628900249734,
          1.42675925338554,
          -0.7175671934746836,
          -0.2530830755523376,
          2.0781104443498597,
          -0.7445834237026752,
          0.13877003785691952,
          0.6234391485758937,
          -1.607446405057749,
          1.1537435684456776,
          0.8966133236908,
          -0.7973870470526314,
          -0.14892621345235224,
          -2.1311067070678793,
          0.920268296472396,
          0.08382527444972127,
          -1.5030515755624567
         ],
         "xaxis": "x3",
         "y": [
          0.6451627172498443,
          -0.6469131036903166,
          0.07282760997978965,
          -0.39996672688275203,
          1.27888605560903,
          0.176984719501775,
          -0.3478450711317554,
          1.1669800856100079,
          -1.1509471161286047,
          -0.4042239505584384,
          2.647907647993073,
          0.36715327003169484,
          0.8432767828805269,
          -0.03464740419409103,
          1.076977486712486,
          0.8436970449566027,
          -0.7334470538578574,
          -1.2853302266665863,
          1.5173632050074661,
          0.54034616538293,
          -0.12868533708843397,
          -0.2645198777318922,
          -1.2398657992294475,
          -0.18530651824974842,
          1.5742851271891127,
          0.7450361771271075,
          -1.4086085803396364,
          0.14499502944366194,
          7.98357974058988e-05,
          0.2015099522526723,
          0.5197852516643461,
          0.8137691135724868,
          -0.7898519062290008,
          -0.2350610039304626,
          -0.47805951650580386,
          0.7420069762630155,
          -0.884344286449463,
          0.4881141842478061,
          0.2539682741135712,
          -0.2415755237551213,
          0.19379602987412708,
          -0.46794198489183425,
          -0.05582823809394771,
          -0.1722137535156207,
          0.8219202690922193,
          -2.960368117506735,
          -0.5735579419165826,
          0.23185189552088065,
          -1.5476457212277288,
          -0.7318010309338864,
          0.4276163168061164,
          0.7076939313668328,
          0.9103248805933472,
          -0.6350650519263663,
          -0.7846590711619182,
          0.5066197590616859,
          0.9475847712991983,
          1.4855797887769817,
          -0.5176716456152829,
          -1.9365130236965,
          -2.2657350481435565,
          1.740096036056405,
          1.8796902458539129,
          -0.6503568376832136,
          -1.1063832718418674,
          0.5540253031028719,
          -0.2255018506179424,
          -0.22246662275393148,
          0.3796040910645512,
          0.641004515444166,
          -1.5257174213827545,
          0.5582632071338453,
          0.7434395855922672,
          -0.6429138846665017,
          -1.1470053481199076,
          -0.058408415132721984,
          -0.087271021946233,
          -0.11490851526832321,
          0.09478161319117837,
          -0.06806715841681621,
          -0.9642493190741217,
          -0.008786798402462295,
          0.6396834488805198,
          -0.3259564250417379,
          0.5002594604189721,
          1.6301959446629615,
          0.4764493472735545,
          -0.5917483321647256,
          1.3687335513621266,
          1.427544217794121,
          -0.6919940853120521,
          -2.0309623995200567,
          -0.8535043207183718,
          -0.7453142827178897,
          1.4886049411007722,
          1.376550678415612,
          0.4662319719767733,
          1.0996702131134612,
          -0.4293423418754007,
          -0.15580447473223744
         ],
         "yaxis": "y3"
        },
        {
         "line": {
          "color": "rgba(128, 128, 128, 1.0)",
          "dash": "solid",
          "shape": "linear",
          "width": 1.3
         },
         "marker": {
          "size": 2,
          "symbol": "circle"
         },
         "mode": "markers",
         "name": "A",
         "text": "",
         "type": "scatter",
         "x": [
          1.4515960062429498,
          -1.0996528790784628,
          -0.05519451058969665,
          -0.3000666884057858,
          -1.635594250299254,
          0.9982665169431799,
          0.21669622164774988,
          2.237760157267246,
          1.0098663134461239,
          1.7569360213364698,
          2.3529734403731917,
          -0.9365340328132902,
          1.1788816781069953,
          1.2030173909786013,
          0.6661075539763056,
          0.7462598875174838,
          -0.52082363346683,
          0.6157897978691311,
          1.5762511555992542,
          -1.6719576659354898,
          2.1176129255658114,
          0.27777187813053644,
          -0.7530439340806951,
          0.38988479802782083,
          0.06490886018385818,
          1.311286137550827,
          0.9025532954653424,
          -0.5080688835319959,
          -1.266335149314364,
          -0.8015890647652826,
          -1.4565069801134716,
          1.707845390557557,
          -0.7927321911983622,
          1.0964781966777206,
          -0.4155883056013634,
          1.877111636012416,
          -0.6945690896898014,
          1.1237086768801954,
          0.1588095359434408,
          1.5428863006874953,
          -0.07488743440760345,
          0.15002666714724433,
          -1.703532195864785,
          1.148596451623574,
          -0.30382215853343697,
          1.104000089625292,
          0.7414487599495074,
          -0.9352259331213219,
          -0.3240797451387703,
          -0.11929806940820019,
          -0.749245085936551,
          0.565105182595519,
          -1.0111454802077893,
          0.004913849078758671,
          0.6813892603051228,
          -1.926232058690583,
          1.2108628717733905,
          0.3914145008197205,
          -0.7475250801084509,
          -0.8408524564227896,
          0.6443245958756524,
          1.1264075424692905,
          1.3152124543122368,
          0.247101977437702,
          -1.4386087318897485,
          1.217173129212074,
          -1.709094707471033,
          -0.8862845178952976,
          0.24102935927643757,
          1.1458962315296832,
          1.579335842163161,
          0.5157906540202216,
          -0.822026027651455,
          -0.33304414799336535,
          0.37430038152038647,
          0.24706102143560815,
          -1.9281092160486888,
          0.4942174706641176,
          0.05028874125161767,
          -1.0014471675925771,
          -0.15485789472414488,
          -2.081297400501267,
          1.92036252683853,
          0.8138242459817406,
          0.7703236784058662,
          0.10770445167170967,
          -0.3920501835452438,
          0.7398598503797754,
          -0.5732150838919354,
          1.1854545937174683,
          1.3774998138914087,
          0.1414661391052091,
          -0.18149088788586246,
          0.7112909521534992,
          -0.1105666314184864,
          1.0265009751410454,
          2.1765293909434904,
          0.44033766067018654,
          -0.0449197507202439,
          0.6374567733719833
         ],
         "xaxis": "x4",
         "y": [
          0.6451627172498443,
          -0.6469131036903166,
          0.07282760997978965,
          -0.39996672688275203,
          1.27888605560903,
          0.176984719501775,
          -0.3478450711317554,
          1.1669800856100079,
          -1.1509471161286047,
          -0.4042239505584384,
          2.647907647993073,
          0.36715327003169484,
          0.8432767828805269,
          -0.03464740419409103,
          1.076977486712486,
          0.8436970449566027,
          -0.7334470538578574,
          -1.2853302266665863,
          1.5173632050074661,
          0.54034616538293,
          -0.12868533708843397,
          -0.2645198777318922,
          -1.2398657992294475,
          -0.18530651824974842,
          1.5742851271891127,
          0.7450361771271075,
          -1.4086085803396364,
          0.14499502944366194,
          7.98357974058988e-05,
          0.2015099522526723,
          0.5197852516643461,
          0.8137691135724868,
          -0.7898519062290008,
          -0.2350610039304626,
          -0.47805951650580386,
          0.7420069762630155,
          -0.884344286449463,
          0.4881141842478061,
          0.2539682741135712,
          -0.2415755237551213,
          0.19379602987412708,
          -0.46794198489183425,
          -0.05582823809394771,
          -0.1722137535156207,
          0.8219202690922193,
          -2.960368117506735,
          -0.5735579419165826,
          0.23185189552088065,
          -1.5476457212277288,
          -0.7318010309338864,
          0.4276163168061164,
          0.7076939313668328,
          0.9103248805933472,
          -0.6350650519263663,
          -0.7846590711619182,
          0.5066197590616859,
          0.9475847712991983,
          1.4855797887769817,
          -0.5176716456152829,
          -1.9365130236965,
          -2.2657350481435565,
          1.740096036056405,
          1.8796902458539129,
          -0.6503568376832136,
          -1.1063832718418674,
          0.5540253031028719,
          -0.2255018506179424,
          -0.22246662275393148,
          0.3796040910645512,
          0.641004515444166,
          -1.5257174213827545,
          0.5582632071338453,
          0.7434395855922672,
          -0.6429138846665017,
          -1.1470053481199076,
          -0.058408415132721984,
          -0.087271021946233,
          -0.11490851526832321,
          0.09478161319117837,
          -0.06806715841681621,
          -0.9642493190741217,
          -0.008786798402462295,
          0.6396834488805198,
          -0.3259564250417379,
          0.5002594604189721,
          1.6301959446629615,
          0.4764493472735545,
          -0.5917483321647256,
          1.3687335513621266,
          1.427544217794121,
          -0.6919940853120521,
          -2.0309623995200567,
          -0.8535043207183718,
          -0.7453142827178897,
          1.4886049411007722,
          1.376550678415612,
          0.4662319719767733,
          1.0996702131134612,
          -0.4293423418754007,
          -0.15580447473223744
         ],
         "yaxis": "y4"
        },
        {
         "line": {
          "color": "rgba(128, 128, 128, 1.0)",
          "dash": "solid",
          "shape": "linear",
          "width": 1.3
         },
         "marker": {
          "size": 2,
          "symbol": "circle"
         },
         "mode": "markers",
         "name": "B",
         "text": "",
         "type": "scatter",
         "x": [
          0.6451627172498443,
          -0.6469131036903166,
          0.07282760997978965,
          -0.39996672688275203,
          1.27888605560903,
          0.176984719501775,
          -0.3478450711317554,
          1.1669800856100079,
          -1.1509471161286047,
          -0.4042239505584384,
          2.647907647993073,
          0.36715327003169484,
          0.8432767828805269,
          -0.03464740419409103,
          1.076977486712486,
          0.8436970449566027,
          -0.7334470538578574,
          -1.2853302266665863,
          1.5173632050074661,
          0.54034616538293,
          -0.12868533708843397,
          -0.2645198777318922,
          -1.2398657992294475,
          -0.18530651824974842,
          1.5742851271891127,
          0.7450361771271075,
          -1.4086085803396364,
          0.14499502944366194,
          7.98357974058988e-05,
          0.2015099522526723,
          0.5197852516643461,
          0.8137691135724868,
          -0.7898519062290008,
          -0.2350610039304626,
          -0.47805951650580386,
          0.7420069762630155,
          -0.884344286449463,
          0.4881141842478061,
          0.2539682741135712,
          -0.2415755237551213,
          0.19379602987412708,
          -0.46794198489183425,
          -0.05582823809394771,
          -0.1722137535156207,
          0.8219202690922193,
          -2.960368117506735,
          -0.5735579419165826,
          0.23185189552088065,
          -1.5476457212277288,
          -0.7318010309338864,
          0.4276163168061164,
          0.7076939313668328,
          0.9103248805933472,
          -0.6350650519263663,
          -0.7846590711619182,
          0.5066197590616859,
          0.9475847712991983,
          1.4855797887769817,
          -0.5176716456152829,
          -1.9365130236965,
          -2.2657350481435565,
          1.740096036056405,
          1.8796902458539129,
          -0.6503568376832136,
          -1.1063832718418674,
          0.5540253031028719,
          -0.2255018506179424,
          -0.22246662275393148,
          0.3796040910645512,
          0.641004515444166,
          -1.5257174213827545,
          0.5582632071338453,
          0.7434395855922672,
          -0.6429138846665017,
          -1.1470053481199076,
          -0.058408415132721984,
          -0.087271021946233,
          -0.11490851526832321,
          0.09478161319117837,
          -0.06806715841681621,
          -0.9642493190741217,
          -0.008786798402462295,
          0.6396834488805198,
          -0.3259564250417379,
          0.5002594604189721,
          1.6301959446629615,
          0.4764493472735545,
          -0.5917483321647256,
          1.3687335513621266,
          1.427544217794121,
          -0.6919940853120521,
          -2.0309623995200567,
          -0.8535043207183718,
          -0.7453142827178897,
          1.4886049411007722,
          1.376550678415612,
          0.4662319719767733,
          1.0996702131134612,
          -0.4293423418754007,
          -0.15580447473223744
         ],
         "xaxis": "x5",
         "y": [
          0.5349692410513225,
          -1.014328904542226,
          0.2229060005876184,
          -1.7581772675544798,
          0.37231115079283594,
          0.579264731188161,
          0.5718854242262145,
          -0.700421563136451,
          -0.6925810383508683,
          0.4790117557619783,
          0.24442530830143844,
          0.764748398677337,
          1.754347313478873,
          -0.40762244722224095,
          0.6650490169408635,
          -2.3902605775371946,
          0.7147583929606929,
          0.11896721666819543,
          -0.8028148154089121,
          1.6952701768643617,
          -2.7763997397425295,
          -0.01340515185356433,
          1.7784608524477292,
          -0.2885044914699736,
          1.0466215220208286,
          -0.9043684133288886,
          -0.6042356903023718,
          -1.6847822028654627,
          1.5297218731150697,
          1.3415136153615916,
          -0.37716657605716297,
          -1.0494981799232466,
          -0.500402274016725,
          -1.2181761971009173,
          -1.776210252204733,
          -0.3968897194559243,
          -0.322374690719606,
          -0.4012294945234382,
          2.035203464686686,
          1.1016567270559787,
          -0.14018196572980843,
          1.467813159453069,
          1.3809154248444366,
          -0.08205647775417348,
          -0.36341565920138735,
          0.07233594739972496,
          -1.0583568734506534,
          0.5560235499153585,
          2.176848979597883,
          0.9596586425683493,
          -0.3407743636640172,
          -1.7348677657723248,
          1.3577160606563694,
          0.05361173356677967,
          -1.3718095272286817,
          0.871112952667962,
          1.885708131400474,
          0.2170343177318166,
          -0.46920835974248226,
          1.3866627336967794,
          -0.6302221497234748,
          0.5301234274057091,
          -1.0564523821783804,
          -0.276707432201371,
          0.15170855981121262,
          0.43436907082471166,
          0.4744302146164032,
          -0.405764320028978,
          1.0481786716642518,
          0.11106210546013959,
          -1.5355277427466816,
          -0.045065170946819125,
          1.1894829955165938,
          -0.6775899242032235,
          0.5791523631524266,
          0.9636909001251861,
          0.3592607945727012,
          1.0994552085095473,
          0.8899020832464846,
          0.6136225224274325,
          0.6338374255363178,
          0.0729077581586196,
          -0.8213726655976707,
          0.06228745285536487,
          0.5290657124345663,
          0.13750720436213548,
          -1.2011407826241554,
          -0.21817446269581114,
          0.47476188782199336,
          0.3260651872156575,
          -0.36511298792012614,
          -0.6194016745901185,
          0.49622265016446104,
          -1.4253888279048446,
          0.6925910212982547,
          -1.1932783398603268,
          -0.3783372011436178,
          0.39282058649038537,
          0.006989733582659156,
          0.2866238712221347
         ],
         "yaxis": "y5"
        },
        {
         "histfunc": "count",
         "histnorm": "",
         "marker": {
          "color": "rgba(55, 128, 191, 1.0)",
          "line": {
           "color": "#4D5663",
           "width": 1.3
          }
         },
         "name": "B",
         "nbinsx": 10,
         "opacity": 0.8,
         "orientation": "v",
         "type": "histogram",
         "x": [
          0.5349692410513225,
          -1.014328904542226,
          0.2229060005876184,
          -1.7581772675544798,
          0.37231115079283594,
          0.579264731188161,
          0.5718854242262145,
          -0.700421563136451,
          -0.6925810383508683,
          0.4790117557619783,
          0.24442530830143844,
          0.764748398677337,
          1.754347313478873,
          -0.40762244722224095,
          0.6650490169408635,
          -2.3902605775371946,
          0.7147583929606929,
          0.11896721666819543,
          -0.8028148154089121,
          1.6952701768643617,
          -2.7763997397425295,
          -0.01340515185356433,
          1.7784608524477292,
          -0.2885044914699736,
          1.0466215220208286,
          -0.9043684133288886,
          -0.6042356903023718,
          -1.6847822028654627,
          1.5297218731150697,
          1.3415136153615916,
          -0.37716657605716297,
          -1.0494981799232466,
          -0.500402274016725,
          -1.2181761971009173,
          -1.776210252204733,
          -0.3968897194559243,
          -0.322374690719606,
          -0.4012294945234382,
          2.035203464686686,
          1.1016567270559787,
          -0.14018196572980843,
          1.467813159453069,
          1.3809154248444366,
          -0.08205647775417348,
          -0.36341565920138735,
          0.07233594739972496,
          -1.0583568734506534,
          0.5560235499153585,
          2.176848979597883,
          0.9596586425683493,
          -0.3407743636640172,
          -1.7348677657723248,
          1.3577160606563694,
          0.05361173356677967,
          -1.3718095272286817,
          0.871112952667962,
          1.885708131400474,
          0.2170343177318166,
          -0.46920835974248226,
          1.3866627336967794,
          -0.6302221497234748,
          0.5301234274057091,
          -1.0564523821783804,
          -0.276707432201371,
          0.15170855981121262,
          0.43436907082471166,
          0.4744302146164032,
          -0.405764320028978,
          1.0481786716642518,
          0.11106210546013959,
          -1.5355277427466816,
          -0.045065170946819125,
          1.1894829955165938,
          -0.6775899242032235,
          0.5791523631524266,
          0.9636909001251861,
          0.3592607945727012,
          1.0994552085095473,
          0.8899020832464846,
          0.6136225224274325,
          0.6338374255363178,
          0.0729077581586196,
          -0.8213726655976707,
          0.06228745285536487,
          0.5290657124345663,
          0.13750720436213548,
          -1.2011407826241554,
          -0.21817446269581114,
          0.47476188782199336,
          0.3260651872156575,
          -0.36511298792012614,
          -0.6194016745901185,
          0.49622265016446104,
          -1.4253888279048446,
          0.6925910212982547,
          -1.1932783398603268,
          -0.3783372011436178,
          0.39282058649038537,
          0.006989733582659156,
          0.2866238712221347
         ],
         "xaxis": "x6",
         "yaxis": "y6"
        },
        {
         "line": {
          "color": "rgba(128, 128, 128, 1.0)",
          "dash": "solid",
          "shape": "linear",
          "width": 1.3
         },
         "marker": {
          "size": 2,
          "symbol": "circle"
         },
         "mode": "markers",
         "name": "B",
         "text": "",
         "type": "scatter",
         "x": [
          -2.4597558841561376,
          -0.25612831918329276,
          -0.5556432423505464,
          1.5719125420582611,
          0.1756348227647707,
          -0.20787974004490684,
          -1.1804410764024933,
          -0.5312868779711168,
          -0.4078866997463861,
          0.5860159964895477,
          0.7408819326226342,
          -1.5516353400899212,
          0.011753611907605288,
          1.7414493383095122,
          0.27815259710444423,
          2.474951334950332,
          -0.48024684290733194,
          -1.750297459656668,
          1.5853048172825461,
          1.200970645338648,
          -0.3031780648207232,
          0.31559444796827735,
          -2.233051626084782,
          -0.9001191305430065,
          0.04739045649222937,
          -0.039857486014513506,
          -0.05910207017522971,
          0.5102530415641159,
          1.537633352540184,
          0.46177696274320845,
          -0.41264891452785424,
          1.1277702825198632,
          0.5027387688027031,
          0.7104346189535233,
          1.033512117826647,
          0.3294975408608201,
          -0.6917907375784007,
          -1.0169067378253223,
          -0.4403938055829562,
          -1.3805933393318,
          0.16799807359569888,
          -1.900371237857673,
          -0.1871993261633628,
          0.9827692273544065,
          -0.08963517578573571,
          -1.2929055196516321,
          -0.6071633146853714,
          0.28237343538191645,
          0.1583314717928452,
          -0.7032927397033915,
          2.555347992000724,
          -1.6880150569030183,
          -0.2785725493876687,
          -1.1013739311690487,
          0.6623226771439492,
          -0.8205693085309352,
          -0.588354638051842,
          1.5927283688153226,
          -0.5831702498657858,
          -0.22790498925726102,
          1.2599065714631927,
          -1.7761842943004362,
          0.545034971916597,
          0.36090131043614854,
          -0.5076939808290266,
          -0.3243923890316534,
          -1.3297812002745961,
          2.311702506355346,
          1.2193360682370216,
          0.6828425791494181,
          -0.1906076376927126,
          -0.8681128655794245,
          0.7448988430340105,
          -0.6579236709764863,
          -1.7924837112374212,
          0.47018766510455845,
          -1.6197259000015807,
          -1.7073382433242896,
          -0.724504306345858,
          0.6419768151484063,
          -0.21995670775715367,
          -0.2590131479030925,
          1.6576200602225355,
          -0.48852628900249734,
          1.42675925338554,
          -0.7175671934746836,
          -0.2530830755523376,
          2.0781104443498597,
          -0.7445834237026752,
          0.13877003785691952,
          0.6234391485758937,
          -1.607446405057749,
          1.1537435684456776,
          0.8966133236908,
          -0.7973870470526314,
          -0.14892621345235224,
          -2.1311067070678793,
          0.920268296472396,
          0.08382527444972127,
          -1.5030515755624567
         ],
         "xaxis": "x7",
         "y": [
          0.5349692410513225,
          -1.014328904542226,
          0.2229060005876184,
          -1.7581772675544798,
          0.37231115079283594,
          0.579264731188161,
          0.5718854242262145,
          -0.700421563136451,
          -0.6925810383508683,
          0.4790117557619783,
          0.24442530830143844,
          0.764748398677337,
          1.754347313478873,
          -0.40762244722224095,
          0.6650490169408635,
          -2.3902605775371946,
          0.7147583929606929,
          0.11896721666819543,
          -0.8028148154089121,
          1.6952701768643617,
          -2.7763997397425295,
          -0.01340515185356433,
          1.7784608524477292,
          -0.2885044914699736,
          1.0466215220208286,
          -0.9043684133288886,
          -0.6042356903023718,
          -1.6847822028654627,
          1.5297218731150697,
          1.3415136153615916,
          -0.37716657605716297,
          -1.0494981799232466,
          -0.500402274016725,
          -1.2181761971009173,
          -1.776210252204733,
          -0.3968897194559243,
          -0.322374690719606,
          -0.4012294945234382,
          2.035203464686686,
          1.1016567270559787,
          -0.14018196572980843,
          1.467813159453069,
          1.3809154248444366,
          -0.08205647775417348,
          -0.36341565920138735,
          0.07233594739972496,
          -1.0583568734506534,
          0.5560235499153585,
          2.176848979597883,
          0.9596586425683493,
          -0.3407743636640172,
          -1.7348677657723248,
          1.3577160606563694,
          0.05361173356677967,
          -1.3718095272286817,
          0.871112952667962,
          1.885708131400474,
          0.2170343177318166,
          -0.46920835974248226,
          1.3866627336967794,
          -0.6302221497234748,
          0.5301234274057091,
          -1.0564523821783804,
          -0.276707432201371,
          0.15170855981121262,
          0.43436907082471166,
          0.4744302146164032,
          -0.405764320028978,
          1.0481786716642518,
          0.11106210546013959,
          -1.5355277427466816,
          -0.045065170946819125,
          1.1894829955165938,
          -0.6775899242032235,
          0.5791523631524266,
          0.9636909001251861,
          0.3592607945727012,
          1.0994552085095473,
          0.8899020832464846,
          0.6136225224274325,
          0.6338374255363178,
          0.0729077581586196,
          -0.8213726655976707,
          0.06228745285536487,
          0.5290657124345663,
          0.13750720436213548,
          -1.2011407826241554,
          -0.21817446269581114,
          0.47476188782199336,
          0.3260651872156575,
          -0.36511298792012614,
          -0.6194016745901185,
          0.49622265016446104,
          -1.4253888279048446,
          0.6925910212982547,
          -1.1932783398603268,
          -0.3783372011436178,
          0.39282058649038537,
          0.006989733582659156,
          0.2866238712221347
         ],
         "yaxis": "y7"
        },
        {
         "line": {
          "color": "rgba(128, 128, 128, 1.0)",
          "dash": "solid",
          "shape": "linear",
          "width": 1.3
         },
         "marker": {
          "size": 2,
          "symbol": "circle"
         },
         "mode": "markers",
         "name": "B",
         "text": "",
         "type": "scatter",
         "x": [
          1.4515960062429498,
          -1.0996528790784628,
          -0.05519451058969665,
          -0.3000666884057858,
          -1.635594250299254,
          0.9982665169431799,
          0.21669622164774988,
          2.237760157267246,
          1.0098663134461239,
          1.7569360213364698,
          2.3529734403731917,
          -0.9365340328132902,
          1.1788816781069953,
          1.2030173909786013,
          0.6661075539763056,
          0.7462598875174838,
          -0.52082363346683,
          0.6157897978691311,
          1.5762511555992542,
          -1.6719576659354898,
          2.1176129255658114,
          0.27777187813053644,
          -0.7530439340806951,
          0.38988479802782083,
          0.06490886018385818,
          1.311286137550827,
          0.9025532954653424,
          -0.5080688835319959,
          -1.266335149314364,
          -0.8015890647652826,
          -1.4565069801134716,
          1.707845390557557,
          -0.7927321911983622,
          1.0964781966777206,
          -0.4155883056013634,
          1.877111636012416,
          -0.6945690896898014,
          1.1237086768801954,
          0.1588095359434408,
          1.5428863006874953,
          -0.07488743440760345,
          0.15002666714724433,
          -1.703532195864785,
          1.148596451623574,
          -0.30382215853343697,
          1.104000089625292,
          0.7414487599495074,
          -0.9352259331213219,
          -0.3240797451387703,
          -0.11929806940820019,
          -0.749245085936551,
          0.565105182595519,
          -1.0111454802077893,
          0.004913849078758671,
          0.6813892603051228,
          -1.926232058690583,
          1.2108628717733905,
          0.3914145008197205,
          -0.7475250801084509,
          -0.8408524564227896,
          0.6443245958756524,
          1.1264075424692905,
          1.3152124543122368,
          0.247101977437702,
          -1.4386087318897485,
          1.217173129212074,
          -1.709094707471033,
          -0.8862845178952976,
          0.24102935927643757,
          1.1458962315296832,
          1.579335842163161,
          0.5157906540202216,
          -0.822026027651455,
          -0.33304414799336535,
          0.37430038152038647,
          0.24706102143560815,
          -1.9281092160486888,
          0.4942174706641176,
          0.05028874125161767,
          -1.0014471675925771,
          -0.15485789472414488,
          -2.081297400501267,
          1.92036252683853,
          0.8138242459817406,
          0.7703236784058662,
          0.10770445167170967,
          -0.3920501835452438,
          0.7398598503797754,
          -0.5732150838919354,
          1.1854545937174683,
          1.3774998138914087,
          0.1414661391052091,
          -0.18149088788586246,
          0.7112909521534992,
          -0.1105666314184864,
          1.0265009751410454,
          2.1765293909434904,
          0.44033766067018654,
          -0.0449197507202439,
          0.6374567733719833
         ],
         "xaxis": "x8",
         "y": [
          0.5349692410513225,
          -1.014328904542226,
          0.2229060005876184,
          -1.7581772675544798,
          0.37231115079283594,
          0.579264731188161,
          0.5718854242262145,
          -0.700421563136451,
          -0.6925810383508683,
          0.4790117557619783,
          0.24442530830143844,
          0.764748398677337,
          1.754347313478873,
          -0.40762244722224095,
          0.6650490169408635,
          -2.3902605775371946,
          0.7147583929606929,
          0.11896721666819543,
          -0.8028148154089121,
          1.6952701768643617,
          -2.7763997397425295,
          -0.01340515185356433,
          1.7784608524477292,
          -0.2885044914699736,
          1.0466215220208286,
          -0.9043684133288886,
          -0.6042356903023718,
          -1.6847822028654627,
          1.5297218731150697,
          1.3415136153615916,
          -0.37716657605716297,
          -1.0494981799232466,
          -0.500402274016725,
          -1.2181761971009173,
          -1.776210252204733,
          -0.3968897194559243,
          -0.322374690719606,
          -0.4012294945234382,
          2.035203464686686,
          1.1016567270559787,
          -0.14018196572980843,
          1.467813159453069,
          1.3809154248444366,
          -0.08205647775417348,
          -0.36341565920138735,
          0.07233594739972496,
          -1.0583568734506534,
          0.5560235499153585,
          2.176848979597883,
          0.9596586425683493,
          -0.3407743636640172,
          -1.7348677657723248,
          1.3577160606563694,
          0.05361173356677967,
          -1.3718095272286817,
          0.871112952667962,
          1.885708131400474,
          0.2170343177318166,
          -0.46920835974248226,
          1.3866627336967794,
          -0.6302221497234748,
          0.5301234274057091,
          -1.0564523821783804,
          -0.276707432201371,
          0.15170855981121262,
          0.43436907082471166,
          0.4744302146164032,
          -0.405764320028978,
          1.0481786716642518,
          0.11106210546013959,
          -1.5355277427466816,
          -0.045065170946819125,
          1.1894829955165938,
          -0.6775899242032235,
          0.5791523631524266,
          0.9636909001251861,
          0.3592607945727012,
          1.0994552085095473,
          0.8899020832464846,
          0.6136225224274325,
          0.6338374255363178,
          0.0729077581586196,
          -0.8213726655976707,
          0.06228745285536487,
          0.5290657124345663,
          0.13750720436213548,
          -1.2011407826241554,
          -0.21817446269581114,
          0.47476188782199336,
          0.3260651872156575,
          -0.36511298792012614,
          -0.6194016745901185,
          0.49622265016446104,
          -1.4253888279048446,
          0.6925910212982547,
          -1.1932783398603268,
          -0.3783372011436178,
          0.39282058649038537,
          0.006989733582659156,
          0.2866238712221347
         ],
         "yaxis": "y8"
        },
        {
         "line": {
          "color": "rgba(128, 128, 128, 1.0)",
          "dash": "solid",
          "shape": "linear",
          "width": 1.3
         },
         "marker": {
          "size": 2,
          "symbol": "circle"
         },
         "mode": "markers",
         "name": "C",
         "text": "",
         "type": "scatter",
         "x": [
          0.6451627172498443,
          -0.6469131036903166,
          0.07282760997978965,
          -0.39996672688275203,
          1.27888605560903,
          0.176984719501775,
          -0.3478450711317554,
          1.1669800856100079,
          -1.1509471161286047,
          -0.4042239505584384,
          2.647907647993073,
          0.36715327003169484,
          0.8432767828805269,
          -0.03464740419409103,
          1.076977486712486,
          0.8436970449566027,
          -0.7334470538578574,
          -1.2853302266665863,
          1.5173632050074661,
          0.54034616538293,
          -0.12868533708843397,
          -0.2645198777318922,
          -1.2398657992294475,
          -0.18530651824974842,
          1.5742851271891127,
          0.7450361771271075,
          -1.4086085803396364,
          0.14499502944366194,
          7.98357974058988e-05,
          0.2015099522526723,
          0.5197852516643461,
          0.8137691135724868,
          -0.7898519062290008,
          -0.2350610039304626,
          -0.47805951650580386,
          0.7420069762630155,
          -0.884344286449463,
          0.4881141842478061,
          0.2539682741135712,
          -0.2415755237551213,
          0.19379602987412708,
          -0.46794198489183425,
          -0.05582823809394771,
          -0.1722137535156207,
          0.8219202690922193,
          -2.960368117506735,
          -0.5735579419165826,
          0.23185189552088065,
          -1.5476457212277288,
          -0.7318010309338864,
          0.4276163168061164,
          0.7076939313668328,
          0.9103248805933472,
          -0.6350650519263663,
          -0.7846590711619182,
          0.5066197590616859,
          0.9475847712991983,
          1.4855797887769817,
          -0.5176716456152829,
          -1.9365130236965,
          -2.2657350481435565,
          1.740096036056405,
          1.8796902458539129,
          -0.6503568376832136,
          -1.1063832718418674,
          0.5540253031028719,
          -0.2255018506179424,
          -0.22246662275393148,
          0.3796040910645512,
          0.641004515444166,
          -1.5257174213827545,
          0.5582632071338453,
          0.7434395855922672,
          -0.6429138846665017,
          -1.1470053481199076,
          -0.058408415132721984,
          -0.087271021946233,
          -0.11490851526832321,
          0.09478161319117837,
          -0.06806715841681621,
          -0.9642493190741217,
          -0.008786798402462295,
          0.6396834488805198,
          -0.3259564250417379,
          0.5002594604189721,
          1.6301959446629615,
          0.4764493472735545,
          -0.5917483321647256,
          1.3687335513621266,
          1.427544217794121,
          -0.6919940853120521,
          -2.0309623995200567,
          -0.8535043207183718,
          -0.7453142827178897,
          1.4886049411007722,
          1.376550678415612,
          0.4662319719767733,
          1.0996702131134612,
          -0.4293423418754007,
          -0.15580447473223744
         ],
         "xaxis": "x9",
         "y": [
          -2.4597558841561376,
          -0.25612831918329276,
          -0.5556432423505464,
          1.5719125420582611,
          0.1756348227647707,
          -0.20787974004490684,
          -1.1804410764024933,
          -0.5312868779711168,
          -0.4078866997463861,
          0.5860159964895477,
          0.7408819326226342,
          -1.5516353400899212,
          0.011753611907605288,
          1.7414493383095122,
          0.27815259710444423,
          2.474951334950332,
          -0.48024684290733194,
          -1.750297459656668,
          1.5853048172825461,
          1.200970645338648,
          -0.3031780648207232,
          0.31559444796827735,
          -2.233051626084782,
          -0.9001191305430065,
          0.04739045649222937,
          -0.039857486014513506,
          -0.05910207017522971,
          0.5102530415641159,
          1.537633352540184,
          0.46177696274320845,
          -0.41264891452785424,
          1.1277702825198632,
          0.5027387688027031,
          0.7104346189535233,
          1.033512117826647,
          0.3294975408608201,
          -0.6917907375784007,
          -1.0169067378253223,
          -0.4403938055829562,
          -1.3805933393318,
          0.16799807359569888,
          -1.900371237857673,
          -0.1871993261633628,
          0.9827692273544065,
          -0.08963517578573571,
          -1.2929055196516321,
          -0.6071633146853714,
          0.28237343538191645,
          0.1583314717928452,
          -0.7032927397033915,
          2.555347992000724,
          -1.6880150569030183,
          -0.2785725493876687,
          -1.1013739311690487,
          0.6623226771439492,
          -0.8205693085309352,
          -0.588354638051842,
          1.5927283688153226,
          -0.5831702498657858,
          -0.22790498925726102,
          1.2599065714631927,
          -1.7761842943004362,
          0.545034971916597,
          0.36090131043614854,
          -0.5076939808290266,
          -0.3243923890316534,
          -1.3297812002745961,
          2.311702506355346,
          1.2193360682370216,
          0.6828425791494181,
          -0.1906076376927126,
          -0.8681128655794245,
          0.7448988430340105,
          -0.6579236709764863,
          -1.7924837112374212,
          0.47018766510455845,
          -1.6197259000015807,
          -1.7073382433242896,
          -0.724504306345858,
          0.6419768151484063,
          -0.21995670775715367,
          -0.2590131479030925,
          1.6576200602225355,
          -0.48852628900249734,
          1.42675925338554,
          -0.7175671934746836,
          -0.2530830755523376,
          2.0781104443498597,
          -0.7445834237026752,
          0.13877003785691952,
          0.6234391485758937,
          -1.607446405057749,
          1.1537435684456776,
          0.8966133236908,
          -0.7973870470526314,
          -0.14892621345235224,
          -2.1311067070678793,
          0.920268296472396,
          0.08382527444972127,
          -1.5030515755624567
         ],
         "yaxis": "y9"
        },
        {
         "line": {
          "color": "rgba(128, 128, 128, 1.0)",
          "dash": "solid",
          "shape": "linear",
          "width": 1.3
         },
         "marker": {
          "size": 2,
          "symbol": "circle"
         },
         "mode": "markers",
         "name": "C",
         "text": "",
         "type": "scatter",
         "x": [
          0.5349692410513225,
          -1.014328904542226,
          0.2229060005876184,
          -1.7581772675544798,
          0.37231115079283594,
          0.579264731188161,
          0.5718854242262145,
          -0.700421563136451,
          -0.6925810383508683,
          0.4790117557619783,
          0.24442530830143844,
          0.764748398677337,
          1.754347313478873,
          -0.40762244722224095,
          0.6650490169408635,
          -2.3902605775371946,
          0.7147583929606929,
          0.11896721666819543,
          -0.8028148154089121,
          1.6952701768643617,
          -2.7763997397425295,
          -0.01340515185356433,
          1.7784608524477292,
          -0.2885044914699736,
          1.0466215220208286,
          -0.9043684133288886,
          -0.6042356903023718,
          -1.6847822028654627,
          1.5297218731150697,
          1.3415136153615916,
          -0.37716657605716297,
          -1.0494981799232466,
          -0.500402274016725,
          -1.2181761971009173,
          -1.776210252204733,
          -0.3968897194559243,
          -0.322374690719606,
          -0.4012294945234382,
          2.035203464686686,
          1.1016567270559787,
          -0.14018196572980843,
          1.467813159453069,
          1.3809154248444366,
          -0.08205647775417348,
          -0.36341565920138735,
          0.07233594739972496,
          -1.0583568734506534,
          0.5560235499153585,
          2.176848979597883,
          0.9596586425683493,
          -0.3407743636640172,
          -1.7348677657723248,
          1.3577160606563694,
          0.05361173356677967,
          -1.3718095272286817,
          0.871112952667962,
          1.885708131400474,
          0.2170343177318166,
          -0.46920835974248226,
          1.3866627336967794,
          -0.6302221497234748,
          0.5301234274057091,
          -1.0564523821783804,
          -0.276707432201371,
          0.15170855981121262,
          0.43436907082471166,
          0.4744302146164032,
          -0.405764320028978,
          1.0481786716642518,
          0.11106210546013959,
          -1.5355277427466816,
          -0.045065170946819125,
          1.1894829955165938,
          -0.6775899242032235,
          0.5791523631524266,
          0.9636909001251861,
          0.3592607945727012,
          1.0994552085095473,
          0.8899020832464846,
          0.6136225224274325,
          0.6338374255363178,
          0.0729077581586196,
          -0.8213726655976707,
          0.06228745285536487,
          0.5290657124345663,
          0.13750720436213548,
          -1.2011407826241554,
          -0.21817446269581114,
          0.47476188782199336,
          0.3260651872156575,
          -0.36511298792012614,
          -0.6194016745901185,
          0.49622265016446104,
          -1.4253888279048446,
          0.6925910212982547,
          -1.1932783398603268,
          -0.3783372011436178,
          0.39282058649038537,
          0.006989733582659156,
          0.2866238712221347
         ],
         "xaxis": "x10",
         "y": [
          -2.4597558841561376,
          -0.25612831918329276,
          -0.5556432423505464,
          1.5719125420582611,
          0.1756348227647707,
          -0.20787974004490684,
          -1.1804410764024933,
          -0.5312868779711168,
          -0.4078866997463861,
          0.5860159964895477,
          0.7408819326226342,
          -1.5516353400899212,
          0.011753611907605288,
          1.7414493383095122,
          0.27815259710444423,
          2.474951334950332,
          -0.48024684290733194,
          -1.750297459656668,
          1.5853048172825461,
          1.200970645338648,
          -0.3031780648207232,
          0.31559444796827735,
          -2.233051626084782,
          -0.9001191305430065,
          0.04739045649222937,
          -0.039857486014513506,
          -0.05910207017522971,
          0.5102530415641159,
          1.537633352540184,
          0.46177696274320845,
          -0.41264891452785424,
          1.1277702825198632,
          0.5027387688027031,
          0.7104346189535233,
          1.033512117826647,
          0.3294975408608201,
          -0.6917907375784007,
          -1.0169067378253223,
          -0.4403938055829562,
          -1.3805933393318,
          0.16799807359569888,
          -1.900371237857673,
          -0.1871993261633628,
          0.9827692273544065,
          -0.08963517578573571,
          -1.2929055196516321,
          -0.6071633146853714,
          0.28237343538191645,
          0.1583314717928452,
          -0.7032927397033915,
          2.555347992000724,
          -1.6880150569030183,
          -0.2785725493876687,
          -1.1013739311690487,
          0.6623226771439492,
          -0.8205693085309352,
          -0.588354638051842,
          1.5927283688153226,
          -0.5831702498657858,
          -0.22790498925726102,
          1.2599065714631927,
          -1.7761842943004362,
          0.545034971916597,
          0.36090131043614854,
          -0.5076939808290266,
          -0.3243923890316534,
          -1.3297812002745961,
          2.311702506355346,
          1.2193360682370216,
          0.6828425791494181,
          -0.1906076376927126,
          -0.8681128655794245,
          0.7448988430340105,
          -0.6579236709764863,
          -1.7924837112374212,
          0.47018766510455845,
          -1.6197259000015807,
          -1.7073382433242896,
          -0.724504306345858,
          0.6419768151484063,
          -0.21995670775715367,
          -0.2590131479030925,
          1.6576200602225355,
          -0.48852628900249734,
          1.42675925338554,
          -0.7175671934746836,
          -0.2530830755523376,
          2.0781104443498597,
          -0.7445834237026752,
          0.13877003785691952,
          0.6234391485758937,
          -1.607446405057749,
          1.1537435684456776,
          0.8966133236908,
          -0.7973870470526314,
          -0.14892621345235224,
          -2.1311067070678793,
          0.920268296472396,
          0.08382527444972127,
          -1.5030515755624567
         ],
         "yaxis": "y10"
        },
        {
         "histfunc": "count",
         "histnorm": "",
         "marker": {
          "color": "rgba(50, 171, 96, 1.0)",
          "line": {
           "color": "#4D5663",
           "width": 1.3
          }
         },
         "name": "C",
         "nbinsx": 10,
         "opacity": 0.8,
         "orientation": "v",
         "type": "histogram",
         "x": [
          -2.4597558841561376,
          -0.25612831918329276,
          -0.5556432423505464,
          1.5719125420582611,
          0.1756348227647707,
          -0.20787974004490684,
          -1.1804410764024933,
          -0.5312868779711168,
          -0.4078866997463861,
          0.5860159964895477,
          0.7408819326226342,
          -1.5516353400899212,
          0.011753611907605288,
          1.7414493383095122,
          0.27815259710444423,
          2.474951334950332,
          -0.48024684290733194,
          -1.750297459656668,
          1.5853048172825461,
          1.200970645338648,
          -0.3031780648207232,
          0.31559444796827735,
          -2.233051626084782,
          -0.9001191305430065,
          0.04739045649222937,
          -0.039857486014513506,
          -0.05910207017522971,
          0.5102530415641159,
          1.537633352540184,
          0.46177696274320845,
          -0.41264891452785424,
          1.1277702825198632,
          0.5027387688027031,
          0.7104346189535233,
          1.033512117826647,
          0.3294975408608201,
          -0.6917907375784007,
          -1.0169067378253223,
          -0.4403938055829562,
          -1.3805933393318,
          0.16799807359569888,
          -1.900371237857673,
          -0.1871993261633628,
          0.9827692273544065,
          -0.08963517578573571,
          -1.2929055196516321,
          -0.6071633146853714,
          0.28237343538191645,
          0.1583314717928452,
          -0.7032927397033915,
          2.555347992000724,
          -1.6880150569030183,
          -0.2785725493876687,
          -1.1013739311690487,
          0.6623226771439492,
          -0.8205693085309352,
          -0.588354638051842,
          1.5927283688153226,
          -0.5831702498657858,
          -0.22790498925726102,
          1.2599065714631927,
          -1.7761842943004362,
          0.545034971916597,
          0.36090131043614854,
          -0.5076939808290266,
          -0.3243923890316534,
          -1.3297812002745961,
          2.311702506355346,
          1.2193360682370216,
          0.6828425791494181,
          -0.1906076376927126,
          -0.8681128655794245,
          0.7448988430340105,
          -0.6579236709764863,
          -1.7924837112374212,
          0.47018766510455845,
          -1.6197259000015807,
          -1.7073382433242896,
          -0.724504306345858,
          0.6419768151484063,
          -0.21995670775715367,
          -0.2590131479030925,
          1.6576200602225355,
          -0.48852628900249734,
          1.42675925338554,
          -0.7175671934746836,
          -0.2530830755523376,
          2.0781104443498597,
          -0.7445834237026752,
          0.13877003785691952,
          0.6234391485758937,
          -1.607446405057749,
          1.1537435684456776,
          0.8966133236908,
          -0.7973870470526314,
          -0.14892621345235224,
          -2.1311067070678793,
          0.920268296472396,
          0.08382527444972127,
          -1.5030515755624567
         ],
         "xaxis": "x11",
         "yaxis": "y11"
        },
        {
         "line": {
          "color": "rgba(128, 128, 128, 1.0)",
          "dash": "solid",
          "shape": "linear",
          "width": 1.3
         },
         "marker": {
          "size": 2,
          "symbol": "circle"
         },
         "mode": "markers",
         "name": "C",
         "text": "",
         "type": "scatter",
         "x": [
          1.4515960062429498,
          -1.0996528790784628,
          -0.05519451058969665,
          -0.3000666884057858,
          -1.635594250299254,
          0.9982665169431799,
          0.21669622164774988,
          2.237760157267246,
          1.0098663134461239,
          1.7569360213364698,
          2.3529734403731917,
          -0.9365340328132902,
          1.1788816781069953,
          1.2030173909786013,
          0.6661075539763056,
          0.7462598875174838,
          -0.52082363346683,
          0.6157897978691311,
          1.5762511555992542,
          -1.6719576659354898,
          2.1176129255658114,
          0.27777187813053644,
          -0.7530439340806951,
          0.38988479802782083,
          0.06490886018385818,
          1.311286137550827,
          0.9025532954653424,
          -0.5080688835319959,
          -1.266335149314364,
          -0.8015890647652826,
          -1.4565069801134716,
          1.707845390557557,
          -0.7927321911983622,
          1.0964781966777206,
          -0.4155883056013634,
          1.877111636012416,
          -0.6945690896898014,
          1.1237086768801954,
          0.1588095359434408,
          1.5428863006874953,
          -0.07488743440760345,
          0.15002666714724433,
          -1.703532195864785,
          1.148596451623574,
          -0.30382215853343697,
          1.104000089625292,
          0.7414487599495074,
          -0.9352259331213219,
          -0.3240797451387703,
          -0.11929806940820019,
          -0.749245085936551,
          0.565105182595519,
          -1.0111454802077893,
          0.004913849078758671,
          0.6813892603051228,
          -1.926232058690583,
          1.2108628717733905,
          0.3914145008197205,
          -0.7475250801084509,
          -0.8408524564227896,
          0.6443245958756524,
          1.1264075424692905,
          1.3152124543122368,
          0.247101977437702,
          -1.4386087318897485,
          1.217173129212074,
          -1.709094707471033,
          -0.8862845178952976,
          0.24102935927643757,
          1.1458962315296832,
          1.579335842163161,
          0.5157906540202216,
          -0.822026027651455,
          -0.33304414799336535,
          0.37430038152038647,
          0.24706102143560815,
          -1.9281092160486888,
          0.4942174706641176,
          0.05028874125161767,
          -1.0014471675925771,
          -0.15485789472414488,
          -2.081297400501267,
          1.92036252683853,
          0.8138242459817406,
          0.7703236784058662,
          0.10770445167170967,
          -0.3920501835452438,
          0.7398598503797754,
          -0.5732150838919354,
          1.1854545937174683,
          1.3774998138914087,
          0.1414661391052091,
          -0.18149088788586246,
          0.7112909521534992,
          -0.1105666314184864,
          1.0265009751410454,
          2.1765293909434904,
          0.44033766067018654,
          -0.0449197507202439,
          0.6374567733719833
         ],
         "xaxis": "x12",
         "y": [
          -2.4597558841561376,
          -0.25612831918329276,
          -0.5556432423505464,
          1.5719125420582611,
          0.1756348227647707,
          -0.20787974004490684,
          -1.1804410764024933,
          -0.5312868779711168,
          -0.4078866997463861,
          0.5860159964895477,
          0.7408819326226342,
          -1.5516353400899212,
          0.011753611907605288,
          1.7414493383095122,
          0.27815259710444423,
          2.474951334950332,
          -0.48024684290733194,
          -1.750297459656668,
          1.5853048172825461,
          1.200970645338648,
          -0.3031780648207232,
          0.31559444796827735,
          -2.233051626084782,
          -0.9001191305430065,
          0.04739045649222937,
          -0.039857486014513506,
          -0.05910207017522971,
          0.5102530415641159,
          1.537633352540184,
          0.46177696274320845,
          -0.41264891452785424,
          1.1277702825198632,
          0.5027387688027031,
          0.7104346189535233,
          1.033512117826647,
          0.3294975408608201,
          -0.6917907375784007,
          -1.0169067378253223,
          -0.4403938055829562,
          -1.3805933393318,
          0.16799807359569888,
          -1.900371237857673,
          -0.1871993261633628,
          0.9827692273544065,
          -0.08963517578573571,
          -1.2929055196516321,
          -0.6071633146853714,
          0.28237343538191645,
          0.1583314717928452,
          -0.7032927397033915,
          2.555347992000724,
          -1.6880150569030183,
          -0.2785725493876687,
          -1.1013739311690487,
          0.6623226771439492,
          -0.8205693085309352,
          -0.588354638051842,
          1.5927283688153226,
          -0.5831702498657858,
          -0.22790498925726102,
          1.2599065714631927,
          -1.7761842943004362,
          0.545034971916597,
          0.36090131043614854,
          -0.5076939808290266,
          -0.3243923890316534,
          -1.3297812002745961,
          2.311702506355346,
          1.2193360682370216,
          0.6828425791494181,
          -0.1906076376927126,
          -0.8681128655794245,
          0.7448988430340105,
          -0.6579236709764863,
          -1.7924837112374212,
          0.47018766510455845,
          -1.6197259000015807,
          -1.7073382433242896,
          -0.724504306345858,
          0.6419768151484063,
          -0.21995670775715367,
          -0.2590131479030925,
          1.6576200602225355,
          -0.48852628900249734,
          1.42675925338554,
          -0.7175671934746836,
          -0.2530830755523376,
          2.0781104443498597,
          -0.7445834237026752,
          0.13877003785691952,
          0.6234391485758937,
          -1.607446405057749,
          1.1537435684456776,
          0.8966133236908,
          -0.7973870470526314,
          -0.14892621345235224,
          -2.1311067070678793,
          0.920268296472396,
          0.08382527444972127,
          -1.5030515755624567
         ],
         "yaxis": "y12"
        },
        {
         "line": {
          "color": "rgba(128, 128, 128, 1.0)",
          "dash": "solid",
          "shape": "linear",
          "width": 1.3
         },
         "marker": {
          "size": 2,
          "symbol": "circle"
         },
         "mode": "markers",
         "name": "D",
         "text": "",
         "type": "scatter",
         "x": [
          0.6451627172498443,
          -0.6469131036903166,
          0.07282760997978965,
          -0.39996672688275203,
          1.27888605560903,
          0.176984719501775,
          -0.3478450711317554,
          1.1669800856100079,
          -1.1509471161286047,
          -0.4042239505584384,
          2.647907647993073,
          0.36715327003169484,
          0.8432767828805269,
          -0.03464740419409103,
          1.076977486712486,
          0.8436970449566027,
          -0.7334470538578574,
          -1.2853302266665863,
          1.5173632050074661,
          0.54034616538293,
          -0.12868533708843397,
          -0.2645198777318922,
          -1.2398657992294475,
          -0.18530651824974842,
          1.5742851271891127,
          0.7450361771271075,
          -1.4086085803396364,
          0.14499502944366194,
          7.98357974058988e-05,
          0.2015099522526723,
          0.5197852516643461,
          0.8137691135724868,
          -0.7898519062290008,
          -0.2350610039304626,
          -0.47805951650580386,
          0.7420069762630155,
          -0.884344286449463,
          0.4881141842478061,
          0.2539682741135712,
          -0.2415755237551213,
          0.19379602987412708,
          -0.46794198489183425,
          -0.05582823809394771,
          -0.1722137535156207,
          0.8219202690922193,
          -2.960368117506735,
          -0.5735579419165826,
          0.23185189552088065,
          -1.5476457212277288,
          -0.7318010309338864,
          0.4276163168061164,
          0.7076939313668328,
          0.9103248805933472,
          -0.6350650519263663,
          -0.7846590711619182,
          0.5066197590616859,
          0.9475847712991983,
          1.4855797887769817,
          -0.5176716456152829,
          -1.9365130236965,
          -2.2657350481435565,
          1.740096036056405,
          1.8796902458539129,
          -0.6503568376832136,
          -1.1063832718418674,
          0.5540253031028719,
          -0.2255018506179424,
          -0.22246662275393148,
          0.3796040910645512,
          0.641004515444166,
          -1.5257174213827545,
          0.5582632071338453,
          0.7434395855922672,
          -0.6429138846665017,
          -1.1470053481199076,
          -0.058408415132721984,
          -0.087271021946233,
          -0.11490851526832321,
          0.09478161319117837,
          -0.06806715841681621,
          -0.9642493190741217,
          -0.008786798402462295,
          0.6396834488805198,
          -0.3259564250417379,
          0.5002594604189721,
          1.6301959446629615,
          0.4764493472735545,
          -0.5917483321647256,
          1.3687335513621266,
          1.427544217794121,
          -0.6919940853120521,
          -2.0309623995200567,
          -0.8535043207183718,
          -0.7453142827178897,
          1.4886049411007722,
          1.376550678415612,
          0.4662319719767733,
          1.0996702131134612,
          -0.4293423418754007,
          -0.15580447473223744
         ],
         "xaxis": "x13",
         "y": [
          1.4515960062429498,
          -1.0996528790784628,
          -0.05519451058969665,
          -0.3000666884057858,
          -1.635594250299254,
          0.9982665169431799,
          0.21669622164774988,
          2.237760157267246,
          1.0098663134461239,
          1.7569360213364698,
          2.3529734403731917,
          -0.9365340328132902,
          1.1788816781069953,
          1.2030173909786013,
          0.6661075539763056,
          0.7462598875174838,
          -0.52082363346683,
          0.6157897978691311,
          1.5762511555992542,
          -1.6719576659354898,
          2.1176129255658114,
          0.27777187813053644,
          -0.7530439340806951,
          0.38988479802782083,
          0.06490886018385818,
          1.311286137550827,
          0.9025532954653424,
          -0.5080688835319959,
          -1.266335149314364,
          -0.8015890647652826,
          -1.4565069801134716,
          1.707845390557557,
          -0.7927321911983622,
          1.0964781966777206,
          -0.4155883056013634,
          1.877111636012416,
          -0.6945690896898014,
          1.1237086768801954,
          0.1588095359434408,
          1.5428863006874953,
          -0.07488743440760345,
          0.15002666714724433,
          -1.703532195864785,
          1.148596451623574,
          -0.30382215853343697,
          1.104000089625292,
          0.7414487599495074,
          -0.9352259331213219,
          -0.3240797451387703,
          -0.11929806940820019,
          -0.749245085936551,
          0.565105182595519,
          -1.0111454802077893,
          0.004913849078758671,
          0.6813892603051228,
          -1.926232058690583,
          1.2108628717733905,
          0.3914145008197205,
          -0.7475250801084509,
          -0.8408524564227896,
          0.6443245958756524,
          1.1264075424692905,
          1.3152124543122368,
          0.247101977437702,
          -1.4386087318897485,
          1.217173129212074,
          -1.709094707471033,
          -0.8862845178952976,
          0.24102935927643757,
          1.1458962315296832,
          1.579335842163161,
          0.5157906540202216,
          -0.822026027651455,
          -0.33304414799336535,
          0.37430038152038647,
          0.24706102143560815,
          -1.9281092160486888,
          0.4942174706641176,
          0.05028874125161767,
          -1.0014471675925771,
          -0.15485789472414488,
          -2.081297400501267,
          1.92036252683853,
          0.8138242459817406,
          0.7703236784058662,
          0.10770445167170967,
          -0.3920501835452438,
          0.7398598503797754,
          -0.5732150838919354,
          1.1854545937174683,
          1.3774998138914087,
          0.1414661391052091,
          -0.18149088788586246,
          0.7112909521534992,
          -0.1105666314184864,
          1.0265009751410454,
          2.1765293909434904,
          0.44033766067018654,
          -0.0449197507202439,
          0.6374567733719833
         ],
         "yaxis": "y13"
        },
        {
         "line": {
          "color": "rgba(128, 128, 128, 1.0)",
          "dash": "solid",
          "shape": "linear",
          "width": 1.3
         },
         "marker": {
          "size": 2,
          "symbol": "circle"
         },
         "mode": "markers",
         "name": "D",
         "text": "",
         "type": "scatter",
         "x": [
          0.5349692410513225,
          -1.014328904542226,
          0.2229060005876184,
          -1.7581772675544798,
          0.37231115079283594,
          0.579264731188161,
          0.5718854242262145,
          -0.700421563136451,
          -0.6925810383508683,
          0.4790117557619783,
          0.24442530830143844,
          0.764748398677337,
          1.754347313478873,
          -0.40762244722224095,
          0.6650490169408635,
          -2.3902605775371946,
          0.7147583929606929,
          0.11896721666819543,
          -0.8028148154089121,
          1.6952701768643617,
          -2.7763997397425295,
          -0.01340515185356433,
          1.7784608524477292,
          -0.2885044914699736,
          1.0466215220208286,
          -0.9043684133288886,
          -0.6042356903023718,
          -1.6847822028654627,
          1.5297218731150697,
          1.3415136153615916,
          -0.37716657605716297,
          -1.0494981799232466,
          -0.500402274016725,
          -1.2181761971009173,
          -1.776210252204733,
          -0.3968897194559243,
          -0.322374690719606,
          -0.4012294945234382,
          2.035203464686686,
          1.1016567270559787,
          -0.14018196572980843,
          1.467813159453069,
          1.3809154248444366,
          -0.08205647775417348,
          -0.36341565920138735,
          0.07233594739972496,
          -1.0583568734506534,
          0.5560235499153585,
          2.176848979597883,
          0.9596586425683493,
          -0.3407743636640172,
          -1.7348677657723248,
          1.3577160606563694,
          0.05361173356677967,
          -1.3718095272286817,
          0.871112952667962,
          1.885708131400474,
          0.2170343177318166,
          -0.46920835974248226,
          1.3866627336967794,
          -0.6302221497234748,
          0.5301234274057091,
          -1.0564523821783804,
          -0.276707432201371,
          0.15170855981121262,
          0.43436907082471166,
          0.4744302146164032,
          -0.405764320028978,
          1.0481786716642518,
          0.11106210546013959,
          -1.5355277427466816,
          -0.045065170946819125,
          1.1894829955165938,
          -0.6775899242032235,
          0.5791523631524266,
          0.9636909001251861,
          0.3592607945727012,
          1.0994552085095473,
          0.8899020832464846,
          0.6136225224274325,
          0.6338374255363178,
          0.0729077581586196,
          -0.8213726655976707,
          0.06228745285536487,
          0.5290657124345663,
          0.13750720436213548,
          -1.2011407826241554,
          -0.21817446269581114,
          0.47476188782199336,
          0.3260651872156575,
          -0.36511298792012614,
          -0.6194016745901185,
          0.49622265016446104,
          -1.4253888279048446,
          0.6925910212982547,
          -1.1932783398603268,
          -0.3783372011436178,
          0.39282058649038537,
          0.006989733582659156,
          0.2866238712221347
         ],
         "xaxis": "x14",
         "y": [
          1.4515960062429498,
          -1.0996528790784628,
          -0.05519451058969665,
          -0.3000666884057858,
          -1.635594250299254,
          0.9982665169431799,
          0.21669622164774988,
          2.237760157267246,
          1.0098663134461239,
          1.7569360213364698,
          2.3529734403731917,
          -0.9365340328132902,
          1.1788816781069953,
          1.2030173909786013,
          0.6661075539763056,
          0.7462598875174838,
          -0.52082363346683,
          0.6157897978691311,
          1.5762511555992542,
          -1.6719576659354898,
          2.1176129255658114,
          0.27777187813053644,
          -0.7530439340806951,
          0.38988479802782083,
          0.06490886018385818,
          1.311286137550827,
          0.9025532954653424,
          -0.5080688835319959,
          -1.266335149314364,
          -0.8015890647652826,
          -1.4565069801134716,
          1.707845390557557,
          -0.7927321911983622,
          1.0964781966777206,
          -0.4155883056013634,
          1.877111636012416,
          -0.6945690896898014,
          1.1237086768801954,
          0.1588095359434408,
          1.5428863006874953,
          -0.07488743440760345,
          0.15002666714724433,
          -1.703532195864785,
          1.148596451623574,
          -0.30382215853343697,
          1.104000089625292,
          0.7414487599495074,
          -0.9352259331213219,
          -0.3240797451387703,
          -0.11929806940820019,
          -0.749245085936551,
          0.565105182595519,
          -1.0111454802077893,
          0.004913849078758671,
          0.6813892603051228,
          -1.926232058690583,
          1.2108628717733905,
          0.3914145008197205,
          -0.7475250801084509,
          -0.8408524564227896,
          0.6443245958756524,
          1.1264075424692905,
          1.3152124543122368,
          0.247101977437702,
          -1.4386087318897485,
          1.217173129212074,
          -1.709094707471033,
          -0.8862845178952976,
          0.24102935927643757,
          1.1458962315296832,
          1.579335842163161,
          0.5157906540202216,
          -0.822026027651455,
          -0.33304414799336535,
          0.37430038152038647,
          0.24706102143560815,
          -1.9281092160486888,
          0.4942174706641176,
          0.05028874125161767,
          -1.0014471675925771,
          -0.15485789472414488,
          -2.081297400501267,
          1.92036252683853,
          0.8138242459817406,
          0.7703236784058662,
          0.10770445167170967,
          -0.3920501835452438,
          0.7398598503797754,
          -0.5732150838919354,
          1.1854545937174683,
          1.3774998138914087,
          0.1414661391052091,
          -0.18149088788586246,
          0.7112909521534992,
          -0.1105666314184864,
          1.0265009751410454,
          2.1765293909434904,
          0.44033766067018654,
          -0.0449197507202439,
          0.6374567733719833
         ],
         "yaxis": "y14"
        },
        {
         "line": {
          "color": "rgba(128, 128, 128, 1.0)",
          "dash": "solid",
          "shape": "linear",
          "width": 1.3
         },
         "marker": {
          "size": 2,
          "symbol": "circle"
         },
         "mode": "markers",
         "name": "D",
         "text": "",
         "type": "scatter",
         "x": [
          -2.4597558841561376,
          -0.25612831918329276,
          -0.5556432423505464,
          1.5719125420582611,
          0.1756348227647707,
          -0.20787974004490684,
          -1.1804410764024933,
          -0.5312868779711168,
          -0.4078866997463861,
          0.5860159964895477,
          0.7408819326226342,
          -1.5516353400899212,
          0.011753611907605288,
          1.7414493383095122,
          0.27815259710444423,
          2.474951334950332,
          -0.48024684290733194,
          -1.750297459656668,
          1.5853048172825461,
          1.200970645338648,
          -0.3031780648207232,
          0.31559444796827735,
          -2.233051626084782,
          -0.9001191305430065,
          0.04739045649222937,
          -0.039857486014513506,
          -0.05910207017522971,
          0.5102530415641159,
          1.537633352540184,
          0.46177696274320845,
          -0.41264891452785424,
          1.1277702825198632,
          0.5027387688027031,
          0.7104346189535233,
          1.033512117826647,
          0.3294975408608201,
          -0.6917907375784007,
          -1.0169067378253223,
          -0.4403938055829562,
          -1.3805933393318,
          0.16799807359569888,
          -1.900371237857673,
          -0.1871993261633628,
          0.9827692273544065,
          -0.08963517578573571,
          -1.2929055196516321,
          -0.6071633146853714,
          0.28237343538191645,
          0.1583314717928452,
          -0.7032927397033915,
          2.555347992000724,
          -1.6880150569030183,
          -0.2785725493876687,
          -1.1013739311690487,
          0.6623226771439492,
          -0.8205693085309352,
          -0.588354638051842,
          1.5927283688153226,
          -0.5831702498657858,
          -0.22790498925726102,
          1.2599065714631927,
          -1.7761842943004362,
          0.545034971916597,
          0.36090131043614854,
          -0.5076939808290266,
          -0.3243923890316534,
          -1.3297812002745961,
          2.311702506355346,
          1.2193360682370216,
          0.6828425791494181,
          -0.1906076376927126,
          -0.8681128655794245,
          0.7448988430340105,
          -0.6579236709764863,
          -1.7924837112374212,
          0.47018766510455845,
          -1.6197259000015807,
          -1.7073382433242896,
          -0.724504306345858,
          0.6419768151484063,
          -0.21995670775715367,
          -0.2590131479030925,
          1.6576200602225355,
          -0.48852628900249734,
          1.42675925338554,
          -0.7175671934746836,
          -0.2530830755523376,
          2.0781104443498597,
          -0.7445834237026752,
          0.13877003785691952,
          0.6234391485758937,
          -1.607446405057749,
          1.1537435684456776,
          0.8966133236908,
          -0.7973870470526314,
          -0.14892621345235224,
          -2.1311067070678793,
          0.920268296472396,
          0.08382527444972127,
          -1.5030515755624567
         ],
         "xaxis": "x15",
         "y": [
          1.4515960062429498,
          -1.0996528790784628,
          -0.05519451058969665,
          -0.3000666884057858,
          -1.635594250299254,
          0.9982665169431799,
          0.21669622164774988,
          2.237760157267246,
          1.0098663134461239,
          1.7569360213364698,
          2.3529734403731917,
          -0.9365340328132902,
          1.1788816781069953,
          1.2030173909786013,
          0.6661075539763056,
          0.7462598875174838,
          -0.52082363346683,
          0.6157897978691311,
          1.5762511555992542,
          -1.6719576659354898,
          2.1176129255658114,
          0.27777187813053644,
          -0.7530439340806951,
          0.38988479802782083,
          0.06490886018385818,
          1.311286137550827,
          0.9025532954653424,
          -0.5080688835319959,
          -1.266335149314364,
          -0.8015890647652826,
          -1.4565069801134716,
          1.707845390557557,
          -0.7927321911983622,
          1.0964781966777206,
          -0.4155883056013634,
          1.877111636012416,
          -0.6945690896898014,
          1.1237086768801954,
          0.1588095359434408,
          1.5428863006874953,
          -0.07488743440760345,
          0.15002666714724433,
          -1.703532195864785,
          1.148596451623574,
          -0.30382215853343697,
          1.104000089625292,
          0.7414487599495074,
          -0.9352259331213219,
          -0.3240797451387703,
          -0.11929806940820019,
          -0.749245085936551,
          0.565105182595519,
          -1.0111454802077893,
          0.004913849078758671,
          0.6813892603051228,
          -1.926232058690583,
          1.2108628717733905,
          0.3914145008197205,
          -0.7475250801084509,
          -0.8408524564227896,
          0.6443245958756524,
          1.1264075424692905,
          1.3152124543122368,
          0.247101977437702,
          -1.4386087318897485,
          1.217173129212074,
          -1.709094707471033,
          -0.8862845178952976,
          0.24102935927643757,
          1.1458962315296832,
          1.579335842163161,
          0.5157906540202216,
          -0.822026027651455,
          -0.33304414799336535,
          0.37430038152038647,
          0.24706102143560815,
          -1.9281092160486888,
          0.4942174706641176,
          0.05028874125161767,
          -1.0014471675925771,
          -0.15485789472414488,
          -2.081297400501267,
          1.92036252683853,
          0.8138242459817406,
          0.7703236784058662,
          0.10770445167170967,
          -0.3920501835452438,
          0.7398598503797754,
          -0.5732150838919354,
          1.1854545937174683,
          1.3774998138914087,
          0.1414661391052091,
          -0.18149088788586246,
          0.7112909521534992,
          -0.1105666314184864,
          1.0265009751410454,
          2.1765293909434904,
          0.44033766067018654,
          -0.0449197507202439,
          0.6374567733719833
         ],
         "yaxis": "y15"
        },
        {
         "histfunc": "count",
         "histnorm": "",
         "marker": {
          "color": "rgba(128, 0, 128, 1.0)",
          "line": {
           "color": "#4D5663",
           "width": 1.3
          }
         },
         "name": "D",
         "nbinsx": 10,
         "opacity": 0.8,
         "orientation": "v",
         "type": "histogram",
         "x": [
          1.4515960062429498,
          -1.0996528790784628,
          -0.05519451058969665,
          -0.3000666884057858,
          -1.635594250299254,
          0.9982665169431799,
          0.21669622164774988,
          2.237760157267246,
          1.0098663134461239,
          1.7569360213364698,
          2.3529734403731917,
          -0.9365340328132902,
          1.1788816781069953,
          1.2030173909786013,
          0.6661075539763056,
          0.7462598875174838,
          -0.52082363346683,
          0.6157897978691311,
          1.5762511555992542,
          -1.6719576659354898,
          2.1176129255658114,
          0.27777187813053644,
          -0.7530439340806951,
          0.38988479802782083,
          0.06490886018385818,
          1.311286137550827,
          0.9025532954653424,
          -0.5080688835319959,
          -1.266335149314364,
          -0.8015890647652826,
          -1.4565069801134716,
          1.707845390557557,
          -0.7927321911983622,
          1.0964781966777206,
          -0.4155883056013634,
          1.877111636012416,
          -0.6945690896898014,
          1.1237086768801954,
          0.1588095359434408,
          1.5428863006874953,
          -0.07488743440760345,
          0.15002666714724433,
          -1.703532195864785,
          1.148596451623574,
          -0.30382215853343697,
          1.104000089625292,
          0.7414487599495074,
          -0.9352259331213219,
          -0.3240797451387703,
          -0.11929806940820019,
          -0.749245085936551,
          0.565105182595519,
          -1.0111454802077893,
          0.004913849078758671,
          0.6813892603051228,
          -1.926232058690583,
          1.2108628717733905,
          0.3914145008197205,
          -0.7475250801084509,
          -0.8408524564227896,
          0.6443245958756524,
          1.1264075424692905,
          1.3152124543122368,
          0.247101977437702,
          -1.4386087318897485,
          1.217173129212074,
          -1.709094707471033,
          -0.8862845178952976,
          0.24102935927643757,
          1.1458962315296832,
          1.579335842163161,
          0.5157906540202216,
          -0.822026027651455,
          -0.33304414799336535,
          0.37430038152038647,
          0.24706102143560815,
          -1.9281092160486888,
          0.4942174706641176,
          0.05028874125161767,
          -1.0014471675925771,
          -0.15485789472414488,
          -2.081297400501267,
          1.92036252683853,
          0.8138242459817406,
          0.7703236784058662,
          0.10770445167170967,
          -0.3920501835452438,
          0.7398598503797754,
          -0.5732150838919354,
          1.1854545937174683,
          1.3774998138914087,
          0.1414661391052091,
          -0.18149088788586246,
          0.7112909521534992,
          -0.1105666314184864,
          1.0265009751410454,
          2.1765293909434904,
          0.44033766067018654,
          -0.0449197507202439,
          0.6374567733719833
         ],
         "xaxis": "x16",
         "yaxis": "y16"
        }
       ],
       "layout": {
        "bargap": 0.02,
        "legend": {
         "bgcolor": "#F5F6F9",
         "font": {
          "color": "#4D5663"
         }
        },
        "paper_bgcolor": "#F5F6F9",
        "plot_bgcolor": "#F5F6F9",
        "showlegend": false,
        "template": {
         "data": {
          "bar": [
           {
            "error_x": {
             "color": "#2a3f5f"
            },
            "error_y": {
             "color": "#2a3f5f"
            },
            "marker": {
             "line": {
              "color": "#E5ECF6",
              "width": 0.5
             }
            },
            "type": "bar"
           }
          ],
          "barpolar": [
           {
            "marker": {
             "line": {
              "color": "#E5ECF6",
              "width": 0.5
             }
            },
            "type": "barpolar"
           }
          ],
          "carpet": [
           {
            "aaxis": {
             "endlinecolor": "#2a3f5f",
             "gridcolor": "white",
             "linecolor": "white",
             "minorgridcolor": "white",
             "startlinecolor": "#2a3f5f"
            },
            "baxis": {
             "endlinecolor": "#2a3f5f",
             "gridcolor": "white",
             "linecolor": "white",
             "minorgridcolor": "white",
             "startlinecolor": "#2a3f5f"
            },
            "type": "carpet"
           }
          ],
          "choropleth": [
           {
            "colorbar": {
             "outlinewidth": 0,
             "ticks": ""
            },
            "type": "choropleth"
           }
          ],
          "contour": [
           {
            "colorbar": {
             "outlinewidth": 0,
             "ticks": ""
            },
            "colorscale": [
             [
              0,
              "#0d0887"
             ],
             [
              0.1111111111111111,
              "#46039f"
             ],
             [
              0.2222222222222222,
              "#7201a8"
             ],
             [
              0.3333333333333333,
              "#9c179e"
             ],
             [
              0.4444444444444444,
              "#bd3786"
             ],
             [
              0.5555555555555556,
              "#d8576b"
             ],
             [
              0.6666666666666666,
              "#ed7953"
             ],
             [
              0.7777777777777778,
              "#fb9f3a"
             ],
             [
              0.8888888888888888,
              "#fdca26"
             ],
             [
              1,
              "#f0f921"
             ]
            ],
            "type": "contour"
           }
          ],
          "contourcarpet": [
           {
            "colorbar": {
             "outlinewidth": 0,
             "ticks": ""
            },
            "type": "contourcarpet"
           }
          ],
          "heatmap": [
           {
            "colorbar": {
             "outlinewidth": 0,
             "ticks": ""
            },
            "colorscale": [
             [
              0,
              "#0d0887"
             ],
             [
              0.1111111111111111,
              "#46039f"
             ],
             [
              0.2222222222222222,
              "#7201a8"
             ],
             [
              0.3333333333333333,
              "#9c179e"
             ],
             [
              0.4444444444444444,
              "#bd3786"
             ],
             [
              0.5555555555555556,
              "#d8576b"
             ],
             [
              0.6666666666666666,
              "#ed7953"
             ],
             [
              0.7777777777777778,
              "#fb9f3a"
             ],
             [
              0.8888888888888888,
              "#fdca26"
             ],
             [
              1,
              "#f0f921"
             ]
            ],
            "type": "heatmap"
           }
          ],
          "heatmapgl": [
           {
            "colorbar": {
             "outlinewidth": 0,
             "ticks": ""
            },
            "colorscale": [
             [
              0,
              "#0d0887"
             ],
             [
              0.1111111111111111,
              "#46039f"
             ],
             [
              0.2222222222222222,
              "#7201a8"
             ],
             [
              0.3333333333333333,
              "#9c179e"
             ],
             [
              0.4444444444444444,
              "#bd3786"
             ],
             [
              0.5555555555555556,
              "#d8576b"
             ],
             [
              0.6666666666666666,
              "#ed7953"
             ],
             [
              0.7777777777777778,
              "#fb9f3a"
             ],
             [
              0.8888888888888888,
              "#fdca26"
             ],
             [
              1,
              "#f0f921"
             ]
            ],
            "type": "heatmapgl"
           }
          ],
          "histogram": [
           {
            "marker": {
             "colorbar": {
              "outlinewidth": 0,
              "ticks": ""
             }
            },
            "type": "histogram"
           }
          ],
          "histogram2d": [
           {
            "colorbar": {
             "outlinewidth": 0,
             "ticks": ""
            },
            "colorscale": [
             [
              0,
              "#0d0887"
             ],
             [
              0.1111111111111111,
              "#46039f"
             ],
             [
              0.2222222222222222,
              "#7201a8"
             ],
             [
              0.3333333333333333,
              "#9c179e"
             ],
             [
              0.4444444444444444,
              "#bd3786"
             ],
             [
              0.5555555555555556,
              "#d8576b"
             ],
             [
              0.6666666666666666,
              "#ed7953"
             ],
             [
              0.7777777777777778,
              "#fb9f3a"
             ],
             [
              0.8888888888888888,
              "#fdca26"
             ],
             [
              1,
              "#f0f921"
             ]
            ],
            "type": "histogram2d"
           }
          ],
          "histogram2dcontour": [
           {
            "colorbar": {
             "outlinewidth": 0,
             "ticks": ""
            },
            "colorscale": [
             [
              0,
              "#0d0887"
             ],
             [
              0.1111111111111111,
              "#46039f"
             ],
             [
              0.2222222222222222,
              "#7201a8"
             ],
             [
              0.3333333333333333,
              "#9c179e"
             ],
             [
              0.4444444444444444,
              "#bd3786"
             ],
             [
              0.5555555555555556,
              "#d8576b"
             ],
             [
              0.6666666666666666,
              "#ed7953"
             ],
             [
              0.7777777777777778,
              "#fb9f3a"
             ],
             [
              0.8888888888888888,
              "#fdca26"
             ],
             [
              1,
              "#f0f921"
             ]
            ],
            "type": "histogram2dcontour"
           }
          ],
          "mesh3d": [
           {
            "colorbar": {
             "outlinewidth": 0,
             "ticks": ""
            },
            "type": "mesh3d"
           }
          ],
          "parcoords": [
           {
            "line": {
             "colorbar": {
              "outlinewidth": 0,
              "ticks": ""
             }
            },
            "type": "parcoords"
           }
          ],
          "pie": [
           {
            "automargin": true,
            "type": "pie"
           }
          ],
          "scatter": [
           {
            "marker": {
             "colorbar": {
              "outlinewidth": 0,
              "ticks": ""
             }
            },
            "type": "scatter"
           }
          ],
          "scatter3d": [
           {
            "line": {
             "colorbar": {
              "outlinewidth": 0,
              "ticks": ""
             }
            },
            "marker": {
             "colorbar": {
              "outlinewidth": 0,
              "ticks": ""
             }
            },
            "type": "scatter3d"
           }
          ],
          "scattercarpet": [
           {
            "marker": {
             "colorbar": {
              "outlinewidth": 0,
              "ticks": ""
             }
            },
            "type": "scattercarpet"
           }
          ],
          "scattergeo": [
           {
            "marker": {
             "colorbar": {
              "outlinewidth": 0,
              "ticks": ""
             }
            },
            "type": "scattergeo"
           }
          ],
          "scattergl": [
           {
            "marker": {
             "colorbar": {
              "outlinewidth": 0,
              "ticks": ""
             }
            },
            "type": "scattergl"
           }
          ],
          "scattermapbox": [
           {
            "marker": {
             "colorbar": {
              "outlinewidth": 0,
              "ticks": ""
             }
            },
            "type": "scattermapbox"
           }
          ],
          "scatterpolar": [
           {
            "marker": {
             "colorbar": {
              "outlinewidth": 0,
              "ticks": ""
             }
            },
            "type": "scatterpolar"
           }
          ],
          "scatterpolargl": [
           {
            "marker": {
             "colorbar": {
              "outlinewidth": 0,
              "ticks": ""
             }
            },
            "type": "scatterpolargl"
           }
          ],
          "scatterternary": [
           {
            "marker": {
             "colorbar": {
              "outlinewidth": 0,
              "ticks": ""
             }
            },
            "type": "scatterternary"
           }
          ],
          "surface": [
           {
            "colorbar": {
             "outlinewidth": 0,
             "ticks": ""
            },
            "colorscale": [
             [
              0,
              "#0d0887"
             ],
             [
              0.1111111111111111,
              "#46039f"
             ],
             [
              0.2222222222222222,
              "#7201a8"
             ],
             [
              0.3333333333333333,
              "#9c179e"
             ],
             [
              0.4444444444444444,
              "#bd3786"
             ],
             [
              0.5555555555555556,
              "#d8576b"
             ],
             [
              0.6666666666666666,
              "#ed7953"
             ],
             [
              0.7777777777777778,
              "#fb9f3a"
             ],
             [
              0.8888888888888888,
              "#fdca26"
             ],
             [
              1,
              "#f0f921"
             ]
            ],
            "type": "surface"
           }
          ],
          "table": [
           {
            "cells": {
             "fill": {
              "color": "#EBF0F8"
             },
             "line": {
              "color": "white"
             }
            },
            "header": {
             "fill": {
              "color": "#C8D4E3"
             },
             "line": {
              "color": "white"
             }
            },
            "type": "table"
           }
          ]
         },
         "layout": {
          "annotationdefaults": {
           "arrowcolor": "#2a3f5f",
           "arrowhead": 0,
           "arrowwidth": 1
          },
          "coloraxis": {
           "colorbar": {
            "outlinewidth": 0,
            "ticks": ""
           }
          },
          "colorscale": {
           "diverging": [
            [
             0,
             "#8e0152"
            ],
            [
             0.1,
             "#c51b7d"
            ],
            [
             0.2,
             "#de77ae"
            ],
            [
             0.3,
             "#f1b6da"
            ],
            [
             0.4,
             "#fde0ef"
            ],
            [
             0.5,
             "#f7f7f7"
            ],
            [
             0.6,
             "#e6f5d0"
            ],
            [
             0.7,
             "#b8e186"
            ],
            [
             0.8,
             "#7fbc41"
            ],
            [
             0.9,
             "#4d9221"
            ],
            [
             1,
             "#276419"
            ]
           ],
           "sequential": [
            [
             0,
             "#0d0887"
            ],
            [
             0.1111111111111111,
             "#46039f"
            ],
            [
             0.2222222222222222,
             "#7201a8"
            ],
            [
             0.3333333333333333,
             "#9c179e"
            ],
            [
             0.4444444444444444,
             "#bd3786"
            ],
            [
             0.5555555555555556,
             "#d8576b"
            ],
            [
             0.6666666666666666,
             "#ed7953"
            ],
            [
             0.7777777777777778,
             "#fb9f3a"
            ],
            [
             0.8888888888888888,
             "#fdca26"
            ],
            [
             1,
             "#f0f921"
            ]
           ],
           "sequentialminus": [
            [
             0,
             "#0d0887"
            ],
            [
             0.1111111111111111,
             "#46039f"
            ],
            [
             0.2222222222222222,
             "#7201a8"
            ],
            [
             0.3333333333333333,
             "#9c179e"
            ],
            [
             0.4444444444444444,
             "#bd3786"
            ],
            [
             0.5555555555555556,
             "#d8576b"
            ],
            [
             0.6666666666666666,
             "#ed7953"
            ],
            [
             0.7777777777777778,
             "#fb9f3a"
            ],
            [
             0.8888888888888888,
             "#fdca26"
            ],
            [
             1,
             "#f0f921"
            ]
           ]
          },
          "colorway": [
           "#636efa",
           "#EF553B",
           "#00cc96",
           "#ab63fa",
           "#FFA15A",
           "#19d3f3",
           "#FF6692",
           "#B6E880",
           "#FF97FF",
           "#FECB52"
          ],
          "font": {
           "color": "#2a3f5f"
          },
          "geo": {
           "bgcolor": "white",
           "lakecolor": "white",
           "landcolor": "#E5ECF6",
           "showlakes": true,
           "showland": true,
           "subunitcolor": "white"
          },
          "hoverlabel": {
           "align": "left"
          },
          "hovermode": "closest",
          "mapbox": {
           "style": "light"
          },
          "paper_bgcolor": "white",
          "plot_bgcolor": "#E5ECF6",
          "polar": {
           "angularaxis": {
            "gridcolor": "white",
            "linecolor": "white",
            "ticks": ""
           },
           "bgcolor": "#E5ECF6",
           "radialaxis": {
            "gridcolor": "white",
            "linecolor": "white",
            "ticks": ""
           }
          },
          "scene": {
           "xaxis": {
            "backgroundcolor": "#E5ECF6",
            "gridcolor": "white",
            "gridwidth": 2,
            "linecolor": "white",
            "showbackground": true,
            "ticks": "",
            "zerolinecolor": "white"
           },
           "yaxis": {
            "backgroundcolor": "#E5ECF6",
            "gridcolor": "white",
            "gridwidth": 2,
            "linecolor": "white",
            "showbackground": true,
            "ticks": "",
            "zerolinecolor": "white"
           },
           "zaxis": {
            "backgroundcolor": "#E5ECF6",
            "gridcolor": "white",
            "gridwidth": 2,
            "linecolor": "white",
            "showbackground": true,
            "ticks": "",
            "zerolinecolor": "white"
           }
          },
          "shapedefaults": {
           "line": {
            "color": "#2a3f5f"
           }
          },
          "ternary": {
           "aaxis": {
            "gridcolor": "white",
            "linecolor": "white",
            "ticks": ""
           },
           "baxis": {
            "gridcolor": "white",
            "linecolor": "white",
            "ticks": ""
           },
           "bgcolor": "#E5ECF6",
           "caxis": {
            "gridcolor": "white",
            "linecolor": "white",
            "ticks": ""
           }
          },
          "title": {
           "x": 0.05
          },
          "xaxis": {
           "automargin": true,
           "gridcolor": "white",
           "linecolor": "white",
           "ticks": "",
           "title": {
            "standoff": 15
           },
           "zerolinecolor": "white",
           "zerolinewidth": 2
          },
          "yaxis": {
           "automargin": true,
           "gridcolor": "white",
           "linecolor": "white",
           "ticks": "",
           "title": {
            "standoff": 15
           },
           "zerolinecolor": "white",
           "zerolinewidth": 2
          }
         }
        },
        "title": {
         "font": {
          "color": "#4D5663"
         }
        },
        "xaxis": {
         "anchor": "y",
         "domain": [
          0,
          0.2125
         ],
         "gridcolor": "#E1E5ED",
         "showgrid": false,
         "tickfont": {
          "color": "#4D5663"
         },
         "title": {
          "font": {
           "color": "#4D5663"
          },
          "text": ""
         },
         "zerolinecolor": "#E1E5ED"
        },
        "xaxis10": {
         "anchor": "y10",
         "domain": [
          0.2625,
          0.475
         ],
         "gridcolor": "#E1E5ED",
         "showgrid": false,
         "tickfont": {
          "color": "#4D5663"
         },
         "title": {
          "font": {
           "color": "#4D5663"
          },
          "text": ""
         },
         "zerolinecolor": "#E1E5ED"
        },
        "xaxis11": {
         "anchor": "y11",
         "domain": [
          0.525,
          0.7375
         ],
         "gridcolor": "#E1E5ED",
         "showgrid": false,
         "tickfont": {
          "color": "#4D5663"
         },
         "title": {
          "font": {
           "color": "#4D5663"
          },
          "text": ""
         },
         "zerolinecolor": "#E1E5ED"
        },
        "xaxis12": {
         "anchor": "y12",
         "domain": [
          0.7875,
          1
         ],
         "gridcolor": "#E1E5ED",
         "showgrid": false,
         "tickfont": {
          "color": "#4D5663"
         },
         "title": {
          "font": {
           "color": "#4D5663"
          },
          "text": ""
         },
         "zerolinecolor": "#E1E5ED"
        },
        "xaxis13": {
         "anchor": "y13",
         "domain": [
          0,
          0.2125
         ],
         "gridcolor": "#E1E5ED",
         "showgrid": false,
         "tickfont": {
          "color": "#4D5663"
         },
         "title": {
          "font": {
           "color": "#4D5663"
          },
          "text": ""
         },
         "zerolinecolor": "#E1E5ED"
        },
        "xaxis14": {
         "anchor": "y14",
         "domain": [
          0.2625,
          0.475
         ],
         "gridcolor": "#E1E5ED",
         "showgrid": false,
         "tickfont": {
          "color": "#4D5663"
         },
         "title": {
          "font": {
           "color": "#4D5663"
          },
          "text": ""
         },
         "zerolinecolor": "#E1E5ED"
        },
        "xaxis15": {
         "anchor": "y15",
         "domain": [
          0.525,
          0.7375
         ],
         "gridcolor": "#E1E5ED",
         "showgrid": false,
         "tickfont": {
          "color": "#4D5663"
         },
         "title": {
          "font": {
           "color": "#4D5663"
          },
          "text": ""
         },
         "zerolinecolor": "#E1E5ED"
        },
        "xaxis16": {
         "anchor": "y16",
         "domain": [
          0.7875,
          1
         ],
         "gridcolor": "#E1E5ED",
         "showgrid": false,
         "tickfont": {
          "color": "#4D5663"
         },
         "title": {
          "font": {
           "color": "#4D5663"
          },
          "text": ""
         },
         "zerolinecolor": "#E1E5ED"
        },
        "xaxis2": {
         "anchor": "y2",
         "domain": [
          0.2625,
          0.475
         ],
         "gridcolor": "#E1E5ED",
         "showgrid": false,
         "tickfont": {
          "color": "#4D5663"
         },
         "title": {
          "font": {
           "color": "#4D5663"
          },
          "text": ""
         },
         "zerolinecolor": "#E1E5ED"
        },
        "xaxis3": {
         "anchor": "y3",
         "domain": [
          0.525,
          0.7375
         ],
         "gridcolor": "#E1E5ED",
         "showgrid": false,
         "tickfont": {
          "color": "#4D5663"
         },
         "title": {
          "font": {
           "color": "#4D5663"
          },
          "text": ""
         },
         "zerolinecolor": "#E1E5ED"
        },
        "xaxis4": {
         "anchor": "y4",
         "domain": [
          0.7875,
          1
         ],
         "gridcolor": "#E1E5ED",
         "showgrid": false,
         "tickfont": {
          "color": "#4D5663"
         },
         "title": {
          "font": {
           "color": "#4D5663"
          },
          "text": ""
         },
         "zerolinecolor": "#E1E5ED"
        },
        "xaxis5": {
         "anchor": "y5",
         "domain": [
          0,
          0.2125
         ],
         "gridcolor": "#E1E5ED",
         "showgrid": false,
         "tickfont": {
          "color": "#4D5663"
         },
         "title": {
          "font": {
           "color": "#4D5663"
          },
          "text": ""
         },
         "zerolinecolor": "#E1E5ED"
        },
        "xaxis6": {
         "anchor": "y6",
         "domain": [
          0.2625,
          0.475
         ],
         "gridcolor": "#E1E5ED",
         "showgrid": false,
         "tickfont": {
          "color": "#4D5663"
         },
         "title": {
          "font": {
           "color": "#4D5663"
          },
          "text": ""
         },
         "zerolinecolor": "#E1E5ED"
        },
        "xaxis7": {
         "anchor": "y7",
         "domain": [
          0.525,
          0.7375
         ],
         "gridcolor": "#E1E5ED",
         "showgrid": false,
         "tickfont": {
          "color": "#4D5663"
         },
         "title": {
          "font": {
           "color": "#4D5663"
          },
          "text": ""
         },
         "zerolinecolor": "#E1E5ED"
        },
        "xaxis8": {
         "anchor": "y8",
         "domain": [
          0.7875,
          1
         ],
         "gridcolor": "#E1E5ED",
         "showgrid": false,
         "tickfont": {
          "color": "#4D5663"
         },
         "title": {
          "font": {
           "color": "#4D5663"
          },
          "text": ""
         },
         "zerolinecolor": "#E1E5ED"
        },
        "xaxis9": {
         "anchor": "y9",
         "domain": [
          0,
          0.2125
         ],
         "gridcolor": "#E1E5ED",
         "showgrid": false,
         "tickfont": {
          "color": "#4D5663"
         },
         "title": {
          "font": {
           "color": "#4D5663"
          },
          "text": ""
         },
         "zerolinecolor": "#E1E5ED"
        },
        "yaxis": {
         "anchor": "x",
         "domain": [
          0.8025,
          1
         ],
         "gridcolor": "#E1E5ED",
         "showgrid": false,
         "tickfont": {
          "color": "#4D5663"
         },
         "title": {
          "font": {
           "color": "#4D5663"
          },
          "text": ""
         },
         "zerolinecolor": "#E1E5ED"
        },
        "yaxis10": {
         "anchor": "x10",
         "domain": [
          0.2675,
          0.465
         ],
         "gridcolor": "#E1E5ED",
         "showgrid": false,
         "tickfont": {
          "color": "#4D5663"
         },
         "title": {
          "font": {
           "color": "#4D5663"
          },
          "text": ""
         },
         "zerolinecolor": "#E1E5ED"
        },
        "yaxis11": {
         "anchor": "x11",
         "domain": [
          0.2675,
          0.465
         ],
         "gridcolor": "#E1E5ED",
         "showgrid": false,
         "tickfont": {
          "color": "#4D5663"
         },
         "title": {
          "font": {
           "color": "#4D5663"
          },
          "text": ""
         },
         "zerolinecolor": "#E1E5ED"
        },
        "yaxis12": {
         "anchor": "x12",
         "domain": [
          0.2675,
          0.465
         ],
         "gridcolor": "#E1E5ED",
         "showgrid": false,
         "tickfont": {
          "color": "#4D5663"
         },
         "title": {
          "font": {
           "color": "#4D5663"
          },
          "text": ""
         },
         "zerolinecolor": "#E1E5ED"
        },
        "yaxis13": {
         "anchor": "x13",
         "domain": [
          0,
          0.1975
         ],
         "gridcolor": "#E1E5ED",
         "showgrid": false,
         "tickfont": {
          "color": "#4D5663"
         },
         "title": {
          "font": {
           "color": "#4D5663"
          },
          "text": ""
         },
         "zerolinecolor": "#E1E5ED"
        },
        "yaxis14": {
         "anchor": "x14",
         "domain": [
          0,
          0.1975
         ],
         "gridcolor": "#E1E5ED",
         "showgrid": false,
         "tickfont": {
          "color": "#4D5663"
         },
         "title": {
          "font": {
           "color": "#4D5663"
          },
          "text": ""
         },
         "zerolinecolor": "#E1E5ED"
        },
        "yaxis15": {
         "anchor": "x15",
         "domain": [
          0,
          0.1975
         ],
         "gridcolor": "#E1E5ED",
         "showgrid": false,
         "tickfont": {
          "color": "#4D5663"
         },
         "title": {
          "font": {
           "color": "#4D5663"
          },
          "text": ""
         },
         "zerolinecolor": "#E1E5ED"
        },
        "yaxis16": {
         "anchor": "x16",
         "domain": [
          0,
          0.1975
         ],
         "gridcolor": "#E1E5ED",
         "showgrid": false,
         "tickfont": {
          "color": "#4D5663"
         },
         "title": {
          "font": {
           "color": "#4D5663"
          },
          "text": ""
         },
         "zerolinecolor": "#E1E5ED"
        },
        "yaxis2": {
         "anchor": "x2",
         "domain": [
          0.8025,
          1
         ],
         "gridcolor": "#E1E5ED",
         "showgrid": false,
         "tickfont": {
          "color": "#4D5663"
         },
         "title": {
          "font": {
           "color": "#4D5663"
          },
          "text": ""
         },
         "zerolinecolor": "#E1E5ED"
        },
        "yaxis3": {
         "anchor": "x3",
         "domain": [
          0.8025,
          1
         ],
         "gridcolor": "#E1E5ED",
         "showgrid": false,
         "tickfont": {
          "color": "#4D5663"
         },
         "title": {
          "font": {
           "color": "#4D5663"
          },
          "text": ""
         },
         "zerolinecolor": "#E1E5ED"
        },
        "yaxis4": {
         "anchor": "x4",
         "domain": [
          0.8025,
          1
         ],
         "gridcolor": "#E1E5ED",
         "showgrid": false,
         "tickfont": {
          "color": "#4D5663"
         },
         "title": {
          "font": {
           "color": "#4D5663"
          },
          "text": ""
         },
         "zerolinecolor": "#E1E5ED"
        },
        "yaxis5": {
         "anchor": "x5",
         "domain": [
          0.535,
          0.7325
         ],
         "gridcolor": "#E1E5ED",
         "showgrid": false,
         "tickfont": {
          "color": "#4D5663"
         },
         "title": {
          "font": {
           "color": "#4D5663"
          },
          "text": ""
         },
         "zerolinecolor": "#E1E5ED"
        },
        "yaxis6": {
         "anchor": "x6",
         "domain": [
          0.535,
          0.7325
         ],
         "gridcolor": "#E1E5ED",
         "showgrid": false,
         "tickfont": {
          "color": "#4D5663"
         },
         "title": {
          "font": {
           "color": "#4D5663"
          },
          "text": ""
         },
         "zerolinecolor": "#E1E5ED"
        },
        "yaxis7": {
         "anchor": "x7",
         "domain": [
          0.535,
          0.7325
         ],
         "gridcolor": "#E1E5ED",
         "showgrid": false,
         "tickfont": {
          "color": "#4D5663"
         },
         "title": {
          "font": {
           "color": "#4D5663"
          },
          "text": ""
         },
         "zerolinecolor": "#E1E5ED"
        },
        "yaxis8": {
         "anchor": "x8",
         "domain": [
          0.535,
          0.7325
         ],
         "gridcolor": "#E1E5ED",
         "showgrid": false,
         "tickfont": {
          "color": "#4D5663"
         },
         "title": {
          "font": {
           "color": "#4D5663"
          },
          "text": ""
         },
         "zerolinecolor": "#E1E5ED"
        },
        "yaxis9": {
         "anchor": "x9",
         "domain": [
          0.2675,
          0.465
         ],
         "gridcolor": "#E1E5ED",
         "showgrid": false,
         "tickfont": {
          "color": "#4D5663"
         },
         "title": {
          "font": {
           "color": "#4D5663"
          },
          "text": ""
         },
         "zerolinecolor": "#E1E5ED"
        }
       }
      },
      "text/html": [
       "<div>\n",
       "        \n",
       "        \n",
       "            <div id=\"db7a9056-454e-4633-95e2-b9e74ae405bb\" class=\"plotly-graph-div\" style=\"height:525px; width:100%;\"></div>\n",
       "            <script type=\"text/javascript\">\n",
       "                require([\"plotly\"], function(Plotly) {\n",
       "                    window.PLOTLYENV=window.PLOTLYENV || {};\n",
       "                    window.PLOTLYENV.BASE_URL='https://plot.ly';\n",
       "                    \n",
       "                if (document.getElementById(\"db7a9056-454e-4633-95e2-b9e74ae405bb\")) {\n",
       "                    Plotly.newPlot(\n",
       "                        'db7a9056-454e-4633-95e2-b9e74ae405bb',\n",
       "                        [{\"histfunc\": \"count\", \"histnorm\": \"\", \"marker\": {\"color\": \"rgba(255, 153, 51, 1.0)\", \"line\": {\"color\": \"#4D5663\", \"width\": 1.3}}, \"name\": \"A\", \"nbinsx\": 10, \"opacity\": 0.8, \"orientation\": \"v\", \"type\": \"histogram\", \"x\": [0.6451627172498443, -0.6469131036903166, 0.07282760997978965, -0.39996672688275203, 1.27888605560903, 0.176984719501775, -0.3478450711317554, 1.1669800856100079, -1.1509471161286047, -0.4042239505584384, 2.647907647993073, 0.36715327003169484, 0.8432767828805269, -0.03464740419409103, 1.076977486712486, 0.8436970449566027, -0.7334470538578574, -1.2853302266665863, 1.5173632050074661, 0.54034616538293, -0.12868533708843397, -0.2645198777318922, -1.2398657992294475, -0.18530651824974842, 1.5742851271891127, 0.7450361771271075, -1.4086085803396364, 0.14499502944366194, 7.98357974058988e-05, 0.2015099522526723, 0.5197852516643461, 0.8137691135724868, -0.7898519062290008, -0.2350610039304626, -0.47805951650580386, 0.7420069762630155, -0.884344286449463, 0.4881141842478061, 0.2539682741135712, -0.2415755237551213, 0.19379602987412708, -0.46794198489183425, -0.05582823809394771, -0.1722137535156207, 0.8219202690922193, -2.960368117506735, -0.5735579419165826, 0.23185189552088065, -1.5476457212277288, -0.7318010309338864, 0.4276163168061164, 0.7076939313668328, 0.9103248805933472, -0.6350650519263663, -0.7846590711619182, 0.5066197590616859, 0.9475847712991983, 1.4855797887769817, -0.5176716456152829, -1.9365130236965, -2.2657350481435565, 1.740096036056405, 1.8796902458539129, -0.6503568376832136, -1.1063832718418674, 0.5540253031028719, -0.2255018506179424, -0.22246662275393148, 0.3796040910645512, 0.641004515444166, -1.5257174213827545, 0.5582632071338453, 0.7434395855922672, -0.6429138846665017, -1.1470053481199076, -0.058408415132721984, -0.087271021946233, -0.11490851526832321, 0.09478161319117837, -0.06806715841681621, -0.9642493190741217, -0.008786798402462295, 0.6396834488805198, -0.3259564250417379, 0.5002594604189721, 1.6301959446629615, 0.4764493472735545, -0.5917483321647256, 1.3687335513621266, 1.427544217794121, -0.6919940853120521, -2.0309623995200567, -0.8535043207183718, -0.7453142827178897, 1.4886049411007722, 1.376550678415612, 0.4662319719767733, 1.0996702131134612, -0.4293423418754007, -0.15580447473223744], \"xaxis\": \"x\", \"yaxis\": \"y\"}, {\"line\": {\"color\": \"rgba(128, 128, 128, 1.0)\", \"dash\": \"solid\", \"shape\": \"linear\", \"width\": 1.3}, \"marker\": {\"size\": 2, \"symbol\": \"circle\"}, \"mode\": \"markers\", \"name\": \"A\", \"text\": \"\", \"type\": \"scatter\", \"x\": [0.5349692410513225, -1.014328904542226, 0.2229060005876184, -1.7581772675544798, 0.37231115079283594, 0.579264731188161, 0.5718854242262145, -0.700421563136451, -0.6925810383508683, 0.4790117557619783, 0.24442530830143844, 0.764748398677337, 1.754347313478873, -0.40762244722224095, 0.6650490169408635, -2.3902605775371946, 0.7147583929606929, 0.11896721666819543, -0.8028148154089121, 1.6952701768643617, -2.7763997397425295, -0.01340515185356433, 1.7784608524477292, -0.2885044914699736, 1.0466215220208286, -0.9043684133288886, -0.6042356903023718, -1.6847822028654627, 1.5297218731150697, 1.3415136153615916, -0.37716657605716297, -1.0494981799232466, -0.500402274016725, -1.2181761971009173, -1.776210252204733, -0.3968897194559243, -0.322374690719606, -0.4012294945234382, 2.035203464686686, 1.1016567270559787, -0.14018196572980843, 1.467813159453069, 1.3809154248444366, -0.08205647775417348, -0.36341565920138735, 0.07233594739972496, -1.0583568734506534, 0.5560235499153585, 2.176848979597883, 0.9596586425683493, -0.3407743636640172, -1.7348677657723248, 1.3577160606563694, 0.05361173356677967, -1.3718095272286817, 0.871112952667962, 1.885708131400474, 0.2170343177318166, -0.46920835974248226, 1.3866627336967794, -0.6302221497234748, 0.5301234274057091, -1.0564523821783804, -0.276707432201371, 0.15170855981121262, 0.43436907082471166, 0.4744302146164032, -0.405764320028978, 1.0481786716642518, 0.11106210546013959, -1.5355277427466816, -0.045065170946819125, 1.1894829955165938, -0.6775899242032235, 0.5791523631524266, 0.9636909001251861, 0.3592607945727012, 1.0994552085095473, 0.8899020832464846, 0.6136225224274325, 0.6338374255363178, 0.0729077581586196, -0.8213726655976707, 0.06228745285536487, 0.5290657124345663, 0.13750720436213548, -1.2011407826241554, -0.21817446269581114, 0.47476188782199336, 0.3260651872156575, -0.36511298792012614, -0.6194016745901185, 0.49622265016446104, -1.4253888279048446, 0.6925910212982547, -1.1932783398603268, -0.3783372011436178, 0.39282058649038537, 0.006989733582659156, 0.2866238712221347], \"xaxis\": \"x2\", \"y\": [0.6451627172498443, -0.6469131036903166, 0.07282760997978965, -0.39996672688275203, 1.27888605560903, 0.176984719501775, -0.3478450711317554, 1.1669800856100079, -1.1509471161286047, -0.4042239505584384, 2.647907647993073, 0.36715327003169484, 0.8432767828805269, -0.03464740419409103, 1.076977486712486, 0.8436970449566027, -0.7334470538578574, -1.2853302266665863, 1.5173632050074661, 0.54034616538293, -0.12868533708843397, -0.2645198777318922, -1.2398657992294475, -0.18530651824974842, 1.5742851271891127, 0.7450361771271075, -1.4086085803396364, 0.14499502944366194, 7.98357974058988e-05, 0.2015099522526723, 0.5197852516643461, 0.8137691135724868, -0.7898519062290008, -0.2350610039304626, -0.47805951650580386, 0.7420069762630155, -0.884344286449463, 0.4881141842478061, 0.2539682741135712, -0.2415755237551213, 0.19379602987412708, -0.46794198489183425, -0.05582823809394771, -0.1722137535156207, 0.8219202690922193, -2.960368117506735, -0.5735579419165826, 0.23185189552088065, -1.5476457212277288, -0.7318010309338864, 0.4276163168061164, 0.7076939313668328, 0.9103248805933472, -0.6350650519263663, -0.7846590711619182, 0.5066197590616859, 0.9475847712991983, 1.4855797887769817, -0.5176716456152829, -1.9365130236965, -2.2657350481435565, 1.740096036056405, 1.8796902458539129, -0.6503568376832136, -1.1063832718418674, 0.5540253031028719, -0.2255018506179424, -0.22246662275393148, 0.3796040910645512, 0.641004515444166, -1.5257174213827545, 0.5582632071338453, 0.7434395855922672, -0.6429138846665017, -1.1470053481199076, -0.058408415132721984, -0.087271021946233, -0.11490851526832321, 0.09478161319117837, -0.06806715841681621, -0.9642493190741217, -0.008786798402462295, 0.6396834488805198, -0.3259564250417379, 0.5002594604189721, 1.6301959446629615, 0.4764493472735545, -0.5917483321647256, 1.3687335513621266, 1.427544217794121, -0.6919940853120521, -2.0309623995200567, -0.8535043207183718, -0.7453142827178897, 1.4886049411007722, 1.376550678415612, 0.4662319719767733, 1.0996702131134612, -0.4293423418754007, -0.15580447473223744], \"yaxis\": \"y2\"}, {\"line\": {\"color\": \"rgba(128, 128, 128, 1.0)\", \"dash\": \"solid\", \"shape\": \"linear\", \"width\": 1.3}, \"marker\": {\"size\": 2, \"symbol\": \"circle\"}, \"mode\": \"markers\", \"name\": \"A\", \"text\": \"\", \"type\": \"scatter\", \"x\": [-2.4597558841561376, -0.25612831918329276, -0.5556432423505464, 1.5719125420582611, 0.1756348227647707, -0.20787974004490684, -1.1804410764024933, -0.5312868779711168, -0.4078866997463861, 0.5860159964895477, 0.7408819326226342, -1.5516353400899212, 0.011753611907605288, 1.7414493383095122, 0.27815259710444423, 2.474951334950332, -0.48024684290733194, -1.750297459656668, 1.5853048172825461, 1.200970645338648, -0.3031780648207232, 0.31559444796827735, -2.233051626084782, -0.9001191305430065, 0.04739045649222937, -0.039857486014513506, -0.05910207017522971, 0.5102530415641159, 1.537633352540184, 0.46177696274320845, -0.41264891452785424, 1.1277702825198632, 0.5027387688027031, 0.7104346189535233, 1.033512117826647, 0.3294975408608201, -0.6917907375784007, -1.0169067378253223, -0.4403938055829562, -1.3805933393318, 0.16799807359569888, -1.900371237857673, -0.1871993261633628, 0.9827692273544065, -0.08963517578573571, -1.2929055196516321, -0.6071633146853714, 0.28237343538191645, 0.1583314717928452, -0.7032927397033915, 2.555347992000724, -1.6880150569030183, -0.2785725493876687, -1.1013739311690487, 0.6623226771439492, -0.8205693085309352, -0.588354638051842, 1.5927283688153226, -0.5831702498657858, -0.22790498925726102, 1.2599065714631927, -1.7761842943004362, 0.545034971916597, 0.36090131043614854, -0.5076939808290266, -0.3243923890316534, -1.3297812002745961, 2.311702506355346, 1.2193360682370216, 0.6828425791494181, -0.1906076376927126, -0.8681128655794245, 0.7448988430340105, -0.6579236709764863, -1.7924837112374212, 0.47018766510455845, -1.6197259000015807, -1.7073382433242896, -0.724504306345858, 0.6419768151484063, -0.21995670775715367, -0.2590131479030925, 1.6576200602225355, -0.48852628900249734, 1.42675925338554, -0.7175671934746836, -0.2530830755523376, 2.0781104443498597, -0.7445834237026752, 0.13877003785691952, 0.6234391485758937, -1.607446405057749, 1.1537435684456776, 0.8966133236908, -0.7973870470526314, -0.14892621345235224, -2.1311067070678793, 0.920268296472396, 0.08382527444972127, -1.5030515755624567], \"xaxis\": \"x3\", \"y\": [0.6451627172498443, -0.6469131036903166, 0.07282760997978965, -0.39996672688275203, 1.27888605560903, 0.176984719501775, -0.3478450711317554, 1.1669800856100079, -1.1509471161286047, -0.4042239505584384, 2.647907647993073, 0.36715327003169484, 0.8432767828805269, -0.03464740419409103, 1.076977486712486, 0.8436970449566027, -0.7334470538578574, -1.2853302266665863, 1.5173632050074661, 0.54034616538293, -0.12868533708843397, -0.2645198777318922, -1.2398657992294475, -0.18530651824974842, 1.5742851271891127, 0.7450361771271075, -1.4086085803396364, 0.14499502944366194, 7.98357974058988e-05, 0.2015099522526723, 0.5197852516643461, 0.8137691135724868, -0.7898519062290008, -0.2350610039304626, -0.47805951650580386, 0.7420069762630155, -0.884344286449463, 0.4881141842478061, 0.2539682741135712, -0.2415755237551213, 0.19379602987412708, -0.46794198489183425, -0.05582823809394771, -0.1722137535156207, 0.8219202690922193, -2.960368117506735, -0.5735579419165826, 0.23185189552088065, -1.5476457212277288, -0.7318010309338864, 0.4276163168061164, 0.7076939313668328, 0.9103248805933472, -0.6350650519263663, -0.7846590711619182, 0.5066197590616859, 0.9475847712991983, 1.4855797887769817, -0.5176716456152829, -1.9365130236965, -2.2657350481435565, 1.740096036056405, 1.8796902458539129, -0.6503568376832136, -1.1063832718418674, 0.5540253031028719, -0.2255018506179424, -0.22246662275393148, 0.3796040910645512, 0.641004515444166, -1.5257174213827545, 0.5582632071338453, 0.7434395855922672, -0.6429138846665017, -1.1470053481199076, -0.058408415132721984, -0.087271021946233, -0.11490851526832321, 0.09478161319117837, -0.06806715841681621, -0.9642493190741217, -0.008786798402462295, 0.6396834488805198, -0.3259564250417379, 0.5002594604189721, 1.6301959446629615, 0.4764493472735545, -0.5917483321647256, 1.3687335513621266, 1.427544217794121, -0.6919940853120521, -2.0309623995200567, -0.8535043207183718, -0.7453142827178897, 1.4886049411007722, 1.376550678415612, 0.4662319719767733, 1.0996702131134612, -0.4293423418754007, -0.15580447473223744], \"yaxis\": \"y3\"}, {\"line\": {\"color\": \"rgba(128, 128, 128, 1.0)\", \"dash\": \"solid\", \"shape\": \"linear\", \"width\": 1.3}, \"marker\": {\"size\": 2, \"symbol\": \"circle\"}, \"mode\": \"markers\", \"name\": \"A\", \"text\": \"\", \"type\": \"scatter\", \"x\": [1.4515960062429498, -1.0996528790784628, -0.05519451058969665, -0.3000666884057858, -1.635594250299254, 0.9982665169431799, 0.21669622164774988, 2.237760157267246, 1.0098663134461239, 1.7569360213364698, 2.3529734403731917, -0.9365340328132902, 1.1788816781069953, 1.2030173909786013, 0.6661075539763056, 0.7462598875174838, -0.52082363346683, 0.6157897978691311, 1.5762511555992542, -1.6719576659354898, 2.1176129255658114, 0.27777187813053644, -0.7530439340806951, 0.38988479802782083, 0.06490886018385818, 1.311286137550827, 0.9025532954653424, -0.5080688835319959, -1.266335149314364, -0.8015890647652826, -1.4565069801134716, 1.707845390557557, -0.7927321911983622, 1.0964781966777206, -0.4155883056013634, 1.877111636012416, -0.6945690896898014, 1.1237086768801954, 0.1588095359434408, 1.5428863006874953, -0.07488743440760345, 0.15002666714724433, -1.703532195864785, 1.148596451623574, -0.30382215853343697, 1.104000089625292, 0.7414487599495074, -0.9352259331213219, -0.3240797451387703, -0.11929806940820019, -0.749245085936551, 0.565105182595519, -1.0111454802077893, 0.004913849078758671, 0.6813892603051228, -1.926232058690583, 1.2108628717733905, 0.3914145008197205, -0.7475250801084509, -0.8408524564227896, 0.6443245958756524, 1.1264075424692905, 1.3152124543122368, 0.247101977437702, -1.4386087318897485, 1.217173129212074, -1.709094707471033, -0.8862845178952976, 0.24102935927643757, 1.1458962315296832, 1.579335842163161, 0.5157906540202216, -0.822026027651455, -0.33304414799336535, 0.37430038152038647, 0.24706102143560815, -1.9281092160486888, 0.4942174706641176, 0.05028874125161767, -1.0014471675925771, -0.15485789472414488, -2.081297400501267, 1.92036252683853, 0.8138242459817406, 0.7703236784058662, 0.10770445167170967, -0.3920501835452438, 0.7398598503797754, -0.5732150838919354, 1.1854545937174683, 1.3774998138914087, 0.1414661391052091, -0.18149088788586246, 0.7112909521534992, -0.1105666314184864, 1.0265009751410454, 2.1765293909434904, 0.44033766067018654, -0.0449197507202439, 0.6374567733719833], \"xaxis\": \"x4\", \"y\": [0.6451627172498443, -0.6469131036903166, 0.07282760997978965, -0.39996672688275203, 1.27888605560903, 0.176984719501775, -0.3478450711317554, 1.1669800856100079, -1.1509471161286047, -0.4042239505584384, 2.647907647993073, 0.36715327003169484, 0.8432767828805269, -0.03464740419409103, 1.076977486712486, 0.8436970449566027, -0.7334470538578574, -1.2853302266665863, 1.5173632050074661, 0.54034616538293, -0.12868533708843397, -0.2645198777318922, -1.2398657992294475, -0.18530651824974842, 1.5742851271891127, 0.7450361771271075, -1.4086085803396364, 0.14499502944366194, 7.98357974058988e-05, 0.2015099522526723, 0.5197852516643461, 0.8137691135724868, -0.7898519062290008, -0.2350610039304626, -0.47805951650580386, 0.7420069762630155, -0.884344286449463, 0.4881141842478061, 0.2539682741135712, -0.2415755237551213, 0.19379602987412708, -0.46794198489183425, -0.05582823809394771, -0.1722137535156207, 0.8219202690922193, -2.960368117506735, -0.5735579419165826, 0.23185189552088065, -1.5476457212277288, -0.7318010309338864, 0.4276163168061164, 0.7076939313668328, 0.9103248805933472, -0.6350650519263663, -0.7846590711619182, 0.5066197590616859, 0.9475847712991983, 1.4855797887769817, -0.5176716456152829, -1.9365130236965, -2.2657350481435565, 1.740096036056405, 1.8796902458539129, -0.6503568376832136, -1.1063832718418674, 0.5540253031028719, -0.2255018506179424, -0.22246662275393148, 0.3796040910645512, 0.641004515444166, -1.5257174213827545, 0.5582632071338453, 0.7434395855922672, -0.6429138846665017, -1.1470053481199076, -0.058408415132721984, -0.087271021946233, -0.11490851526832321, 0.09478161319117837, -0.06806715841681621, -0.9642493190741217, -0.008786798402462295, 0.6396834488805198, -0.3259564250417379, 0.5002594604189721, 1.6301959446629615, 0.4764493472735545, -0.5917483321647256, 1.3687335513621266, 1.427544217794121, -0.6919940853120521, -2.0309623995200567, -0.8535043207183718, -0.7453142827178897, 1.4886049411007722, 1.376550678415612, 0.4662319719767733, 1.0996702131134612, -0.4293423418754007, -0.15580447473223744], \"yaxis\": \"y4\"}, {\"line\": {\"color\": \"rgba(128, 128, 128, 1.0)\", \"dash\": \"solid\", \"shape\": \"linear\", \"width\": 1.3}, \"marker\": {\"size\": 2, \"symbol\": \"circle\"}, \"mode\": \"markers\", \"name\": \"B\", \"text\": \"\", \"type\": \"scatter\", \"x\": [0.6451627172498443, -0.6469131036903166, 0.07282760997978965, -0.39996672688275203, 1.27888605560903, 0.176984719501775, -0.3478450711317554, 1.1669800856100079, -1.1509471161286047, -0.4042239505584384, 2.647907647993073, 0.36715327003169484, 0.8432767828805269, -0.03464740419409103, 1.076977486712486, 0.8436970449566027, -0.7334470538578574, -1.2853302266665863, 1.5173632050074661, 0.54034616538293, -0.12868533708843397, -0.2645198777318922, -1.2398657992294475, -0.18530651824974842, 1.5742851271891127, 0.7450361771271075, -1.4086085803396364, 0.14499502944366194, 7.98357974058988e-05, 0.2015099522526723, 0.5197852516643461, 0.8137691135724868, -0.7898519062290008, -0.2350610039304626, -0.47805951650580386, 0.7420069762630155, -0.884344286449463, 0.4881141842478061, 0.2539682741135712, -0.2415755237551213, 0.19379602987412708, -0.46794198489183425, -0.05582823809394771, -0.1722137535156207, 0.8219202690922193, -2.960368117506735, -0.5735579419165826, 0.23185189552088065, -1.5476457212277288, -0.7318010309338864, 0.4276163168061164, 0.7076939313668328, 0.9103248805933472, -0.6350650519263663, -0.7846590711619182, 0.5066197590616859, 0.9475847712991983, 1.4855797887769817, -0.5176716456152829, -1.9365130236965, -2.2657350481435565, 1.740096036056405, 1.8796902458539129, -0.6503568376832136, -1.1063832718418674, 0.5540253031028719, -0.2255018506179424, -0.22246662275393148, 0.3796040910645512, 0.641004515444166, -1.5257174213827545, 0.5582632071338453, 0.7434395855922672, -0.6429138846665017, -1.1470053481199076, -0.058408415132721984, -0.087271021946233, -0.11490851526832321, 0.09478161319117837, -0.06806715841681621, -0.9642493190741217, -0.008786798402462295, 0.6396834488805198, -0.3259564250417379, 0.5002594604189721, 1.6301959446629615, 0.4764493472735545, -0.5917483321647256, 1.3687335513621266, 1.427544217794121, -0.6919940853120521, -2.0309623995200567, -0.8535043207183718, -0.7453142827178897, 1.4886049411007722, 1.376550678415612, 0.4662319719767733, 1.0996702131134612, -0.4293423418754007, -0.15580447473223744], \"xaxis\": \"x5\", \"y\": [0.5349692410513225, -1.014328904542226, 0.2229060005876184, -1.7581772675544798, 0.37231115079283594, 0.579264731188161, 0.5718854242262145, -0.700421563136451, -0.6925810383508683, 0.4790117557619783, 0.24442530830143844, 0.764748398677337, 1.754347313478873, -0.40762244722224095, 0.6650490169408635, -2.3902605775371946, 0.7147583929606929, 0.11896721666819543, -0.8028148154089121, 1.6952701768643617, -2.7763997397425295, -0.01340515185356433, 1.7784608524477292, -0.2885044914699736, 1.0466215220208286, -0.9043684133288886, -0.6042356903023718, -1.6847822028654627, 1.5297218731150697, 1.3415136153615916, -0.37716657605716297, -1.0494981799232466, -0.500402274016725, -1.2181761971009173, -1.776210252204733, -0.3968897194559243, -0.322374690719606, -0.4012294945234382, 2.035203464686686, 1.1016567270559787, -0.14018196572980843, 1.467813159453069, 1.3809154248444366, -0.08205647775417348, -0.36341565920138735, 0.07233594739972496, -1.0583568734506534, 0.5560235499153585, 2.176848979597883, 0.9596586425683493, -0.3407743636640172, -1.7348677657723248, 1.3577160606563694, 0.05361173356677967, -1.3718095272286817, 0.871112952667962, 1.885708131400474, 0.2170343177318166, -0.46920835974248226, 1.3866627336967794, -0.6302221497234748, 0.5301234274057091, -1.0564523821783804, -0.276707432201371, 0.15170855981121262, 0.43436907082471166, 0.4744302146164032, -0.405764320028978, 1.0481786716642518, 0.11106210546013959, -1.5355277427466816, -0.045065170946819125, 1.1894829955165938, -0.6775899242032235, 0.5791523631524266, 0.9636909001251861, 0.3592607945727012, 1.0994552085095473, 0.8899020832464846, 0.6136225224274325, 0.6338374255363178, 0.0729077581586196, -0.8213726655976707, 0.06228745285536487, 0.5290657124345663, 0.13750720436213548, -1.2011407826241554, -0.21817446269581114, 0.47476188782199336, 0.3260651872156575, -0.36511298792012614, -0.6194016745901185, 0.49622265016446104, -1.4253888279048446, 0.6925910212982547, -1.1932783398603268, -0.3783372011436178, 0.39282058649038537, 0.006989733582659156, 0.2866238712221347], \"yaxis\": \"y5\"}, {\"histfunc\": \"count\", \"histnorm\": \"\", \"marker\": {\"color\": \"rgba(55, 128, 191, 1.0)\", \"line\": {\"color\": \"#4D5663\", \"width\": 1.3}}, \"name\": \"B\", \"nbinsx\": 10, \"opacity\": 0.8, \"orientation\": \"v\", \"type\": \"histogram\", \"x\": [0.5349692410513225, -1.014328904542226, 0.2229060005876184, -1.7581772675544798, 0.37231115079283594, 0.579264731188161, 0.5718854242262145, -0.700421563136451, -0.6925810383508683, 0.4790117557619783, 0.24442530830143844, 0.764748398677337, 1.754347313478873, -0.40762244722224095, 0.6650490169408635, -2.3902605775371946, 0.7147583929606929, 0.11896721666819543, -0.8028148154089121, 1.6952701768643617, -2.7763997397425295, -0.01340515185356433, 1.7784608524477292, -0.2885044914699736, 1.0466215220208286, -0.9043684133288886, -0.6042356903023718, -1.6847822028654627, 1.5297218731150697, 1.3415136153615916, -0.37716657605716297, -1.0494981799232466, -0.500402274016725, -1.2181761971009173, -1.776210252204733, -0.3968897194559243, -0.322374690719606, -0.4012294945234382, 2.035203464686686, 1.1016567270559787, -0.14018196572980843, 1.467813159453069, 1.3809154248444366, -0.08205647775417348, -0.36341565920138735, 0.07233594739972496, -1.0583568734506534, 0.5560235499153585, 2.176848979597883, 0.9596586425683493, -0.3407743636640172, -1.7348677657723248, 1.3577160606563694, 0.05361173356677967, -1.3718095272286817, 0.871112952667962, 1.885708131400474, 0.2170343177318166, -0.46920835974248226, 1.3866627336967794, -0.6302221497234748, 0.5301234274057091, -1.0564523821783804, -0.276707432201371, 0.15170855981121262, 0.43436907082471166, 0.4744302146164032, -0.405764320028978, 1.0481786716642518, 0.11106210546013959, -1.5355277427466816, -0.045065170946819125, 1.1894829955165938, -0.6775899242032235, 0.5791523631524266, 0.9636909001251861, 0.3592607945727012, 1.0994552085095473, 0.8899020832464846, 0.6136225224274325, 0.6338374255363178, 0.0729077581586196, -0.8213726655976707, 0.06228745285536487, 0.5290657124345663, 0.13750720436213548, -1.2011407826241554, -0.21817446269581114, 0.47476188782199336, 0.3260651872156575, -0.36511298792012614, -0.6194016745901185, 0.49622265016446104, -1.4253888279048446, 0.6925910212982547, -1.1932783398603268, -0.3783372011436178, 0.39282058649038537, 0.006989733582659156, 0.2866238712221347], \"xaxis\": \"x6\", \"yaxis\": \"y6\"}, {\"line\": {\"color\": \"rgba(128, 128, 128, 1.0)\", \"dash\": \"solid\", \"shape\": \"linear\", \"width\": 1.3}, \"marker\": {\"size\": 2, \"symbol\": \"circle\"}, \"mode\": \"markers\", \"name\": \"B\", \"text\": \"\", \"type\": \"scatter\", \"x\": [-2.4597558841561376, -0.25612831918329276, -0.5556432423505464, 1.5719125420582611, 0.1756348227647707, -0.20787974004490684, -1.1804410764024933, -0.5312868779711168, -0.4078866997463861, 0.5860159964895477, 0.7408819326226342, -1.5516353400899212, 0.011753611907605288, 1.7414493383095122, 0.27815259710444423, 2.474951334950332, -0.48024684290733194, -1.750297459656668, 1.5853048172825461, 1.200970645338648, -0.3031780648207232, 0.31559444796827735, -2.233051626084782, -0.9001191305430065, 0.04739045649222937, -0.039857486014513506, -0.05910207017522971, 0.5102530415641159, 1.537633352540184, 0.46177696274320845, -0.41264891452785424, 1.1277702825198632, 0.5027387688027031, 0.7104346189535233, 1.033512117826647, 0.3294975408608201, -0.6917907375784007, -1.0169067378253223, -0.4403938055829562, -1.3805933393318, 0.16799807359569888, -1.900371237857673, -0.1871993261633628, 0.9827692273544065, -0.08963517578573571, -1.2929055196516321, -0.6071633146853714, 0.28237343538191645, 0.1583314717928452, -0.7032927397033915, 2.555347992000724, -1.6880150569030183, -0.2785725493876687, -1.1013739311690487, 0.6623226771439492, -0.8205693085309352, -0.588354638051842, 1.5927283688153226, -0.5831702498657858, -0.22790498925726102, 1.2599065714631927, -1.7761842943004362, 0.545034971916597, 0.36090131043614854, -0.5076939808290266, -0.3243923890316534, -1.3297812002745961, 2.311702506355346, 1.2193360682370216, 0.6828425791494181, -0.1906076376927126, -0.8681128655794245, 0.7448988430340105, -0.6579236709764863, -1.7924837112374212, 0.47018766510455845, -1.6197259000015807, -1.7073382433242896, -0.724504306345858, 0.6419768151484063, -0.21995670775715367, -0.2590131479030925, 1.6576200602225355, -0.48852628900249734, 1.42675925338554, -0.7175671934746836, -0.2530830755523376, 2.0781104443498597, -0.7445834237026752, 0.13877003785691952, 0.6234391485758937, -1.607446405057749, 1.1537435684456776, 0.8966133236908, -0.7973870470526314, -0.14892621345235224, -2.1311067070678793, 0.920268296472396, 0.08382527444972127, -1.5030515755624567], \"xaxis\": \"x7\", \"y\": [0.5349692410513225, -1.014328904542226, 0.2229060005876184, -1.7581772675544798, 0.37231115079283594, 0.579264731188161, 0.5718854242262145, -0.700421563136451, -0.6925810383508683, 0.4790117557619783, 0.24442530830143844, 0.764748398677337, 1.754347313478873, -0.40762244722224095, 0.6650490169408635, -2.3902605775371946, 0.7147583929606929, 0.11896721666819543, -0.8028148154089121, 1.6952701768643617, -2.7763997397425295, -0.01340515185356433, 1.7784608524477292, -0.2885044914699736, 1.0466215220208286, -0.9043684133288886, -0.6042356903023718, -1.6847822028654627, 1.5297218731150697, 1.3415136153615916, -0.37716657605716297, -1.0494981799232466, -0.500402274016725, -1.2181761971009173, -1.776210252204733, -0.3968897194559243, -0.322374690719606, -0.4012294945234382, 2.035203464686686, 1.1016567270559787, -0.14018196572980843, 1.467813159453069, 1.3809154248444366, -0.08205647775417348, -0.36341565920138735, 0.07233594739972496, -1.0583568734506534, 0.5560235499153585, 2.176848979597883, 0.9596586425683493, -0.3407743636640172, -1.7348677657723248, 1.3577160606563694, 0.05361173356677967, -1.3718095272286817, 0.871112952667962, 1.885708131400474, 0.2170343177318166, -0.46920835974248226, 1.3866627336967794, -0.6302221497234748, 0.5301234274057091, -1.0564523821783804, -0.276707432201371, 0.15170855981121262, 0.43436907082471166, 0.4744302146164032, -0.405764320028978, 1.0481786716642518, 0.11106210546013959, -1.5355277427466816, -0.045065170946819125, 1.1894829955165938, -0.6775899242032235, 0.5791523631524266, 0.9636909001251861, 0.3592607945727012, 1.0994552085095473, 0.8899020832464846, 0.6136225224274325, 0.6338374255363178, 0.0729077581586196, -0.8213726655976707, 0.06228745285536487, 0.5290657124345663, 0.13750720436213548, -1.2011407826241554, -0.21817446269581114, 0.47476188782199336, 0.3260651872156575, -0.36511298792012614, -0.6194016745901185, 0.49622265016446104, -1.4253888279048446, 0.6925910212982547, -1.1932783398603268, -0.3783372011436178, 0.39282058649038537, 0.006989733582659156, 0.2866238712221347], \"yaxis\": \"y7\"}, {\"line\": {\"color\": \"rgba(128, 128, 128, 1.0)\", \"dash\": \"solid\", \"shape\": \"linear\", \"width\": 1.3}, \"marker\": {\"size\": 2, \"symbol\": \"circle\"}, \"mode\": \"markers\", \"name\": \"B\", \"text\": \"\", \"type\": \"scatter\", \"x\": [1.4515960062429498, -1.0996528790784628, -0.05519451058969665, -0.3000666884057858, -1.635594250299254, 0.9982665169431799, 0.21669622164774988, 2.237760157267246, 1.0098663134461239, 1.7569360213364698, 2.3529734403731917, -0.9365340328132902, 1.1788816781069953, 1.2030173909786013, 0.6661075539763056, 0.7462598875174838, -0.52082363346683, 0.6157897978691311, 1.5762511555992542, -1.6719576659354898, 2.1176129255658114, 0.27777187813053644, -0.7530439340806951, 0.38988479802782083, 0.06490886018385818, 1.311286137550827, 0.9025532954653424, -0.5080688835319959, -1.266335149314364, -0.8015890647652826, -1.4565069801134716, 1.707845390557557, -0.7927321911983622, 1.0964781966777206, -0.4155883056013634, 1.877111636012416, -0.6945690896898014, 1.1237086768801954, 0.1588095359434408, 1.5428863006874953, -0.07488743440760345, 0.15002666714724433, -1.703532195864785, 1.148596451623574, -0.30382215853343697, 1.104000089625292, 0.7414487599495074, -0.9352259331213219, -0.3240797451387703, -0.11929806940820019, -0.749245085936551, 0.565105182595519, -1.0111454802077893, 0.004913849078758671, 0.6813892603051228, -1.926232058690583, 1.2108628717733905, 0.3914145008197205, -0.7475250801084509, -0.8408524564227896, 0.6443245958756524, 1.1264075424692905, 1.3152124543122368, 0.247101977437702, -1.4386087318897485, 1.217173129212074, -1.709094707471033, -0.8862845178952976, 0.24102935927643757, 1.1458962315296832, 1.579335842163161, 0.5157906540202216, -0.822026027651455, -0.33304414799336535, 0.37430038152038647, 0.24706102143560815, -1.9281092160486888, 0.4942174706641176, 0.05028874125161767, -1.0014471675925771, -0.15485789472414488, -2.081297400501267, 1.92036252683853, 0.8138242459817406, 0.7703236784058662, 0.10770445167170967, -0.3920501835452438, 0.7398598503797754, -0.5732150838919354, 1.1854545937174683, 1.3774998138914087, 0.1414661391052091, -0.18149088788586246, 0.7112909521534992, -0.1105666314184864, 1.0265009751410454, 2.1765293909434904, 0.44033766067018654, -0.0449197507202439, 0.6374567733719833], \"xaxis\": \"x8\", \"y\": [0.5349692410513225, -1.014328904542226, 0.2229060005876184, -1.7581772675544798, 0.37231115079283594, 0.579264731188161, 0.5718854242262145, -0.700421563136451, -0.6925810383508683, 0.4790117557619783, 0.24442530830143844, 0.764748398677337, 1.754347313478873, -0.40762244722224095, 0.6650490169408635, -2.3902605775371946, 0.7147583929606929, 0.11896721666819543, -0.8028148154089121, 1.6952701768643617, -2.7763997397425295, -0.01340515185356433, 1.7784608524477292, -0.2885044914699736, 1.0466215220208286, -0.9043684133288886, -0.6042356903023718, -1.6847822028654627, 1.5297218731150697, 1.3415136153615916, -0.37716657605716297, -1.0494981799232466, -0.500402274016725, -1.2181761971009173, -1.776210252204733, -0.3968897194559243, -0.322374690719606, -0.4012294945234382, 2.035203464686686, 1.1016567270559787, -0.14018196572980843, 1.467813159453069, 1.3809154248444366, -0.08205647775417348, -0.36341565920138735, 0.07233594739972496, -1.0583568734506534, 0.5560235499153585, 2.176848979597883, 0.9596586425683493, -0.3407743636640172, -1.7348677657723248, 1.3577160606563694, 0.05361173356677967, -1.3718095272286817, 0.871112952667962, 1.885708131400474, 0.2170343177318166, -0.46920835974248226, 1.3866627336967794, -0.6302221497234748, 0.5301234274057091, -1.0564523821783804, -0.276707432201371, 0.15170855981121262, 0.43436907082471166, 0.4744302146164032, -0.405764320028978, 1.0481786716642518, 0.11106210546013959, -1.5355277427466816, -0.045065170946819125, 1.1894829955165938, -0.6775899242032235, 0.5791523631524266, 0.9636909001251861, 0.3592607945727012, 1.0994552085095473, 0.8899020832464846, 0.6136225224274325, 0.6338374255363178, 0.0729077581586196, -0.8213726655976707, 0.06228745285536487, 0.5290657124345663, 0.13750720436213548, -1.2011407826241554, -0.21817446269581114, 0.47476188782199336, 0.3260651872156575, -0.36511298792012614, -0.6194016745901185, 0.49622265016446104, -1.4253888279048446, 0.6925910212982547, -1.1932783398603268, -0.3783372011436178, 0.39282058649038537, 0.006989733582659156, 0.2866238712221347], \"yaxis\": \"y8\"}, {\"line\": {\"color\": \"rgba(128, 128, 128, 1.0)\", \"dash\": \"solid\", \"shape\": \"linear\", \"width\": 1.3}, \"marker\": {\"size\": 2, \"symbol\": \"circle\"}, \"mode\": \"markers\", \"name\": \"C\", \"text\": \"\", \"type\": \"scatter\", \"x\": [0.6451627172498443, -0.6469131036903166, 0.07282760997978965, -0.39996672688275203, 1.27888605560903, 0.176984719501775, -0.3478450711317554, 1.1669800856100079, -1.1509471161286047, -0.4042239505584384, 2.647907647993073, 0.36715327003169484, 0.8432767828805269, -0.03464740419409103, 1.076977486712486, 0.8436970449566027, -0.7334470538578574, -1.2853302266665863, 1.5173632050074661, 0.54034616538293, -0.12868533708843397, -0.2645198777318922, -1.2398657992294475, -0.18530651824974842, 1.5742851271891127, 0.7450361771271075, -1.4086085803396364, 0.14499502944366194, 7.98357974058988e-05, 0.2015099522526723, 0.5197852516643461, 0.8137691135724868, -0.7898519062290008, -0.2350610039304626, -0.47805951650580386, 0.7420069762630155, -0.884344286449463, 0.4881141842478061, 0.2539682741135712, -0.2415755237551213, 0.19379602987412708, -0.46794198489183425, -0.05582823809394771, -0.1722137535156207, 0.8219202690922193, -2.960368117506735, -0.5735579419165826, 0.23185189552088065, -1.5476457212277288, -0.7318010309338864, 0.4276163168061164, 0.7076939313668328, 0.9103248805933472, -0.6350650519263663, -0.7846590711619182, 0.5066197590616859, 0.9475847712991983, 1.4855797887769817, -0.5176716456152829, -1.9365130236965, -2.2657350481435565, 1.740096036056405, 1.8796902458539129, -0.6503568376832136, -1.1063832718418674, 0.5540253031028719, -0.2255018506179424, -0.22246662275393148, 0.3796040910645512, 0.641004515444166, -1.5257174213827545, 0.5582632071338453, 0.7434395855922672, -0.6429138846665017, -1.1470053481199076, -0.058408415132721984, -0.087271021946233, -0.11490851526832321, 0.09478161319117837, -0.06806715841681621, -0.9642493190741217, -0.008786798402462295, 0.6396834488805198, -0.3259564250417379, 0.5002594604189721, 1.6301959446629615, 0.4764493472735545, -0.5917483321647256, 1.3687335513621266, 1.427544217794121, -0.6919940853120521, -2.0309623995200567, -0.8535043207183718, -0.7453142827178897, 1.4886049411007722, 1.376550678415612, 0.4662319719767733, 1.0996702131134612, -0.4293423418754007, -0.15580447473223744], \"xaxis\": \"x9\", \"y\": [-2.4597558841561376, -0.25612831918329276, -0.5556432423505464, 1.5719125420582611, 0.1756348227647707, -0.20787974004490684, -1.1804410764024933, -0.5312868779711168, -0.4078866997463861, 0.5860159964895477, 0.7408819326226342, -1.5516353400899212, 0.011753611907605288, 1.7414493383095122, 0.27815259710444423, 2.474951334950332, -0.48024684290733194, -1.750297459656668, 1.5853048172825461, 1.200970645338648, -0.3031780648207232, 0.31559444796827735, -2.233051626084782, -0.9001191305430065, 0.04739045649222937, -0.039857486014513506, -0.05910207017522971, 0.5102530415641159, 1.537633352540184, 0.46177696274320845, -0.41264891452785424, 1.1277702825198632, 0.5027387688027031, 0.7104346189535233, 1.033512117826647, 0.3294975408608201, -0.6917907375784007, -1.0169067378253223, -0.4403938055829562, -1.3805933393318, 0.16799807359569888, -1.900371237857673, -0.1871993261633628, 0.9827692273544065, -0.08963517578573571, -1.2929055196516321, -0.6071633146853714, 0.28237343538191645, 0.1583314717928452, -0.7032927397033915, 2.555347992000724, -1.6880150569030183, -0.2785725493876687, -1.1013739311690487, 0.6623226771439492, -0.8205693085309352, -0.588354638051842, 1.5927283688153226, -0.5831702498657858, -0.22790498925726102, 1.2599065714631927, -1.7761842943004362, 0.545034971916597, 0.36090131043614854, -0.5076939808290266, -0.3243923890316534, -1.3297812002745961, 2.311702506355346, 1.2193360682370216, 0.6828425791494181, -0.1906076376927126, -0.8681128655794245, 0.7448988430340105, -0.6579236709764863, -1.7924837112374212, 0.47018766510455845, -1.6197259000015807, -1.7073382433242896, -0.724504306345858, 0.6419768151484063, -0.21995670775715367, -0.2590131479030925, 1.6576200602225355, -0.48852628900249734, 1.42675925338554, -0.7175671934746836, -0.2530830755523376, 2.0781104443498597, -0.7445834237026752, 0.13877003785691952, 0.6234391485758937, -1.607446405057749, 1.1537435684456776, 0.8966133236908, -0.7973870470526314, -0.14892621345235224, -2.1311067070678793, 0.920268296472396, 0.08382527444972127, -1.5030515755624567], \"yaxis\": \"y9\"}, {\"line\": {\"color\": \"rgba(128, 128, 128, 1.0)\", \"dash\": \"solid\", \"shape\": \"linear\", \"width\": 1.3}, \"marker\": {\"size\": 2, \"symbol\": \"circle\"}, \"mode\": \"markers\", \"name\": \"C\", \"text\": \"\", \"type\": \"scatter\", \"x\": [0.5349692410513225, -1.014328904542226, 0.2229060005876184, -1.7581772675544798, 0.37231115079283594, 0.579264731188161, 0.5718854242262145, -0.700421563136451, -0.6925810383508683, 0.4790117557619783, 0.24442530830143844, 0.764748398677337, 1.754347313478873, -0.40762244722224095, 0.6650490169408635, -2.3902605775371946, 0.7147583929606929, 0.11896721666819543, -0.8028148154089121, 1.6952701768643617, -2.7763997397425295, -0.01340515185356433, 1.7784608524477292, -0.2885044914699736, 1.0466215220208286, -0.9043684133288886, -0.6042356903023718, -1.6847822028654627, 1.5297218731150697, 1.3415136153615916, -0.37716657605716297, -1.0494981799232466, -0.500402274016725, -1.2181761971009173, -1.776210252204733, -0.3968897194559243, -0.322374690719606, -0.4012294945234382, 2.035203464686686, 1.1016567270559787, -0.14018196572980843, 1.467813159453069, 1.3809154248444366, -0.08205647775417348, -0.36341565920138735, 0.07233594739972496, -1.0583568734506534, 0.5560235499153585, 2.176848979597883, 0.9596586425683493, -0.3407743636640172, -1.7348677657723248, 1.3577160606563694, 0.05361173356677967, -1.3718095272286817, 0.871112952667962, 1.885708131400474, 0.2170343177318166, -0.46920835974248226, 1.3866627336967794, -0.6302221497234748, 0.5301234274057091, -1.0564523821783804, -0.276707432201371, 0.15170855981121262, 0.43436907082471166, 0.4744302146164032, -0.405764320028978, 1.0481786716642518, 0.11106210546013959, -1.5355277427466816, -0.045065170946819125, 1.1894829955165938, -0.6775899242032235, 0.5791523631524266, 0.9636909001251861, 0.3592607945727012, 1.0994552085095473, 0.8899020832464846, 0.6136225224274325, 0.6338374255363178, 0.0729077581586196, -0.8213726655976707, 0.06228745285536487, 0.5290657124345663, 0.13750720436213548, -1.2011407826241554, -0.21817446269581114, 0.47476188782199336, 0.3260651872156575, -0.36511298792012614, -0.6194016745901185, 0.49622265016446104, -1.4253888279048446, 0.6925910212982547, -1.1932783398603268, -0.3783372011436178, 0.39282058649038537, 0.006989733582659156, 0.2866238712221347], \"xaxis\": \"x10\", \"y\": [-2.4597558841561376, -0.25612831918329276, -0.5556432423505464, 1.5719125420582611, 0.1756348227647707, -0.20787974004490684, -1.1804410764024933, -0.5312868779711168, -0.4078866997463861, 0.5860159964895477, 0.7408819326226342, -1.5516353400899212, 0.011753611907605288, 1.7414493383095122, 0.27815259710444423, 2.474951334950332, -0.48024684290733194, -1.750297459656668, 1.5853048172825461, 1.200970645338648, -0.3031780648207232, 0.31559444796827735, -2.233051626084782, -0.9001191305430065, 0.04739045649222937, -0.039857486014513506, -0.05910207017522971, 0.5102530415641159, 1.537633352540184, 0.46177696274320845, -0.41264891452785424, 1.1277702825198632, 0.5027387688027031, 0.7104346189535233, 1.033512117826647, 0.3294975408608201, -0.6917907375784007, -1.0169067378253223, -0.4403938055829562, -1.3805933393318, 0.16799807359569888, -1.900371237857673, -0.1871993261633628, 0.9827692273544065, -0.08963517578573571, -1.2929055196516321, -0.6071633146853714, 0.28237343538191645, 0.1583314717928452, -0.7032927397033915, 2.555347992000724, -1.6880150569030183, -0.2785725493876687, -1.1013739311690487, 0.6623226771439492, -0.8205693085309352, -0.588354638051842, 1.5927283688153226, -0.5831702498657858, -0.22790498925726102, 1.2599065714631927, -1.7761842943004362, 0.545034971916597, 0.36090131043614854, -0.5076939808290266, -0.3243923890316534, -1.3297812002745961, 2.311702506355346, 1.2193360682370216, 0.6828425791494181, -0.1906076376927126, -0.8681128655794245, 0.7448988430340105, -0.6579236709764863, -1.7924837112374212, 0.47018766510455845, -1.6197259000015807, -1.7073382433242896, -0.724504306345858, 0.6419768151484063, -0.21995670775715367, -0.2590131479030925, 1.6576200602225355, -0.48852628900249734, 1.42675925338554, -0.7175671934746836, -0.2530830755523376, 2.0781104443498597, -0.7445834237026752, 0.13877003785691952, 0.6234391485758937, -1.607446405057749, 1.1537435684456776, 0.8966133236908, -0.7973870470526314, -0.14892621345235224, -2.1311067070678793, 0.920268296472396, 0.08382527444972127, -1.5030515755624567], \"yaxis\": \"y10\"}, {\"histfunc\": \"count\", \"histnorm\": \"\", \"marker\": {\"color\": \"rgba(50, 171, 96, 1.0)\", \"line\": {\"color\": \"#4D5663\", \"width\": 1.3}}, \"name\": \"C\", \"nbinsx\": 10, \"opacity\": 0.8, \"orientation\": \"v\", \"type\": \"histogram\", \"x\": [-2.4597558841561376, -0.25612831918329276, -0.5556432423505464, 1.5719125420582611, 0.1756348227647707, -0.20787974004490684, -1.1804410764024933, -0.5312868779711168, -0.4078866997463861, 0.5860159964895477, 0.7408819326226342, -1.5516353400899212, 0.011753611907605288, 1.7414493383095122, 0.27815259710444423, 2.474951334950332, -0.48024684290733194, -1.750297459656668, 1.5853048172825461, 1.200970645338648, -0.3031780648207232, 0.31559444796827735, -2.233051626084782, -0.9001191305430065, 0.04739045649222937, -0.039857486014513506, -0.05910207017522971, 0.5102530415641159, 1.537633352540184, 0.46177696274320845, -0.41264891452785424, 1.1277702825198632, 0.5027387688027031, 0.7104346189535233, 1.033512117826647, 0.3294975408608201, -0.6917907375784007, -1.0169067378253223, -0.4403938055829562, -1.3805933393318, 0.16799807359569888, -1.900371237857673, -0.1871993261633628, 0.9827692273544065, -0.08963517578573571, -1.2929055196516321, -0.6071633146853714, 0.28237343538191645, 0.1583314717928452, -0.7032927397033915, 2.555347992000724, -1.6880150569030183, -0.2785725493876687, -1.1013739311690487, 0.6623226771439492, -0.8205693085309352, -0.588354638051842, 1.5927283688153226, -0.5831702498657858, -0.22790498925726102, 1.2599065714631927, -1.7761842943004362, 0.545034971916597, 0.36090131043614854, -0.5076939808290266, -0.3243923890316534, -1.3297812002745961, 2.311702506355346, 1.2193360682370216, 0.6828425791494181, -0.1906076376927126, -0.8681128655794245, 0.7448988430340105, -0.6579236709764863, -1.7924837112374212, 0.47018766510455845, -1.6197259000015807, -1.7073382433242896, -0.724504306345858, 0.6419768151484063, -0.21995670775715367, -0.2590131479030925, 1.6576200602225355, -0.48852628900249734, 1.42675925338554, -0.7175671934746836, -0.2530830755523376, 2.0781104443498597, -0.7445834237026752, 0.13877003785691952, 0.6234391485758937, -1.607446405057749, 1.1537435684456776, 0.8966133236908, -0.7973870470526314, -0.14892621345235224, -2.1311067070678793, 0.920268296472396, 0.08382527444972127, -1.5030515755624567], \"xaxis\": \"x11\", \"yaxis\": \"y11\"}, {\"line\": {\"color\": \"rgba(128, 128, 128, 1.0)\", \"dash\": \"solid\", \"shape\": \"linear\", \"width\": 1.3}, \"marker\": {\"size\": 2, \"symbol\": \"circle\"}, \"mode\": \"markers\", \"name\": \"C\", \"text\": \"\", \"type\": \"scatter\", \"x\": [1.4515960062429498, -1.0996528790784628, -0.05519451058969665, -0.3000666884057858, -1.635594250299254, 0.9982665169431799, 0.21669622164774988, 2.237760157267246, 1.0098663134461239, 1.7569360213364698, 2.3529734403731917, -0.9365340328132902, 1.1788816781069953, 1.2030173909786013, 0.6661075539763056, 0.7462598875174838, -0.52082363346683, 0.6157897978691311, 1.5762511555992542, -1.6719576659354898, 2.1176129255658114, 0.27777187813053644, -0.7530439340806951, 0.38988479802782083, 0.06490886018385818, 1.311286137550827, 0.9025532954653424, -0.5080688835319959, -1.266335149314364, -0.8015890647652826, -1.4565069801134716, 1.707845390557557, -0.7927321911983622, 1.0964781966777206, -0.4155883056013634, 1.877111636012416, -0.6945690896898014, 1.1237086768801954, 0.1588095359434408, 1.5428863006874953, -0.07488743440760345, 0.15002666714724433, -1.703532195864785, 1.148596451623574, -0.30382215853343697, 1.104000089625292, 0.7414487599495074, -0.9352259331213219, -0.3240797451387703, -0.11929806940820019, -0.749245085936551, 0.565105182595519, -1.0111454802077893, 0.004913849078758671, 0.6813892603051228, -1.926232058690583, 1.2108628717733905, 0.3914145008197205, -0.7475250801084509, -0.8408524564227896, 0.6443245958756524, 1.1264075424692905, 1.3152124543122368, 0.247101977437702, -1.4386087318897485, 1.217173129212074, -1.709094707471033, -0.8862845178952976, 0.24102935927643757, 1.1458962315296832, 1.579335842163161, 0.5157906540202216, -0.822026027651455, -0.33304414799336535, 0.37430038152038647, 0.24706102143560815, -1.9281092160486888, 0.4942174706641176, 0.05028874125161767, -1.0014471675925771, -0.15485789472414488, -2.081297400501267, 1.92036252683853, 0.8138242459817406, 0.7703236784058662, 0.10770445167170967, -0.3920501835452438, 0.7398598503797754, -0.5732150838919354, 1.1854545937174683, 1.3774998138914087, 0.1414661391052091, -0.18149088788586246, 0.7112909521534992, -0.1105666314184864, 1.0265009751410454, 2.1765293909434904, 0.44033766067018654, -0.0449197507202439, 0.6374567733719833], \"xaxis\": \"x12\", \"y\": [-2.4597558841561376, -0.25612831918329276, -0.5556432423505464, 1.5719125420582611, 0.1756348227647707, -0.20787974004490684, -1.1804410764024933, -0.5312868779711168, -0.4078866997463861, 0.5860159964895477, 0.7408819326226342, -1.5516353400899212, 0.011753611907605288, 1.7414493383095122, 0.27815259710444423, 2.474951334950332, -0.48024684290733194, -1.750297459656668, 1.5853048172825461, 1.200970645338648, -0.3031780648207232, 0.31559444796827735, -2.233051626084782, -0.9001191305430065, 0.04739045649222937, -0.039857486014513506, -0.05910207017522971, 0.5102530415641159, 1.537633352540184, 0.46177696274320845, -0.41264891452785424, 1.1277702825198632, 0.5027387688027031, 0.7104346189535233, 1.033512117826647, 0.3294975408608201, -0.6917907375784007, -1.0169067378253223, -0.4403938055829562, -1.3805933393318, 0.16799807359569888, -1.900371237857673, -0.1871993261633628, 0.9827692273544065, -0.08963517578573571, -1.2929055196516321, -0.6071633146853714, 0.28237343538191645, 0.1583314717928452, -0.7032927397033915, 2.555347992000724, -1.6880150569030183, -0.2785725493876687, -1.1013739311690487, 0.6623226771439492, -0.8205693085309352, -0.588354638051842, 1.5927283688153226, -0.5831702498657858, -0.22790498925726102, 1.2599065714631927, -1.7761842943004362, 0.545034971916597, 0.36090131043614854, -0.5076939808290266, -0.3243923890316534, -1.3297812002745961, 2.311702506355346, 1.2193360682370216, 0.6828425791494181, -0.1906076376927126, -0.8681128655794245, 0.7448988430340105, -0.6579236709764863, -1.7924837112374212, 0.47018766510455845, -1.6197259000015807, -1.7073382433242896, -0.724504306345858, 0.6419768151484063, -0.21995670775715367, -0.2590131479030925, 1.6576200602225355, -0.48852628900249734, 1.42675925338554, -0.7175671934746836, -0.2530830755523376, 2.0781104443498597, -0.7445834237026752, 0.13877003785691952, 0.6234391485758937, -1.607446405057749, 1.1537435684456776, 0.8966133236908, -0.7973870470526314, -0.14892621345235224, -2.1311067070678793, 0.920268296472396, 0.08382527444972127, -1.5030515755624567], \"yaxis\": \"y12\"}, {\"line\": {\"color\": \"rgba(128, 128, 128, 1.0)\", \"dash\": \"solid\", \"shape\": \"linear\", \"width\": 1.3}, \"marker\": {\"size\": 2, \"symbol\": \"circle\"}, \"mode\": \"markers\", \"name\": \"D\", \"text\": \"\", \"type\": \"scatter\", \"x\": [0.6451627172498443, -0.6469131036903166, 0.07282760997978965, -0.39996672688275203, 1.27888605560903, 0.176984719501775, -0.3478450711317554, 1.1669800856100079, -1.1509471161286047, -0.4042239505584384, 2.647907647993073, 0.36715327003169484, 0.8432767828805269, -0.03464740419409103, 1.076977486712486, 0.8436970449566027, -0.7334470538578574, -1.2853302266665863, 1.5173632050074661, 0.54034616538293, -0.12868533708843397, -0.2645198777318922, -1.2398657992294475, -0.18530651824974842, 1.5742851271891127, 0.7450361771271075, -1.4086085803396364, 0.14499502944366194, 7.98357974058988e-05, 0.2015099522526723, 0.5197852516643461, 0.8137691135724868, -0.7898519062290008, -0.2350610039304626, -0.47805951650580386, 0.7420069762630155, -0.884344286449463, 0.4881141842478061, 0.2539682741135712, -0.2415755237551213, 0.19379602987412708, -0.46794198489183425, -0.05582823809394771, -0.1722137535156207, 0.8219202690922193, -2.960368117506735, -0.5735579419165826, 0.23185189552088065, -1.5476457212277288, -0.7318010309338864, 0.4276163168061164, 0.7076939313668328, 0.9103248805933472, -0.6350650519263663, -0.7846590711619182, 0.5066197590616859, 0.9475847712991983, 1.4855797887769817, -0.5176716456152829, -1.9365130236965, -2.2657350481435565, 1.740096036056405, 1.8796902458539129, -0.6503568376832136, -1.1063832718418674, 0.5540253031028719, -0.2255018506179424, -0.22246662275393148, 0.3796040910645512, 0.641004515444166, -1.5257174213827545, 0.5582632071338453, 0.7434395855922672, -0.6429138846665017, -1.1470053481199076, -0.058408415132721984, -0.087271021946233, -0.11490851526832321, 0.09478161319117837, -0.06806715841681621, -0.9642493190741217, -0.008786798402462295, 0.6396834488805198, -0.3259564250417379, 0.5002594604189721, 1.6301959446629615, 0.4764493472735545, -0.5917483321647256, 1.3687335513621266, 1.427544217794121, -0.6919940853120521, -2.0309623995200567, -0.8535043207183718, -0.7453142827178897, 1.4886049411007722, 1.376550678415612, 0.4662319719767733, 1.0996702131134612, -0.4293423418754007, -0.15580447473223744], \"xaxis\": \"x13\", \"y\": [1.4515960062429498, -1.0996528790784628, -0.05519451058969665, -0.3000666884057858, -1.635594250299254, 0.9982665169431799, 0.21669622164774988, 2.237760157267246, 1.0098663134461239, 1.7569360213364698, 2.3529734403731917, -0.9365340328132902, 1.1788816781069953, 1.2030173909786013, 0.6661075539763056, 0.7462598875174838, -0.52082363346683, 0.6157897978691311, 1.5762511555992542, -1.6719576659354898, 2.1176129255658114, 0.27777187813053644, -0.7530439340806951, 0.38988479802782083, 0.06490886018385818, 1.311286137550827, 0.9025532954653424, -0.5080688835319959, -1.266335149314364, -0.8015890647652826, -1.4565069801134716, 1.707845390557557, -0.7927321911983622, 1.0964781966777206, -0.4155883056013634, 1.877111636012416, -0.6945690896898014, 1.1237086768801954, 0.1588095359434408, 1.5428863006874953, -0.07488743440760345, 0.15002666714724433, -1.703532195864785, 1.148596451623574, -0.30382215853343697, 1.104000089625292, 0.7414487599495074, -0.9352259331213219, -0.3240797451387703, -0.11929806940820019, -0.749245085936551, 0.565105182595519, -1.0111454802077893, 0.004913849078758671, 0.6813892603051228, -1.926232058690583, 1.2108628717733905, 0.3914145008197205, -0.7475250801084509, -0.8408524564227896, 0.6443245958756524, 1.1264075424692905, 1.3152124543122368, 0.247101977437702, -1.4386087318897485, 1.217173129212074, -1.709094707471033, -0.8862845178952976, 0.24102935927643757, 1.1458962315296832, 1.579335842163161, 0.5157906540202216, -0.822026027651455, -0.33304414799336535, 0.37430038152038647, 0.24706102143560815, -1.9281092160486888, 0.4942174706641176, 0.05028874125161767, -1.0014471675925771, -0.15485789472414488, -2.081297400501267, 1.92036252683853, 0.8138242459817406, 0.7703236784058662, 0.10770445167170967, -0.3920501835452438, 0.7398598503797754, -0.5732150838919354, 1.1854545937174683, 1.3774998138914087, 0.1414661391052091, -0.18149088788586246, 0.7112909521534992, -0.1105666314184864, 1.0265009751410454, 2.1765293909434904, 0.44033766067018654, -0.0449197507202439, 0.6374567733719833], \"yaxis\": \"y13\"}, {\"line\": {\"color\": \"rgba(128, 128, 128, 1.0)\", \"dash\": \"solid\", \"shape\": \"linear\", \"width\": 1.3}, \"marker\": {\"size\": 2, \"symbol\": \"circle\"}, \"mode\": \"markers\", \"name\": \"D\", \"text\": \"\", \"type\": \"scatter\", \"x\": [0.5349692410513225, -1.014328904542226, 0.2229060005876184, -1.7581772675544798, 0.37231115079283594, 0.579264731188161, 0.5718854242262145, -0.700421563136451, -0.6925810383508683, 0.4790117557619783, 0.24442530830143844, 0.764748398677337, 1.754347313478873, -0.40762244722224095, 0.6650490169408635, -2.3902605775371946, 0.7147583929606929, 0.11896721666819543, -0.8028148154089121, 1.6952701768643617, -2.7763997397425295, -0.01340515185356433, 1.7784608524477292, -0.2885044914699736, 1.0466215220208286, -0.9043684133288886, -0.6042356903023718, -1.6847822028654627, 1.5297218731150697, 1.3415136153615916, -0.37716657605716297, -1.0494981799232466, -0.500402274016725, -1.2181761971009173, -1.776210252204733, -0.3968897194559243, -0.322374690719606, -0.4012294945234382, 2.035203464686686, 1.1016567270559787, -0.14018196572980843, 1.467813159453069, 1.3809154248444366, -0.08205647775417348, -0.36341565920138735, 0.07233594739972496, -1.0583568734506534, 0.5560235499153585, 2.176848979597883, 0.9596586425683493, -0.3407743636640172, -1.7348677657723248, 1.3577160606563694, 0.05361173356677967, -1.3718095272286817, 0.871112952667962, 1.885708131400474, 0.2170343177318166, -0.46920835974248226, 1.3866627336967794, -0.6302221497234748, 0.5301234274057091, -1.0564523821783804, -0.276707432201371, 0.15170855981121262, 0.43436907082471166, 0.4744302146164032, -0.405764320028978, 1.0481786716642518, 0.11106210546013959, -1.5355277427466816, -0.045065170946819125, 1.1894829955165938, -0.6775899242032235, 0.5791523631524266, 0.9636909001251861, 0.3592607945727012, 1.0994552085095473, 0.8899020832464846, 0.6136225224274325, 0.6338374255363178, 0.0729077581586196, -0.8213726655976707, 0.06228745285536487, 0.5290657124345663, 0.13750720436213548, -1.2011407826241554, -0.21817446269581114, 0.47476188782199336, 0.3260651872156575, -0.36511298792012614, -0.6194016745901185, 0.49622265016446104, -1.4253888279048446, 0.6925910212982547, -1.1932783398603268, -0.3783372011436178, 0.39282058649038537, 0.006989733582659156, 0.2866238712221347], \"xaxis\": \"x14\", \"y\": [1.4515960062429498, -1.0996528790784628, -0.05519451058969665, -0.3000666884057858, -1.635594250299254, 0.9982665169431799, 0.21669622164774988, 2.237760157267246, 1.0098663134461239, 1.7569360213364698, 2.3529734403731917, -0.9365340328132902, 1.1788816781069953, 1.2030173909786013, 0.6661075539763056, 0.7462598875174838, -0.52082363346683, 0.6157897978691311, 1.5762511555992542, -1.6719576659354898, 2.1176129255658114, 0.27777187813053644, -0.7530439340806951, 0.38988479802782083, 0.06490886018385818, 1.311286137550827, 0.9025532954653424, -0.5080688835319959, -1.266335149314364, -0.8015890647652826, -1.4565069801134716, 1.707845390557557, -0.7927321911983622, 1.0964781966777206, -0.4155883056013634, 1.877111636012416, -0.6945690896898014, 1.1237086768801954, 0.1588095359434408, 1.5428863006874953, -0.07488743440760345, 0.15002666714724433, -1.703532195864785, 1.148596451623574, -0.30382215853343697, 1.104000089625292, 0.7414487599495074, -0.9352259331213219, -0.3240797451387703, -0.11929806940820019, -0.749245085936551, 0.565105182595519, -1.0111454802077893, 0.004913849078758671, 0.6813892603051228, -1.926232058690583, 1.2108628717733905, 0.3914145008197205, -0.7475250801084509, -0.8408524564227896, 0.6443245958756524, 1.1264075424692905, 1.3152124543122368, 0.247101977437702, -1.4386087318897485, 1.217173129212074, -1.709094707471033, -0.8862845178952976, 0.24102935927643757, 1.1458962315296832, 1.579335842163161, 0.5157906540202216, -0.822026027651455, -0.33304414799336535, 0.37430038152038647, 0.24706102143560815, -1.9281092160486888, 0.4942174706641176, 0.05028874125161767, -1.0014471675925771, -0.15485789472414488, -2.081297400501267, 1.92036252683853, 0.8138242459817406, 0.7703236784058662, 0.10770445167170967, -0.3920501835452438, 0.7398598503797754, -0.5732150838919354, 1.1854545937174683, 1.3774998138914087, 0.1414661391052091, -0.18149088788586246, 0.7112909521534992, -0.1105666314184864, 1.0265009751410454, 2.1765293909434904, 0.44033766067018654, -0.0449197507202439, 0.6374567733719833], \"yaxis\": \"y14\"}, {\"line\": {\"color\": \"rgba(128, 128, 128, 1.0)\", \"dash\": \"solid\", \"shape\": \"linear\", \"width\": 1.3}, \"marker\": {\"size\": 2, \"symbol\": \"circle\"}, \"mode\": \"markers\", \"name\": \"D\", \"text\": \"\", \"type\": \"scatter\", \"x\": [-2.4597558841561376, -0.25612831918329276, -0.5556432423505464, 1.5719125420582611, 0.1756348227647707, -0.20787974004490684, -1.1804410764024933, -0.5312868779711168, -0.4078866997463861, 0.5860159964895477, 0.7408819326226342, -1.5516353400899212, 0.011753611907605288, 1.7414493383095122, 0.27815259710444423, 2.474951334950332, -0.48024684290733194, -1.750297459656668, 1.5853048172825461, 1.200970645338648, -0.3031780648207232, 0.31559444796827735, -2.233051626084782, -0.9001191305430065, 0.04739045649222937, -0.039857486014513506, -0.05910207017522971, 0.5102530415641159, 1.537633352540184, 0.46177696274320845, -0.41264891452785424, 1.1277702825198632, 0.5027387688027031, 0.7104346189535233, 1.033512117826647, 0.3294975408608201, -0.6917907375784007, -1.0169067378253223, -0.4403938055829562, -1.3805933393318, 0.16799807359569888, -1.900371237857673, -0.1871993261633628, 0.9827692273544065, -0.08963517578573571, -1.2929055196516321, -0.6071633146853714, 0.28237343538191645, 0.1583314717928452, -0.7032927397033915, 2.555347992000724, -1.6880150569030183, -0.2785725493876687, -1.1013739311690487, 0.6623226771439492, -0.8205693085309352, -0.588354638051842, 1.5927283688153226, -0.5831702498657858, -0.22790498925726102, 1.2599065714631927, -1.7761842943004362, 0.545034971916597, 0.36090131043614854, -0.5076939808290266, -0.3243923890316534, -1.3297812002745961, 2.311702506355346, 1.2193360682370216, 0.6828425791494181, -0.1906076376927126, -0.8681128655794245, 0.7448988430340105, -0.6579236709764863, -1.7924837112374212, 0.47018766510455845, -1.6197259000015807, -1.7073382433242896, -0.724504306345858, 0.6419768151484063, -0.21995670775715367, -0.2590131479030925, 1.6576200602225355, -0.48852628900249734, 1.42675925338554, -0.7175671934746836, -0.2530830755523376, 2.0781104443498597, -0.7445834237026752, 0.13877003785691952, 0.6234391485758937, -1.607446405057749, 1.1537435684456776, 0.8966133236908, -0.7973870470526314, -0.14892621345235224, -2.1311067070678793, 0.920268296472396, 0.08382527444972127, -1.5030515755624567], \"xaxis\": \"x15\", \"y\": [1.4515960062429498, -1.0996528790784628, -0.05519451058969665, -0.3000666884057858, -1.635594250299254, 0.9982665169431799, 0.21669622164774988, 2.237760157267246, 1.0098663134461239, 1.7569360213364698, 2.3529734403731917, -0.9365340328132902, 1.1788816781069953, 1.2030173909786013, 0.6661075539763056, 0.7462598875174838, -0.52082363346683, 0.6157897978691311, 1.5762511555992542, -1.6719576659354898, 2.1176129255658114, 0.27777187813053644, -0.7530439340806951, 0.38988479802782083, 0.06490886018385818, 1.311286137550827, 0.9025532954653424, -0.5080688835319959, -1.266335149314364, -0.8015890647652826, -1.4565069801134716, 1.707845390557557, -0.7927321911983622, 1.0964781966777206, -0.4155883056013634, 1.877111636012416, -0.6945690896898014, 1.1237086768801954, 0.1588095359434408, 1.5428863006874953, -0.07488743440760345, 0.15002666714724433, -1.703532195864785, 1.148596451623574, -0.30382215853343697, 1.104000089625292, 0.7414487599495074, -0.9352259331213219, -0.3240797451387703, -0.11929806940820019, -0.749245085936551, 0.565105182595519, -1.0111454802077893, 0.004913849078758671, 0.6813892603051228, -1.926232058690583, 1.2108628717733905, 0.3914145008197205, -0.7475250801084509, -0.8408524564227896, 0.6443245958756524, 1.1264075424692905, 1.3152124543122368, 0.247101977437702, -1.4386087318897485, 1.217173129212074, -1.709094707471033, -0.8862845178952976, 0.24102935927643757, 1.1458962315296832, 1.579335842163161, 0.5157906540202216, -0.822026027651455, -0.33304414799336535, 0.37430038152038647, 0.24706102143560815, -1.9281092160486888, 0.4942174706641176, 0.05028874125161767, -1.0014471675925771, -0.15485789472414488, -2.081297400501267, 1.92036252683853, 0.8138242459817406, 0.7703236784058662, 0.10770445167170967, -0.3920501835452438, 0.7398598503797754, -0.5732150838919354, 1.1854545937174683, 1.3774998138914087, 0.1414661391052091, -0.18149088788586246, 0.7112909521534992, -0.1105666314184864, 1.0265009751410454, 2.1765293909434904, 0.44033766067018654, -0.0449197507202439, 0.6374567733719833], \"yaxis\": \"y15\"}, {\"histfunc\": \"count\", \"histnorm\": \"\", \"marker\": {\"color\": \"rgba(128, 0, 128, 1.0)\", \"line\": {\"color\": \"#4D5663\", \"width\": 1.3}}, \"name\": \"D\", \"nbinsx\": 10, \"opacity\": 0.8, \"orientation\": \"v\", \"type\": \"histogram\", \"x\": [1.4515960062429498, -1.0996528790784628, -0.05519451058969665, -0.3000666884057858, -1.635594250299254, 0.9982665169431799, 0.21669622164774988, 2.237760157267246, 1.0098663134461239, 1.7569360213364698, 2.3529734403731917, -0.9365340328132902, 1.1788816781069953, 1.2030173909786013, 0.6661075539763056, 0.7462598875174838, -0.52082363346683, 0.6157897978691311, 1.5762511555992542, -1.6719576659354898, 2.1176129255658114, 0.27777187813053644, -0.7530439340806951, 0.38988479802782083, 0.06490886018385818, 1.311286137550827, 0.9025532954653424, -0.5080688835319959, -1.266335149314364, -0.8015890647652826, -1.4565069801134716, 1.707845390557557, -0.7927321911983622, 1.0964781966777206, -0.4155883056013634, 1.877111636012416, -0.6945690896898014, 1.1237086768801954, 0.1588095359434408, 1.5428863006874953, -0.07488743440760345, 0.15002666714724433, -1.703532195864785, 1.148596451623574, -0.30382215853343697, 1.104000089625292, 0.7414487599495074, -0.9352259331213219, -0.3240797451387703, -0.11929806940820019, -0.749245085936551, 0.565105182595519, -1.0111454802077893, 0.004913849078758671, 0.6813892603051228, -1.926232058690583, 1.2108628717733905, 0.3914145008197205, -0.7475250801084509, -0.8408524564227896, 0.6443245958756524, 1.1264075424692905, 1.3152124543122368, 0.247101977437702, -1.4386087318897485, 1.217173129212074, -1.709094707471033, -0.8862845178952976, 0.24102935927643757, 1.1458962315296832, 1.579335842163161, 0.5157906540202216, -0.822026027651455, -0.33304414799336535, 0.37430038152038647, 0.24706102143560815, -1.9281092160486888, 0.4942174706641176, 0.05028874125161767, -1.0014471675925771, -0.15485789472414488, -2.081297400501267, 1.92036252683853, 0.8138242459817406, 0.7703236784058662, 0.10770445167170967, -0.3920501835452438, 0.7398598503797754, -0.5732150838919354, 1.1854545937174683, 1.3774998138914087, 0.1414661391052091, -0.18149088788586246, 0.7112909521534992, -0.1105666314184864, 1.0265009751410454, 2.1765293909434904, 0.44033766067018654, -0.0449197507202439, 0.6374567733719833], \"xaxis\": \"x16\", \"yaxis\": \"y16\"}],\n",
       "                        {\"bargap\": 0.02, \"legend\": {\"bgcolor\": \"#F5F6F9\", \"font\": {\"color\": \"#4D5663\"}}, \"paper_bgcolor\": \"#F5F6F9\", \"plot_bgcolor\": \"#F5F6F9\", \"showlegend\": false, \"template\": {\"data\": {\"bar\": [{\"error_x\": {\"color\": \"#2a3f5f\"}, \"error_y\": {\"color\": \"#2a3f5f\"}, \"marker\": {\"line\": {\"color\": \"#E5ECF6\", \"width\": 0.5}}, \"type\": \"bar\"}], \"barpolar\": [{\"marker\": {\"line\": {\"color\": \"#E5ECF6\", \"width\": 0.5}}, \"type\": \"barpolar\"}], \"carpet\": [{\"aaxis\": {\"endlinecolor\": \"#2a3f5f\", \"gridcolor\": \"white\", \"linecolor\": \"white\", \"minorgridcolor\": \"white\", \"startlinecolor\": \"#2a3f5f\"}, \"baxis\": {\"endlinecolor\": \"#2a3f5f\", \"gridcolor\": \"white\", \"linecolor\": \"white\", \"minorgridcolor\": \"white\", \"startlinecolor\": \"#2a3f5f\"}, \"type\": \"carpet\"}], \"choropleth\": [{\"colorbar\": {\"outlinewidth\": 0, \"ticks\": \"\"}, \"type\": \"choropleth\"}], \"contour\": [{\"colorbar\": {\"outlinewidth\": 0, \"ticks\": \"\"}, \"colorscale\": [[0.0, \"#0d0887\"], [0.1111111111111111, \"#46039f\"], [0.2222222222222222, \"#7201a8\"], [0.3333333333333333, \"#9c179e\"], [0.4444444444444444, \"#bd3786\"], [0.5555555555555556, \"#d8576b\"], [0.6666666666666666, \"#ed7953\"], [0.7777777777777778, \"#fb9f3a\"], [0.8888888888888888, \"#fdca26\"], [1.0, \"#f0f921\"]], \"type\": \"contour\"}], \"contourcarpet\": [{\"colorbar\": {\"outlinewidth\": 0, \"ticks\": \"\"}, \"type\": \"contourcarpet\"}], \"heatmap\": [{\"colorbar\": {\"outlinewidth\": 0, \"ticks\": \"\"}, \"colorscale\": [[0.0, \"#0d0887\"], [0.1111111111111111, \"#46039f\"], [0.2222222222222222, \"#7201a8\"], [0.3333333333333333, \"#9c179e\"], [0.4444444444444444, \"#bd3786\"], [0.5555555555555556, \"#d8576b\"], [0.6666666666666666, \"#ed7953\"], [0.7777777777777778, \"#fb9f3a\"], [0.8888888888888888, \"#fdca26\"], [1.0, \"#f0f921\"]], \"type\": \"heatmap\"}], \"heatmapgl\": [{\"colorbar\": {\"outlinewidth\": 0, \"ticks\": \"\"}, \"colorscale\": [[0.0, \"#0d0887\"], [0.1111111111111111, \"#46039f\"], [0.2222222222222222, \"#7201a8\"], [0.3333333333333333, \"#9c179e\"], [0.4444444444444444, \"#bd3786\"], [0.5555555555555556, \"#d8576b\"], [0.6666666666666666, \"#ed7953\"], [0.7777777777777778, \"#fb9f3a\"], [0.8888888888888888, \"#fdca26\"], [1.0, \"#f0f921\"]], \"type\": \"heatmapgl\"}], \"histogram\": [{\"marker\": {\"colorbar\": {\"outlinewidth\": 0, \"ticks\": \"\"}}, \"type\": \"histogram\"}], \"histogram2d\": [{\"colorbar\": {\"outlinewidth\": 0, \"ticks\": \"\"}, \"colorscale\": [[0.0, \"#0d0887\"], [0.1111111111111111, \"#46039f\"], [0.2222222222222222, \"#7201a8\"], [0.3333333333333333, \"#9c179e\"], [0.4444444444444444, \"#bd3786\"], [0.5555555555555556, \"#d8576b\"], [0.6666666666666666, \"#ed7953\"], [0.7777777777777778, \"#fb9f3a\"], [0.8888888888888888, \"#fdca26\"], [1.0, \"#f0f921\"]], \"type\": \"histogram2d\"}], \"histogram2dcontour\": [{\"colorbar\": {\"outlinewidth\": 0, \"ticks\": \"\"}, \"colorscale\": [[0.0, \"#0d0887\"], [0.1111111111111111, \"#46039f\"], [0.2222222222222222, \"#7201a8\"], [0.3333333333333333, \"#9c179e\"], [0.4444444444444444, \"#bd3786\"], [0.5555555555555556, \"#d8576b\"], [0.6666666666666666, \"#ed7953\"], [0.7777777777777778, \"#fb9f3a\"], [0.8888888888888888, \"#fdca26\"], [1.0, \"#f0f921\"]], \"type\": \"histogram2dcontour\"}], \"mesh3d\": [{\"colorbar\": {\"outlinewidth\": 0, \"ticks\": \"\"}, \"type\": \"mesh3d\"}], \"parcoords\": [{\"line\": {\"colorbar\": {\"outlinewidth\": 0, \"ticks\": \"\"}}, \"type\": \"parcoords\"}], \"pie\": [{\"automargin\": true, \"type\": \"pie\"}], \"scatter\": [{\"marker\": {\"colorbar\": {\"outlinewidth\": 0, \"ticks\": \"\"}}, \"type\": \"scatter\"}], \"scatter3d\": [{\"line\": {\"colorbar\": {\"outlinewidth\": 0, \"ticks\": \"\"}}, \"marker\": {\"colorbar\": {\"outlinewidth\": 0, \"ticks\": \"\"}}, \"type\": \"scatter3d\"}], \"scattercarpet\": [{\"marker\": {\"colorbar\": {\"outlinewidth\": 0, \"ticks\": \"\"}}, \"type\": \"scattercarpet\"}], \"scattergeo\": [{\"marker\": {\"colorbar\": {\"outlinewidth\": 0, \"ticks\": \"\"}}, \"type\": \"scattergeo\"}], \"scattergl\": [{\"marker\": {\"colorbar\": {\"outlinewidth\": 0, \"ticks\": \"\"}}, \"type\": \"scattergl\"}], \"scattermapbox\": [{\"marker\": {\"colorbar\": {\"outlinewidth\": 0, \"ticks\": \"\"}}, \"type\": \"scattermapbox\"}], \"scatterpolar\": [{\"marker\": {\"colorbar\": {\"outlinewidth\": 0, \"ticks\": \"\"}}, \"type\": \"scatterpolar\"}], \"scatterpolargl\": [{\"marker\": {\"colorbar\": {\"outlinewidth\": 0, \"ticks\": \"\"}}, \"type\": \"scatterpolargl\"}], \"scatterternary\": [{\"marker\": {\"colorbar\": {\"outlinewidth\": 0, \"ticks\": \"\"}}, \"type\": \"scatterternary\"}], \"surface\": [{\"colorbar\": {\"outlinewidth\": 0, \"ticks\": \"\"}, \"colorscale\": [[0.0, \"#0d0887\"], [0.1111111111111111, \"#46039f\"], [0.2222222222222222, \"#7201a8\"], [0.3333333333333333, \"#9c179e\"], [0.4444444444444444, \"#bd3786\"], [0.5555555555555556, \"#d8576b\"], [0.6666666666666666, \"#ed7953\"], [0.7777777777777778, \"#fb9f3a\"], [0.8888888888888888, \"#fdca26\"], [1.0, \"#f0f921\"]], \"type\": \"surface\"}], \"table\": [{\"cells\": {\"fill\": {\"color\": \"#EBF0F8\"}, \"line\": {\"color\": \"white\"}}, \"header\": {\"fill\": {\"color\": \"#C8D4E3\"}, \"line\": {\"color\": \"white\"}}, \"type\": \"table\"}]}, \"layout\": {\"annotationdefaults\": {\"arrowcolor\": \"#2a3f5f\", \"arrowhead\": 0, \"arrowwidth\": 1}, \"coloraxis\": {\"colorbar\": {\"outlinewidth\": 0, \"ticks\": \"\"}}, \"colorscale\": {\"diverging\": [[0, \"#8e0152\"], [0.1, \"#c51b7d\"], [0.2, \"#de77ae\"], [0.3, \"#f1b6da\"], [0.4, \"#fde0ef\"], [0.5, \"#f7f7f7\"], [0.6, \"#e6f5d0\"], [0.7, \"#b8e186\"], [0.8, \"#7fbc41\"], [0.9, \"#4d9221\"], [1, \"#276419\"]], \"sequential\": [[0.0, \"#0d0887\"], [0.1111111111111111, \"#46039f\"], [0.2222222222222222, \"#7201a8\"], [0.3333333333333333, \"#9c179e\"], [0.4444444444444444, \"#bd3786\"], [0.5555555555555556, \"#d8576b\"], [0.6666666666666666, \"#ed7953\"], [0.7777777777777778, \"#fb9f3a\"], [0.8888888888888888, \"#fdca26\"], [1.0, \"#f0f921\"]], \"sequentialminus\": [[0.0, \"#0d0887\"], [0.1111111111111111, \"#46039f\"], [0.2222222222222222, \"#7201a8\"], [0.3333333333333333, \"#9c179e\"], [0.4444444444444444, \"#bd3786\"], [0.5555555555555556, \"#d8576b\"], [0.6666666666666666, \"#ed7953\"], [0.7777777777777778, \"#fb9f3a\"], [0.8888888888888888, \"#fdca26\"], [1.0, \"#f0f921\"]]}, \"colorway\": [\"#636efa\", \"#EF553B\", \"#00cc96\", \"#ab63fa\", \"#FFA15A\", \"#19d3f3\", \"#FF6692\", \"#B6E880\", \"#FF97FF\", \"#FECB52\"], \"font\": {\"color\": \"#2a3f5f\"}, \"geo\": {\"bgcolor\": \"white\", \"lakecolor\": \"white\", \"landcolor\": \"#E5ECF6\", \"showlakes\": true, \"showland\": true, \"subunitcolor\": \"white\"}, \"hoverlabel\": {\"align\": \"left\"}, \"hovermode\": \"closest\", \"mapbox\": {\"style\": \"light\"}, \"paper_bgcolor\": \"white\", \"plot_bgcolor\": \"#E5ECF6\", \"polar\": {\"angularaxis\": {\"gridcolor\": \"white\", \"linecolor\": \"white\", \"ticks\": \"\"}, \"bgcolor\": \"#E5ECF6\", \"radialaxis\": {\"gridcolor\": \"white\", \"linecolor\": \"white\", \"ticks\": \"\"}}, \"scene\": {\"xaxis\": {\"backgroundcolor\": \"#E5ECF6\", \"gridcolor\": \"white\", \"gridwidth\": 2, \"linecolor\": \"white\", \"showbackground\": true, \"ticks\": \"\", \"zerolinecolor\": \"white\"}, \"yaxis\": {\"backgroundcolor\": \"#E5ECF6\", \"gridcolor\": \"white\", \"gridwidth\": 2, \"linecolor\": \"white\", \"showbackground\": true, \"ticks\": \"\", \"zerolinecolor\": \"white\"}, \"zaxis\": {\"backgroundcolor\": \"#E5ECF6\", \"gridcolor\": \"white\", \"gridwidth\": 2, \"linecolor\": \"white\", \"showbackground\": true, \"ticks\": \"\", \"zerolinecolor\": \"white\"}}, \"shapedefaults\": {\"line\": {\"color\": \"#2a3f5f\"}}, \"ternary\": {\"aaxis\": {\"gridcolor\": \"white\", \"linecolor\": \"white\", \"ticks\": \"\"}, \"baxis\": {\"gridcolor\": \"white\", \"linecolor\": \"white\", \"ticks\": \"\"}, \"bgcolor\": \"#E5ECF6\", \"caxis\": {\"gridcolor\": \"white\", \"linecolor\": \"white\", \"ticks\": \"\"}}, \"title\": {\"x\": 0.05}, \"xaxis\": {\"automargin\": true, \"gridcolor\": \"white\", \"linecolor\": \"white\", \"ticks\": \"\", \"title\": {\"standoff\": 15}, \"zerolinecolor\": \"white\", \"zerolinewidth\": 2}, \"yaxis\": {\"automargin\": true, \"gridcolor\": \"white\", \"linecolor\": \"white\", \"ticks\": \"\", \"title\": {\"standoff\": 15}, \"zerolinecolor\": \"white\", \"zerolinewidth\": 2}}}, \"title\": {\"font\": {\"color\": \"#4D5663\"}}, \"xaxis\": {\"anchor\": \"y\", \"domain\": [0.0, 0.2125], \"gridcolor\": \"#E1E5ED\", \"showgrid\": false, \"tickfont\": {\"color\": \"#4D5663\"}, \"title\": {\"font\": {\"color\": \"#4D5663\"}, \"text\": \"\"}, \"zerolinecolor\": \"#E1E5ED\"}, \"xaxis10\": {\"anchor\": \"y10\", \"domain\": [0.2625, 0.475], \"gridcolor\": \"#E1E5ED\", \"showgrid\": false, \"tickfont\": {\"color\": \"#4D5663\"}, \"title\": {\"font\": {\"color\": \"#4D5663\"}, \"text\": \"\"}, \"zerolinecolor\": \"#E1E5ED\"}, \"xaxis11\": {\"anchor\": \"y11\", \"domain\": [0.525, 0.7375], \"gridcolor\": \"#E1E5ED\", \"showgrid\": false, \"tickfont\": {\"color\": \"#4D5663\"}, \"title\": {\"font\": {\"color\": \"#4D5663\"}, \"text\": \"\"}, \"zerolinecolor\": \"#E1E5ED\"}, \"xaxis12\": {\"anchor\": \"y12\", \"domain\": [0.7875, 1.0], \"gridcolor\": \"#E1E5ED\", \"showgrid\": false, \"tickfont\": {\"color\": \"#4D5663\"}, \"title\": {\"font\": {\"color\": \"#4D5663\"}, \"text\": \"\"}, \"zerolinecolor\": \"#E1E5ED\"}, \"xaxis13\": {\"anchor\": \"y13\", \"domain\": [0.0, 0.2125], \"gridcolor\": \"#E1E5ED\", \"showgrid\": false, \"tickfont\": {\"color\": \"#4D5663\"}, \"title\": {\"font\": {\"color\": \"#4D5663\"}, \"text\": \"\"}, \"zerolinecolor\": \"#E1E5ED\"}, \"xaxis14\": {\"anchor\": \"y14\", \"domain\": [0.2625, 0.475], \"gridcolor\": \"#E1E5ED\", \"showgrid\": false, \"tickfont\": {\"color\": \"#4D5663\"}, \"title\": {\"font\": {\"color\": \"#4D5663\"}, \"text\": \"\"}, \"zerolinecolor\": \"#E1E5ED\"}, \"xaxis15\": {\"anchor\": \"y15\", \"domain\": [0.525, 0.7375], \"gridcolor\": \"#E1E5ED\", \"showgrid\": false, \"tickfont\": {\"color\": \"#4D5663\"}, \"title\": {\"font\": {\"color\": \"#4D5663\"}, \"text\": \"\"}, \"zerolinecolor\": \"#E1E5ED\"}, \"xaxis16\": {\"anchor\": \"y16\", \"domain\": [0.7875, 1.0], \"gridcolor\": \"#E1E5ED\", \"showgrid\": false, \"tickfont\": {\"color\": \"#4D5663\"}, \"title\": {\"font\": {\"color\": \"#4D5663\"}, \"text\": \"\"}, \"zerolinecolor\": \"#E1E5ED\"}, \"xaxis2\": {\"anchor\": \"y2\", \"domain\": [0.2625, 0.475], \"gridcolor\": \"#E1E5ED\", \"showgrid\": false, \"tickfont\": {\"color\": \"#4D5663\"}, \"title\": {\"font\": {\"color\": \"#4D5663\"}, \"text\": \"\"}, \"zerolinecolor\": \"#E1E5ED\"}, \"xaxis3\": {\"anchor\": \"y3\", \"domain\": [0.525, 0.7375], \"gridcolor\": \"#E1E5ED\", \"showgrid\": false, \"tickfont\": {\"color\": \"#4D5663\"}, \"title\": {\"font\": {\"color\": \"#4D5663\"}, \"text\": \"\"}, \"zerolinecolor\": \"#E1E5ED\"}, \"xaxis4\": {\"anchor\": \"y4\", \"domain\": [0.7875, 1.0], \"gridcolor\": \"#E1E5ED\", \"showgrid\": false, \"tickfont\": {\"color\": \"#4D5663\"}, \"title\": {\"font\": {\"color\": \"#4D5663\"}, \"text\": \"\"}, \"zerolinecolor\": \"#E1E5ED\"}, \"xaxis5\": {\"anchor\": \"y5\", \"domain\": [0.0, 0.2125], \"gridcolor\": \"#E1E5ED\", \"showgrid\": false, \"tickfont\": {\"color\": \"#4D5663\"}, \"title\": {\"font\": {\"color\": \"#4D5663\"}, \"text\": \"\"}, \"zerolinecolor\": \"#E1E5ED\"}, \"xaxis6\": {\"anchor\": \"y6\", \"domain\": [0.2625, 0.475], \"gridcolor\": \"#E1E5ED\", \"showgrid\": false, \"tickfont\": {\"color\": \"#4D5663\"}, \"title\": {\"font\": {\"color\": \"#4D5663\"}, \"text\": \"\"}, \"zerolinecolor\": \"#E1E5ED\"}, \"xaxis7\": {\"anchor\": \"y7\", \"domain\": [0.525, 0.7375], \"gridcolor\": \"#E1E5ED\", \"showgrid\": false, \"tickfont\": {\"color\": \"#4D5663\"}, \"title\": {\"font\": {\"color\": \"#4D5663\"}, \"text\": \"\"}, \"zerolinecolor\": \"#E1E5ED\"}, \"xaxis8\": {\"anchor\": \"y8\", \"domain\": [0.7875, 1.0], \"gridcolor\": \"#E1E5ED\", \"showgrid\": false, \"tickfont\": {\"color\": \"#4D5663\"}, \"title\": {\"font\": {\"color\": \"#4D5663\"}, \"text\": \"\"}, \"zerolinecolor\": \"#E1E5ED\"}, \"xaxis9\": {\"anchor\": \"y9\", \"domain\": [0.0, 0.2125], \"gridcolor\": \"#E1E5ED\", \"showgrid\": false, \"tickfont\": {\"color\": \"#4D5663\"}, \"title\": {\"font\": {\"color\": \"#4D5663\"}, \"text\": \"\"}, \"zerolinecolor\": \"#E1E5ED\"}, \"yaxis\": {\"anchor\": \"x\", \"domain\": [0.8025, 1.0], \"gridcolor\": \"#E1E5ED\", \"showgrid\": false, \"tickfont\": {\"color\": \"#4D5663\"}, \"title\": {\"font\": {\"color\": \"#4D5663\"}, \"text\": \"\"}, \"zerolinecolor\": \"#E1E5ED\"}, \"yaxis10\": {\"anchor\": \"x10\", \"domain\": [0.2675, 0.465], \"gridcolor\": \"#E1E5ED\", \"showgrid\": false, \"tickfont\": {\"color\": \"#4D5663\"}, \"title\": {\"font\": {\"color\": \"#4D5663\"}, \"text\": \"\"}, \"zerolinecolor\": \"#E1E5ED\"}, \"yaxis11\": {\"anchor\": \"x11\", \"domain\": [0.2675, 0.465], \"gridcolor\": \"#E1E5ED\", \"showgrid\": false, \"tickfont\": {\"color\": \"#4D5663\"}, \"title\": {\"font\": {\"color\": \"#4D5663\"}, \"text\": \"\"}, \"zerolinecolor\": \"#E1E5ED\"}, \"yaxis12\": {\"anchor\": \"x12\", \"domain\": [0.2675, 0.465], \"gridcolor\": \"#E1E5ED\", \"showgrid\": false, \"tickfont\": {\"color\": \"#4D5663\"}, \"title\": {\"font\": {\"color\": \"#4D5663\"}, \"text\": \"\"}, \"zerolinecolor\": \"#E1E5ED\"}, \"yaxis13\": {\"anchor\": \"x13\", \"domain\": [0.0, 0.1975], \"gridcolor\": \"#E1E5ED\", \"showgrid\": false, \"tickfont\": {\"color\": \"#4D5663\"}, \"title\": {\"font\": {\"color\": \"#4D5663\"}, \"text\": \"\"}, \"zerolinecolor\": \"#E1E5ED\"}, \"yaxis14\": {\"anchor\": \"x14\", \"domain\": [0.0, 0.1975], \"gridcolor\": \"#E1E5ED\", \"showgrid\": false, \"tickfont\": {\"color\": \"#4D5663\"}, \"title\": {\"font\": {\"color\": \"#4D5663\"}, \"text\": \"\"}, \"zerolinecolor\": \"#E1E5ED\"}, \"yaxis15\": {\"anchor\": \"x15\", \"domain\": [0.0, 0.1975], \"gridcolor\": \"#E1E5ED\", \"showgrid\": false, \"tickfont\": {\"color\": \"#4D5663\"}, \"title\": {\"font\": {\"color\": \"#4D5663\"}, \"text\": \"\"}, \"zerolinecolor\": \"#E1E5ED\"}, \"yaxis16\": {\"anchor\": \"x16\", \"domain\": [0.0, 0.1975], \"gridcolor\": \"#E1E5ED\", \"showgrid\": false, \"tickfont\": {\"color\": \"#4D5663\"}, \"title\": {\"font\": {\"color\": \"#4D5663\"}, \"text\": \"\"}, \"zerolinecolor\": \"#E1E5ED\"}, \"yaxis2\": {\"anchor\": \"x2\", \"domain\": [0.8025, 1.0], \"gridcolor\": \"#E1E5ED\", \"showgrid\": false, \"tickfont\": {\"color\": \"#4D5663\"}, \"title\": {\"font\": {\"color\": \"#4D5663\"}, \"text\": \"\"}, \"zerolinecolor\": \"#E1E5ED\"}, \"yaxis3\": {\"anchor\": \"x3\", \"domain\": [0.8025, 1.0], \"gridcolor\": \"#E1E5ED\", \"showgrid\": false, \"tickfont\": {\"color\": \"#4D5663\"}, \"title\": {\"font\": {\"color\": \"#4D5663\"}, \"text\": \"\"}, \"zerolinecolor\": \"#E1E5ED\"}, \"yaxis4\": {\"anchor\": \"x4\", \"domain\": [0.8025, 1.0], \"gridcolor\": \"#E1E5ED\", \"showgrid\": false, \"tickfont\": {\"color\": \"#4D5663\"}, \"title\": {\"font\": {\"color\": \"#4D5663\"}, \"text\": \"\"}, \"zerolinecolor\": \"#E1E5ED\"}, \"yaxis5\": {\"anchor\": \"x5\", \"domain\": [0.535, 0.7325], \"gridcolor\": \"#E1E5ED\", \"showgrid\": false, \"tickfont\": {\"color\": \"#4D5663\"}, \"title\": {\"font\": {\"color\": \"#4D5663\"}, \"text\": \"\"}, \"zerolinecolor\": \"#E1E5ED\"}, \"yaxis6\": {\"anchor\": \"x6\", \"domain\": [0.535, 0.7325], \"gridcolor\": \"#E1E5ED\", \"showgrid\": false, \"tickfont\": {\"color\": \"#4D5663\"}, \"title\": {\"font\": {\"color\": \"#4D5663\"}, \"text\": \"\"}, \"zerolinecolor\": \"#E1E5ED\"}, \"yaxis7\": {\"anchor\": \"x7\", \"domain\": [0.535, 0.7325], \"gridcolor\": \"#E1E5ED\", \"showgrid\": false, \"tickfont\": {\"color\": \"#4D5663\"}, \"title\": {\"font\": {\"color\": \"#4D5663\"}, \"text\": \"\"}, \"zerolinecolor\": \"#E1E5ED\"}, \"yaxis8\": {\"anchor\": \"x8\", \"domain\": [0.535, 0.7325], \"gridcolor\": \"#E1E5ED\", \"showgrid\": false, \"tickfont\": {\"color\": \"#4D5663\"}, \"title\": {\"font\": {\"color\": \"#4D5663\"}, \"text\": \"\"}, \"zerolinecolor\": \"#E1E5ED\"}, \"yaxis9\": {\"anchor\": \"x9\", \"domain\": [0.2675, 0.465], \"gridcolor\": \"#E1E5ED\", \"showgrid\": false, \"tickfont\": {\"color\": \"#4D5663\"}, \"title\": {\"font\": {\"color\": \"#4D5663\"}, \"text\": \"\"}, \"zerolinecolor\": \"#E1E5ED\"}},\n",
       "                        {\"showLink\": true, \"linkText\": \"Export to plot.ly\", \"plotlyServerURL\": \"https://plot.ly\", \"responsive\": true}\n",
       "                    ).then(function(){\n",
       "                            \n",
       "var gd = document.getElementById('db7a9056-454e-4633-95e2-b9e74ae405bb');\n",
       "var x = new MutationObserver(function (mutations, observer) {{\n",
       "        var display = window.getComputedStyle(gd).display;\n",
       "        if (!display || display === 'none') {{\n",
       "            console.log([gd, 'removed!']);\n",
       "            Plotly.purge(gd);\n",
       "            observer.disconnect();\n",
       "        }}\n",
       "}});\n",
       "\n",
       "// Listen for the removal of the full notebook cells\n",
       "var notebookContainer = gd.closest('#notebook-container');\n",
       "if (notebookContainer) {{\n",
       "    x.observe(notebookContainer, {childList: true});\n",
       "}}\n",
       "\n",
       "// Listen for the clearing of the current output cell\n",
       "var outputEl = gd.closest('.output');\n",
       "if (outputEl) {{\n",
       "    x.observe(outputEl, {childList: true});\n",
       "}}\n",
       "\n",
       "                        })\n",
       "                };\n",
       "                });\n",
       "            </script>\n",
       "        </div>"
      ]
     },
     "metadata": {},
     "output_type": "display_data"
    }
   ],
   "source": [
    "df.scatter_matrix()"
   ]
  },
  {
   "cell_type": "markdown",
   "metadata": {
    "collapsed": true
   },
   "source": [
    "# Great Job!"
   ]
  }
 ],
 "metadata": {
  "kernelspec": {
   "display_name": "Python 3",
   "language": "python",
   "name": "python3"
  },
  "language_info": {
   "codemirror_mode": {
    "name": "ipython",
    "version": 3
   },
   "file_extension": ".py",
   "mimetype": "text/x-python",
   "name": "python",
   "nbconvert_exporter": "python",
   "pygments_lexer": "ipython3",
   "version": "3.7.6"
  }
 },
 "nbformat": 4,
 "nbformat_minor": 1
}
